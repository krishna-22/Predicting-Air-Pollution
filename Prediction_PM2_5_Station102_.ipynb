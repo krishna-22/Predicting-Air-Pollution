{
  "nbformat": 4,
  "nbformat_minor": 0,
  "metadata": {
    "colab": {
      "name": "Prediction_PM2.5_Station102 .ipynb",
      "provenance": [],
      "collapsed_sections": []
    },
    "kernelspec": {
      "name": "python3",
      "display_name": "Python 3"
    },
    "accelerator": "GPU"
  },
  "cells": [
    {
      "cell_type": "code",
      "metadata": {
        "id": "r4m1QUD8Lt4y",
        "colab_type": "code",
        "colab": {}
      },
      "source": [
        "#!unzip air-pollution-in-seoul.zip"
      ],
      "execution_count": 0,
      "outputs": []
    },
    {
      "cell_type": "code",
      "metadata": {
        "id": "aLafiv1zMqa3",
        "colab_type": "code",
        "outputId": "0a211335-c6b7-424e-cb82-f3a10d7fb187",
        "colab": {
          "base_uri": "https://localhost:8080/",
          "height": 35
        }
      },
      "source": [
        "import pandas as pd\n",
        "import numpy as np\n",
        "import pickle\n",
        "from sklearn.externals import joblib \n",
        "% matplotlib inline\n",
        "import matplotlib.pyplot as plt\n",
        "from google.colab import drive\n",
        "from google.colab import drive\n",
        "drive.mount('/content/drive')"
      ],
      "execution_count": 33,
      "outputs": [
        {
          "output_type": "stream",
          "text": [
            "Drive already mounted at /content/drive; to attempt to forcibly remount, call drive.mount(\"/content/drive\", force_remount=True).\n"
          ],
          "name": "stdout"
        }
      ]
    },
    {
      "cell_type": "code",
      "metadata": {
        "id": "nZUi7009M9kN",
        "colab_type": "code",
        "outputId": "1a024448-b8e8-443a-a6aa-636b917c48fe",
        "colab": {
          "base_uri": "https://localhost:8080/",
          "height": 363
        }
      },
      "source": [
        "data = pd.read_csv('/content/drive/My Drive/Dataset/Measurement_summary.csv')\n",
        "data.head(10)"
      ],
      "execution_count": 34,
      "outputs": [
        {
          "output_type": "execute_result",
          "data": {
            "text/html": [
              "<div>\n",
              "<style scoped>\n",
              "    .dataframe tbody tr th:only-of-type {\n",
              "        vertical-align: middle;\n",
              "    }\n",
              "\n",
              "    .dataframe tbody tr th {\n",
              "        vertical-align: top;\n",
              "    }\n",
              "\n",
              "    .dataframe thead th {\n",
              "        text-align: right;\n",
              "    }\n",
              "</style>\n",
              "<table border=\"1\" class=\"dataframe\">\n",
              "  <thead>\n",
              "    <tr style=\"text-align: right;\">\n",
              "      <th></th>\n",
              "      <th>Measurement date</th>\n",
              "      <th>Station code</th>\n",
              "      <th>Address</th>\n",
              "      <th>Latitude</th>\n",
              "      <th>Longitude</th>\n",
              "      <th>SO2</th>\n",
              "      <th>NO2</th>\n",
              "      <th>O3</th>\n",
              "      <th>CO</th>\n",
              "      <th>PM10</th>\n",
              "      <th>PM2.5</th>\n",
              "    </tr>\n",
              "  </thead>\n",
              "  <tbody>\n",
              "    <tr>\n",
              "      <th>0</th>\n",
              "      <td>2017-01-01 00:00</td>\n",
              "      <td>101</td>\n",
              "      <td>19, Jong-ro 35ga-gil, Jongno-gu, Seoul, Republ...</td>\n",
              "      <td>37.572016</td>\n",
              "      <td>127.005007</td>\n",
              "      <td>0.004</td>\n",
              "      <td>0.059</td>\n",
              "      <td>0.002</td>\n",
              "      <td>1.2</td>\n",
              "      <td>73.0</td>\n",
              "      <td>57.0</td>\n",
              "    </tr>\n",
              "    <tr>\n",
              "      <th>1</th>\n",
              "      <td>2017-01-01 01:00</td>\n",
              "      <td>101</td>\n",
              "      <td>19, Jong-ro 35ga-gil, Jongno-gu, Seoul, Republ...</td>\n",
              "      <td>37.572016</td>\n",
              "      <td>127.005007</td>\n",
              "      <td>0.004</td>\n",
              "      <td>0.058</td>\n",
              "      <td>0.002</td>\n",
              "      <td>1.2</td>\n",
              "      <td>71.0</td>\n",
              "      <td>59.0</td>\n",
              "    </tr>\n",
              "    <tr>\n",
              "      <th>2</th>\n",
              "      <td>2017-01-01 02:00</td>\n",
              "      <td>101</td>\n",
              "      <td>19, Jong-ro 35ga-gil, Jongno-gu, Seoul, Republ...</td>\n",
              "      <td>37.572016</td>\n",
              "      <td>127.005007</td>\n",
              "      <td>0.004</td>\n",
              "      <td>0.056</td>\n",
              "      <td>0.002</td>\n",
              "      <td>1.2</td>\n",
              "      <td>70.0</td>\n",
              "      <td>59.0</td>\n",
              "    </tr>\n",
              "    <tr>\n",
              "      <th>3</th>\n",
              "      <td>2017-01-01 03:00</td>\n",
              "      <td>101</td>\n",
              "      <td>19, Jong-ro 35ga-gil, Jongno-gu, Seoul, Republ...</td>\n",
              "      <td>37.572016</td>\n",
              "      <td>127.005007</td>\n",
              "      <td>0.004</td>\n",
              "      <td>0.056</td>\n",
              "      <td>0.002</td>\n",
              "      <td>1.2</td>\n",
              "      <td>70.0</td>\n",
              "      <td>58.0</td>\n",
              "    </tr>\n",
              "    <tr>\n",
              "      <th>4</th>\n",
              "      <td>2017-01-01 04:00</td>\n",
              "      <td>101</td>\n",
              "      <td>19, Jong-ro 35ga-gil, Jongno-gu, Seoul, Republ...</td>\n",
              "      <td>37.572016</td>\n",
              "      <td>127.005007</td>\n",
              "      <td>0.003</td>\n",
              "      <td>0.051</td>\n",
              "      <td>0.002</td>\n",
              "      <td>1.2</td>\n",
              "      <td>69.0</td>\n",
              "      <td>61.0</td>\n",
              "    </tr>\n",
              "    <tr>\n",
              "      <th>5</th>\n",
              "      <td>2017-01-01 05:00</td>\n",
              "      <td>101</td>\n",
              "      <td>19, Jong-ro 35ga-gil, Jongno-gu, Seoul, Republ...</td>\n",
              "      <td>37.572016</td>\n",
              "      <td>127.005007</td>\n",
              "      <td>0.003</td>\n",
              "      <td>0.046</td>\n",
              "      <td>0.002</td>\n",
              "      <td>1.1</td>\n",
              "      <td>70.0</td>\n",
              "      <td>61.0</td>\n",
              "    </tr>\n",
              "    <tr>\n",
              "      <th>6</th>\n",
              "      <td>2017-01-01 06:00</td>\n",
              "      <td>101</td>\n",
              "      <td>19, Jong-ro 35ga-gil, Jongno-gu, Seoul, Republ...</td>\n",
              "      <td>37.572016</td>\n",
              "      <td>127.005007</td>\n",
              "      <td>0.003</td>\n",
              "      <td>0.049</td>\n",
              "      <td>0.002</td>\n",
              "      <td>1.1</td>\n",
              "      <td>66.0</td>\n",
              "      <td>57.0</td>\n",
              "    </tr>\n",
              "    <tr>\n",
              "      <th>7</th>\n",
              "      <td>2017-01-01 07:00</td>\n",
              "      <td>101</td>\n",
              "      <td>19, Jong-ro 35ga-gil, Jongno-gu, Seoul, Republ...</td>\n",
              "      <td>37.572016</td>\n",
              "      <td>127.005007</td>\n",
              "      <td>0.003</td>\n",
              "      <td>0.045</td>\n",
              "      <td>0.002</td>\n",
              "      <td>1.0</td>\n",
              "      <td>71.0</td>\n",
              "      <td>60.0</td>\n",
              "    </tr>\n",
              "    <tr>\n",
              "      <th>8</th>\n",
              "      <td>2017-01-01 08:00</td>\n",
              "      <td>101</td>\n",
              "      <td>19, Jong-ro 35ga-gil, Jongno-gu, Seoul, Republ...</td>\n",
              "      <td>37.572016</td>\n",
              "      <td>127.005007</td>\n",
              "      <td>0.004</td>\n",
              "      <td>0.047</td>\n",
              "      <td>0.002</td>\n",
              "      <td>1.1</td>\n",
              "      <td>72.0</td>\n",
              "      <td>60.0</td>\n",
              "    </tr>\n",
              "    <tr>\n",
              "      <th>9</th>\n",
              "      <td>2017-01-01 09:00</td>\n",
              "      <td>101</td>\n",
              "      <td>19, Jong-ro 35ga-gil, Jongno-gu, Seoul, Republ...</td>\n",
              "      <td>37.572016</td>\n",
              "      <td>127.005007</td>\n",
              "      <td>0.003</td>\n",
              "      <td>0.047</td>\n",
              "      <td>0.002</td>\n",
              "      <td>1.1</td>\n",
              "      <td>74.0</td>\n",
              "      <td>63.0</td>\n",
              "    </tr>\n",
              "  </tbody>\n",
              "</table>\n",
              "</div>"
            ],
            "text/plain": [
              "   Measurement date  Station code  ...  PM10  PM2.5\n",
              "0  2017-01-01 00:00           101  ...  73.0   57.0\n",
              "1  2017-01-01 01:00           101  ...  71.0   59.0\n",
              "2  2017-01-01 02:00           101  ...  70.0   59.0\n",
              "3  2017-01-01 03:00           101  ...  70.0   58.0\n",
              "4  2017-01-01 04:00           101  ...  69.0   61.0\n",
              "5  2017-01-01 05:00           101  ...  70.0   61.0\n",
              "6  2017-01-01 06:00           101  ...  66.0   57.0\n",
              "7  2017-01-01 07:00           101  ...  71.0   60.0\n",
              "8  2017-01-01 08:00           101  ...  72.0   60.0\n",
              "9  2017-01-01 09:00           101  ...  74.0   63.0\n",
              "\n",
              "[10 rows x 11 columns]"
            ]
          },
          "metadata": {
            "tags": []
          },
          "execution_count": 34
        }
      ]
    },
    {
      "cell_type": "code",
      "metadata": {
        "id": "cFj-Od2FNYr7",
        "colab_type": "code",
        "outputId": "f5a4d20b-efb8-4b82-e505-25fb4d74d3de",
        "colab": {
          "base_uri": "https://localhost:8080/",
          "height": 274
        }
      },
      "source": [
        "# Retriving data for station code 102 for PM2.5\n",
        "data_102=data[(data['Station code']==102) & (data['PM2.5']>0)]\n",
        "print(len(data_102))\n",
        "print(data_102.head(10))"
      ],
      "execution_count": 35,
      "outputs": [
        {
          "output_type": "stream",
          "text": [
            "25817\n",
            "       Measurement date  Station code  ...  PM10  PM2.5\n",
            "25905  2017-01-01 00:00           102  ...  77.0   63.0\n",
            "25906  2017-01-01 01:00           102  ...  76.0   63.0\n",
            "25907  2017-01-01 02:00           102  ...  73.0   57.0\n",
            "25908  2017-01-01 03:00           102  ...  67.0   55.0\n",
            "25909  2017-01-01 04:00           102  ...  66.0   54.0\n",
            "25910  2017-01-01 05:00           102  ...  66.0   55.0\n",
            "25911  2017-01-01 06:00           102  ...  70.0   56.0\n",
            "25912  2017-01-01 07:00           102  ...  69.0   58.0\n",
            "25913  2017-01-01 08:00           102  ...  70.0   55.0\n",
            "25914  2017-01-01 09:00           102  ...  73.0   55.0\n",
            "\n",
            "[10 rows x 11 columns]\n"
          ],
          "name": "stdout"
        }
      ]
    },
    {
      "cell_type": "code",
      "metadata": {
        "id": "gWDS6JoqXlfP",
        "colab_type": "code",
        "outputId": "d3a544f8-7364-4b0a-a56f-2d0921dbd61e",
        "colab": {
          "base_uri": "https://localhost:8080/",
          "height": 297
        }
      },
      "source": [
        "import seaborn as sns\n",
        "sns.boxplot(data_102['PM2.5'])"
      ],
      "execution_count": 36,
      "outputs": [
        {
          "output_type": "execute_result",
          "data": {
            "text/plain": [
              "<matplotlib.axes._subplots.AxesSubplot at 0x7f462a6c4e48>"
            ]
          },
          "metadata": {
            "tags": []
          },
          "execution_count": 36
        },
        {
          "output_type": "display_data",
          "data": {
            "image/png": "[encoded data removed]",
            "text/plain": [
              "<Figure size 432x288 with 1 Axes>"
            ]
          },
          "metadata": {
            "tags": [],
            "needs_background": "light"
          }
        }
      ]
    },
    {
      "cell_type": "code",
      "metadata": {
        "id": "EcgONzxKnL2u",
        "colab_type": "code",
        "outputId": "59dd9eb3-bb1e-438f-ded5-97a5270e6b32",
        "colab": {
          "base_uri": "https://localhost:8080/",
          "height": 316
        }
      },
      "source": [
        "from scipy import stats\n",
        "z = np.abs(stats.zscore(data_102['PM2.5']))\n",
        "threshold = 3\n",
        "#print(len(np.where(z > 3)))\n",
        "data_102_Rout = data_102[(z < 3)]\n",
        "print(len(data_102_Rout))\n",
        "sns.boxplot(data_102_Rout['PM2.5'])"
      ],
      "execution_count": 37,
      "outputs": [
        {
          "output_type": "stream",
          "text": [
            "25347\n"
          ],
          "name": "stdout"
        },
        {
          "output_type": "execute_result",
          "data": {
            "text/plain": [
              "<matplotlib.axes._subplots.AxesSubplot at 0x7f45b92152e8>"
            ]
          },
          "metadata": {
            "tags": []
          },
          "execution_count": 37
        },
        {
          "output_type": "display_data",
          "data": {
            "image/png": "[encoded data removed]",
            "text/plain": [
              "<Figure size 432x288 with 1 Axes>"
            ]
          },
          "metadata": {
            "tags": [],
            "needs_background": "light"
          }
        }
      ]
    },
    {
      "cell_type": "code",
      "metadata": {
        "id": "_LNanJd1a1_D",
        "colab_type": "code",
        "outputId": "80d344ae-d65d-4dfc-ec06-69c221a6f0ba",
        "colab": {
          "base_uri": "https://localhost:8080/",
          "height": 35
        }
      },
      "source": [
        "df=data_102_Rout['PM2.5']\n",
        "df=df.values\n",
        "df=df.reshape(df.shape[0],1)\n",
        "print(df.shape)"
      ],
      "execution_count": 38,
      "outputs": [
        {
          "output_type": "stream",
          "text": [
            "(25347, 1)\n"
          ],
          "name": "stdout"
        }
      ]
    },
    {
      "cell_type": "code",
      "metadata": {
        "id": "rzYngv6_TPhh",
        "colab_type": "code",
        "outputId": "f836a2ca-c5a5-46e8-cdf2-26b949f91480",
        "colab": {
          "base_uri": "https://localhost:8080/",
          "height": 72
        }
      },
      "source": [
        "from sklearn import preprocessing\n",
        "min_max_scaler = preprocessing.MinMaxScaler()\n",
        "df_scaled = min_max_scaler.fit_transform(df)\n",
        "print(min(df),max(df))\n",
        "list_=[]\n",
        "for i in range (0,df_scaled.shape[0]):\n",
        "  list_.append(df_scaled[i][0])\n",
        "print(len(list_))\n",
        "print(min(list_),max(list_))\n"
      ],
      "execution_count": 39,
      "outputs": [
        {
          "output_type": "stream",
          "text": [
            "[1.] [74.]\n",
            "25347\n",
            "0.0 1.0\n"
          ],
          "name": "stdout"
        }
      ]
    },
    {
      "cell_type": "code",
      "metadata": {
        "id": "mFSUAFonN2ht",
        "colab_type": "code",
        "outputId": "fbd692e6-32e8-40f9-c110-4a203052c099",
        "colab": {
          "base_uri": "https://localhost:8080/",
          "height": 35
        }
      },
      "source": [
        "window_size=5\n",
        "y=[]\n",
        "for i in range (0,len(list_)-window_size):\n",
        "  x=list_[i:i+window_size]\n",
        "  y.append(x)\n",
        "print(len(y),y[0])\n"
      ],
      "execution_count": 40,
      "outputs": [
        {
          "output_type": "stream",
          "text": [
            "25342 [0.8493150684931505, 0.8493150684931505, 0.7671232876712328, 0.7397260273972601, 0.726027397260274]\n"
          ],
          "name": "stdout"
        }
      ]
    },
    {
      "cell_type": "code",
      "metadata": {
        "id": "jOkLjiONN_dz",
        "colab_type": "code",
        "outputId": "05d3b61c-ab4c-4bf3-bcda-50a1d51712bf",
        "colab": {
          "base_uri": "https://localhost:8080/",
          "height": 381
        }
      },
      "source": [
        "matrix=np.matrix(y)\n",
        "print(matrix.shape)\n",
        "new_data = pd.DataFrame(matrix,columns=['x1','x2','x3','x4','y'])\n",
        "new_data.head(10)\n"
      ],
      "execution_count": 41,
      "outputs": [
        {
          "output_type": "stream",
          "text": [
            "(25342, 5)\n"
          ],
          "name": "stdout"
        },
        {
          "output_type": "execute_result",
          "data": {
            "text/html": [
              "<div>\n",
              "<style scoped>\n",
              "    .dataframe tbody tr th:only-of-type {\n",
              "        vertical-align: middle;\n",
              "    }\n",
              "\n",
              "    .dataframe tbody tr th {\n",
              "        vertical-align: top;\n",
              "    }\n",
              "\n",
              "    .dataframe thead th {\n",
              "        text-align: right;\n",
              "    }\n",
              "</style>\n",
              "<table border=\"1\" class=\"dataframe\">\n",
              "  <thead>\n",
              "    <tr style=\"text-align: right;\">\n",
              "      <th></th>\n",
              "      <th>x1</th>\n",
              "      <th>x2</th>\n",
              "      <th>x3</th>\n",
              "      <th>x4</th>\n",
              "      <th>y</th>\n",
              "    </tr>\n",
              "  </thead>\n",
              "  <tbody>\n",
              "    <tr>\n",
              "      <th>0</th>\n",
              "      <td>0.849315</td>\n",
              "      <td>0.849315</td>\n",
              "      <td>0.767123</td>\n",
              "      <td>0.739726</td>\n",
              "      <td>0.726027</td>\n",
              "    </tr>\n",
              "    <tr>\n",
              "      <th>1</th>\n",
              "      <td>0.849315</td>\n",
              "      <td>0.767123</td>\n",
              "      <td>0.739726</td>\n",
              "      <td>0.726027</td>\n",
              "      <td>0.739726</td>\n",
              "    </tr>\n",
              "    <tr>\n",
              "      <th>2</th>\n",
              "      <td>0.767123</td>\n",
              "      <td>0.739726</td>\n",
              "      <td>0.726027</td>\n",
              "      <td>0.739726</td>\n",
              "      <td>0.753425</td>\n",
              "    </tr>\n",
              "    <tr>\n",
              "      <th>3</th>\n",
              "      <td>0.739726</td>\n",
              "      <td>0.726027</td>\n",
              "      <td>0.739726</td>\n",
              "      <td>0.753425</td>\n",
              "      <td>0.780822</td>\n",
              "    </tr>\n",
              "    <tr>\n",
              "      <th>4</th>\n",
              "      <td>0.726027</td>\n",
              "      <td>0.739726</td>\n",
              "      <td>0.753425</td>\n",
              "      <td>0.780822</td>\n",
              "      <td>0.739726</td>\n",
              "    </tr>\n",
              "    <tr>\n",
              "      <th>5</th>\n",
              "      <td>0.739726</td>\n",
              "      <td>0.753425</td>\n",
              "      <td>0.780822</td>\n",
              "      <td>0.739726</td>\n",
              "      <td>0.739726</td>\n",
              "    </tr>\n",
              "    <tr>\n",
              "      <th>6</th>\n",
              "      <td>0.753425</td>\n",
              "      <td>0.780822</td>\n",
              "      <td>0.739726</td>\n",
              "      <td>0.739726</td>\n",
              "      <td>0.821918</td>\n",
              "    </tr>\n",
              "    <tr>\n",
              "      <th>7</th>\n",
              "      <td>0.780822</td>\n",
              "      <td>0.739726</td>\n",
              "      <td>0.739726</td>\n",
              "      <td>0.821918</td>\n",
              "      <td>0.917808</td>\n",
              "    </tr>\n",
              "    <tr>\n",
              "      <th>8</th>\n",
              "      <td>0.739726</td>\n",
              "      <td>0.739726</td>\n",
              "      <td>0.821918</td>\n",
              "      <td>0.917808</td>\n",
              "      <td>0.958904</td>\n",
              "    </tr>\n",
              "    <tr>\n",
              "      <th>9</th>\n",
              "      <td>0.739726</td>\n",
              "      <td>0.821918</td>\n",
              "      <td>0.917808</td>\n",
              "      <td>0.958904</td>\n",
              "      <td>0.835616</td>\n",
              "    </tr>\n",
              "  </tbody>\n",
              "</table>\n",
              "</div>"
            ],
            "text/plain": [
              "         x1        x2        x3        x4         y\n",
              "0  0.849315  0.849315  0.767123  0.739726  0.726027\n",
              "1  0.849315  0.767123  0.739726  0.726027  0.739726\n",
              "2  0.767123  0.739726  0.726027  0.739726  0.753425\n",
              "3  0.739726  0.726027  0.739726  0.753425  0.780822\n",
              "4  0.726027  0.739726  0.753425  0.780822  0.739726\n",
              "5  0.739726  0.753425  0.780822  0.739726  0.739726\n",
              "6  0.753425  0.780822  0.739726  0.739726  0.821918\n",
              "7  0.780822  0.739726  0.739726  0.821918  0.917808\n",
              "8  0.739726  0.739726  0.821918  0.917808  0.958904\n",
              "9  0.739726  0.821918  0.917808  0.958904  0.835616"
            ]
          },
          "metadata": {
            "tags": []
          },
          "execution_count": 41
        }
      ]
    },
    {
      "cell_type": "code",
      "metadata": {
        "id": "0Z5frRmicq9M",
        "colab_type": "code",
        "outputId": "f02c3012-bf8a-4564-e244-7763d3be8ae7",
        "colab": {
          "base_uri": "https://localhost:8080/",
          "height": 146
        }
      },
      "source": [
        "print(matrix[:,4])"
      ],
      "execution_count": 42,
      "outputs": [
        {
          "output_type": "stream",
          "text": [
            "[[0.7260274 ]\n",
            " [0.73972603]\n",
            " [0.75342466]\n",
            " ...\n",
            " [0.24657534]\n",
            " [0.26027397]\n",
            " [0.21917808]]\n"
          ],
          "name": "stdout"
        }
      ]
    },
    {
      "cell_type": "code",
      "metadata": {
        "id": "SG1fsHWxOPTk",
        "colab_type": "code",
        "outputId": "e849cfc2-897b-4a9e-a9f5-4f5469ae9fff",
        "colab": {
          "base_uri": "https://localhost:8080/",
          "height": 109
        }
      },
      "source": [
        "from sklearn import linear_model\n",
        "from sklearn.model_selection import train_test_split\n",
        "from sklearn.metrics import r2_score\n",
        "from sklearn.metrics import mean_squared_error\n",
        "X_train, X_test, y_train, y_test = train_test_split(matrix[:,0:4],matrix[:,4],test_size=0.33, random_state=42)\n",
        "lm =linear_model.LinearRegression()\n",
        "model = lm.fit(X_train,y_train)\n",
        "prediction=model.predict(X_test)\n",
        "joblib.dump(model,'linear_regressor_Rout.pkl')\n",
        "from google.colab import files\n",
        "files.download('linear_regressor_Rout.pkl')\n",
        "print(prediction.shape,prediction[0:5])"
      ],
      "execution_count": 43,
      "outputs": [
        {
          "output_type": "stream",
          "text": [
            "(8363, 1) [[0.0781173 ]\n",
            " [0.34602805]\n",
            " [0.0941562 ]\n",
            " [0.26220531]\n",
            " [0.47061681]]\n"
          ],
          "name": "stdout"
        }
      ]
    },
    {
      "cell_type": "code",
      "metadata": {
        "id": "bye3z6vaOvbl",
        "colab_type": "code",
        "outputId": "0f98bfab-9f20-4ab4-e6cc-24e516536017",
        "colab": {
          "base_uri": "https://localhost:8080/",
          "height": 72
        }
      },
      "source": [
        "print(model.score(X_train,y_train))\n",
        "print(model.intercept_)\n",
        "print(model.coef_)"
      ],
      "execution_count": 44,
      "outputs": [
        {
          "output_type": "stream",
          "text": [
            "0.9244360704727338\n",
            "[0.01175041]\n",
            "[[ 0.06794226 -0.07605383 -0.08852262  1.05362463]]\n"
          ],
          "name": "stdout"
        }
      ]
    },
    {
      "cell_type": "code",
      "metadata": {
        "id": "K9AvmWqwO0h1",
        "colab_type": "code",
        "outputId": "c2ed5cdf-2304-4edb-f953-d6fa0cf1b379",
        "colab": {
          "base_uri": "https://localhost:8080/",
          "height": 72
        }
      },
      "source": [
        "print('mean squared eror : ',mean_squared_error(y_test,prediction))\n",
        "from sklearn.metrics import mean_absolute_error\n",
        "print('absolute mean error : ', mean_absolute_error(y_test,prediction))\n",
        "print(r2_score(y_test,prediction))"
      ],
      "execution_count": 45,
      "outputs": [
        {
          "output_type": "stream",
          "text": [
            "mean squared eror :  0.0028148360509342267\n",
            "absolute mean error :  0.0349533764871426\n",
            "0.9244758405424578\n"
          ],
          "name": "stdout"
        }
      ]
    },
    {
      "cell_type": "code",
      "metadata": {
        "id": "7ZFxbkZwIfsr",
        "colab_type": "code",
        "outputId": "a890255f-1348-4d29-b4a6-c6a36708d1f1",
        "colab": {
          "base_uri": "https://localhost:8080/",
          "height": 281
        }
      },
      "source": [
        "plt.plot(y_test[0:100], color = 'black', label = 'TRUTH')\n",
        "plt.plot(prediction[0:100], color = 'green', label = 'PREDICTION')\n",
        "plt.title('Linear regression PERFORMANCE ON TEST SET after removing outliers')\n",
        "plt.ylabel('PM2.5')\n",
        "plt.legend()\n",
        "plt.show()"
      ],
      "execution_count": 46,
      "outputs": [
        {
          "output_type": "display_data",
          "data": {
            "image/png": "[encoded data removed]",
            "text/plain": [
              "<Figure size 432x288 with 1 Axes>"
            ]
          },
          "metadata": {
            "tags": [],
            "needs_background": "light"
          }
        }
      ]
    },
    {
      "cell_type": "code",
      "metadata": {
        "id": "J3NSycPY02mb",
        "colab_type": "code",
        "outputId": "c35b0bf2-0bd3-41c5-8c58-b81f2e761669",
        "colab": {
          "base_uri": "https://localhost:8080/",
          "height": 520
        }
      },
      "source": [
        "# IMPLEMENTING LINEAR REGRESSION WITHOUT REMOVING OUTLIERS\n",
        "df=data_102['PM2.5']\n",
        "df=df.values\n",
        "df=df.reshape(df.shape[0],1)\n",
        "print(df.shape)\n",
        "from sklearn import preprocessing\n",
        "min_max_scaler = preprocessing.MinMaxScaler()\n",
        "df_scaled = min_max_scaler.fit_transform(df)\n",
        "print(min(df),max(df))\n",
        "list_=[]\n",
        "for i in range (0,df_scaled.shape[0]):\n",
        "  list_.append(df_scaled[i][0])\n",
        "print(len(list_))\n",
        "print(min(list_),max(list_))\n",
        "window_size=5\n",
        "y=[]\n",
        "for i in range (0,len(list_)-window_size):\n",
        "  x=list_[i:i+window_size]\n",
        "  y.append(x)\n",
        "print(len(y),y[0])\n",
        "matrix= np.matrix(y)\n",
        "from sklearn import linear_model\n",
        "from sklearn.model_selection import train_test_split\n",
        "from sklearn.metrics import r2_score\n",
        "from sklearn.metrics import mean_squared_error\n",
        "X_train, X_test, y_train, y_test = train_test_split(matrix[:,0:4],matrix[:,4],test_size=0.33, random_state=42)\n",
        "lm =linear_model.LinearRegression()\n",
        "model = lm.fit(X_train,y_train)\n",
        "prediction=model.predict(X_test)\n",
        "joblib.dump(model,'linear_regressor.pkl')\n",
        "from google.colab import files\n",
        "files.download('linear_regressor.pkl')\n",
        "print(prediction.shape,prediction[0:5])\n",
        "print('mean squared eror : ',mean_squared_error(y_test,prediction))\n",
        "from sklearn.metrics import mean_absolute_error\n",
        "print('absolute mean error : ', mean_absolute_error(y_test,prediction))\n",
        "print(r2_score(y_test,prediction))\n",
        "plt.plot(y_test[0:100], color = 'black', label = 'TRUTH')\n",
        "plt.plot(prediction[0:100], color = 'green', label = 'PREDICTION')\n",
        "plt.title('Linear regression PERFORMANCE ON TEST SET')\n",
        "plt.ylabel('PM2.5')\n",
        "plt.legend()\n",
        "plt.show()"
      ],
      "execution_count": 47,
      "outputs": [
        {
          "output_type": "stream",
          "text": [
            "(25817, 1)\n",
            "[1.] [276.]\n",
            "25817\n",
            "0.0 1.0\n",
            "25812 [0.22545454545454546, 0.22545454545454546, 0.20363636363636364, 0.19636363636363638, 0.19272727272727272]\n",
            "(8518, 1) [[0.13824838]\n",
            " [0.03055018]\n",
            " [0.0773337 ]\n",
            " [0.02098512]\n",
            " [0.01786613]]\n",
            "mean squared eror :  0.0005528028414540618\n",
            "absolute mean error :  0.010369148682733783\n",
            "0.859459777365098\n"
          ],
          "name": "stdout"
        },
        {
          "output_type": "display_data",
          "data": {
            "image/png": "[encoded data removed]",
            "text/plain": [
              "<Figure size 432x288 with 1 Axes>"
            ]
          },
          "metadata": {
            "tags": [],
            "needs_background": "light"
          }
        }
      ]
    },
    {
      "cell_type": "code",
      "metadata": {
        "id": "hrZqAjEyGnIN",
        "colab_type": "code",
        "outputId": "e7a161bd-8ff4-4141-e629-d3174db4b620",
        "colab": {
          "base_uri": "https://localhost:8080/",
          "height": 129
        }
      },
      "source": [
        "# BAYESIAN RIDGE REGRESSION\n",
        "from sklearn import linear_model\n",
        "from statsmodels.tsa.ar_model import AR\n",
        "model = linear_model.BayesianRidge()\n",
        "\n",
        "model.fit(X_train,y_train )\n",
        "prediction=model.predict(X_test)\n",
        "joblib.dump(model,'bayesian_regressor.pkl')\n",
        "from google.colab import files\n",
        "files.download('bayesian_regressor.pkl')\n",
        "print('mean squared eror : ',mean_squared_error(y_test,prediction))\n",
        "from sklearn.metrics import mean_absolute_error\n",
        "print('absolute mean error : ', mean_absolute_error(y_test,prediction))\n",
        "\n",
        "print(r2_score(y_test,prediction))"
      ],
      "execution_count": 48,
      "outputs": [
        {
          "output_type": "stream",
          "text": [
            "/usr/local/lib/python3.6/dist-packages/sklearn/utils/validation.py:760: DataConversionWarning: A column-vector y was passed when a 1d array was expected. Please change the shape of y to (n_samples, ), for example using ravel().\n",
            "  y = column_or_1d(y, warn=True)\n"
          ],
          "name": "stderr"
        },
        {
          "output_type": "stream",
          "text": [
            "mean squared eror :  0.0005527616160059668\n",
            "absolute mean error :  0.010369859621815934\n",
            "0.8594702581969951\n"
          ],
          "name": "stdout"
        }
      ]
    },
    {
      "cell_type": "code",
      "metadata": {
        "id": "crUrc4mjO8uL",
        "colab_type": "code",
        "outputId": "d47f8074-f499-467a-f0dc-cc393f899c8f",
        "colab": {
          "base_uri": "https://localhost:8080/",
          "height": 109
        }
      },
      "source": [
        "# IMLEMENTING  RANDOM FOREST ALGORITHM\n",
        "from sklearn.ensemble import RandomForestRegressor\n",
        "model= RandomForestRegressor(max_depth=8, random_state=0)\n",
        "model.fit(X_train,y_train)\n",
        "prediction=model.predict(X_test)\n",
        "joblib.dump(model,'randomforest_regressor.pkl')\n",
        "print('mean squared eror : ',mean_squared_error(y_test,prediction))\n",
        "from sklearn.metrics import mean_absolute_error\n",
        "print('absolute mean error : ', mean_absolute_error(y_test,prediction))\n",
        "print(r2_score(y_test,prediction))"
      ],
      "execution_count": 49,
      "outputs": [
        {
          "output_type": "stream",
          "text": [
            "/usr/local/lib/python3.6/dist-packages/ipykernel_launcher.py:4: DataConversionWarning: A column-vector y was passed when a 1d array was expected. Please change the shape of y to (n_samples,), for example using ravel().\n",
            "  after removing the cwd from sys.path.\n"
          ],
          "name": "stderr"
        },
        {
          "output_type": "stream",
          "text": [
            "mean squared eror :  0.0004143754078220413\n",
            "absolute mean error :  0.009839894899836318\n",
            "0.8946524733545939\n"
          ],
          "name": "stdout"
        }
      ]
    },
    {
      "cell_type": "code",
      "metadata": {
        "id": "KAVNYF_yJXRN",
        "colab_type": "code",
        "outputId": "a8b29986-f9e4-40c6-8798-e17007760ec9",
        "colab": {
          "base_uri": "https://localhost:8080/",
          "height": 501
        }
      },
      "source": [
        "plt.plot(y_test[0:100], color = 'black', label = 'TRUTH')\n",
        "plt.plot(prediction[0:100], color = 'green', label = 'PREDICTION')\n",
        "plt.title('Random forest regression PERFORMANCE ON TEST SET')\n",
        "plt.ylabel('PM2.5')\n",
        "plt.legend()\n",
        "plt.show()\n",
        "print('truth : ',y_test[0:10])\n",
        "print('prediction : ',prediction[0:10])"
      ],
      "execution_count": 50,
      "outputs": [
        {
          "output_type": "display_data",
          "data": {
            "image/png": "[encoded data removed]",
            "text/plain": [
              "<Figure size 432x288 with 1 Axes>"
            ]
          },
          "metadata": {
            "tags": [],
            "needs_background": "light"
          }
        },
        {
          "output_type": "stream",
          "text": [
            "truth :  [[0.13090909]\n",
            " [0.01818182]\n",
            " [0.07636364]\n",
            " [0.01818182]\n",
            " [0.02181818]\n",
            " [0.07636364]\n",
            " [0.08363636]\n",
            " [0.08      ]\n",
            " [0.11636364]\n",
            " [0.14181818]]\n",
            "prediction :  [0.14495937 0.02884607 0.07691271 0.01995962 0.01560188 0.08435757\n",
            " 0.07339727 0.05943241 0.14548515 0.15308849]\n"
          ],
          "name": "stdout"
        }
      ]
    },
    {
      "cell_type": "code",
      "metadata": {
        "id": "s9oOYdsvFVAz",
        "colab_type": "code",
        "outputId": "d2aa4661-a347-41c0-8e20-d32808e74cb8",
        "colab": {
          "base_uri": "https://localhost:8080/",
          "height": 72
        }
      },
      "source": [
        "# RIDGE REGRESSION\n",
        "from sklearn.linear_model import Ridge\n",
        "model = Ridge(alpha=1.0)\n",
        "model.fit(X_train,y_train)\n",
        "prediction=model.predict(X_test)\n",
        "joblib.dump(model,'ridge_regressor.pkl')\n",
        "from google.colab import files\n",
        "files.download('ridge_regressor.pkl')\n",
        "print(mean_squared_error(y_test,prediction))\n",
        "print(mean_absolute_error(y_test,prediction))\n",
        "print(r2_score(y_test,prediction))\n"
      ],
      "execution_count": 51,
      "outputs": [
        {
          "output_type": "stream",
          "text": [
            "0.0005434128456467069\n",
            "0.010629054576561724\n",
            "0.8618470156394804\n"
          ],
          "name": "stdout"
        }
      ]
    },
    {
      "cell_type": "code",
      "metadata": {
        "id": "08afymABtSx4",
        "colab_type": "code",
        "outputId": "6aec61f3-e523-4523-c122-4e7beddab84d",
        "colab": {
          "base_uri": "https://localhost:8080/",
          "height": 166
        }
      },
      "source": [
        "# IMPLEMENTING SUPPORT VECTOR\n",
        "from sklearn.svm import LinearSVR\n",
        "model= LinearSVR()\n",
        "model.fit(X_train,y_train)\n",
        "prediction=model.predict(X_test)\n",
        "print('mean squared eror : ',mean_squared_error(y_test,prediction))\n",
        "from sklearn.metrics import mean_absolute_error\n",
        "print('absolute mean error : ', mean_absolute_error(y_test,prediction))\n",
        "print(r2_score(y_test,prediction))"
      ],
      "execution_count": 52,
      "outputs": [
        {
          "output_type": "stream",
          "text": [
            "/usr/local/lib/python3.6/dist-packages/sklearn/utils/validation.py:760: DataConversionWarning: A column-vector y was passed when a 1d array was expected. Please change the shape of y to (n_samples, ), for example using ravel().\n",
            "  y = column_or_1d(y, warn=True)\n"
          ],
          "name": "stderr"
        },
        {
          "output_type": "stream",
          "text": [
            "mean squared eror :  0.0006228186156077384\n",
            "absolute mean error :  0.009969032093040677\n",
            "0.8416595206557981\n"
          ],
          "name": "stdout"
        },
        {
          "output_type": "stream",
          "text": [
            "/usr/local/lib/python3.6/dist-packages/sklearn/svm/_base.py:947: ConvergenceWarning: Liblinear failed to converge, increase the number of iterations.\n",
            "  \"the number of iterations.\", ConvergenceWarning)\n"
          ],
          "name": "stderr"
        }
      ]
    },
    {
      "cell_type": "code",
      "metadata": {
        "id": "LFR-uIKhMIPs",
        "colab_type": "code",
        "outputId": "d97e705d-6735-4a07-fcdb-c802d838b40c",
        "colab": {
          "base_uri": "https://localhost:8080/",
          "height": 281
        }
      },
      "source": [
        "plt.plot(y_test[0:100], color = 'black', label = 'TRUTH')\n",
        "plt.plot(prediction[0:100], color = 'green', label = 'PREDICTION')\n",
        "plt.title('SVM regression PERFORMANCE ON TEST SET')\n",
        "plt.ylabel('PM2.5')\n",
        "plt.legend()\n",
        "plt.show()"
      ],
      "execution_count": 53,
      "outputs": [
        {
          "output_type": "display_data",
          "data": {
            "image/png": "[encoded data removed]",
            "text/plain": [
              "<Figure size 432x288 with 1 Axes>"
            ]
          },
          "metadata": {
            "tags": [],
            "needs_background": "light"
          }
        }
      ]
    },
    {
      "cell_type": "code",
      "metadata": {
        "id": "tUpcjRA2hCQz",
        "colab_type": "code",
        "outputId": "5b0def2e-4469-4f39-af49-bec037ef1739",
        "colab": {
          "base_uri": "https://localhost:8080/",
          "height": 1000
        }
      },
      "source": [
        "# IMPLEMENTING A NEURAL NETWORK\n",
        "from sklearn.preprocessing import StandardScaler\n",
        "#sc = StandardScaler()\n",
        "#X = sc.fit_transform(X)\n",
        "import keras\n",
        "from keras.models import Sequential\n",
        "from keras.layers import Dense\n",
        "# Neural network\n",
        "model = Sequential()\n",
        "model.add(Dense(64, input_dim=4, activation='relu'))\n",
        "model.add(Dense(128, input_dim=4, activation='relu'))\n",
        "model.add(Dense(512, activation='relu'))\n",
        "model.add(Dense(1, activation='relu'))\n",
        "\n",
        "\n",
        "model.compile(optimizer = \"adam\", loss ='mse', \n",
        "          metrics =[\"accuracy\"])\n",
        "history = model.fit(X_train, y_train, epochs=100, batch_size=32)"
      ],
      "execution_count": 54,
      "outputs": [
        {
          "output_type": "stream",
          "text": [
            "Epoch 1/100\n",
            "17294/17294 [==============================] - 2s 128us/step - loss: 5.2568e-04 - accuracy: 0.0041\n",
            "Epoch 2/100\n",
            "17294/17294 [==============================] - 2s 121us/step - loss: 3.8108e-04 - accuracy: 0.0041\n",
            "Epoch 3/100\n",
            "17294/17294 [==============================] - 2s 118us/step - loss: 3.8176e-04 - accuracy: 0.0041\n",
            "Epoch 4/100\n",
            "17294/17294 [==============================] - 2s 121us/step - loss: 3.7330e-04 - accuracy: 0.0041\n",
            "Epoch 5/100\n",
            "17294/17294 [==============================] - 2s 120us/step - loss: 3.7951e-04 - accuracy: 0.0041\n",
            "Epoch 6/100\n",
            "17294/17294 [==============================] - 2s 122us/step - loss: 3.6526e-04 - accuracy: 0.0041\n",
            "Epoch 7/100\n",
            "17294/17294 [==============================] - 2s 120us/step - loss: 3.7049e-04 - accuracy: 0.0041\n",
            "Epoch 8/100\n",
            "17294/17294 [==============================] - 2s 121us/step - loss: 3.6999e-04 - accuracy: 0.0041\n",
            "Epoch 9/100\n",
            "17294/17294 [==============================] - 2s 119us/step - loss: 3.7277e-04 - accuracy: 0.0041\n",
            "Epoch 10/100\n",
            "17294/17294 [==============================] - 2s 117us/step - loss: 3.7032e-04 - accuracy: 0.0041\n",
            "Epoch 11/100\n",
            "17294/17294 [==============================] - 2s 119us/step - loss: 3.6691e-04 - accuracy: 0.0041\n",
            "Epoch 12/100\n",
            "17294/17294 [==============================] - 2s 120us/step - loss: 3.8522e-04 - accuracy: 0.0041\n",
            "Epoch 13/100\n",
            "17294/17294 [==============================] - 2s 118us/step - loss: 3.6711e-04 - accuracy: 0.0041\n",
            "Epoch 14/100\n",
            "17294/17294 [==============================] - 2s 119us/step - loss: 3.7020e-04 - accuracy: 0.0041\n",
            "Epoch 15/100\n",
            "17294/17294 [==============================] - 2s 119us/step - loss: 3.5910e-04 - accuracy: 0.0041\n",
            "Epoch 16/100\n",
            "17294/17294 [==============================] - 2s 118us/step - loss: 3.6932e-04 - accuracy: 0.0041\n",
            "Epoch 17/100\n",
            "17294/17294 [==============================] - 2s 117us/step - loss: 3.6067e-04 - accuracy: 0.0041\n",
            "Epoch 18/100\n",
            "17294/17294 [==============================] - 2s 119us/step - loss: 3.6758e-04 - accuracy: 0.0041\n",
            "Epoch 19/100\n",
            "17294/17294 [==============================] - 2s 117us/step - loss: 3.5617e-04 - accuracy: 0.0041\n",
            "Epoch 20/100\n",
            "17294/17294 [==============================] - 2s 118us/step - loss: 3.5764e-04 - accuracy: 0.0041\n",
            "Epoch 21/100\n",
            "17294/17294 [==============================] - 2s 118us/step - loss: 3.5872e-04 - accuracy: 0.0041\n",
            "Epoch 22/100\n",
            "17294/17294 [==============================] - 2s 117us/step - loss: 3.6281e-04 - accuracy: 0.0041\n",
            "Epoch 23/100\n",
            "17294/17294 [==============================] - 2s 119us/step - loss: 3.5948e-04 - accuracy: 0.0041\n",
            "Epoch 24/100\n",
            "17294/17294 [==============================] - 2s 118us/step - loss: 3.6106e-04 - accuracy: 0.0041\n",
            "Epoch 25/100\n",
            "17294/17294 [==============================] - 2s 116us/step - loss: 3.5759e-04 - accuracy: 0.0041\n",
            "Epoch 26/100\n",
            "17294/17294 [==============================] - 2s 117us/step - loss: 3.5931e-04 - accuracy: 0.0041\n",
            "Epoch 27/100\n",
            "17294/17294 [==============================] - 2s 118us/step - loss: 3.5809e-04 - accuracy: 0.0041\n",
            "Epoch 28/100\n",
            "17294/17294 [==============================] - 2s 116us/step - loss: 3.5639e-04 - accuracy: 0.0041\n",
            "Epoch 29/100\n",
            "17294/17294 [==============================] - 2s 119us/step - loss: 3.5602e-04 - accuracy: 0.0041\n",
            "Epoch 30/100\n",
            "17294/17294 [==============================] - 2s 120us/step - loss: 3.5443e-04 - accuracy: 0.0041\n",
            "Epoch 31/100\n",
            "17294/17294 [==============================] - 2s 117us/step - loss: 3.5996e-04 - accuracy: 0.0041\n",
            "Epoch 32/100\n",
            "17294/17294 [==============================] - 2s 118us/step - loss: 3.6224e-04 - accuracy: 0.0041\n",
            "Epoch 33/100\n",
            "17294/17294 [==============================] - 2s 120us/step - loss: 3.5951e-04 - accuracy: 0.0041\n",
            "Epoch 34/100\n",
            "17294/17294 [==============================] - 2s 117us/step - loss: 3.6030e-04 - accuracy: 0.0041\n",
            "Epoch 35/100\n",
            "17294/17294 [==============================] - 2s 118us/step - loss: 3.6100e-04 - accuracy: 0.0041\n",
            "Epoch 36/100\n",
            "17294/17294 [==============================] - 2s 118us/step - loss: 3.5214e-04 - accuracy: 0.0041\n",
            "Epoch 37/100\n",
            "17294/17294 [==============================] - 2s 119us/step - loss: 3.5733e-04 - accuracy: 0.0041\n",
            "Epoch 38/100\n",
            "17294/17294 [==============================] - 2s 117us/step - loss: 3.5420e-04 - accuracy: 0.0041\n",
            "Epoch 39/100\n",
            "17294/17294 [==============================] - 2s 119us/step - loss: 3.5391e-04 - accuracy: 0.0041\n",
            "Epoch 40/100\n",
            "17294/17294 [==============================] - 2s 118us/step - loss: 3.5427e-04 - accuracy: 0.0041\n",
            "Epoch 41/100\n",
            "17294/17294 [==============================] - 2s 118us/step - loss: 3.5685e-04 - accuracy: 0.0041\n",
            "Epoch 42/100\n",
            "17294/17294 [==============================] - 2s 118us/step - loss: 3.5903e-04 - accuracy: 0.0041\n",
            "Epoch 43/100\n",
            "17294/17294 [==============================] - 2s 117us/step - loss: 3.5390e-04 - accuracy: 0.0041\n",
            "Epoch 44/100\n",
            "17294/17294 [==============================] - 2s 117us/step - loss: 3.5368e-04 - accuracy: 0.0041\n",
            "Epoch 45/100\n",
            "17294/17294 [==============================] - 2s 116us/step - loss: 3.5713e-04 - accuracy: 0.0041\n",
            "Epoch 46/100\n",
            "17294/17294 [==============================] - 2s 116us/step - loss: 3.5626e-04 - accuracy: 0.0041\n",
            "Epoch 47/100\n",
            "17294/17294 [==============================] - 2s 117us/step - loss: 3.7245e-04 - accuracy: 0.0041\n",
            "Epoch 48/100\n",
            "17294/17294 [==============================] - 2s 117us/step - loss: 3.5327e-04 - accuracy: 0.0041\n",
            "Epoch 49/100\n",
            "17294/17294 [==============================] - 2s 118us/step - loss: 3.5863e-04 - accuracy: 0.0041\n",
            "Epoch 50/100\n",
            "17294/17294 [==============================] - 2s 117us/step - loss: 3.5932e-04 - accuracy: 0.0041\n",
            "Epoch 51/100\n",
            "17294/17294 [==============================] - 2s 115us/step - loss: 3.5253e-04 - accuracy: 0.0041\n",
            "Epoch 52/100\n",
            "17294/17294 [==============================] - 2s 118us/step - loss: 3.5191e-04 - accuracy: 0.0041\n",
            "Epoch 53/100\n",
            "17294/17294 [==============================] - 2s 119us/step - loss: 3.5332e-04 - accuracy: 0.0041\n",
            "Epoch 54/100\n",
            "17294/17294 [==============================] - 2s 118us/step - loss: 3.5462e-04 - accuracy: 0.0041\n",
            "Epoch 55/100\n",
            "17294/17294 [==============================] - 2s 119us/step - loss: 3.5231e-04 - accuracy: 0.0041\n",
            "Epoch 56/100\n",
            "17294/17294 [==============================] - 2s 116us/step - loss: 3.5641e-04 - accuracy: 0.0041\n",
            "Epoch 57/100\n",
            "17294/17294 [==============================] - 2s 118us/step - loss: 3.5281e-04 - accuracy: 0.0041\n",
            "Epoch 58/100\n",
            "17294/17294 [==============================] - 2s 118us/step - loss: 3.5452e-04 - accuracy: 0.0041\n",
            "Epoch 59/100\n",
            "17294/17294 [==============================] - 2s 119us/step - loss: 3.5317e-04 - accuracy: 0.0041\n",
            "Epoch 60/100\n",
            "17294/17294 [==============================] - 2s 119us/step - loss: 3.5102e-04 - accuracy: 0.0041\n",
            "Epoch 61/100\n",
            "17294/17294 [==============================] - 2s 117us/step - loss: 3.5547e-04 - accuracy: 0.0041\n",
            "Epoch 62/100\n",
            "17294/17294 [==============================] - 2s 119us/step - loss: 3.5602e-04 - accuracy: 0.0041\n",
            "Epoch 63/100\n",
            "17294/17294 [==============================] - 2s 118us/step - loss: 3.5085e-04 - accuracy: 0.0041\n",
            "Epoch 64/100\n",
            "17294/17294 [==============================] - 2s 120us/step - loss: 3.5201e-04 - accuracy: 0.0041\n",
            "Epoch 65/100\n",
            "17294/17294 [==============================] - 2s 117us/step - loss: 3.5408e-04 - accuracy: 0.0041\n",
            "Epoch 66/100\n",
            "17294/17294 [==============================] - 2s 118us/step - loss: 3.5089e-04 - accuracy: 0.0041\n",
            "Epoch 67/100\n",
            "17294/17294 [==============================] - 2s 116us/step - loss: 3.5347e-04 - accuracy: 0.0041\n",
            "Epoch 68/100\n",
            "17294/17294 [==============================] - 2s 117us/step - loss: 3.5232e-04 - accuracy: 0.0041\n",
            "Epoch 69/100\n",
            "17294/17294 [==============================] - 2s 118us/step - loss: 3.5344e-04 - accuracy: 0.0041\n",
            "Epoch 70/100\n",
            "17294/17294 [==============================] - 2s 118us/step - loss: 3.5434e-04 - accuracy: 0.0041\n",
            "Epoch 71/100\n",
            "17294/17294 [==============================] - 2s 120us/step - loss: 3.5110e-04 - accuracy: 0.0041\n",
            "Epoch 72/100\n",
            "17294/17294 [==============================] - 2s 118us/step - loss: 3.5315e-04 - accuracy: 0.0041\n",
            "Epoch 73/100\n",
            "17294/17294 [==============================] - 2s 117us/step - loss: 3.5033e-04 - accuracy: 0.0041\n",
            "Epoch 74/100\n",
            "17294/17294 [==============================] - 2s 119us/step - loss: 3.5229e-04 - accuracy: 0.0041\n",
            "Epoch 75/100\n",
            "17294/17294 [==============================] - 2s 118us/step - loss: 3.4903e-04 - accuracy: 0.0041\n",
            "Epoch 76/100\n",
            "17294/17294 [==============================] - 2s 119us/step - loss: 3.4990e-04 - accuracy: 0.0041\n",
            "Epoch 77/100\n",
            "17294/17294 [==============================] - 2s 118us/step - loss: 3.5288e-04 - accuracy: 0.0041\n",
            "Epoch 78/100\n",
            "17294/17294 [==============================] - 2s 117us/step - loss: 3.5138e-04 - accuracy: 0.0041\n",
            "Epoch 79/100\n",
            "17294/17294 [==============================] - 2s 117us/step - loss: 3.4898e-04 - accuracy: 0.0041\n",
            "Epoch 80/100\n",
            "17294/17294 [==============================] - 2s 116us/step - loss: 3.5022e-04 - accuracy: 0.0041\n",
            "Epoch 81/100\n",
            "17294/17294 [==============================] - 2s 118us/step - loss: 3.5205e-04 - accuracy: 0.0041\n",
            "Epoch 82/100\n",
            "17294/17294 [==============================] - 2s 118us/step - loss: 3.4986e-04 - accuracy: 0.0041\n",
            "Epoch 83/100\n",
            "17294/17294 [==============================] - 2s 119us/step - loss: 3.4941e-04 - accuracy: 0.0041\n",
            "Epoch 84/100\n",
            "17294/17294 [==============================] - 2s 118us/step - loss: 3.5260e-04 - accuracy: 0.0041\n",
            "Epoch 85/100\n",
            "17294/17294 [==============================] - 2s 118us/step - loss: 3.4982e-04 - accuracy: 0.0041\n",
            "Epoch 86/100\n",
            "17294/17294 [==============================] - 2s 119us/step - loss: 3.4933e-04 - accuracy: 0.0041\n",
            "Epoch 87/100\n",
            "17294/17294 [==============================] - 2s 117us/step - loss: 3.4872e-04 - accuracy: 0.0041\n",
            "Epoch 88/100\n",
            "17294/17294 [==============================] - 2s 118us/step - loss: 3.4977e-04 - accuracy: 0.0041\n",
            "Epoch 89/100\n",
            "17294/17294 [==============================] - 2s 118us/step - loss: 3.4667e-04 - accuracy: 0.0041\n",
            "Epoch 90/100\n",
            "17294/17294 [==============================] - 2s 118us/step - loss: 3.5290e-04 - accuracy: 0.0041\n",
            "Epoch 91/100\n",
            "17294/17294 [==============================] - 2s 118us/step - loss: 3.4907e-04 - accuracy: 0.0041\n",
            "Epoch 92/100\n",
            "17294/17294 [==============================] - 2s 118us/step - loss: 3.4712e-04 - accuracy: 0.0041\n",
            "Epoch 93/100\n",
            "17294/17294 [==============================] - 2s 120us/step - loss: 3.4675e-04 - accuracy: 0.0041\n",
            "Epoch 94/100\n",
            "17294/17294 [==============================] - 2s 119us/step - loss: 3.4993e-04 - accuracy: 0.0041\n",
            "Epoch 95/100\n",
            "17294/17294 [==============================] - 2s 116us/step - loss: 3.5094e-04 - accuracy: 0.0041\n",
            "Epoch 96/100\n",
            "17294/17294 [==============================] - 2s 118us/step - loss: 3.4921e-04 - accuracy: 0.0041\n",
            "Epoch 97/100\n",
            "17294/17294 [==============================] - 2s 119us/step - loss: 3.4881e-04 - accuracy: 0.0041\n",
            "Epoch 98/100\n",
            "17294/17294 [==============================] - 2s 116us/step - loss: 3.5087e-04 - accuracy: 0.0041\n",
            "Epoch 99/100\n",
            "17294/17294 [==============================] - 2s 117us/step - loss: 3.4782e-04 - accuracy: 0.0041\n",
            "Epoch 100/100\n",
            "17294/17294 [==============================] - 2s 119us/step - loss: 3.4965e-04 - accuracy: 0.0041\n"
          ],
          "name": "stdout"
        }
      ]
    },
    {
      "cell_type": "code",
      "metadata": {
        "id": "txen3N-yvsAt",
        "colab_type": "code",
        "outputId": "da8a9061-bc46-48e4-ecf4-955db2ac30e2",
        "colab": {
          "base_uri": "https://localhost:8080/",
          "height": 368
        }
      },
      "source": [
        "print(history.history.keys())\n",
        "# \"Loss\"\n",
        "plt.plot(history.history['loss'])\n",
        "plt.title('model loss')\n",
        "plt.ylabel('loss')\n",
        "plt.xlabel('epoch')\n",
        "plt.legend(['train'], loc='upper left')\n",
        "plt.show()\n",
        "y_pred = model.predict(X_test)\n",
        "print('mean squared error : ',mean_squared_error(y_test,y_pred))\n",
        "print('mean absolute error : ',mean_absolute_error(y_test,prediction))\n",
        "print(r2_score(y_test,prediction))\n",
        "#Converting predictions to label\n"
      ],
      "execution_count": 55,
      "outputs": [
        {
          "output_type": "stream",
          "text": [
            "dict_keys(['loss', 'accuracy'])\n"
          ],
          "name": "stdout"
        },
        {
          "output_type": "display_data",
          "data": {
            "image/png": "[encoded data removed]",
            "text/plain": [
              "<Figure size 432x288 with 1 Axes>"
            ]
          },
          "metadata": {
            "tags": [],
            "needs_background": "light"
          }
        },
        {
          "output_type": "stream",
          "text": [
            "mean squared error :  0.00041476570006580057\n",
            "mean absolute error :  0.009969032093040677\n",
            "0.8416595206557981\n"
          ],
          "name": "stdout"
        }
      ]
    },
    {
      "cell_type": "code",
      "metadata": {
        "id": "kErB8NCcdyHM",
        "colab_type": "code",
        "outputId": "fb2616f5-84d7-49aa-f1d6-0b580aae0b32",
        "colab": {
          "base_uri": "https://localhost:8080/",
          "height": 281
        }
      },
      "source": [
        "plt.plot(y_test[0:100], color = 'black', label = 'TRUTH')\n",
        "plt.plot(prediction[0:100], color = 'green', label = 'PREDICTION')\n",
        "plt.title('Neural network PERFORMANCE ON TEST SET')\n",
        "plt.ylabel('PM2.5')\n",
        "plt.legend()\n",
        "plt.show()"
      ],
      "execution_count": 56,
      "outputs": [
        {
          "output_type": "display_data",
          "data": {
            "image/png": "[encoded data removed]",
            "text/plain": [
              "<Figure size 432x288 with 1 Axes>"
            ]
          },
          "metadata": {
            "tags": [],
            "needs_background": "light"
          }
        }
      ]
    },
    {
      "cell_type": "code",
      "metadata": {
        "id": "TTfaJJDaHGg9",
        "colab_type": "code",
        "outputId": "0489006c-bfd9-4a6f-ecf8-b973b021c778",
        "colab": {
          "base_uri": "https://localhost:8080/",
          "height": 182
        }
      },
      "source": [
        "print(X_train)\n",
        "X_train=np.asarray(X_train)\n",
        "X_test=np.asarray(X_test)\n",
        "y_train=np.asarray(y_train)\n",
        "y_test=np.asarray(y_test)\n",
        "\n",
        "print(X_train.shape)\n",
        "X_train=X_train.reshape(X_train.shape[0],X_train.shape[1],1)\n",
        "print(X_train.shape)"
      ],
      "execution_count": 57,
      "outputs": [
        {
          "output_type": "stream",
          "text": [
            "[[0.09090909 0.06909091 0.06909091 0.07636364]\n",
            " [0.21454545 0.18545455 0.23272727 0.23272727]\n",
            " [0.05454545 0.06909091 0.07272727 0.06909091]\n",
            " ...\n",
            " [0.24727273 0.29090909 0.29818182 0.25090909]\n",
            " [0.04727273 0.06909091 0.06545455 0.07272727]\n",
            " [0.08727273 0.08       0.08363636 0.08363636]]\n",
            "(17294, 4)\n",
            "(17294, 4, 1)\n"
          ],
          "name": "stdout"
        }
      ]
    },
    {
      "cell_type": "code",
      "metadata": {
        "id": "FFUuCp8g1vzB",
        "colab_type": "code",
        "outputId": "bcd1b638-ae46-4112-c055-0fd56f159525",
        "colab": {
          "base_uri": "https://localhost:8080/",
          "height": 1000
        }
      },
      "source": [
        "from keras.models import Sequential\n",
        "from keras.layers import Dense\n",
        "from keras.layers import LSTM\n",
        "from keras.layers import Dropout\n",
        "regressor = Sequential()\n",
        "\n",
        "regressor.add(LSTM(units = 50, return_sequences = True, input_shape = (X_train.shape[1], 1)))\n",
        "#regressor.add(Dropout(0.2))\n",
        "\n",
        "regressor.add(LSTM(units = 50, return_sequences = True))\n",
        "#regressor.add(Dropout(0.2))\n",
        "\n",
        "regressor.add(LSTM(units = 50, return_sequences = True))\n",
        "#regressor.add(Dropout(0.2))\n",
        "\n",
        "regressor.add(LSTM(units = 50))\n",
        "#regressor.add(Dropout(0.2))\n",
        "\n",
        "regressor.add(Dense(units = 1))\n",
        "\n",
        "regressor.compile(optimizer = 'adam', loss = 'mean_squared_error')\n",
        "\n",
        "history = regressor.fit(X_train, y_train, epochs = 100, batch_size = 32)"
      ],
      "execution_count": 58,
      "outputs": [
        {
          "output_type": "stream",
          "text": [
            "Epoch 1/100\n",
            "17294/17294 [==============================] - 27s 2ms/step - loss: 0.0012\n",
            "Epoch 2/100\n",
            "17294/17294 [==============================] - 26s 1ms/step - loss: 7.2755e-04\n",
            "Epoch 3/100\n",
            "17294/17294 [==============================] - 26s 1ms/step - loss: 4.9796e-04\n",
            "Epoch 4/100\n",
            "17294/17294 [==============================] - 26s 1ms/step - loss: 4.7807e-04\n",
            "Epoch 5/100\n",
            "17294/17294 [==============================] - 26s 1ms/step - loss: 4.5435e-04\n",
            "Epoch 6/100\n",
            "17294/17294 [==============================] - 25s 1ms/step - loss: 4.3350e-04\n",
            "Epoch 7/100\n",
            "17294/17294 [==============================] - 26s 1ms/step - loss: 4.2132e-04\n",
            "Epoch 8/100\n",
            "17294/17294 [==============================] - 26s 1ms/step - loss: 4.2439e-04\n",
            "Epoch 9/100\n",
            "17294/17294 [==============================] - 26s 1ms/step - loss: 4.1858e-04\n",
            "Epoch 10/100\n",
            "17294/17294 [==============================] - 26s 1ms/step - loss: 4.3112e-04\n",
            "Epoch 11/100\n",
            "17294/17294 [==============================] - 26s 1ms/step - loss: 4.1534e-04\n",
            "Epoch 12/100\n",
            "17294/17294 [==============================] - 26s 1ms/step - loss: 4.0758e-04\n",
            "Epoch 13/100\n",
            "17294/17294 [==============================] - 26s 1ms/step - loss: 4.0033e-04\n",
            "Epoch 14/100\n",
            "17294/17294 [==============================] - 26s 1ms/step - loss: 4.1224e-04\n",
            "Epoch 15/100\n",
            "17294/17294 [==============================] - 26s 1ms/step - loss: 4.1937e-04\n",
            "Epoch 16/100\n",
            "17294/17294 [==============================] - 25s 1ms/step - loss: 3.9667e-04\n",
            "Epoch 17/100\n",
            "17294/17294 [==============================] - 26s 1ms/step - loss: 3.9141e-04\n",
            "Epoch 18/100\n",
            "17294/17294 [==============================] - 25s 1ms/step - loss: 3.8166e-04\n",
            "Epoch 19/100\n",
            "17294/17294 [==============================] - 26s 1ms/step - loss: 3.7754e-04\n",
            "Epoch 20/100\n",
            "17294/17294 [==============================] - 25s 1ms/step - loss: 3.7663e-04\n",
            "Epoch 21/100\n",
            "17294/17294 [==============================] - 25s 1ms/step - loss: 3.7037e-04\n",
            "Epoch 22/100\n",
            "17294/17294 [==============================] - 26s 1ms/step - loss: 3.6678e-04\n",
            "Epoch 23/100\n",
            "17294/17294 [==============================] - 26s 2ms/step - loss: 3.7069e-04\n",
            "Epoch 24/100\n",
            "17294/17294 [==============================] - 26s 2ms/step - loss: 3.6721e-04\n",
            "Epoch 25/100\n",
            "17294/17294 [==============================] - 26s 2ms/step - loss: 3.6421e-04\n",
            "Epoch 26/100\n",
            "17294/17294 [==============================] - 26s 2ms/step - loss: 3.6151e-04\n",
            "Epoch 27/100\n",
            "17294/17294 [==============================] - 26s 1ms/step - loss: 3.6047e-04\n",
            "Epoch 28/100\n",
            "17294/17294 [==============================] - 26s 1ms/step - loss: 3.6015e-04\n",
            "Epoch 29/100\n",
            "17294/17294 [==============================] - 26s 1ms/step - loss: 3.6239e-04\n",
            "Epoch 30/100\n",
            "17294/17294 [==============================] - 26s 1ms/step - loss: 3.6033e-04\n",
            "Epoch 31/100\n",
            "17294/17294 [==============================] - 26s 1ms/step - loss: 3.6583e-04\n",
            "Epoch 32/100\n",
            "17294/17294 [==============================] - 26s 1ms/step - loss: 3.5863e-04\n",
            "Epoch 33/100\n",
            "17294/17294 [==============================] - 26s 2ms/step - loss: 3.6115e-04\n",
            "Epoch 34/100\n",
            "17294/17294 [==============================] - 26s 1ms/step - loss: 3.5969e-04\n",
            "Epoch 35/100\n",
            "17294/17294 [==============================] - 26s 2ms/step - loss: 3.6360e-04\n",
            "Epoch 36/100\n",
            "17294/17294 [==============================] - 26s 2ms/step - loss: 3.5753e-04\n",
            "Epoch 37/100\n",
            "17294/17294 [==============================] - 26s 2ms/step - loss: 3.6100e-04\n",
            "Epoch 38/100\n",
            "17294/17294 [==============================] - 26s 1ms/step - loss: 3.5739e-04\n",
            "Epoch 39/100\n",
            "17294/17294 [==============================] - 26s 1ms/step - loss: 3.5523e-04\n",
            "Epoch 40/100\n",
            "17294/17294 [==============================] - 26s 1ms/step - loss: 3.6054e-04\n",
            "Epoch 41/100\n",
            "17294/17294 [==============================] - 26s 1ms/step - loss: 3.6087e-04\n",
            "Epoch 42/100\n",
            "17294/17294 [==============================] - 26s 1ms/step - loss: 3.5640e-04\n",
            "Epoch 43/100\n",
            "17294/17294 [==============================] - 26s 1ms/step - loss: 3.5618e-04\n",
            "Epoch 44/100\n",
            "17294/17294 [==============================] - 26s 1ms/step - loss: 3.5829e-04\n",
            "Epoch 45/100\n",
            "17294/17294 [==============================] - 26s 1ms/step - loss: 3.6345e-04\n",
            "Epoch 46/100\n",
            "17294/17294 [==============================] - 25s 1ms/step - loss: 3.5552e-04\n",
            "Epoch 47/100\n",
            "17294/17294 [==============================] - 26s 1ms/step - loss: 3.5460e-04\n",
            "Epoch 48/100\n",
            "17294/17294 [==============================] - 26s 1ms/step - loss: 3.5923e-04\n",
            "Epoch 49/100\n",
            "17294/17294 [==============================] - 26s 1ms/step - loss: 3.5412e-04\n",
            "Epoch 50/100\n",
            "17294/17294 [==============================] - 26s 1ms/step - loss: 3.5502e-04\n",
            "Epoch 51/100\n",
            "17294/17294 [==============================] - 26s 1ms/step - loss: 3.5353e-04\n",
            "Epoch 52/100\n",
            "17294/17294 [==============================] - 26s 1ms/step - loss: 3.5672e-04\n",
            "Epoch 53/100\n",
            "17294/17294 [==============================] - 26s 1ms/step - loss: 3.5442e-04\n",
            "Epoch 54/100\n",
            "17294/17294 [==============================] - 25s 1ms/step - loss: 3.5596e-04\n",
            "Epoch 55/100\n",
            "17294/17294 [==============================] - 26s 1ms/step - loss: 3.5325e-04\n",
            "Epoch 56/100\n",
            "17294/17294 [==============================] - 26s 1ms/step - loss: 3.5366e-04\n",
            "Epoch 57/100\n",
            "17294/17294 [==============================] - 26s 1ms/step - loss: 3.5334e-04\n",
            "Epoch 58/100\n",
            "17294/17294 [==============================] - 26s 1ms/step - loss: 3.5363e-04\n",
            "Epoch 59/100\n",
            "17294/17294 [==============================] - 25s 1ms/step - loss: 3.5446e-04\n",
            "Epoch 60/100\n",
            "17294/17294 [==============================] - 26s 1ms/step - loss: 3.5449e-04\n",
            "Epoch 61/100\n",
            "17294/17294 [==============================] - 26s 1ms/step - loss: 3.5385e-04\n",
            "Epoch 62/100\n",
            "17294/17294 [==============================] - 25s 1ms/step - loss: 3.5209e-04\n",
            "Epoch 63/100\n",
            "17294/17294 [==============================] - 26s 1ms/step - loss: 3.5083e-04\n",
            "Epoch 64/100\n",
            "17294/17294 [==============================] - 25s 1ms/step - loss: 3.5267e-04\n",
            "Epoch 65/100\n",
            "17294/17294 [==============================] - 26s 1ms/step - loss: 3.5200e-04\n",
            "Epoch 66/100\n",
            "17294/17294 [==============================] - 26s 1ms/step - loss: 3.5092e-04\n",
            "Epoch 67/100\n",
            "17294/17294 [==============================] - 25s 1ms/step - loss: 3.5412e-04\n",
            "Epoch 68/100\n",
            "17294/17294 [==============================] - 26s 1ms/step - loss: 3.5267e-04\n",
            "Epoch 69/100\n",
            "17294/17294 [==============================] - 25s 1ms/step - loss: 3.5029e-04\n",
            "Epoch 70/100\n",
            "17294/17294 [==============================] - 26s 1ms/step - loss: 3.5604e-04\n",
            "Epoch 71/100\n",
            "17294/17294 [==============================] - 26s 1ms/step - loss: 3.5181e-04\n",
            "Epoch 72/100\n",
            "17294/17294 [==============================] - 26s 1ms/step - loss: 3.5120e-04\n",
            "Epoch 73/100\n",
            "17294/17294 [==============================] - 25s 1ms/step - loss: 3.4938e-04\n",
            "Epoch 74/100\n",
            "17294/17294 [==============================] - 25s 1ms/step - loss: 3.5149e-04\n",
            "Epoch 75/100\n",
            "17294/17294 [==============================] - 25s 1ms/step - loss: 3.4981e-04\n",
            "Epoch 76/100\n",
            "17294/17294 [==============================] - 25s 1ms/step - loss: 3.5290e-04\n",
            "Epoch 77/100\n",
            "17294/17294 [==============================] - 25s 1ms/step - loss: 3.5091e-04\n",
            "Epoch 78/100\n",
            "17294/17294 [==============================] - 26s 1ms/step - loss: 3.5157e-04\n",
            "Epoch 79/100\n",
            "17294/17294 [==============================] - 26s 1ms/step - loss: 3.5295e-04\n",
            "Epoch 80/100\n",
            "17294/17294 [==============================] - 25s 1ms/step - loss: 3.5105e-04\n",
            "Epoch 81/100\n",
            "17294/17294 [==============================] - 25s 1ms/step - loss: 3.5225e-04\n",
            "Epoch 82/100\n",
            "17294/17294 [==============================] - 26s 1ms/step - loss: 3.5260e-04\n",
            "Epoch 83/100\n",
            "17294/17294 [==============================] - 25s 1ms/step - loss: 3.5057e-04\n",
            "Epoch 84/100\n",
            "17294/17294 [==============================] - 25s 1ms/step - loss: 3.5343e-04\n",
            "Epoch 85/100\n",
            "17294/17294 [==============================] - 25s 1ms/step - loss: 3.5232e-04\n",
            "Epoch 86/100\n",
            "17294/17294 [==============================] - 26s 1ms/step - loss: 3.5011e-04\n",
            "Epoch 87/100\n",
            "17294/17294 [==============================] - 25s 1ms/step - loss: 3.5357e-04\n",
            "Epoch 88/100\n",
            "17294/17294 [==============================] - 25s 1ms/step - loss: 3.5041e-04\n",
            "Epoch 89/100\n",
            "17294/17294 [==============================] - 25s 1ms/step - loss: 3.5033e-04\n",
            "Epoch 90/100\n",
            "17294/17294 [==============================] - 25s 1ms/step - loss: 3.5174e-04\n",
            "Epoch 91/100\n",
            "17294/17294 [==============================] - 25s 1ms/step - loss: 3.5361e-04\n",
            "Epoch 92/100\n",
            "17294/17294 [==============================] - 25s 1ms/step - loss: 3.4956e-04\n",
            "Epoch 93/100\n",
            "17294/17294 [==============================] - 26s 1ms/step - loss: 3.5047e-04\n",
            "Epoch 94/100\n",
            "17294/17294 [==============================] - 26s 1ms/step - loss: 3.5063e-04\n",
            "Epoch 95/100\n",
            "17294/17294 [==============================] - 25s 1ms/step - loss: 3.4889e-04\n",
            "Epoch 96/100\n",
            "17294/17294 [==============================] - 26s 1ms/step - loss: 3.5169e-04\n",
            "Epoch 97/100\n",
            "17294/17294 [==============================] - 25s 1ms/step - loss: 3.4942e-04\n",
            "Epoch 98/100\n",
            "17294/17294 [==============================] - 25s 1ms/step - loss: 3.5059e-04\n",
            "Epoch 99/100\n",
            "17294/17294 [==============================] - 26s 1ms/step - loss: 3.4919e-04\n",
            "Epoch 100/100\n",
            "17294/17294 [==============================] - 26s 1ms/step - loss: 3.4758e-04\n"
          ],
          "name": "stdout"
        }
      ]
    },
    {
      "cell_type": "code",
      "metadata": {
        "id": "GvEtr3IPv0Sh",
        "colab_type": "code",
        "colab": {
          "base_uri": "https://localhost:8080/",
          "height": 368
        },
        "outputId": "ec78e7a2-ac5f-4721-9a62-480fe555ae8d"
      },
      "source": [
        "print(history.history.keys())\n",
        "# \"Loss\"\n",
        "plt.plot(history.history['loss'])\n",
        "plt.title('model loss')\n",
        "plt.ylabel('loss')\n",
        "plt.xlabel('epoch')\n",
        "plt.legend(['train'], loc='upper left')\n",
        "plt.show()\n",
        "X_test=X_test.reshape(X_test.shape[0],X_test.shape[1],1)\n",
        "prediction = regressor.predict(X_test)\n",
        "print(\"mean square error :\" ,mean_squared_error(y_test,prediction))\n",
        "from sklearn.metrics import mean_absolute_error\n",
        "print(\"mean absolute error : \",mean_absolute_error(y_test,prediction))\n",
        "print(r2_score(y_test,prediction))"
      ],
      "execution_count": 59,
      "outputs": [
        {
          "output_type": "stream",
          "text": [
            "dict_keys(['loss'])\n"
          ],
          "name": "stdout"
        },
        {
          "output_type": "display_data",
          "data": {
            "image/png": "[encoded data removed]",
            "text/plain": [
              "<Figure size 432x288 with 1 Axes>"
            ]
          },
          "metadata": {
            "tags": [],
            "needs_background": "light"
          }
        },
        {
          "output_type": "stream",
          "text": [
            "mean square error : 0.000420088823689956\n",
            "mean absolute error :  0.010593058922961788\n",
            "0.893199939688214\n"
          ],
          "name": "stdout"
        }
      ]
    },
    {
      "cell_type": "code",
      "metadata": {
        "id": "64suBIQS8DmU",
        "colab_type": "code",
        "colab": {
          "base_uri": "https://localhost:8080/",
          "height": 281
        },
        "outputId": "38eff9ca-1bd3-4db9-ce39-6d1bcd7954ca"
      },
      "source": [
        "plt.plot(y_test[0:100], color = 'black', label = 'TRUTH')\n",
        "plt.plot(prediction[0:100], color = 'green', label = 'PREDICTION')\n",
        "plt.title('LSTM PERFORMANCE ON TEST SET')\n",
        "plt.ylabel('PM2.5')\n",
        "plt.legend()\n",
        "plt.show()"
      ],
      "execution_count": 60,
      "outputs": [
        {
          "output_type": "display_data",
          "data": {
            "image/png": "[encoded data removed]",
            "text/plain": [
              "<Figure size 432x288 with 1 Axes>"
            ]
          },
          "metadata": {
            "tags": [],
            "needs_background": "light"
          }
        }
      ]
    },
    {
      "cell_type": "code",
      "metadata": {
        "id": "J2R-4HX3NL8E",
        "colab_type": "code",
        "colab": {}
      },
      "source": [
        ""
      ],
      "execution_count": 0,
      "outputs": []
    }
  ]
}