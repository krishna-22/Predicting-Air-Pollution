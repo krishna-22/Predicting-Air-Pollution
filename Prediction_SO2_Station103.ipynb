{
  "nbformat": 4,
  "nbformat_minor": 0,
  "metadata": {
    "colab": {
      "name": "Prediction_SO2_Station103.ipynb",
      "provenance": [],
      "collapsed_sections": []
    },
    "kernelspec": {
      "name": "python3",
      "display_name": "Python 3"
    }
  },
  "cells": [
    {
      "cell_type": "code",
      "metadata": {
        "id": "PBbQmfZ-ELYM",
        "colab_type": "code",
        "colab": {}
      },
      "source": [
        ""
      ],
      "execution_count": 0,
      "outputs": []
    },
    {
      "cell_type": "code",
      "metadata": {
        "id": "r4m1QUD8Lt4y",
        "colab_type": "code",
        "colab": {}
      },
      "source": [
        "#!unzip air-pollution-in-seoul.zip"
      ],
      "execution_count": 0,
      "outputs": []
    },
    {
      "cell_type": "code",
      "metadata": {
        "id": "aLafiv1zMqa3",
        "colab_type": "code",
        "outputId": "8ff816a7-e407-460f-88da-518b07c5d83b",
        "colab": {
          "base_uri": "https://localhost:8080/",
          "height": 35
        }
      },
      "source": [
        "import pandas as pd\n",
        "import numpy as np\n",
        "import pickle\n",
        "from sklearn.externals import joblib \n",
        "% matplotlib inline\n",
        "import matplotlib.pyplot as plt\n",
        "from google.colab import drive\n",
        "from google.colab import drive\n",
        "drive.mount('/content/drive')"
      ],
      "execution_count": 78,
      "outputs": [
        {
          "output_type": "stream",
          "text": [
            "Drive already mounted at /content/drive; to attempt to forcibly remount, call drive.mount(\"/content/drive\", force_remount=True).\n"
          ],
          "name": "stdout"
        }
      ]
    },
    {
      "cell_type": "code",
      "metadata": {
        "id": "nZUi7009M9kN",
        "colab_type": "code",
        "outputId": "82dcfcd7-4d5a-425e-b0f7-d4649433d3a2",
        "colab": {
          "base_uri": "https://localhost:8080/",
          "height": 363
        }
      },
      "source": [
        "data = pd.read_csv('/content/drive/My Drive/Dataset/Measurement_summary.csv')\n",
        "data.head(10)"
      ],
      "execution_count": 79,
      "outputs": [
        {
          "output_type": "execute_result",
          "data": {
            "text/html": [
              "<div>\n",
              "<style scoped>\n",
              "    .dataframe tbody tr th:only-of-type {\n",
              "        vertical-align: middle;\n",
              "    }\n",
              "\n",
              "    .dataframe tbody tr th {\n",
              "        vertical-align: top;\n",
              "    }\n",
              "\n",
              "    .dataframe thead th {\n",
              "        text-align: right;\n",
              "    }\n",
              "</style>\n",
              "<table border=\"1\" class=\"dataframe\">\n",
              "  <thead>\n",
              "    <tr style=\"text-align: right;\">\n",
              "      <th></th>\n",
              "      <th>Measurement date</th>\n",
              "      <th>Station code</th>\n",
              "      <th>Address</th>\n",
              "      <th>Latitude</th>\n",
              "      <th>Longitude</th>\n",
              "      <th>SO2</th>\n",
              "      <th>NO2</th>\n",
              "      <th>O3</th>\n",
              "      <th>CO</th>\n",
              "      <th>PM10</th>\n",
              "      <th>PM2.5</th>\n",
              "    </tr>\n",
              "  </thead>\n",
              "  <tbody>\n",
              "    <tr>\n",
              "      <th>0</th>\n",
              "      <td>2017-01-01 00:00</td>\n",
              "      <td>101</td>\n",
              "      <td>19, Jong-ro 35ga-gil, Jongno-gu, Seoul, Republ...</td>\n",
              "      <td>37.572016</td>\n",
              "      <td>127.005007</td>\n",
              "      <td>0.004</td>\n",
              "      <td>0.059</td>\n",
              "      <td>0.002</td>\n",
              "      <td>1.2</td>\n",
              "      <td>73.0</td>\n",
              "      <td>57.0</td>\n",
              "    </tr>\n",
              "    <tr>\n",
              "      <th>1</th>\n",
              "      <td>2017-01-01 01:00</td>\n",
              "      <td>101</td>\n",
              "      <td>19, Jong-ro 35ga-gil, Jongno-gu, Seoul, Republ...</td>\n",
              "      <td>37.572016</td>\n",
              "      <td>127.005007</td>\n",
              "      <td>0.004</td>\n",
              "      <td>0.058</td>\n",
              "      <td>0.002</td>\n",
              "      <td>1.2</td>\n",
              "      <td>71.0</td>\n",
              "      <td>59.0</td>\n",
              "    </tr>\n",
              "    <tr>\n",
              "      <th>2</th>\n",
              "      <td>2017-01-01 02:00</td>\n",
              "      <td>101</td>\n",
              "      <td>19, Jong-ro 35ga-gil, Jongno-gu, Seoul, Republ...</td>\n",
              "      <td>37.572016</td>\n",
              "      <td>127.005007</td>\n",
              "      <td>0.004</td>\n",
              "      <td>0.056</td>\n",
              "      <td>0.002</td>\n",
              "      <td>1.2</td>\n",
              "      <td>70.0</td>\n",
              "      <td>59.0</td>\n",
              "    </tr>\n",
              "    <tr>\n",
              "      <th>3</th>\n",
              "      <td>2017-01-01 03:00</td>\n",
              "      <td>101</td>\n",
              "      <td>19, Jong-ro 35ga-gil, Jongno-gu, Seoul, Republ...</td>\n",
              "      <td>37.572016</td>\n",
              "      <td>127.005007</td>\n",
              "      <td>0.004</td>\n",
              "      <td>0.056</td>\n",
              "      <td>0.002</td>\n",
              "      <td>1.2</td>\n",
              "      <td>70.0</td>\n",
              "      <td>58.0</td>\n",
              "    </tr>\n",
              "    <tr>\n",
              "      <th>4</th>\n",
              "      <td>2017-01-01 04:00</td>\n",
              "      <td>101</td>\n",
              "      <td>19, Jong-ro 35ga-gil, Jongno-gu, Seoul, Republ...</td>\n",
              "      <td>37.572016</td>\n",
              "      <td>127.005007</td>\n",
              "      <td>0.003</td>\n",
              "      <td>0.051</td>\n",
              "      <td>0.002</td>\n",
              "      <td>1.2</td>\n",
              "      <td>69.0</td>\n",
              "      <td>61.0</td>\n",
              "    </tr>\n",
              "    <tr>\n",
              "      <th>5</th>\n",
              "      <td>2017-01-01 05:00</td>\n",
              "      <td>101</td>\n",
              "      <td>19, Jong-ro 35ga-gil, Jongno-gu, Seoul, Republ...</td>\n",
              "      <td>37.572016</td>\n",
              "      <td>127.005007</td>\n",
              "      <td>0.003</td>\n",
              "      <td>0.046</td>\n",
              "      <td>0.002</td>\n",
              "      <td>1.1</td>\n",
              "      <td>70.0</td>\n",
              "      <td>61.0</td>\n",
              "    </tr>\n",
              "    <tr>\n",
              "      <th>6</th>\n",
              "      <td>2017-01-01 06:00</td>\n",
              "      <td>101</td>\n",
              "      <td>19, Jong-ro 35ga-gil, Jongno-gu, Seoul, Republ...</td>\n",
              "      <td>37.572016</td>\n",
              "      <td>127.005007</td>\n",
              "      <td>0.003</td>\n",
              "      <td>0.049</td>\n",
              "      <td>0.002</td>\n",
              "      <td>1.1</td>\n",
              "      <td>66.0</td>\n",
              "      <td>57.0</td>\n",
              "    </tr>\n",
              "    <tr>\n",
              "      <th>7</th>\n",
              "      <td>2017-01-01 07:00</td>\n",
              "      <td>101</td>\n",
              "      <td>19, Jong-ro 35ga-gil, Jongno-gu, Seoul, Republ...</td>\n",
              "      <td>37.572016</td>\n",
              "      <td>127.005007</td>\n",
              "      <td>0.003</td>\n",
              "      <td>0.045</td>\n",
              "      <td>0.002</td>\n",
              "      <td>1.0</td>\n",
              "      <td>71.0</td>\n",
              "      <td>60.0</td>\n",
              "    </tr>\n",
              "    <tr>\n",
              "      <th>8</th>\n",
              "      <td>2017-01-01 08:00</td>\n",
              "      <td>101</td>\n",
              "      <td>19, Jong-ro 35ga-gil, Jongno-gu, Seoul, Republ...</td>\n",
              "      <td>37.572016</td>\n",
              "      <td>127.005007</td>\n",
              "      <td>0.004</td>\n",
              "      <td>0.047</td>\n",
              "      <td>0.002</td>\n",
              "      <td>1.1</td>\n",
              "      <td>72.0</td>\n",
              "      <td>60.0</td>\n",
              "    </tr>\n",
              "    <tr>\n",
              "      <th>9</th>\n",
              "      <td>2017-01-01 09:00</td>\n",
              "      <td>101</td>\n",
              "      <td>19, Jong-ro 35ga-gil, Jongno-gu, Seoul, Republ...</td>\n",
              "      <td>37.572016</td>\n",
              "      <td>127.005007</td>\n",
              "      <td>0.003</td>\n",
              "      <td>0.047</td>\n",
              "      <td>0.002</td>\n",
              "      <td>1.1</td>\n",
              "      <td>74.0</td>\n",
              "      <td>63.0</td>\n",
              "    </tr>\n",
              "  </tbody>\n",
              "</table>\n",
              "</div>"
            ],
            "text/plain": [
              "   Measurement date  Station code  ...  PM10  PM2.5\n",
              "0  2017-01-01 00:00           101  ...  73.0   57.0\n",
              "1  2017-01-01 01:00           101  ...  71.0   59.0\n",
              "2  2017-01-01 02:00           101  ...  70.0   59.0\n",
              "3  2017-01-01 03:00           101  ...  70.0   58.0\n",
              "4  2017-01-01 04:00           101  ...  69.0   61.0\n",
              "5  2017-01-01 05:00           101  ...  70.0   61.0\n",
              "6  2017-01-01 06:00           101  ...  66.0   57.0\n",
              "7  2017-01-01 07:00           101  ...  71.0   60.0\n",
              "8  2017-01-01 08:00           101  ...  72.0   60.0\n",
              "9  2017-01-01 09:00           101  ...  74.0   63.0\n",
              "\n",
              "[10 rows x 11 columns]"
            ]
          },
          "metadata": {
            "tags": []
          },
          "execution_count": 79
        }
      ]
    },
    {
      "cell_type": "code",
      "metadata": {
        "id": "cFj-Od2FNYr7",
        "colab_type": "code",
        "outputId": "f98c838f-f42a-41d4-ce7e-3107e6f83de5",
        "colab": {
          "base_uri": "https://localhost:8080/",
          "height": 274
        }
      },
      "source": [
        "# Retriving data for station code 103 for SO2\n",
        "data_103=data[(data['Station code']==103) & (data['SO2']>0)]\n",
        "print(len(data_103))\n",
        "print(data_103.head(10))"
      ],
      "execution_count": 80,
      "outputs": [
        {
          "output_type": "stream",
          "text": [
            "25594\n",
            "       Measurement date  Station code  ...  PM10  PM2.5\n",
            "51810  2017-01-01 00:00           103  ...  70.0   68.0\n",
            "51811  2017-01-01 01:00           103  ...  73.0   66.0\n",
            "51812  2017-01-01 02:00           103  ...  67.0   65.0\n",
            "51813  2017-01-01 03:00           103  ...  68.0   65.0\n",
            "51814  2017-01-01 04:00           103  ...  65.0   61.0\n",
            "51815  2017-01-01 05:00           103  ...  62.0   59.0\n",
            "51816  2017-01-01 06:00           103  ...  66.0   61.0\n",
            "51817  2017-01-01 07:00           103  ...  65.0   58.0\n",
            "51818  2017-01-01 08:00           103  ...  67.0   69.0\n",
            "51819  2017-01-01 09:00           103  ...  70.0   74.0\n",
            "\n",
            "[10 rows x 11 columns]\n"
          ],
          "name": "stdout"
        }
      ]
    },
    {
      "cell_type": "code",
      "metadata": {
        "id": "gWDS6JoqXlfP",
        "colab_type": "code",
        "outputId": "9fdcd1e0-b462-43f4-f3fb-95567073e17b",
        "colab": {
          "base_uri": "https://localhost:8080/",
          "height": 297
        }
      },
      "source": [
        "import seaborn as sns\n",
        "sns.boxplot(data_103['SO2'])"
      ],
      "execution_count": 81,
      "outputs": [
        {
          "output_type": "execute_result",
          "data": {
            "text/plain": [
              "<matplotlib.axes._subplots.AxesSubplot at 0x7fb24dc9e438>"
            ]
          },
          "metadata": {
            "tags": []
          },
          "execution_count": 81
        },
        {
          "output_type": "display_data",
          "data": {
            "image/png": "[encoded data removed]",
            "text/plain": [
              "<Figure size 432x288 with 1 Axes>"
            ]
          },
          "metadata": {
            "tags": [],
            "needs_background": "light"
          }
        }
      ]
    },
    {
      "cell_type": "code",
      "metadata": {
        "id": "EcgONzxKnL2u",
        "colab_type": "code",
        "outputId": "61cb9c3d-7839-4932-cf4a-3d89c541712d",
        "colab": {
          "base_uri": "https://localhost:8080/",
          "height": 316
        }
      },
      "source": [
        "from scipy import stats\n",
        "z = np.abs(stats.zscore(data_103['SO2']))\n",
        "threshold = 3\n",
        "#print(len(np.where(z > 3)))\n",
        "data_103_Rout = data_103[(z < 3)]\n",
        "print(len(data_103_Rout))\n",
        "sns.boxplot(data_103_Rout['SO2'])"
      ],
      "execution_count": 82,
      "outputs": [
        {
          "output_type": "stream",
          "text": [
            "25211\n"
          ],
          "name": "stdout"
        },
        {
          "output_type": "execute_result",
          "data": {
            "text/plain": [
              "<matplotlib.axes._subplots.AxesSubplot at 0x7fb24ef450b8>"
            ]
          },
          "metadata": {
            "tags": []
          },
          "execution_count": 82
        },
        {
          "output_type": "display_data",
          "data": {
            "image/png": "[encoded data removed]",
            "text/plain": [
              "<Figure size 432x288 with 1 Axes>"
            ]
          },
          "metadata": {
            "tags": [],
            "needs_background": "light"
          }
        }
      ]
    },
    {
      "cell_type": "code",
      "metadata": {
        "id": "_LNanJd1a1_D",
        "colab_type": "code",
        "outputId": "b405cc2f-2ac1-4a37-e6e9-c4391cfa5e9c",
        "colab": {
          "base_uri": "https://localhost:8080/",
          "height": 35
        }
      },
      "source": [
        "df=data_103_Rout['SO2']\n",
        "df=df.values\n",
        "df=df.reshape(df.shape[0],1)\n",
        "print(df.shape)"
      ],
      "execution_count": 83,
      "outputs": [
        {
          "output_type": "stream",
          "text": [
            "(25211, 1)\n"
          ],
          "name": "stdout"
        }
      ]
    },
    {
      "cell_type": "code",
      "metadata": {
        "id": "rzYngv6_TPhh",
        "colab_type": "code",
        "outputId": "c6857ed3-c81d-41eb-c736-819f92a243e3",
        "colab": {
          "base_uri": "https://localhost:8080/",
          "height": 72
        }
      },
      "source": [
        "from sklearn import preprocessing\n",
        "min_max_scaler = preprocessing.MinMaxScaler()\n",
        "df_scaled = min_max_scaler.fit_transform(df)\n",
        "print(min(df),max(df))\n",
        "list_=[]\n",
        "for i in range (0,df_scaled.shape[0]):\n",
        "  list_.append(df_scaled[i][0])\n",
        "print(len(list_))\n",
        "print(min(list_),max(list_))\n"
      ],
      "execution_count": 84,
      "outputs": [
        {
          "output_type": "stream",
          "text": [
            "[0.001] [0.007]\n",
            "25211\n",
            "0.0 1.0\n"
          ],
          "name": "stdout"
        }
      ]
    },
    {
      "cell_type": "code",
      "metadata": {
        "id": "mFSUAFonN2ht",
        "colab_type": "code",
        "outputId": "41678fbc-eaa9-4edb-dcc8-1fb22102fbd0",
        "colab": {
          "base_uri": "https://localhost:8080/",
          "height": 35
        }
      },
      "source": [
        "window_size=5\n",
        "y=[]\n",
        "for i in range (0,len(list_)-window_size):\n",
        "  x=list_[i:i+window_size]\n",
        "  y.append(x)\n",
        "print(len(y),y[0])\n"
      ],
      "execution_count": 85,
      "outputs": [
        {
          "output_type": "stream",
          "text": [
            "25206 [0.6666666666666667, 0.5, 0.6666666666666667, 0.5, 0.5]\n"
          ],
          "name": "stdout"
        }
      ]
    },
    {
      "cell_type": "code",
      "metadata": {
        "id": "jOkLjiONN_dz",
        "colab_type": "code",
        "outputId": "eed06dcc-fd98-4cb3-e921-fcf0e856c587",
        "colab": {
          "base_uri": "https://localhost:8080/",
          "height": 381
        }
      },
      "source": [
        "matrix=np.matrix(y)\n",
        "print(matrix.shape)\n",
        "new_data = pd.DataFrame(matrix,columns=['x1','x2','x3','x4','y'])\n",
        "new_data.head(10)\n"
      ],
      "execution_count": 86,
      "outputs": [
        {
          "output_type": "stream",
          "text": [
            "(25206, 5)\n"
          ],
          "name": "stdout"
        },
        {
          "output_type": "execute_result",
          "data": {
            "text/html": [
              "<div>\n",
              "<style scoped>\n",
              "    .dataframe tbody tr th:only-of-type {\n",
              "        vertical-align: middle;\n",
              "    }\n",
              "\n",
              "    .dataframe tbody tr th {\n",
              "        vertical-align: top;\n",
              "    }\n",
              "\n",
              "    .dataframe thead th {\n",
              "        text-align: right;\n",
              "    }\n",
              "</style>\n",
              "<table border=\"1\" class=\"dataframe\">\n",
              "  <thead>\n",
              "    <tr style=\"text-align: right;\">\n",
              "      <th></th>\n",
              "      <th>x1</th>\n",
              "      <th>x2</th>\n",
              "      <th>x3</th>\n",
              "      <th>x4</th>\n",
              "      <th>y</th>\n",
              "    </tr>\n",
              "  </thead>\n",
              "  <tbody>\n",
              "    <tr>\n",
              "      <th>0</th>\n",
              "      <td>0.666667</td>\n",
              "      <td>0.500000</td>\n",
              "      <td>0.666667</td>\n",
              "      <td>0.500000</td>\n",
              "      <td>0.500000</td>\n",
              "    </tr>\n",
              "    <tr>\n",
              "      <th>1</th>\n",
              "      <td>0.500000</td>\n",
              "      <td>0.666667</td>\n",
              "      <td>0.500000</td>\n",
              "      <td>0.500000</td>\n",
              "      <td>0.500000</td>\n",
              "    </tr>\n",
              "    <tr>\n",
              "      <th>2</th>\n",
              "      <td>0.666667</td>\n",
              "      <td>0.500000</td>\n",
              "      <td>0.500000</td>\n",
              "      <td>0.500000</td>\n",
              "      <td>0.500000</td>\n",
              "    </tr>\n",
              "    <tr>\n",
              "      <th>3</th>\n",
              "      <td>0.500000</td>\n",
              "      <td>0.500000</td>\n",
              "      <td>0.500000</td>\n",
              "      <td>0.500000</td>\n",
              "      <td>0.500000</td>\n",
              "    </tr>\n",
              "    <tr>\n",
              "      <th>4</th>\n",
              "      <td>0.500000</td>\n",
              "      <td>0.500000</td>\n",
              "      <td>0.500000</td>\n",
              "      <td>0.500000</td>\n",
              "      <td>0.500000</td>\n",
              "    </tr>\n",
              "    <tr>\n",
              "      <th>5</th>\n",
              "      <td>0.500000</td>\n",
              "      <td>0.500000</td>\n",
              "      <td>0.500000</td>\n",
              "      <td>0.500000</td>\n",
              "      <td>0.500000</td>\n",
              "    </tr>\n",
              "    <tr>\n",
              "      <th>6</th>\n",
              "      <td>0.500000</td>\n",
              "      <td>0.500000</td>\n",
              "      <td>0.500000</td>\n",
              "      <td>0.500000</td>\n",
              "      <td>0.666667</td>\n",
              "    </tr>\n",
              "    <tr>\n",
              "      <th>7</th>\n",
              "      <td>0.500000</td>\n",
              "      <td>0.500000</td>\n",
              "      <td>0.500000</td>\n",
              "      <td>0.666667</td>\n",
              "      <td>0.666667</td>\n",
              "    </tr>\n",
              "    <tr>\n",
              "      <th>8</th>\n",
              "      <td>0.500000</td>\n",
              "      <td>0.500000</td>\n",
              "      <td>0.666667</td>\n",
              "      <td>0.666667</td>\n",
              "      <td>0.666667</td>\n",
              "    </tr>\n",
              "    <tr>\n",
              "      <th>9</th>\n",
              "      <td>0.500000</td>\n",
              "      <td>0.666667</td>\n",
              "      <td>0.666667</td>\n",
              "      <td>0.666667</td>\n",
              "      <td>1.000000</td>\n",
              "    </tr>\n",
              "  </tbody>\n",
              "</table>\n",
              "</div>"
            ],
            "text/plain": [
              "         x1        x2        x3        x4         y\n",
              "0  0.666667  0.500000  0.666667  0.500000  0.500000\n",
              "1  0.500000  0.666667  0.500000  0.500000  0.500000\n",
              "2  0.666667  0.500000  0.500000  0.500000  0.500000\n",
              "3  0.500000  0.500000  0.500000  0.500000  0.500000\n",
              "4  0.500000  0.500000  0.500000  0.500000  0.500000\n",
              "5  0.500000  0.500000  0.500000  0.500000  0.500000\n",
              "6  0.500000  0.500000  0.500000  0.500000  0.666667\n",
              "7  0.500000  0.500000  0.500000  0.666667  0.666667\n",
              "8  0.500000  0.500000  0.666667  0.666667  0.666667\n",
              "9  0.500000  0.666667  0.666667  0.666667  1.000000"
            ]
          },
          "metadata": {
            "tags": []
          },
          "execution_count": 86
        }
      ]
    },
    {
      "cell_type": "code",
      "metadata": {
        "id": "0Z5frRmicq9M",
        "colab_type": "code",
        "outputId": "387f3098-7dec-4b82-fcd6-a1559af54baa",
        "colab": {
          "base_uri": "https://localhost:8080/",
          "height": 146
        }
      },
      "source": [
        "print(matrix[:,4])"
      ],
      "execution_count": 87,
      "outputs": [
        {
          "output_type": "stream",
          "text": [
            "[[0.5       ]\n",
            " [0.5       ]\n",
            " [0.5       ]\n",
            " ...\n",
            " [0.33333333]\n",
            " [0.33333333]\n",
            " [0.16666667]]\n"
          ],
          "name": "stdout"
        }
      ]
    },
    {
      "cell_type": "code",
      "metadata": {
        "id": "SG1fsHWxOPTk",
        "colab_type": "code",
        "outputId": "a9f6a852-4717-4f33-faf7-1c9f21484989",
        "colab": {
          "base_uri": "https://localhost:8080/",
          "height": 109
        }
      },
      "source": [
        "from sklearn import linear_model\n",
        "from sklearn.model_selection import train_test_split\n",
        "from sklearn.metrics import r2_score\n",
        "from sklearn.metrics import mean_squared_error\n",
        "X_train, X_test, y_train, y_test = train_test_split(matrix[:,0:4],matrix[:,4],test_size=0.33, random_state=42)\n",
        "lm =linear_model.LinearRegression()\n",
        "model = lm.fit(X_train,y_train)\n",
        "prediction=model.predict(X_test)\n",
        "joblib.dump(model,'linear_regressor_Rout.pkl')\n",
        "from google.colab import files\n",
        "files.download('linear_regressor_Rout.pkl')\n",
        "print(prediction.shape,prediction[0:5])"
      ],
      "execution_count": 88,
      "outputs": [
        {
          "output_type": "stream",
          "text": [
            "(8318, 1) [[0.19317806]\n",
            " [0.19317806]\n",
            " [0.48169928]\n",
            " [0.75552195]\n",
            " [0.55710642]]\n"
          ],
          "name": "stdout"
        }
      ]
    },
    {
      "cell_type": "code",
      "metadata": {
        "id": "bye3z6vaOvbl",
        "colab_type": "code",
        "outputId": "51f3da3d-807b-4b84-ddc6-5f2e02ce1fa1",
        "colab": {
          "base_uri": "https://localhost:8080/",
          "height": 72
        }
      },
      "source": [
        "print(model.score(X_train,y_train))\n",
        "print(model.intercept_)\n",
        "print(model.coef_)"
      ],
      "execution_count": 89,
      "outputs": [
        {
          "output_type": "stream",
          "text": [
            "0.7233903572656631\n",
            "[0.04539339]\n",
            "[[0.04228875 0.04367211 0.13048003 0.67026714]]\n"
          ],
          "name": "stdout"
        }
      ]
    },
    {
      "cell_type": "code",
      "metadata": {
        "id": "K9AvmWqwO0h1",
        "colab_type": "code",
        "outputId": "be256c53-0319-42ad-a0b6-b3c473bc24a8",
        "colab": {
          "base_uri": "https://localhost:8080/",
          "height": 72
        }
      },
      "source": [
        "print('mean squared eror : ',mean_squared_error(y_test,prediction))\n",
        "from sklearn.metrics import mean_absolute_error\n",
        "print('absolute mean error : ', mean_absolute_error(y_test,prediction))\n",
        "print(r2_score(y_test,prediction))"
      ],
      "execution_count": 90,
      "outputs": [
        {
          "output_type": "stream",
          "text": [
            "mean squared eror :  0.009687222705457788\n",
            "absolute mean error :  0.06728271857989028\n",
            "0.7313727751762289\n"
          ],
          "name": "stdout"
        }
      ]
    },
    {
      "cell_type": "code",
      "metadata": {
        "id": "7ZFxbkZwIfsr",
        "colab_type": "code",
        "outputId": "2a941e2b-d4a2-4dc5-fa9b-fc8fd8dbe9ba",
        "colab": {
          "base_uri": "https://localhost:8080/",
          "height": 281
        }
      },
      "source": [
        "plt.plot(y_test[0:100], color = 'black', label = 'TRUTH')\n",
        "plt.plot(prediction[0:100], color = 'green', label = 'PREDICTION')\n",
        "plt.title('Linear regression PERFORMANCE ON TEST SET after removing outliers')\n",
        "plt.ylabel('SO2')\n",
        "plt.legend()\n",
        "plt.show()"
      ],
      "execution_count": 91,
      "outputs": [
        {
          "output_type": "display_data",
          "data": {
            "image/png": "[encoded data removed]",
            "text/plain": [
              "<Figure size 432x288 with 1 Axes>"
            ]
          },
          "metadata": {
            "tags": [],
            "needs_background": "light"
          }
        }
      ]
    },
    {
      "cell_type": "code",
      "metadata": {
        "id": "J3NSycPY02mb",
        "colab_type": "code",
        "outputId": "81928607-2880-4d49-a6a3-b109ed9673fe",
        "colab": {
          "base_uri": "https://localhost:8080/",
          "height": 520
        }
      },
      "source": [
        "# IMPLEMENTING LINEAR REGRESSION WITHOUT REMOVING OUTLIERS\n",
        "df=data_103['SO2']\n",
        "df=df.values\n",
        "df=df.reshape(df.shape[0],1)\n",
        "print(df.shape)\n",
        "from sklearn import preprocessing\n",
        "min_max_scaler = preprocessing.MinMaxScaler()\n",
        "df_scaled = min_max_scaler.fit_transform(df)\n",
        "print(min(df),max(df))\n",
        "list_=[]\n",
        "for i in range (0,df_scaled.shape[0]):\n",
        "  list_.append(df_scaled[i][0])\n",
        "print(len(list_))\n",
        "print(min(list_),max(list_))\n",
        "window_size=5\n",
        "y=[]\n",
        "for i in range (0,len(list_)-window_size):\n",
        "  x=list_[i:i+window_size]\n",
        "  y.append(x)\n",
        "print(len(y),y[0])\n",
        "matrix= np.matrix(y)\n",
        "from sklearn import linear_model\n",
        "from sklearn.model_selection import train_test_split\n",
        "from sklearn.metrics import r2_score\n",
        "from sklearn.metrics import mean_squared_error\n",
        "X_train, X_test, y_train, y_test = train_test_split(matrix[:,0:4],matrix[:,4],test_size=0.33, random_state=42)\n",
        "lm =linear_model.LinearRegression()\n",
        "model = lm.fit(X_train,y_train)\n",
        "prediction=model.predict(X_test)\n",
        "joblib.dump(model,'linear_regressor.pkl')\n",
        "from google.colab import files\n",
        "files.download('linear_regressor.pkl')\n",
        "print(prediction.shape,prediction[0:5])\n",
        "print('mean squared eror : ',mean_squared_error(y_test,prediction))\n",
        "from sklearn.metrics import mean_absolute_error\n",
        "print('absolute mean error : ', mean_absolute_error(y_test,prediction))\n",
        "print(r2_score(y_test,prediction))\n",
        "plt.plot(y_test[0:100], color = 'black', label = 'TRUTH')\n",
        "plt.plot(prediction[0:100], color = 'green', label = 'PREDICTION')\n",
        "plt.title('Linear regression PERFORMANCE ON TEST SET')\n",
        "plt.ylabel('SO2')\n",
        "plt.legend()\n",
        "plt.show()"
      ],
      "execution_count": 92,
      "outputs": [
        {
          "output_type": "stream",
          "text": [
            "(25594, 1)\n",
            "[0.001] [0.016]\n",
            "25594\n",
            "0.0 1.0000000000000002\n",
            "25589 [0.2666666666666667, 0.20000000000000004, 0.2666666666666667, 0.20000000000000004, 0.20000000000000004]\n",
            "(8445, 1) [[0.12679464]\n",
            " [0.1372841 ]\n",
            " [0.20724183]\n",
            " [0.07781581]\n",
            " [0.20497412]]\n",
            "mean squared eror :  0.0019253426519225032\n",
            "absolute mean error :  0.028609935998897735\n",
            "0.7441131637073375\n"
          ],
          "name": "stdout"
        },
        {
          "output_type": "display_data",
          "data": {
            "image/png": "[encoded data removed]",
            "text/plain": [
              "<Figure size 432x288 with 1 Axes>"
            ]
          },
          "metadata": {
            "tags": [],
            "needs_background": "light"
          }
        }
      ]
    },
    {
      "cell_type": "code",
      "metadata": {
        "id": "hrZqAjEyGnIN",
        "colab_type": "code",
        "outputId": "7818a1a0-f39a-41f7-9c2f-dae49b6b5f0d",
        "colab": {
          "base_uri": "https://localhost:8080/",
          "height": 129
        }
      },
      "source": [
        "# BAYESIAN RIDGE REGRESSION\n",
        "from sklearn import linear_model\n",
        "from statsmodels.tsa.ar_model import AR\n",
        "model = linear_model.BayesianRidge()\n",
        "\n",
        "model.fit(X_train,y_train )\n",
        "prediction=model.predict(X_test)\n",
        "joblib.dump(model,'bayesian_regressor.pkl')\n",
        "from google.colab import files\n",
        "files.download('bayesian_regressor.pkl')\n",
        "print('mean squared eror : ',mean_squared_error(y_test,prediction))\n",
        "from sklearn.metrics import mean_absolute_error\n",
        "print('absolute mean error : ', mean_absolute_error(y_test,prediction))\n",
        "\n",
        "print(r2_score(y_test,prediction))"
      ],
      "execution_count": 93,
      "outputs": [
        {
          "output_type": "stream",
          "text": [
            "/usr/local/lib/python3.6/dist-packages/sklearn/utils/validation.py:760: DataConversionWarning: A column-vector y was passed when a 1d array was expected. Please change the shape of y to (n_samples, ), for example using ravel().\n",
            "  y = column_or_1d(y, warn=True)\n"
          ],
          "name": "stderr"
        },
        {
          "output_type": "stream",
          "text": [
            "mean squared eror :  0.0019253606344454232\n",
            "absolute mean error :  0.02861241686772145\n",
            "0.7441107737478703\n"
          ],
          "name": "stdout"
        }
      ]
    },
    {
      "cell_type": "code",
      "metadata": {
        "id": "crUrc4mjO8uL",
        "colab_type": "code",
        "outputId": "d09d2d6b-2eb7-487f-ad8f-7a255cf4036a",
        "colab": {
          "base_uri": "https://localhost:8080/",
          "height": 109
        }
      },
      "source": [
        "# IMLEMENTING  RANDOM FOREST ALGORITHM\n",
        "from sklearn.ensemble import RandomForestRegressor\n",
        "model= RandomForestRegressor(max_depth=8, random_state=0)\n",
        "model.fit(X_train,y_train)\n",
        "prediction=model.predict(X_test)\n",
        "joblib.dump(model,'randomforest_regressor.pkl')\n",
        "print('mean squared eror : ',mean_squared_error(y_test,prediction))\n",
        "from sklearn.metrics import mean_absolute_error\n",
        "print('absolute mean error : ', mean_absolute_error(y_test,prediction))\n",
        "print(r2_score(y_test,prediction))"
      ],
      "execution_count": 94,
      "outputs": [
        {
          "output_type": "stream",
          "text": [
            "/usr/local/lib/python3.6/dist-packages/ipykernel_launcher.py:4: DataConversionWarning: A column-vector y was passed when a 1d array was expected. Please change the shape of y to (n_samples,), for example using ravel().\n",
            "  after removing the cwd from sys.path.\n"
          ],
          "name": "stderr"
        },
        {
          "output_type": "stream",
          "text": [
            "mean squared eror :  0.0018960295005038133\n",
            "absolute mean error :  0.02863635740876805\n",
            "0.7480090154773102\n"
          ],
          "name": "stdout"
        }
      ]
    },
    {
      "cell_type": "code",
      "metadata": {
        "id": "KAVNYF_yJXRN",
        "colab_type": "code",
        "outputId": "aaee63c5-3ef8-4482-edde-380f38afac76",
        "colab": {
          "base_uri": "https://localhost:8080/",
          "height": 501
        }
      },
      "source": [
        "plt.plot(y_test[0:100], color = 'black', label = 'TRUTH')\n",
        "plt.plot(prediction[0:100], color = 'green', label = 'PREDICTION')\n",
        "plt.title('Random forest regression PERFORMANCE ON TEST SET')\n",
        "plt.ylabel('SO2')\n",
        "plt.legend()\n",
        "plt.show()\n",
        "print('truth : ',y_test[0:10])\n",
        "print('prediction : ',prediction[0:10])"
      ],
      "execution_count": 95,
      "outputs": [
        {
          "output_type": "display_data",
          "data": {
            "image/png": "[encoded data removed]",
            "text/plain": [
              "<Figure size 432x288 with 1 Axes>"
            ]
          },
          "metadata": {
            "tags": [],
            "needs_background": "light"
          }
        },
        {
          "output_type": "stream",
          "text": [
            "truth :  [[0.06666667]\n",
            " [0.13333333]\n",
            " [0.2       ]\n",
            " [0.06666667]\n",
            " [0.2       ]\n",
            " [0.13333333]\n",
            " [0.13333333]\n",
            " [0.2       ]\n",
            " [0.06666667]\n",
            " [0.13333333]]\n",
            "prediction :  [0.10364893 0.1354499  0.20776004 0.07486395 0.20420421 0.1354499\n",
            " 0.15269899 0.31990931 0.07486395 0.1554694 ]\n"
          ],
          "name": "stdout"
        }
      ]
    },
    {
      "cell_type": "code",
      "metadata": {
        "id": "s9oOYdsvFVAz",
        "colab_type": "code",
        "outputId": "e9ff6fba-9de9-4b86-af8b-1f14251e2a3b",
        "colab": {
          "base_uri": "https://localhost:8080/",
          "height": 72
        }
      },
      "source": [
        "# RIDGE REGRESSION\n",
        "from sklearn.linear_model import Ridge\n",
        "model = Ridge(alpha=1.0)\n",
        "model.fit(X_train,y_train)\n",
        "prediction=model.predict(X_test)\n",
        "joblib.dump(model,'ridge_regressor.pkl')\n",
        "from google.colab import files\n",
        "files.download('ridge_regressor.pkl')\n",
        "print(mean_squared_error(y_test,prediction))\n",
        "print(mean_absolute_error(y_test,prediction))\n",
        "print(r2_score(y_test,prediction))\n"
      ],
      "execution_count": 96,
      "outputs": [
        {
          "output_type": "stream",
          "text": [
            "0.0019272249605466962\n",
            "0.028774248460847612\n",
            "0.7438629962899741\n"
          ],
          "name": "stdout"
        }
      ]
    },
    {
      "cell_type": "code",
      "metadata": {
        "id": "08afymABtSx4",
        "colab_type": "code",
        "outputId": "7738f9f5-02e9-4211-fbb2-1aae31f8ef3a",
        "colab": {
          "base_uri": "https://localhost:8080/",
          "height": 129
        }
      },
      "source": [
        "# IMPLEMENTING SUPPORT VECTOR\n",
        "from sklearn.svm import LinearSVR\n",
        "model= LinearSVR()\n",
        "model.fit(X_train,y_train)\n",
        "prediction=model.predict(X_test)\n",
        "print('mean squared eror : ',mean_squared_error(y_test,prediction))\n",
        "from sklearn.metrics import mean_absolute_error\n",
        "print('absolute mean error : ', mean_absolute_error(y_test,prediction))\n",
        "print(r2_score(y_test,prediction))"
      ],
      "execution_count": 97,
      "outputs": [
        {
          "output_type": "stream",
          "text": [
            "mean squared eror :  0.0021272284703893326\n",
            "absolute mean error :  0.025356226591081672\n",
            "0.7172816159159623\n"
          ],
          "name": "stdout"
        },
        {
          "output_type": "stream",
          "text": [
            "/usr/local/lib/python3.6/dist-packages/sklearn/utils/validation.py:760: DataConversionWarning: A column-vector y was passed when a 1d array was expected. Please change the shape of y to (n_samples, ), for example using ravel().\n",
            "  y = column_or_1d(y, warn=True)\n"
          ],
          "name": "stderr"
        }
      ]
    },
    {
      "cell_type": "code",
      "metadata": {
        "id": "LFR-uIKhMIPs",
        "colab_type": "code",
        "outputId": "f180a257-e3f7-431e-91ba-9021834eb9fd",
        "colab": {
          "base_uri": "https://localhost:8080/",
          "height": 281
        }
      },
      "source": [
        "plt.plot(y_test[0:100], color = 'black', label = 'TRUTH')\n",
        "plt.plot(prediction[0:100], color = 'green', label = 'PREDICTION')\n",
        "plt.title('SVM regression PERFORMANCE ON TEST SET')\n",
        "plt.ylabel('SO2')\n",
        "plt.legend()\n",
        "plt.show()"
      ],
      "execution_count": 98,
      "outputs": [
        {
          "output_type": "display_data",
          "data": {
            "image/png": "[encoded data removed]",
            "text/plain": [
              "<Figure size 432x288 with 1 Axes>"
            ]
          },
          "metadata": {
            "tags": [],
            "needs_background": "light"
          }
        }
      ]
    },
    {
      "cell_type": "code",
      "metadata": {
        "id": "tUpcjRA2hCQz",
        "colab_type": "code",
        "outputId": "86782dc0-5994-4416-cb3a-e0edf567dc51",
        "colab": {
          "base_uri": "https://localhost:8080/",
          "height": 1000
        }
      },
      "source": [
        "# IMPLEMENTING A NEURAL NETWORK\n",
        "from sklearn.preprocessing import StandardScaler\n",
        "#sc = StandardScaler()\n",
        "#X = sc.fit_transform(X)\n",
        "import keras\n",
        "from keras.models import Sequential\n",
        "from keras.layers import Dense\n",
        "# Neural network\n",
        "model = Sequential()\n",
        "model.add(Dense(64, input_dim=4, activation='relu'))\n",
        "model.add(Dense(128, input_dim=4, activation='relu'))\n",
        "model.add(Dense(512, activation='relu'))\n",
        "model.add(Dense(1, activation='relu'))\n",
        "\n",
        "\n",
        "model.compile(optimizer = \"adam\", loss ='mse', \n",
        "          metrics =[\"accuracy\"])\n",
        "history = model.fit(X_train, y_train, epochs=100, batch_size=32)"
      ],
      "execution_count": 99,
      "outputs": [
        {
          "output_type": "stream",
          "text": [
            "Epoch 1/100\n",
            "17144/17144 [==============================] - 1s 71us/step - loss: 0.0023 - accuracy: 0.0050\n",
            "Epoch 2/100\n",
            "17144/17144 [==============================] - 1s 65us/step - loss: 0.0021 - accuracy: 0.0050\n",
            "Epoch 3/100\n",
            "17144/17144 [==============================] - 1s 68us/step - loss: 0.0020 - accuracy: 0.0050\n",
            "Epoch 4/100\n",
            "17144/17144 [==============================] - 1s 65us/step - loss: 0.0021 - accuracy: 0.0050\n",
            "Epoch 5/100\n",
            "17144/17144 [==============================] - 1s 64us/step - loss: 0.0020 - accuracy: 0.0050\n",
            "Epoch 6/100\n",
            "17144/17144 [==============================] - 1s 65us/step - loss: 0.0020 - accuracy: 0.0050\n",
            "Epoch 7/100\n",
            "17144/17144 [==============================] - 1s 66us/step - loss: 0.0020 - accuracy: 0.0050\n",
            "Epoch 8/100\n",
            "17144/17144 [==============================] - 1s 66us/step - loss: 0.0020 - accuracy: 0.0050\n",
            "Epoch 9/100\n",
            "17144/17144 [==============================] - 1s 67us/step - loss: 0.0020 - accuracy: 0.0050\n",
            "Epoch 10/100\n",
            "17144/17144 [==============================] - 1s 66us/step - loss: 0.0020 - accuracy: 0.0050\n",
            "Epoch 11/100\n",
            "17144/17144 [==============================] - 1s 66us/step - loss: 0.0020 - accuracy: 0.0050\n",
            "Epoch 12/100\n",
            "17144/17144 [==============================] - 1s 68us/step - loss: 0.0020 - accuracy: 0.0050\n",
            "Epoch 13/100\n",
            "17144/17144 [==============================] - 1s 66us/step - loss: 0.0020 - accuracy: 0.0050\n",
            "Epoch 14/100\n",
            "17144/17144 [==============================] - 1s 70us/step - loss: 0.0020 - accuracy: 0.0050\n",
            "Epoch 15/100\n",
            "17144/17144 [==============================] - 1s 68us/step - loss: 0.0020 - accuracy: 0.0050\n",
            "Epoch 16/100\n",
            "17144/17144 [==============================] - 1s 67us/step - loss: 0.0020 - accuracy: 0.0050\n",
            "Epoch 17/100\n",
            "17144/17144 [==============================] - 1s 65us/step - loss: 0.0020 - accuracy: 0.0050\n",
            "Epoch 18/100\n",
            "17144/17144 [==============================] - 1s 64us/step - loss: 0.0019 - accuracy: 0.0050\n",
            "Epoch 19/100\n",
            "17144/17144 [==============================] - 1s 66us/step - loss: 0.0019 - accuracy: 0.0050\n",
            "Epoch 20/100\n",
            "17144/17144 [==============================] - 1s 64us/step - loss: 0.0020 - accuracy: 0.0050\n",
            "Epoch 21/100\n",
            "17144/17144 [==============================] - 1s 68us/step - loss: 0.0020 - accuracy: 0.0050\n",
            "Epoch 22/100\n",
            "17144/17144 [==============================] - 1s 65us/step - loss: 0.0020 - accuracy: 0.0050\n",
            "Epoch 23/100\n",
            "17144/17144 [==============================] - 1s 66us/step - loss: 0.0019 - accuracy: 0.0050\n",
            "Epoch 24/100\n",
            "17144/17144 [==============================] - 1s 65us/step - loss: 0.0019 - accuracy: 0.0050\n",
            "Epoch 25/100\n",
            "17144/17144 [==============================] - 1s 67us/step - loss: 0.0020 - accuracy: 0.0050\n",
            "Epoch 26/100\n",
            "17144/17144 [==============================] - 1s 65us/step - loss: 0.0019 - accuracy: 0.0050\n",
            "Epoch 27/100\n",
            "17144/17144 [==============================] - 1s 65us/step - loss: 0.0019 - accuracy: 0.0050\n",
            "Epoch 28/100\n",
            "17144/17144 [==============================] - 1s 65us/step - loss: 0.0019 - accuracy: 0.0050\n",
            "Epoch 29/100\n",
            "17144/17144 [==============================] - 1s 65us/step - loss: 0.0019 - accuracy: 0.0050\n",
            "Epoch 30/100\n",
            "17144/17144 [==============================] - 1s 65us/step - loss: 0.0019 - accuracy: 0.0050\n",
            "Epoch 31/100\n",
            "17144/17144 [==============================] - 1s 64us/step - loss: 0.0019 - accuracy: 0.0050\n",
            "Epoch 32/100\n",
            "17144/17144 [==============================] - 1s 64us/step - loss: 0.0019 - accuracy: 0.0050\n",
            "Epoch 33/100\n",
            "17144/17144 [==============================] - 1s 65us/step - loss: 0.0019 - accuracy: 0.0050\n",
            "Epoch 34/100\n",
            "17144/17144 [==============================] - 1s 66us/step - loss: 0.0019 - accuracy: 0.0050\n",
            "Epoch 35/100\n",
            "17144/17144 [==============================] - 1s 64us/step - loss: 0.0019 - accuracy: 0.0050\n",
            "Epoch 36/100\n",
            "17144/17144 [==============================] - 1s 66us/step - loss: 0.0019 - accuracy: 0.0050\n",
            "Epoch 37/100\n",
            "17144/17144 [==============================] - 1s 65us/step - loss: 0.0019 - accuracy: 0.0050\n",
            "Epoch 38/100\n",
            "17144/17144 [==============================] - 1s 64us/step - loss: 0.0019 - accuracy: 0.0050\n",
            "Epoch 39/100\n",
            "17144/17144 [==============================] - 1s 65us/step - loss: 0.0019 - accuracy: 0.0050\n",
            "Epoch 40/100\n",
            "17144/17144 [==============================] - 1s 64us/step - loss: 0.0019 - accuracy: 0.0050\n",
            "Epoch 41/100\n",
            "17144/17144 [==============================] - 1s 64us/step - loss: 0.0019 - accuracy: 0.0050\n",
            "Epoch 42/100\n",
            "17144/17144 [==============================] - 1s 67us/step - loss: 0.0019 - accuracy: 0.0050\n",
            "Epoch 43/100\n",
            "17144/17144 [==============================] - 1s 69us/step - loss: 0.0019 - accuracy: 0.0050\n",
            "Epoch 44/100\n",
            "17144/17144 [==============================] - 1s 69us/step - loss: 0.0019 - accuracy: 0.0050\n",
            "Epoch 45/100\n",
            "17144/17144 [==============================] - 1s 67us/step - loss: 0.0019 - accuracy: 0.0050\n",
            "Epoch 46/100\n",
            "17144/17144 [==============================] - 1s 67us/step - loss: 0.0019 - accuracy: 0.0050\n",
            "Epoch 47/100\n",
            "17144/17144 [==============================] - 1s 66us/step - loss: 0.0019 - accuracy: 0.0050\n",
            "Epoch 48/100\n",
            "17144/17144 [==============================] - 1s 68us/step - loss: 0.0019 - accuracy: 0.0050\n",
            "Epoch 49/100\n",
            "17144/17144 [==============================] - 1s 67us/step - loss: 0.0019 - accuracy: 0.0050\n",
            "Epoch 50/100\n",
            "17144/17144 [==============================] - 1s 68us/step - loss: 0.0019 - accuracy: 0.0050\n",
            "Epoch 51/100\n",
            "17144/17144 [==============================] - 1s 67us/step - loss: 0.0019 - accuracy: 0.0050\n",
            "Epoch 52/100\n",
            "17144/17144 [==============================] - 1s 68us/step - loss: 0.0019 - accuracy: 0.0050\n",
            "Epoch 53/100\n",
            "17144/17144 [==============================] - 1s 69us/step - loss: 0.0019 - accuracy: 0.0050\n",
            "Epoch 54/100\n",
            "17144/17144 [==============================] - 1s 67us/step - loss: 0.0019 - accuracy: 0.0050\n",
            "Epoch 55/100\n",
            "17144/17144 [==============================] - 1s 66us/step - loss: 0.0019 - accuracy: 0.0050\n",
            "Epoch 56/100\n",
            "17144/17144 [==============================] - 1s 69us/step - loss: 0.0019 - accuracy: 0.0050\n",
            "Epoch 57/100\n",
            "17144/17144 [==============================] - 1s 70us/step - loss: 0.0019 - accuracy: 0.0050\n",
            "Epoch 58/100\n",
            "17144/17144 [==============================] - 1s 68us/step - loss: 0.0019 - accuracy: 0.0050\n",
            "Epoch 59/100\n",
            "17144/17144 [==============================] - 1s 68us/step - loss: 0.0019 - accuracy: 0.0050\n",
            "Epoch 60/100\n",
            "17144/17144 [==============================] - 1s 67us/step - loss: 0.0019 - accuracy: 0.0050\n",
            "Epoch 61/100\n",
            "17144/17144 [==============================] - 1s 68us/step - loss: 0.0019 - accuracy: 0.0050\n",
            "Epoch 62/100\n",
            "17144/17144 [==============================] - 1s 68us/step - loss: 0.0019 - accuracy: 0.0050\n",
            "Epoch 63/100\n",
            "17144/17144 [==============================] - 1s 72us/step - loss: 0.0019 - accuracy: 0.0050\n",
            "Epoch 64/100\n",
            "17144/17144 [==============================] - 1s 68us/step - loss: 0.0019 - accuracy: 0.0050\n",
            "Epoch 65/100\n",
            "17144/17144 [==============================] - 1s 68us/step - loss: 0.0019 - accuracy: 0.0050\n",
            "Epoch 66/100\n",
            "17144/17144 [==============================] - 1s 69us/step - loss: 0.0019 - accuracy: 0.0050\n",
            "Epoch 67/100\n",
            "17144/17144 [==============================] - 1s 65us/step - loss: 0.0019 - accuracy: 0.0050\n",
            "Epoch 68/100\n",
            "17144/17144 [==============================] - 1s 65us/step - loss: 0.0019 - accuracy: 0.0050\n",
            "Epoch 69/100\n",
            "17144/17144 [==============================] - 1s 65us/step - loss: 0.0019 - accuracy: 0.0050\n",
            "Epoch 70/100\n",
            "17144/17144 [==============================] - 1s 66us/step - loss: 0.0019 - accuracy: 0.0050\n",
            "Epoch 71/100\n",
            "17144/17144 [==============================] - 1s 65us/step - loss: 0.0019 - accuracy: 0.0050\n",
            "Epoch 72/100\n",
            "17144/17144 [==============================] - 1s 68us/step - loss: 0.0019 - accuracy: 0.0050\n",
            "Epoch 73/100\n",
            "17144/17144 [==============================] - 1s 65us/step - loss: 0.0019 - accuracy: 0.0050\n",
            "Epoch 74/100\n",
            "17144/17144 [==============================] - 1s 66us/step - loss: 0.0019 - accuracy: 0.0050\n",
            "Epoch 75/100\n",
            "17144/17144 [==============================] - 1s 68us/step - loss: 0.0019 - accuracy: 0.0050\n",
            "Epoch 76/100\n",
            "17144/17144 [==============================] - 1s 67us/step - loss: 0.0019 - accuracy: 0.0050\n",
            "Epoch 77/100\n",
            "17144/17144 [==============================] - 1s 67us/step - loss: 0.0019 - accuracy: 0.0050\n",
            "Epoch 78/100\n",
            "17144/17144 [==============================] - 1s 67us/step - loss: 0.0019 - accuracy: 0.0050\n",
            "Epoch 79/100\n",
            "17144/17144 [==============================] - 1s 69us/step - loss: 0.0019 - accuracy: 0.0050\n",
            "Epoch 80/100\n",
            "17144/17144 [==============================] - 1s 68us/step - loss: 0.0019 - accuracy: 0.0050\n",
            "Epoch 81/100\n",
            "17144/17144 [==============================] - 1s 68us/step - loss: 0.0019 - accuracy: 0.0050\n",
            "Epoch 82/100\n",
            "17144/17144 [==============================] - 1s 67us/step - loss: 0.0019 - accuracy: 0.0050\n",
            "Epoch 83/100\n",
            "17144/17144 [==============================] - 1s 70us/step - loss: 0.0019 - accuracy: 0.0050\n",
            "Epoch 84/100\n",
            "17144/17144 [==============================] - 1s 71us/step - loss: 0.0019 - accuracy: 0.0050\n",
            "Epoch 85/100\n",
            "17144/17144 [==============================] - 1s 69us/step - loss: 0.0019 - accuracy: 0.0050\n",
            "Epoch 86/100\n",
            "17144/17144 [==============================] - 1s 67us/step - loss: 0.0019 - accuracy: 0.0050\n",
            "Epoch 87/100\n",
            "17144/17144 [==============================] - 1s 66us/step - loss: 0.0019 - accuracy: 0.0050\n",
            "Epoch 88/100\n",
            "17144/17144 [==============================] - 1s 65us/step - loss: 0.0019 - accuracy: 0.0050\n",
            "Epoch 89/100\n",
            "17144/17144 [==============================] - 1s 66us/step - loss: 0.0019 - accuracy: 0.0050\n",
            "Epoch 90/100\n",
            "17144/17144 [==============================] - 1s 66us/step - loss: 0.0019 - accuracy: 0.0050\n",
            "Epoch 91/100\n",
            "17144/17144 [==============================] - 1s 67us/step - loss: 0.0019 - accuracy: 0.0050\n",
            "Epoch 92/100\n",
            "17144/17144 [==============================] - 1s 66us/step - loss: 0.0019 - accuracy: 0.0050\n",
            "Epoch 93/100\n",
            "17144/17144 [==============================] - 1s 65us/step - loss: 0.0019 - accuracy: 0.0050\n",
            "Epoch 94/100\n",
            "17144/17144 [==============================] - 1s 66us/step - loss: 0.0019 - accuracy: 0.0050\n",
            "Epoch 95/100\n",
            "17144/17144 [==============================] - 1s 64us/step - loss: 0.0019 - accuracy: 0.0050\n",
            "Epoch 96/100\n",
            "17144/17144 [==============================] - 1s 65us/step - loss: 0.0019 - accuracy: 0.0050\n",
            "Epoch 97/100\n",
            "17144/17144 [==============================] - 1s 64us/step - loss: 0.0019 - accuracy: 0.0050\n",
            "Epoch 98/100\n",
            "17144/17144 [==============================] - 1s 65us/step - loss: 0.0019 - accuracy: 0.0050\n",
            "Epoch 99/100\n",
            "17144/17144 [==============================] - 1s 65us/step - loss: 0.0019 - accuracy: 0.0050\n",
            "Epoch 100/100\n",
            "17144/17144 [==============================] - 1s 66us/step - loss: 0.0019 - accuracy: 0.0050\n"
          ],
          "name": "stdout"
        }
      ]
    },
    {
      "cell_type": "code",
      "metadata": {
        "id": "txen3N-yvsAt",
        "colab_type": "code",
        "outputId": "992b3089-55c8-423e-8e24-69470fb0d252",
        "colab": {
          "base_uri": "https://localhost:8080/",
          "height": 368
        }
      },
      "source": [
        "print(history.history.keys())\n",
        "# \"Loss\"\n",
        "plt.plot(history.history['loss'])\n",
        "plt.title('model loss')\n",
        "plt.ylabel('loss')\n",
        "plt.xlabel('epoch')\n",
        "plt.legend(['train'], loc='upper left')\n",
        "plt.show()\n",
        "y_pred = model.predict(X_test)\n",
        "print('mean squared error : ',mean_squared_error(y_test,y_pred))\n",
        "print('mean absolute error : ',mean_absolute_error(y_test,prediction))\n",
        "print(r2_score(y_test,prediction))\n",
        "#Converting predictions to label\n"
      ],
      "execution_count": 100,
      "outputs": [
        {
          "output_type": "stream",
          "text": [
            "dict_keys(['loss', 'accuracy'])\n"
          ],
          "name": "stdout"
        },
        {
          "output_type": "display_data",
          "data": {
            "image/png": "[encoded data removed]",
            "text/plain": [
              "<Figure size 432x288 with 1 Axes>"
            ]
          },
          "metadata": {
            "tags": [],
            "needs_background": "light"
          }
        },
        {
          "output_type": "stream",
          "text": [
            "mean squared error :  0.0019112764829975351\n",
            "mean absolute error :  0.025356226591081672\n",
            "0.7172816159159623\n"
          ],
          "name": "stdout"
        }
      ]
    },
    {
      "cell_type": "code",
      "metadata": {
        "id": "kErB8NCcdyHM",
        "colab_type": "code",
        "outputId": "2ef9883c-dbc1-4a68-872e-e492307c2bba",
        "colab": {
          "base_uri": "https://localhost:8080/",
          "height": 281
        }
      },
      "source": [
        "plt.plot(y_test[0:100], color = 'black', label = 'TRUTH')\n",
        "plt.plot(prediction[0:100], color = 'green', label = 'PREDICTION')\n",
        "plt.title('Neural network PERFORMANCE ON TEST SET')\n",
        "plt.ylabel('SO2')\n",
        "plt.legend()\n",
        "plt.show()"
      ],
      "execution_count": 101,
      "outputs": [
        {
          "output_type": "display_data",
          "data": {
            "image/png": "[encoded data removed]",
            "text/plain": [
              "<Figure size 432x288 with 1 Axes>"
            ]
          },
          "metadata": {
            "tags": [],
            "needs_background": "light"
          }
        }
      ]
    },
    {
      "cell_type": "code",
      "metadata": {
        "id": "TTfaJJDaHGg9",
        "colab_type": "code",
        "outputId": "d0a8269b-bbc6-4bf4-f90a-30d992731f70",
        "colab": {
          "base_uri": "https://localhost:8080/",
          "height": 182
        }
      },
      "source": [
        "print(X_train)\n",
        "X_train=np.asarray(X_train)\n",
        "X_test=np.asarray(X_test)\n",
        "y_train=np.asarray(y_train)\n",
        "y_test=np.asarray(y_test)\n",
        "\n",
        "print(X_train.shape)\n",
        "X_train=X_train.reshape(X_train.shape[0],X_train.shape[1],1)\n",
        "print(X_train.shape)"
      ],
      "execution_count": 102,
      "outputs": [
        {
          "output_type": "stream",
          "text": [
            "[[0.2        0.26666667 0.26666667 0.26666667]\n",
            " [0.4        0.4        0.26666667 0.26666667]\n",
            " [0.2        0.2        0.2        0.2       ]\n",
            " ...\n",
            " [0.2        0.2        0.2        0.2       ]\n",
            " [0.13333333 0.13333333 0.2        0.2       ]\n",
            " [0.13333333 0.13333333 0.13333333 0.13333333]]\n",
            "(17144, 4)\n",
            "(17144, 4, 1)\n"
          ],
          "name": "stdout"
        }
      ]
    },
    {
      "cell_type": "code",
      "metadata": {
        "id": "FFUuCp8g1vzB",
        "colab_type": "code",
        "outputId": "a248464d-fe4c-4032-ce6f-e82995fdf79f",
        "colab": {
          "base_uri": "https://localhost:8080/",
          "height": 1000
        }
      },
      "source": [
        "from keras.models import Sequential\n",
        "from keras.layers import Dense\n",
        "from keras.layers import LSTM\n",
        "from keras.layers import Dropout\n",
        "regressor = Sequential()\n",
        "\n",
        "regressor.add(LSTM(units = 50, return_sequences = True, input_shape = (X_train.shape[1], 1)))\n",
        "#regressor.add(Dropout(0.2))\n",
        "\n",
        "regressor.add(LSTM(units = 50, return_sequences = True))\n",
        "#regressor.add(Dropout(0.2))\n",
        "\n",
        "regressor.add(LSTM(units = 50, return_sequences = True))\n",
        "#regressor.add(Dropout(0.2))\n",
        "\n",
        "regressor.add(LSTM(units = 50))\n",
        "#regressor.add(Dropout(0.2))\n",
        "\n",
        "regressor.add(Dense(units = 1))\n",
        "\n",
        "regressor.compile(optimizer = 'adam', loss = 'mean_squared_error')\n",
        "\n",
        "history = regressor.fit(X_train, y_train, epochs = 100, batch_size = 32)"
      ],
      "execution_count": 103,
      "outputs": [
        {
          "output_type": "stream",
          "text": [
            "Epoch 1/100\n",
            "17144/17144 [==============================] - 7s 427us/step - loss: 0.0043\n",
            "Epoch 2/100\n",
            "17144/17144 [==============================] - 6s 363us/step - loss: 0.0022\n",
            "Epoch 3/100\n",
            "17144/17144 [==============================] - 7s 384us/step - loss: 0.0021\n",
            "Epoch 4/100\n",
            "17144/17144 [==============================] - 6s 376us/step - loss: 0.0021\n",
            "Epoch 5/100\n",
            "17144/17144 [==============================] - 6s 374us/step - loss: 0.0021\n",
            "Epoch 6/100\n",
            "17144/17144 [==============================] - 6s 373us/step - loss: 0.0021\n",
            "Epoch 7/100\n",
            "17144/17144 [==============================] - 6s 378us/step - loss: 0.0020\n",
            "Epoch 8/100\n",
            "17144/17144 [==============================] - 7s 389us/step - loss: 0.0021\n",
            "Epoch 9/100\n",
            "17144/17144 [==============================] - 6s 378us/step - loss: 0.0020\n",
            "Epoch 10/100\n",
            "17144/17144 [==============================] - 6s 377us/step - loss: 0.0020\n",
            "Epoch 11/100\n",
            "17144/17144 [==============================] - 6s 374us/step - loss: 0.0020\n",
            "Epoch 12/100\n",
            "17144/17144 [==============================] - 6s 373us/step - loss: 0.0020\n",
            "Epoch 13/100\n",
            "17144/17144 [==============================] - 6s 370us/step - loss: 0.0020\n",
            "Epoch 14/100\n",
            "17144/17144 [==============================] - 6s 371us/step - loss: 0.0020\n",
            "Epoch 15/100\n",
            "17144/17144 [==============================] - 6s 375us/step - loss: 0.0020\n",
            "Epoch 16/100\n",
            "17144/17144 [==============================] - 6s 377us/step - loss: 0.0020\n",
            "Epoch 17/100\n",
            "17144/17144 [==============================] - 6s 376us/step - loss: 0.0020\n",
            "Epoch 18/100\n",
            "17144/17144 [==============================] - 6s 376us/step - loss: 0.0020\n",
            "Epoch 19/100\n",
            "17144/17144 [==============================] - 6s 369us/step - loss: 0.0020\n",
            "Epoch 20/100\n",
            "17144/17144 [==============================] - 7s 381us/step - loss: 0.0020\n",
            "Epoch 21/100\n",
            "17144/17144 [==============================] - 7s 380us/step - loss: 0.0020\n",
            "Epoch 22/100\n",
            "17144/17144 [==============================] - 7s 381us/step - loss: 0.0020\n",
            "Epoch 23/100\n",
            "17144/17144 [==============================] - 7s 385us/step - loss: 0.0019\n",
            "Epoch 24/100\n",
            "17144/17144 [==============================] - 6s 379us/step - loss: 0.0020\n",
            "Epoch 25/100\n",
            "17144/17144 [==============================] - 7s 386us/step - loss: 0.0019\n",
            "Epoch 26/100\n",
            "17144/17144 [==============================] - 7s 384us/step - loss: 0.0019\n",
            "Epoch 27/100\n",
            "17144/17144 [==============================] - 7s 380us/step - loss: 0.0020\n",
            "Epoch 28/100\n",
            "17144/17144 [==============================] - 6s 374us/step - loss: 0.0019\n",
            "Epoch 29/100\n",
            "17144/17144 [==============================] - 6s 376us/step - loss: 0.0019\n",
            "Epoch 30/100\n",
            "17144/17144 [==============================] - 7s 381us/step - loss: 0.0019\n",
            "Epoch 31/100\n",
            "17144/17144 [==============================] - 7s 379us/step - loss: 0.0019\n",
            "Epoch 32/100\n",
            "17144/17144 [==============================] - 7s 386us/step - loss: 0.0019\n",
            "Epoch 33/100\n",
            "17144/17144 [==============================] - 7s 394us/step - loss: 0.0019\n",
            "Epoch 34/100\n",
            "17144/17144 [==============================] - 7s 396us/step - loss: 0.0019\n",
            "Epoch 35/100\n",
            "17144/17144 [==============================] - 7s 392us/step - loss: 0.0019\n",
            "Epoch 36/100\n",
            "17144/17144 [==============================] - 7s 387us/step - loss: 0.0019\n",
            "Epoch 37/100\n",
            "17144/17144 [==============================] - 7s 390us/step - loss: 0.0019\n",
            "Epoch 38/100\n",
            "17144/17144 [==============================] - 7s 404us/step - loss: 0.0019\n",
            "Epoch 39/100\n",
            "17144/17144 [==============================] - 7s 399us/step - loss: 0.0019\n",
            "Epoch 40/100\n",
            "17144/17144 [==============================] - 7s 402us/step - loss: 0.0019\n",
            "Epoch 41/100\n",
            "17144/17144 [==============================] - 7s 405us/step - loss: 0.0019\n",
            "Epoch 42/100\n",
            "17144/17144 [==============================] - 7s 401us/step - loss: 0.0019\n",
            "Epoch 43/100\n",
            "17144/17144 [==============================] - 7s 404us/step - loss: 0.0019\n",
            "Epoch 44/100\n",
            "17144/17144 [==============================] - 7s 408us/step - loss: 0.0019\n",
            "Epoch 45/100\n",
            "17144/17144 [==============================] - 7s 402us/step - loss: 0.0019\n",
            "Epoch 46/100\n",
            "17144/17144 [==============================] - 7s 436us/step - loss: 0.0019\n",
            "Epoch 47/100\n",
            "17144/17144 [==============================] - 7s 419us/step - loss: 0.0019\n",
            "Epoch 48/100\n",
            "17144/17144 [==============================] - 7s 431us/step - loss: 0.0019\n",
            "Epoch 49/100\n",
            "17144/17144 [==============================] - 7s 421us/step - loss: 0.0019\n",
            "Epoch 50/100\n",
            "17144/17144 [==============================] - 7s 398us/step - loss: 0.0019\n",
            "Epoch 51/100\n",
            "17144/17144 [==============================] - 7s 406us/step - loss: 0.0019\n",
            "Epoch 52/100\n",
            "17144/17144 [==============================] - 7s 393us/step - loss: 0.0019\n",
            "Epoch 53/100\n",
            "17144/17144 [==============================] - 7s 385us/step - loss: 0.0019\n",
            "Epoch 54/100\n",
            "17144/17144 [==============================] - 6s 378us/step - loss: 0.0019\n",
            "Epoch 55/100\n",
            "17144/17144 [==============================] - 6s 374us/step - loss: 0.0019\n",
            "Epoch 56/100\n",
            "17144/17144 [==============================] - 7s 380us/step - loss: 0.0019\n",
            "Epoch 57/100\n",
            "17144/17144 [==============================] - 7s 381us/step - loss: 0.0019\n",
            "Epoch 58/100\n",
            "17144/17144 [==============================] - 7s 384us/step - loss: 0.0019\n",
            "Epoch 59/100\n",
            "17144/17144 [==============================] - 7s 384us/step - loss: 0.0019\n",
            "Epoch 60/100\n",
            "17144/17144 [==============================] - 7s 384us/step - loss: 0.0019\n",
            "Epoch 61/100\n",
            "17144/17144 [==============================] - 7s 393us/step - loss: 0.0019\n",
            "Epoch 62/100\n",
            "17144/17144 [==============================] - 7s 405us/step - loss: 0.0019\n",
            "Epoch 63/100\n",
            "17144/17144 [==============================] - 7s 406us/step - loss: 0.0019\n",
            "Epoch 64/100\n",
            "17144/17144 [==============================] - 7s 401us/step - loss: 0.0019\n",
            "Epoch 65/100\n",
            "17144/17144 [==============================] - 7s 405us/step - loss: 0.0019\n",
            "Epoch 66/100\n",
            "17144/17144 [==============================] - 7s 382us/step - loss: 0.0019\n",
            "Epoch 67/100\n",
            "17144/17144 [==============================] - 6s 363us/step - loss: 0.0019\n",
            "Epoch 68/100\n",
            "17144/17144 [==============================] - 6s 371us/step - loss: 0.0019\n",
            "Epoch 69/100\n",
            "17144/17144 [==============================] - 7s 386us/step - loss: 0.0019\n",
            "Epoch 70/100\n",
            "17144/17144 [==============================] - 7s 392us/step - loss: 0.0019\n",
            "Epoch 71/100\n",
            "17144/17144 [==============================] - 7s 390us/step - loss: 0.0019\n",
            "Epoch 72/100\n",
            "17144/17144 [==============================] - 6s 376us/step - loss: 0.0019\n",
            "Epoch 73/100\n",
            "17144/17144 [==============================] - 6s 376us/step - loss: 0.0019\n",
            "Epoch 74/100\n",
            "17144/17144 [==============================] - 6s 371us/step - loss: 0.0019\n",
            "Epoch 75/100\n",
            "17144/17144 [==============================] - 6s 366us/step - loss: 0.0019\n",
            "Epoch 76/100\n",
            "17144/17144 [==============================] - 6s 367us/step - loss: 0.0019\n",
            "Epoch 77/100\n",
            "17144/17144 [==============================] - 6s 360us/step - loss: 0.0019\n",
            "Epoch 78/100\n",
            "17144/17144 [==============================] - 6s 358us/step - loss: 0.0019\n",
            "Epoch 79/100\n",
            "17144/17144 [==============================] - 6s 364us/step - loss: 0.0019\n",
            "Epoch 80/100\n",
            "17144/17144 [==============================] - 6s 365us/step - loss: 0.0019\n",
            "Epoch 81/100\n",
            "17144/17144 [==============================] - 6s 367us/step - loss: 0.0019\n",
            "Epoch 82/100\n",
            "17144/17144 [==============================] - 6s 368us/step - loss: 0.0019\n",
            "Epoch 83/100\n",
            "17144/17144 [==============================] - 6s 372us/step - loss: 0.0019\n",
            "Epoch 84/100\n",
            "17144/17144 [==============================] - 7s 383us/step - loss: 0.0019\n",
            "Epoch 85/100\n",
            "17144/17144 [==============================] - 7s 385us/step - loss: 0.0019\n",
            "Epoch 86/100\n",
            "17144/17144 [==============================] - 6s 366us/step - loss: 0.0019\n",
            "Epoch 87/100\n",
            "17144/17144 [==============================] - 6s 365us/step - loss: 0.0019\n",
            "Epoch 88/100\n",
            "17144/17144 [==============================] - 6s 362us/step - loss: 0.0019\n",
            "Epoch 89/100\n",
            "17144/17144 [==============================] - 6s 373us/step - loss: 0.0019\n",
            "Epoch 90/100\n",
            "17144/17144 [==============================] - 6s 361us/step - loss: 0.0019\n",
            "Epoch 91/100\n",
            "17144/17144 [==============================] - 6s 359us/step - loss: 0.0019\n",
            "Epoch 92/100\n",
            "17144/17144 [==============================] - 6s 363us/step - loss: 0.0019\n",
            "Epoch 93/100\n",
            "17144/17144 [==============================] - 6s 365us/step - loss: 0.0019\n",
            "Epoch 94/100\n",
            "17144/17144 [==============================] - 6s 370us/step - loss: 0.0019\n",
            "Epoch 95/100\n",
            "17144/17144 [==============================] - 6s 365us/step - loss: 0.0019\n",
            "Epoch 96/100\n",
            "17144/17144 [==============================] - 6s 359us/step - loss: 0.0019\n",
            "Epoch 97/100\n",
            "17144/17144 [==============================] - 6s 357us/step - loss: 0.0019\n",
            "Epoch 98/100\n",
            "17144/17144 [==============================] - 6s 366us/step - loss: 0.0019\n",
            "Epoch 99/100\n",
            "17144/17144 [==============================] - 6s 361us/step - loss: 0.0019\n",
            "Epoch 100/100\n",
            "17144/17144 [==============================] - 6s 359us/step - loss: 0.0019\n"
          ],
          "name": "stdout"
        }
      ]
    },
    {
      "cell_type": "code",
      "metadata": {
        "id": "GvEtr3IPv0Sh",
        "colab_type": "code",
        "outputId": "3c3c892c-4dfb-4dba-b2bf-79c653cceeac",
        "colab": {
          "base_uri": "https://localhost:8080/",
          "height": 368
        }
      },
      "source": [
        "print(history.history.keys())\n",
        "# \"Loss\"\n",
        "plt.plot(history.history['loss'])\n",
        "plt.title('model loss')\n",
        "plt.ylabel('loss')\n",
        "plt.xlabel('epoch')\n",
        "plt.legend(['train'], loc='upper left')\n",
        "plt.show()\n",
        "X_test=X_test.reshape(X_test.shape[0],X_test.shape[1],1)\n",
        "prediction = regressor.predict(X_test)\n",
        "print(\"mean square error :\" ,mean_squared_error(y_test,prediction))\n",
        "from sklearn.metrics import mean_absolute_error\n",
        "print(\"mean absolute error : \",mean_absolute_error(y_test,prediction))\n",
        "print(r2_score(y_test,prediction))"
      ],
      "execution_count": 104,
      "outputs": [
        {
          "output_type": "stream",
          "text": [
            "dict_keys(['loss'])\n"
          ],
          "name": "stdout"
        },
        {
          "output_type": "display_data",
          "data": {
            "image/png": "[encoded data removed]",
            "text/plain": [
              "<Figure size 432x288 with 1 Axes>"
            ]
          },
          "metadata": {
            "tags": [],
            "needs_background": "light"
          }
        },
        {
          "output_type": "stream",
          "text": [
            "mean square error : 0.0018640589649803788\n",
            "mean absolute error :  0.029579641736598335\n",
            "0.7522580457377187\n"
          ],
          "name": "stdout"
        }
      ]
    },
    {
      "cell_type": "code",
      "metadata": {
        "id": "64suBIQS8DmU",
        "colab_type": "code",
        "outputId": "501fc9e6-1d3c-47b5-866e-cd9f6fa20198",
        "colab": {
          "base_uri": "https://localhost:8080/",
          "height": 281
        }
      },
      "source": [
        "plt.plot(y_test[0:100], color = 'black', label = 'TRUTH')\n",
        "plt.plot(prediction[0:100], color = 'green', label = 'PREDICTION')\n",
        "plt.title('LSTM PERFORMANCE ON TEST SET')\n",
        "plt.ylabel('SO2')\n",
        "plt.legend()\n",
        "plt.show()"
      ],
      "execution_count": 105,
      "outputs": [
        {
          "output_type": "display_data",
          "data": {
            "image/png": "[encoded data removed]",
            "text/plain": [
              "<Figure size 432x288 with 1 Axes>"
            ]
          },
          "metadata": {
            "tags": [],
            "needs_background": "light"
          }
        }
      ]
    },
    {
      "cell_type": "code",
      "metadata": {
        "id": "M6ATb9dKn9KE",
        "colab_type": "code",
        "colab": {}
      },
      "source": [
        "#joblib.dump(regressor,'lstm_regressor.pkl')\n",
        "#from google.colab import files\n",
        "#files.download('lstm_regressor.pkl')"
      ],
      "execution_count": 0,
      "outputs": []
    },
    {
      "cell_type": "code",
      "metadata": {
        "id": "J2R-4HX3NL8E",
        "colab_type": "code",
        "colab": {}
      },
      "source": [
        ""
      ],
      "execution_count": 0,
      "outputs": []
    }
  ]
}