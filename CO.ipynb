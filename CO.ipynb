{
  "nbformat": 4,
  "nbformat_minor": 0,
  "metadata": {
    "accelerator": "GPU",
    "colab": {
      "name": "CO.ipynb",
      "provenance": [],
      "collapsed_sections": []
    },
    "kernelspec": {
      "display_name": "Python 3",
      "language": "python",
      "name": "python3"
    },
    "language_info": {
      "codemirror_mode": {
        "name": "ipython",
        "version": 3
      },
      "file_extension": ".py",
      "mimetype": "text/x-python",
      "name": "python",
      "nbconvert_exporter": "python",
      "pygments_lexer": "ipython3",
      "version": "3.7.7"
    }
  },
  "cells": [
    {
      "cell_type": "code",
      "metadata": {
        "colab_type": "code",
        "id": "C0aNQ_nspWsI",
        "colab": {}
      },
      "source": [
        "# CO Prediction"
      ],
      "execution_count": 0,
      "outputs": []
    },
    {
      "cell_type": "code",
      "metadata": {
        "colab_type": "code",
        "id": "aLafiv1zMqa3",
        "outputId": "c225b87b-da8d-45cb-f372-738345d51049",
        "colab": {
          "base_uri": "https://localhost:8080/",
          "height": 35
        }
      },
      "source": [
        "import pandas as pd\n",
        "import numpy as np \n",
        "%matplotlib inline\n",
        "import matplotlib.pyplot as plt\n",
        "from google.colab import drive\n",
        "#drive.mount('/content/drive')\n",
        "\n",
        "data = pd.read_csv('Measurement_summary.csv')"
      ],
      "execution_count": 0,
      "outputs": [
        {
          "output_type": "stream",
          "text": [
            "Drive already mounted at /content/drive; to attempt to forcibly remount, call drive.mount(\"/content/drive\", force_remount=True).\n"
          ],
          "name": "stdout"
        }
      ]
    },
    {
      "cell_type": "code",
      "metadata": {
        "colab_type": "code",
        "id": "nZUi7009M9kN",
        "outputId": "8d927048-89a6-41b4-f267-a10c2c10b44c",
        "colab": {
          "base_uri": "https://localhost:8080/",
          "height": 363
        }
      },
      "source": [
        "\n",
        "data.head(10)"
      ],
      "execution_count": 0,
      "outputs": [
        {
          "output_type": "execute_result",
          "data": {
            "text/html": [
              "<div>\n",
              "<style scoped>\n",
              "    .dataframe tbody tr th:only-of-type {\n",
              "        vertical-align: middle;\n",
              "    }\n",
              "\n",
              "    .dataframe tbody tr th {\n",
              "        vertical-align: top;\n",
              "    }\n",
              "\n",
              "    .dataframe thead th {\n",
              "        text-align: right;\n",
              "    }\n",
              "</style>\n",
              "<table border=\"1\" class=\"dataframe\">\n",
              "  <thead>\n",
              "    <tr style=\"text-align: right;\">\n",
              "      <th></th>\n",
              "      <th>Measurement date</th>\n",
              "      <th>Station code</th>\n",
              "      <th>Address</th>\n",
              "      <th>Latitude</th>\n",
              "      <th>Longitude</th>\n",
              "      <th>SO2</th>\n",
              "      <th>NO2</th>\n",
              "      <th>O3</th>\n",
              "      <th>CO</th>\n",
              "      <th>PM10</th>\n",
              "      <th>PM2.5</th>\n",
              "    </tr>\n",
              "  </thead>\n",
              "  <tbody>\n",
              "    <tr>\n",
              "      <th>0</th>\n",
              "      <td>2017-01-01 00:00</td>\n",
              "      <td>101</td>\n",
              "      <td>19, Jong-ro 35ga-gil, Jongno-gu, Seoul, Republ...</td>\n",
              "      <td>37.572016</td>\n",
              "      <td>127.005007</td>\n",
              "      <td>0.004</td>\n",
              "      <td>0.059</td>\n",
              "      <td>0.002</td>\n",
              "      <td>1.2</td>\n",
              "      <td>73.0</td>\n",
              "      <td>57.0</td>\n",
              "    </tr>\n",
              "    <tr>\n",
              "      <th>1</th>\n",
              "      <td>2017-01-01 01:00</td>\n",
              "      <td>101</td>\n",
              "      <td>19, Jong-ro 35ga-gil, Jongno-gu, Seoul, Republ...</td>\n",
              "      <td>37.572016</td>\n",
              "      <td>127.005007</td>\n",
              "      <td>0.004</td>\n",
              "      <td>0.058</td>\n",
              "      <td>0.002</td>\n",
              "      <td>1.2</td>\n",
              "      <td>71.0</td>\n",
              "      <td>59.0</td>\n",
              "    </tr>\n",
              "    <tr>\n",
              "      <th>2</th>\n",
              "      <td>2017-01-01 02:00</td>\n",
              "      <td>101</td>\n",
              "      <td>19, Jong-ro 35ga-gil, Jongno-gu, Seoul, Republ...</td>\n",
              "      <td>37.572016</td>\n",
              "      <td>127.005007</td>\n",
              "      <td>0.004</td>\n",
              "      <td>0.056</td>\n",
              "      <td>0.002</td>\n",
              "      <td>1.2</td>\n",
              "      <td>70.0</td>\n",
              "      <td>59.0</td>\n",
              "    </tr>\n",
              "    <tr>\n",
              "      <th>3</th>\n",
              "      <td>2017-01-01 03:00</td>\n",
              "      <td>101</td>\n",
              "      <td>19, Jong-ro 35ga-gil, Jongno-gu, Seoul, Republ...</td>\n",
              "      <td>37.572016</td>\n",
              "      <td>127.005007</td>\n",
              "      <td>0.004</td>\n",
              "      <td>0.056</td>\n",
              "      <td>0.002</td>\n",
              "      <td>1.2</td>\n",
              "      <td>70.0</td>\n",
              "      <td>58.0</td>\n",
              "    </tr>\n",
              "    <tr>\n",
              "      <th>4</th>\n",
              "      <td>2017-01-01 04:00</td>\n",
              "      <td>101</td>\n",
              "      <td>19, Jong-ro 35ga-gil, Jongno-gu, Seoul, Republ...</td>\n",
              "      <td>37.572016</td>\n",
              "      <td>127.005007</td>\n",
              "      <td>0.003</td>\n",
              "      <td>0.051</td>\n",
              "      <td>0.002</td>\n",
              "      <td>1.2</td>\n",
              "      <td>69.0</td>\n",
              "      <td>61.0</td>\n",
              "    </tr>\n",
              "    <tr>\n",
              "      <th>5</th>\n",
              "      <td>2017-01-01 05:00</td>\n",
              "      <td>101</td>\n",
              "      <td>19, Jong-ro 35ga-gil, Jongno-gu, Seoul, Republ...</td>\n",
              "      <td>37.572016</td>\n",
              "      <td>127.005007</td>\n",
              "      <td>0.003</td>\n",
              "      <td>0.046</td>\n",
              "      <td>0.002</td>\n",
              "      <td>1.1</td>\n",
              "      <td>70.0</td>\n",
              "      <td>61.0</td>\n",
              "    </tr>\n",
              "    <tr>\n",
              "      <th>6</th>\n",
              "      <td>2017-01-01 06:00</td>\n",
              "      <td>101</td>\n",
              "      <td>19, Jong-ro 35ga-gil, Jongno-gu, Seoul, Republ...</td>\n",
              "      <td>37.572016</td>\n",
              "      <td>127.005007</td>\n",
              "      <td>0.003</td>\n",
              "      <td>0.049</td>\n",
              "      <td>0.002</td>\n",
              "      <td>1.1</td>\n",
              "      <td>66.0</td>\n",
              "      <td>57.0</td>\n",
              "    </tr>\n",
              "    <tr>\n",
              "      <th>7</th>\n",
              "      <td>2017-01-01 07:00</td>\n",
              "      <td>101</td>\n",
              "      <td>19, Jong-ro 35ga-gil, Jongno-gu, Seoul, Republ...</td>\n",
              "      <td>37.572016</td>\n",
              "      <td>127.005007</td>\n",
              "      <td>0.003</td>\n",
              "      <td>0.045</td>\n",
              "      <td>0.002</td>\n",
              "      <td>1.0</td>\n",
              "      <td>71.0</td>\n",
              "      <td>60.0</td>\n",
              "    </tr>\n",
              "    <tr>\n",
              "      <th>8</th>\n",
              "      <td>2017-01-01 08:00</td>\n",
              "      <td>101</td>\n",
              "      <td>19, Jong-ro 35ga-gil, Jongno-gu, Seoul, Republ...</td>\n",
              "      <td>37.572016</td>\n",
              "      <td>127.005007</td>\n",
              "      <td>0.004</td>\n",
              "      <td>0.047</td>\n",
              "      <td>0.002</td>\n",
              "      <td>1.1</td>\n",
              "      <td>72.0</td>\n",
              "      <td>60.0</td>\n",
              "    </tr>\n",
              "    <tr>\n",
              "      <th>9</th>\n",
              "      <td>2017-01-01 09:00</td>\n",
              "      <td>101</td>\n",
              "      <td>19, Jong-ro 35ga-gil, Jongno-gu, Seoul, Republ...</td>\n",
              "      <td>37.572016</td>\n",
              "      <td>127.005007</td>\n",
              "      <td>0.003</td>\n",
              "      <td>0.047</td>\n",
              "      <td>0.002</td>\n",
              "      <td>1.1</td>\n",
              "      <td>74.0</td>\n",
              "      <td>63.0</td>\n",
              "    </tr>\n",
              "  </tbody>\n",
              "</table>\n",
              "</div>"
            ],
            "text/plain": [
              "   Measurement date  Station code  ...  PM10  PM2.5\n",
              "0  2017-01-01 00:00           101  ...  73.0   57.0\n",
              "1  2017-01-01 01:00           101  ...  71.0   59.0\n",
              "2  2017-01-01 02:00           101  ...  70.0   59.0\n",
              "3  2017-01-01 03:00           101  ...  70.0   58.0\n",
              "4  2017-01-01 04:00           101  ...  69.0   61.0\n",
              "5  2017-01-01 05:00           101  ...  70.0   61.0\n",
              "6  2017-01-01 06:00           101  ...  66.0   57.0\n",
              "7  2017-01-01 07:00           101  ...  71.0   60.0\n",
              "8  2017-01-01 08:00           101  ...  72.0   60.0\n",
              "9  2017-01-01 09:00           101  ...  74.0   63.0\n",
              "\n",
              "[10 rows x 11 columns]"
            ]
          },
          "metadata": {
            "tags": []
          },
          "execution_count": 3
        }
      ]
    },
    {
      "cell_type": "code",
      "metadata": {
        "colab_type": "code",
        "id": "cFj-Od2FNYr7",
        "outputId": "b46c4ff2-7887-4451-9dad-28b4a3b0362c",
        "colab": {
          "base_uri": "https://localhost:8080/",
          "height": 35
        }
      },
      "source": [
        "df=data['CO']\n",
        "df=df.values\n",
        "df=df.reshape(df.shape[0],1)\n",
        "print(df.shape)"
      ],
      "execution_count": 0,
      "outputs": [
        {
          "output_type": "stream",
          "text": [
            "(647511, 1)\n"
          ],
          "name": "stdout"
        }
      ]
    },
    {
      "cell_type": "code",
      "metadata": {
        "colab_type": "code",
        "id": "rzYngv6_TPhh",
        "outputId": "e96f01f7-9e69-4f60-9946-52c42aac24c5",
        "colab": {
          "base_uri": "https://localhost:8080/",
          "height": 35
        }
      },
      "source": [
        "list_=[]\n",
        "for i in range (0,df.shape[0]):\n",
        "  list_.append(df[i][0])\n",
        "print(len(list_))"
      ],
      "execution_count": 0,
      "outputs": [
        {
          "output_type": "stream",
          "text": [
            "647511\n"
          ],
          "name": "stdout"
        }
      ]
    },
    {
      "cell_type": "code",
      "metadata": {
        "colab_type": "code",
        "id": "mFSUAFonN2ht",
        "outputId": "22b53b0e-df44-495d-e1db-262d1897ef4a",
        "colab": {
          "base_uri": "https://localhost:8080/",
          "height": 35
        }
      },
      "source": [
        "window_size=5\n",
        "y=[]\n",
        "for i in range (0,len(list_)-5):\n",
        "  x=list_[i:i+window_size]\n",
        "  y.append(x)\n",
        "print(len(y),y[0])\n"
      ],
      "execution_count": 0,
      "outputs": [
        {
          "output_type": "stream",
          "text": [
            "647506 [1.2, 1.2, 1.2, 1.2, 1.2]\n"
          ],
          "name": "stdout"
        }
      ]
    },
    {
      "cell_type": "code",
      "metadata": {
        "colab_type": "code",
        "id": "jOkLjiONN_dz",
        "outputId": "ec69e004-6b8b-4304-b729-a6dd7507e753",
        "colab": {
          "base_uri": "https://localhost:8080/",
          "height": 381
        }
      },
      "source": [
        "matrix=np.matrix(y)\n",
        "print(matrix.shape)\n",
        "new_data = pd.DataFrame(matrix,columns=['X1','X2','X3','X4','Y'])\n",
        "new_data.head(10)\n"
      ],
      "execution_count": 0,
      "outputs": [
        {
          "output_type": "stream",
          "text": [
            "(647506, 5)\n"
          ],
          "name": "stdout"
        },
        {
          "output_type": "execute_result",
          "data": {
            "text/html": [
              "<div>\n",
              "<style scoped>\n",
              "    .dataframe tbody tr th:only-of-type {\n",
              "        vertical-align: middle;\n",
              "    }\n",
              "\n",
              "    .dataframe tbody tr th {\n",
              "        vertical-align: top;\n",
              "    }\n",
              "\n",
              "    .dataframe thead th {\n",
              "        text-align: right;\n",
              "    }\n",
              "</style>\n",
              "<table border=\"1\" class=\"dataframe\">\n",
              "  <thead>\n",
              "    <tr style=\"text-align: right;\">\n",
              "      <th></th>\n",
              "      <th>X1</th>\n",
              "      <th>X2</th>\n",
              "      <th>X3</th>\n",
              "      <th>X4</th>\n",
              "      <th>Y</th>\n",
              "    </tr>\n",
              "  </thead>\n",
              "  <tbody>\n",
              "    <tr>\n",
              "      <th>0</th>\n",
              "      <td>1.2</td>\n",
              "      <td>1.2</td>\n",
              "      <td>1.2</td>\n",
              "      <td>1.2</td>\n",
              "      <td>1.2</td>\n",
              "    </tr>\n",
              "    <tr>\n",
              "      <th>1</th>\n",
              "      <td>1.2</td>\n",
              "      <td>1.2</td>\n",
              "      <td>1.2</td>\n",
              "      <td>1.2</td>\n",
              "      <td>1.1</td>\n",
              "    </tr>\n",
              "    <tr>\n",
              "      <th>2</th>\n",
              "      <td>1.2</td>\n",
              "      <td>1.2</td>\n",
              "      <td>1.2</td>\n",
              "      <td>1.1</td>\n",
              "      <td>1.1</td>\n",
              "    </tr>\n",
              "    <tr>\n",
              "      <th>3</th>\n",
              "      <td>1.2</td>\n",
              "      <td>1.2</td>\n",
              "      <td>1.1</td>\n",
              "      <td>1.1</td>\n",
              "      <td>1.0</td>\n",
              "    </tr>\n",
              "    <tr>\n",
              "      <th>4</th>\n",
              "      <td>1.2</td>\n",
              "      <td>1.1</td>\n",
              "      <td>1.1</td>\n",
              "      <td>1.0</td>\n",
              "      <td>1.1</td>\n",
              "    </tr>\n",
              "    <tr>\n",
              "      <th>5</th>\n",
              "      <td>1.1</td>\n",
              "      <td>1.1</td>\n",
              "      <td>1.0</td>\n",
              "      <td>1.1</td>\n",
              "      <td>1.1</td>\n",
              "    </tr>\n",
              "    <tr>\n",
              "      <th>6</th>\n",
              "      <td>1.1</td>\n",
              "      <td>1.0</td>\n",
              "      <td>1.1</td>\n",
              "      <td>1.1</td>\n",
              "      <td>1.0</td>\n",
              "    </tr>\n",
              "    <tr>\n",
              "      <th>7</th>\n",
              "      <td>1.0</td>\n",
              "      <td>1.1</td>\n",
              "      <td>1.1</td>\n",
              "      <td>1.0</td>\n",
              "      <td>1.0</td>\n",
              "    </tr>\n",
              "    <tr>\n",
              "      <th>8</th>\n",
              "      <td>1.1</td>\n",
              "      <td>1.1</td>\n",
              "      <td>1.0</td>\n",
              "      <td>1.0</td>\n",
              "      <td>1.0</td>\n",
              "    </tr>\n",
              "    <tr>\n",
              "      <th>9</th>\n",
              "      <td>1.1</td>\n",
              "      <td>1.0</td>\n",
              "      <td>1.0</td>\n",
              "      <td>1.0</td>\n",
              "      <td>1.0</td>\n",
              "    </tr>\n",
              "  </tbody>\n",
              "</table>\n",
              "</div>"
            ],
            "text/plain": [
              "    X1   X2   X3   X4    Y\n",
              "0  1.2  1.2  1.2  1.2  1.2\n",
              "1  1.2  1.2  1.2  1.2  1.1\n",
              "2  1.2  1.2  1.2  1.1  1.1\n",
              "3  1.2  1.2  1.1  1.1  1.0\n",
              "4  1.2  1.1  1.1  1.0  1.1\n",
              "5  1.1  1.1  1.0  1.1  1.1\n",
              "6  1.1  1.0  1.1  1.1  1.0\n",
              "7  1.0  1.1  1.1  1.0  1.0\n",
              "8  1.1  1.1  1.0  1.0  1.0\n",
              "9  1.1  1.0  1.0  1.0  1.0"
            ]
          },
          "metadata": {
            "tags": []
          },
          "execution_count": 7
        }
      ]
    },
    {
      "cell_type": "code",
      "metadata": {
        "colab_type": "code",
        "id": "rQivHZ8cpD6d",
        "colab": {}
      },
      "source": [
        "# NORMALISE the DATASET\n",
        "#from sklearn import preprocessing\n",
        "#scaler = preprocessing.MinMaxScaler()\n",
        "#matrix= scaler.fit_transform(matrix)\n",
        "#mm_scaler.transform(X_test)\n",
        "#new_data = pd.DataFrame(matrix,columns=['X1','X2','X3','X4','Y'])\n",
        "#new_data.head(10)"
      ],
      "execution_count": 0,
      "outputs": []
    },
    {
      "cell_type": "code",
      "metadata": {
        "colab_type": "code",
        "id": "0Z5frRmicq9M",
        "outputId": "b3e49ad4-6e6b-41b2-afeb-31fd62b687a1",
        "colab": {
          "base_uri": "https://localhost:8080/",
          "height": 146
        }
      },
      "source": [
        "print(matrix[:,4])"
      ],
      "execution_count": 0,
      "outputs": [
        {
          "output_type": "stream",
          "text": [
            "[[1.2]\n",
            " [1.1]\n",
            " [1.1]\n",
            " ...\n",
            " [0.4]\n",
            " [0.4]\n",
            " [0.5]]\n"
          ],
          "name": "stdout"
        }
      ]
    },
    {
      "cell_type": "code",
      "metadata": {
        "colab_type": "code",
        "id": "SG1fsHWxOPTk",
        "outputId": "882a1c99-bf4f-485c-fbf6-a2273f28a76b",
        "colab": {
          "base_uri": "https://localhost:8080/",
          "height": 109
        }
      },
      "source": [
        "from sklearn import linear_model\n",
        "from sklearn.model_selection import train_test_split\n",
        "from sklearn.metrics import r2_score\n",
        "from sklearn.metrics import mean_squared_error\n",
        "X_train, X_test, y_train, y_test = train_test_split(matrix[:,0:4],matrix[:,4],test_size=0.33, random_state=42)\n",
        "lm = linear_model.LinearRegression()\n",
        "model = lm.fit(X_train,y_train)\n",
        "prediction=model.predict(X_test)\n",
        "print(prediction.shape,prediction[0:5])"
      ],
      "execution_count": 0,
      "outputs": [
        {
          "output_type": "stream",
          "text": [
            "(213677, 1) [[0.42665281]\n",
            " [1.20499049]\n",
            " [0.28087356]\n",
            " [0.62227047]\n",
            " [0.65403799]]\n"
          ],
          "name": "stdout"
        }
      ]
    },
    {
      "cell_type": "code",
      "metadata": {
        "colab_type": "code",
        "id": "bye3z6vaOvbl",
        "outputId": "daf20564-05ae-430f-afd7-7b0f2831136b",
        "colab": {
          "base_uri": "https://localhost:8080/",
          "height": 72
        }
      },
      "source": [
        "print(model.score(X_train,y_train))\n",
        "print(model.intercept_)\n",
        "print(model.coef_)"
      ],
      "execution_count": 0,
      "outputs": [
        {
          "output_type": "stream",
          "text": [
            "0.4911305858162514\n",
            "[0.12347258]\n",
            "[[0.05730426 0.00080435 0.20145791 0.49838406]]\n"
          ],
          "name": "stdout"
        }
      ]
    },
    {
      "cell_type": "code",
      "metadata": {
        "colab_type": "code",
        "id": "K9AvmWqwO0h1",
        "outputId": "1a949b6f-08ce-4859-c3ad-23a52256d82a",
        "colab": {
          "base_uri": "https://localhost:8080/",
          "height": 54
        }
      },
      "source": [
        "print(mean_squared_error(y_test,prediction)**0.5)\n",
        "print(r2_score(y_test,prediction))"
      ],
      "execution_count": 0,
      "outputs": [
        {
          "output_type": "stream",
          "text": [
            "0.2876767143934835\n",
            "0.49932210907292984\n"
          ],
          "name": "stdout"
        }
      ]
    },
    {
      "cell_type": "code",
      "metadata": {
        "colab_type": "code",
        "id": "7ZFxbkZwIfsr",
        "outputId": "2b3844ea-51c4-4f54-b0f3-d7f77ca68812",
        "colab": {
          "base_uri": "https://localhost:8080/",
          "height": 281
        }
      },
      "source": [
        "plt.plot(y_test[0:100], color = 'black', label = 'TRUTH')\n",
        "plt.plot(prediction[0:100], color = 'green', label = 'PREDICTION')\n",
        "plt.title('Linear regression PERFORMANCE ON TEST SET')\n",
        "plt.ylabel('CO')\n",
        "plt.legend()\n",
        "plt.show()"
      ],
      "execution_count": 0,
      "outputs": [
        {
          "output_type": "display_data",
          "data": {
            "image/png": "[encoded data removed]",
            "text/plain": [
              "<Figure size 432x288 with 1 Axes>"
            ]
          },
          "metadata": {
            "tags": [],
            "needs_background": "light"
          }
        }
      ]
    },
    {
      "cell_type": "code",
      "metadata": {
        "colab_type": "code",
        "id": "hrZqAjEyGnIN",
        "outputId": "245df26b-70b4-44e9-bd18-176602223b57",
        "colab": {
          "base_uri": "https://localhost:8080/",
          "height": 110
        }
      },
      "source": [
        "# BAYESIAN RIDGE REGRESSION\n",
        "from sklearn import linear_model\n",
        "model = linear_model.BayesianRidge()\n",
        "model.fit(X_train,y_train)\n",
        "prediction=model.predict(X_test)\n",
        "print(mean_squared_error(y_test,prediction)**0.5)\n",
        "print(r2_score(y_test,prediction))"
      ],
      "execution_count": 0,
      "outputs": [
        {
          "output_type": "stream",
          "text": [
            "0.2876771177916154\n",
            "0.49932070490875957\n"
          ],
          "name": "stdout"
        },
        {
          "output_type": "stream",
          "text": [
            "/usr/local/lib/python3.6/dist-packages/sklearn/utils/validation.py:760: DataConversionWarning: A column-vector y was passed when a 1d array was expected. Please change the shape of y to (n_samples, ), for example using ravel().\n",
            "  y = column_or_1d(y, warn=True)\n"
          ],
          "name": "stderr"
        }
      ]
    },
    {
      "cell_type": "code",
      "metadata": {
        "colab_type": "code",
        "id": "crUrc4mjO8uL",
        "outputId": "ae1e7475-bce0-4ee7-d4f2-5dcc5f039d49",
        "colab": {
          "base_uri": "https://localhost:8080/",
          "height": 90
        }
      },
      "source": [
        "# IMLEMENTING  RANDOM FOREST ALGORITHM\n",
        "from sklearn.ensemble import RandomForestRegressor\n",
        "model= RandomForestRegressor(max_depth=2, random_state=0)\n",
        "model.fit(X_train,y_train)\n",
        "prediction=model.predict(X_test)\n",
        "print(mean_squared_error(y_test,prediction)**0.5)\n",
        "print(r2_score(y_test,prediction))"
      ],
      "execution_count": 0,
      "outputs": [
        {
          "output_type": "stream",
          "text": [
            "/usr/local/lib/python3.6/dist-packages/ipykernel_launcher.py:4: DataConversionWarning: A column-vector y was passed when a 1d array was expected. Please change the shape of y to (n_samples,), for example using ravel().\n",
            "  after removing the cwd from sys.path.\n"
          ],
          "name": "stderr"
        },
        {
          "output_type": "stream",
          "text": [
            "0.3326487835714897\n",
            "0.3305457953419919\n"
          ],
          "name": "stdout"
        }
      ]
    },
    {
      "cell_type": "code",
      "metadata": {
        "colab_type": "code",
        "id": "KAVNYF_yJXRN",
        "outputId": "a0c5b4f3-6e2c-4741-d019-9cc480c7a901",
        "colab": {
          "base_uri": "https://localhost:8080/",
          "height": 281
        }
      },
      "source": [
        "plt.plot(y_test[0:100], color = 'black', label = 'TRUTH')\n",
        "plt.plot(prediction[0:100], color = 'green', label = 'PREDICTION')\n",
        "plt.title('Random forest regression PERFORMANCE ON TEST SET')\n",
        "plt.ylabel('data = pd.read_csvCO')\n",
        "plt.legend()\n",
        "plt.show()"
      ],
      "execution_count": 0,
      "outputs": [
        {
          "output_type": "display_data",
          "data": {
            "image/png": "[encoded data removed]",
            "text/plain": [
              "<Figure size 432x288 with 1 Axes>"
            ]
          },
          "metadata": {
            "tags": [],
            "needs_background": "light"
          }
        }
      ]
    },
    {
      "cell_type": "code",
      "metadata": {
        "colab_type": "code",
        "id": "VIgDwl3FE5KL",
        "outputId": "29f179bc-0e4d-4ec1-8646-c56a33398696",
        "colab": {
          "base_uri": "https://localhost:8080/",
          "height": 54
        }
      },
      "source": [
        "# IMPLEMENTING LASSO REGRESSION\n",
        "from sklearn import linear_model\n",
        "model = linear_model.Lasso(alpha=0.1)\n",
        "model.fit(X_train,y_train)\n",
        "prediction=model.predict(X_test)\n",
        "print(mean_squared_error(y_test,prediction)**0.5)\n",
        "print(r2_score(y_test,prediction))"
      ],
      "execution_count": 0,
      "outputs": [
        {
          "output_type": "stream",
          "text": [
            "0.38596275683828135\n",
            "0.09876138004735135\n"
          ],
          "name": "stdout"
        }
      ]
    },
    {
      "cell_type": "code",
      "metadata": {
        "colab_type": "code",
        "id": "s9oOYdsvFVAz",
        "outputId": "de85f62c-eaf3-4fa8-b4d8-1784d3727631",
        "colab": {
          "base_uri": "https://localhost:8080/",
          "height": 54
        }
      },
      "source": [
        "# RIDGE REGRESSION\n",
        "from sklearn.linear_model import Ridge\n",
        "model = Ridge(alpha=1.0)\n",
        "model.fit(X_train,y_train)\n",
        "prediction=model.predict(X_test)\n",
        "print(mean_squared_error(y_test,prediction)**0.5)\n",
        "print(r2_score(y_test,prediction))\n"
      ],
      "execution_count": 0,
      "outputs": [
        {
          "output_type": "stream",
          "text": [
            "0.2876770680296813\n",
            "0.49932087812217407\n"
          ],
          "name": "stdout"
        }
      ]
    },
    {
      "cell_type": "code",
      "metadata": {
        "colab_type": "code",
        "id": "08afymABtSx4",
        "outputId": "51834051-0124-4ba9-b5a1-97b47dfbdbbf",
        "colab": {
          "base_uri": "https://localhost:8080/",
          "height": 147
        }
      },
      "source": [
        "# IMPLEMENTING SUPPORT VECTOR\n",
        "from sklearn.svm import LinearSVR\n",
        "model= LinearSVR()\n",
        "model.fit(X_train,y_train)\n",
        "prediction=model.predict(X_test)\n",
        "print(mean_squared_error(y_test,prediction)**0.5)\n",
        "print(r2_score(y_test,prediction))"
      ],
      "execution_count": 0,
      "outputs": [
        {
          "output_type": "stream",
          "text": [
            "/usr/local/lib/python3.6/dist-packages/sklearn/utils/validation.py:760: DataConversionWarning: A column-vector y was passed when a 1d array was expected. Please change the shape of y to (n_samples, ), for example using ravel().\n",
            "  y = column_or_1d(y, warn=True)\n"
          ],
          "name": "stderr"
        },
        {
          "output_type": "stream",
          "text": [
            "0.31490024139570083\n",
            "0.4000777334571637\n"
          ],
          "name": "stdout"
        },
        {
          "output_type": "stream",
          "text": [
            "/usr/local/lib/python3.6/dist-packages/sklearn/svm/_base.py:947: ConvergenceWarning: Liblinear failed to converge, increase the number of iterations.\n",
            "  \"the number of iterations.\", ConvergenceWarning)\n"
          ],
          "name": "stderr"
        }
      ]
    },
    {
      "cell_type": "code",
      "metadata": {
        "colab_type": "code",
        "id": "LFR-uIKhMIPs",
        "outputId": "90c57e4c-11af-4a05-8ee3-1132d1fc0a4e",
        "colab": {
          "base_uri": "https://localhost:8080/",
          "height": 281
        }
      },
      "source": [
        "plt.plot(y_test[0:100], color = 'black', label = 'TRUTH')\n",
        "plt.plot(prediction[0:100], color = 'green', label = 'PREDICTION')\n",
        "plt.title('SVM regression PERFORMANCE ON TEST SET')\n",
        "plt.ylabel('CO')\n",
        "plt.legend()\n",
        "plt.show()"
      ],
      "execution_count": 0,
      "outputs": [
        {
          "output_type": "display_data",
          "data": {
            "image/png": "[encoded data removed]",
            "text/plain": [
              "<Figure size 432x288 with 1 Axes>"
            ]
          },
          "metadata": {
            "tags": [],
            "needs_background": "light"
          }
        }
      ]
    },
    {
      "cell_type": "code",
      "metadata": {
        "colab_type": "code",
        "id": "tUpcjRA2hCQz",
        "outputId": "b5636344-9e21-40be-bb13-af77f613dab4",
        "colab": {
          "base_uri": "https://localhost:8080/",
          "height": 1000
        }
      },
      "source": [
        "# IMPLEMENTING A NEURAL NETWORK\n",
        "from sklearn.preprocessing import StandardScaler\n",
        "#sc = StandardScaler()\n",
        "#X = sc.fit_transform(X)\n",
        "import keras\n",
        "from keras.models import Sequential\n",
        "from keras.layers import Dense\n",
        "# Neural network\n",
        "model = Sequential()\n",
        "model.add(Dense(128, input_dim=4, activation='relu'))\n",
        "model.add(Dense(512, activation='relu'))\n",
        "model.add(Dense(1, activation='relu'))\n",
        "\n",
        "\n",
        "model.compile(optimizer = \"adam\", loss ='mse', \n",
        "          metrics =[\"accuracy\"])\n",
        "history = model.fit(X_train, y_train, epochs=50, batch_size=64)"
      ],
      "execution_count": 0,
      "outputs": [
        {
          "output_type": "stream",
          "text": [
            "Using TensorFlow backend.\n"
          ],
          "name": "stderr"
        },
        {
          "output_type": "stream",
          "text": [
            "Epoch 1/50\n",
            "433829/433829 [==============================] - 19s 45us/step - loss: 0.1061 - accuracy: 0.0263\n",
            "Epoch 2/50\n",
            "433829/433829 [==============================] - 18s 41us/step - loss: 0.1729 - accuracy: 0.0228\n",
            "Epoch 3/50\n",
            "433829/433829 [==============================] - 17s 40us/step - loss: 0.1163 - accuracy: 0.0253\n",
            "Epoch 4/50\n",
            "433829/433829 [==============================] - 18s 41us/step - loss: 0.1146 - accuracy: 0.0255\n",
            "Epoch 5/50\n",
            "433829/433829 [==============================] - 18s 41us/step - loss: 0.0866 - accuracy: 0.0266\n",
            "Epoch 6/50\n",
            "433829/433829 [==============================] - 18s 40us/step - loss: 0.2249 - accuracy: 0.0190\n",
            "Epoch 7/50\n",
            "433829/433829 [==============================] - 17s 39us/step - loss: 0.1188 - accuracy: 0.0249\n",
            "Epoch 8/50\n",
            "433829/433829 [==============================] - 17s 40us/step - loss: 0.0965 - accuracy: 0.0267\n",
            "Epoch 9/50\n",
            "433829/433829 [==============================] - 17s 40us/step - loss: 0.0864 - accuracy: 0.0266\n",
            "Epoch 10/50\n",
            "433829/433829 [==============================] - 18s 40us/step - loss: 0.0997 - accuracy: 0.0267\n",
            "Epoch 11/50\n",
            "433829/433829 [==============================] - 18s 42us/step - loss: 0.0915 - accuracy: 0.0259\n",
            "Epoch 12/50\n",
            "433829/433829 [==============================] - 18s 41us/step - loss: 0.0894 - accuracy: 0.0267\n",
            "Epoch 13/50\n",
            "433829/433829 [==============================] - 17s 40us/step - loss: 0.0924 - accuracy: 0.0267\n",
            "Epoch 14/50\n",
            "433829/433829 [==============================] - 18s 41us/step - loss: 0.0868 - accuracy: 0.0267\n",
            "Epoch 15/50\n",
            "433829/433829 [==============================] - 17s 40us/step - loss: 0.0851 - accuracy: 0.0267\n",
            "Epoch 16/50\n",
            "433829/433829 [==============================] - 17s 40us/step - loss: 0.0962 - accuracy: 0.0261\n",
            "Epoch 17/50\n",
            "433829/433829 [==============================] - 17s 40us/step - loss: 0.1586 - accuracy: 0.0226\n",
            "Epoch 18/50\n",
            "433829/433829 [==============================] - 17s 40us/step - loss: 0.0969 - accuracy: 0.0264\n",
            "Epoch 19/50\n",
            "433829/433829 [==============================] - 17s 39us/step - loss: 0.0825 - accuracy: 0.0267\n",
            "Epoch 20/50\n",
            "433829/433829 [==============================] - 17s 39us/step - loss: 0.0825 - accuracy: 0.0267\n",
            "Epoch 21/50\n",
            "433829/433829 [==============================] - 17s 39us/step - loss: 0.0798 - accuracy: 0.0268\n",
            "Epoch 22/50\n",
            "433829/433829 [==============================] - 17s 38us/step - loss: 0.0936 - accuracy: 0.0266\n",
            "Epoch 23/50\n",
            "433829/433829 [==============================] - 18s 41us/step - loss: 0.0907 - accuracy: 0.0268\n",
            "Epoch 24/50\n",
            "433829/433829 [==============================] - 18s 41us/step - loss: 0.0835 - accuracy: 0.0268\n",
            "Epoch 25/50\n",
            "433829/433829 [==============================] - 17s 40us/step - loss: 0.0841 - accuracy: 0.0268\n",
            "Epoch 26/50\n",
            "433829/433829 [==============================] - 17s 39us/step - loss: 0.1067 - accuracy: 0.0268\n",
            "Epoch 27/50\n",
            "433829/433829 [==============================] - 18s 41us/step - loss: 0.0821 - accuracy: 0.0268\n",
            "Epoch 28/50\n",
            "433829/433829 [==============================] - 17s 40us/step - loss: 0.0853 - accuracy: 0.0268\n",
            "Epoch 29/50\n",
            "433829/433829 [==============================] - 18s 40us/step - loss: 0.0796 - accuracy: 0.0268\n",
            "Epoch 30/50\n",
            "433829/433829 [==============================] - 17s 39us/step - loss: 0.0833 - accuracy: 0.0268\n",
            "Epoch 31/50\n",
            "433829/433829 [==============================] - 17s 39us/step - loss: 0.0755 - accuracy: 0.0268\n",
            "Epoch 32/50\n",
            "433829/433829 [==============================] - 18s 41us/step - loss: 0.0824 - accuracy: 0.0268\n",
            "Epoch 33/50\n",
            "433829/433829 [==============================] - 17s 40us/step - loss: 0.0868 - accuracy: 0.0268\n",
            "Epoch 34/50\n",
            "433829/433829 [==============================] - 17s 40us/step - loss: 0.0824 - accuracy: 0.0268\n",
            "Epoch 35/50\n",
            "433829/433829 [==============================] - 17s 40us/step - loss: 0.0837 - accuracy: 0.0268\n",
            "Epoch 36/50\n",
            "433829/433829 [==============================] - 17s 40us/step - loss: 0.0783 - accuracy: 0.0268\n",
            "Epoch 37/50\n",
            "433829/433829 [==============================] - 17s 40us/step - loss: 0.0816 - accuracy: 0.0268\n",
            "Epoch 38/50\n",
            "433829/433829 [==============================] - 17s 40us/step - loss: 0.0843 - accuracy: 0.0268\n",
            "Epoch 39/50\n",
            "433829/433829 [==============================] - 18s 40us/step - loss: 0.0829 - accuracy: 0.0268\n",
            "Epoch 40/50\n",
            "433829/433829 [==============================] - 18s 40us/step - loss: 0.0771 - accuracy: 0.0268\n",
            "Epoch 41/50\n",
            "433829/433829 [==============================] - 17s 40us/step - loss: 0.0934 - accuracy: 0.0268\n",
            "Epoch 42/50\n",
            "433829/433829 [==============================] - 17s 40us/step - loss: 0.0857 - accuracy: 0.0268\n",
            "Epoch 43/50\n",
            "433829/433829 [==============================] - 18s 40us/step - loss: 0.0874 - accuracy: 0.0268\n",
            "Epoch 44/50\n",
            "433829/433829 [==============================] - 18s 41us/step - loss: 0.0814 - accuracy: 0.0268\n",
            "Epoch 45/50\n",
            "433829/433829 [==============================] - 17s 39us/step - loss: 0.0799 - accuracy: 0.0268\n",
            "Epoch 46/50\n",
            "433829/433829 [==============================] - 17s 40us/step - loss: 0.0824 - accuracy: 0.0268\n",
            "Epoch 47/50\n",
            "433829/433829 [==============================] - 17s 39us/step - loss: 0.0809 - accuracy: 0.0268\n",
            "Epoch 48/50\n",
            "433829/433829 [==============================] - 18s 40us/step - loss: 0.0877 - accuracy: 0.0268\n",
            "Epoch 49/50\n",
            "433829/433829 [==============================] - 18s 41us/step - loss: 0.0802 - accuracy: 0.0268\n",
            "Epoch 50/50\n",
            "433829/433829 [==============================] - 17s 40us/step - loss: 0.0794 - accuracy: 0.0268\n"
          ],
          "name": "stdout"
        }
      ]
    },
    {
      "cell_type": "code",
      "metadata": {
        "colab_type": "code",
        "id": "txen3N-yvsAt",
        "outputId": "66c1a036-a4bf-4c39-bc26-8dc5de68d2f7",
        "colab": {
          "base_uri": "https://localhost:8080/",
          "height": 332
        }
      },
      "source": [
        "print(history.history.keys())\n",
        "# \"Loss\"\n",
        "plt.plot(history.history['loss'])\n",
        "plt.title('model loss')\n",
        "plt.ylabel('loss')\n",
        "plt.xlabel('epoch')\n",
        "plt.legend(['train'], loc='upper left')\n",
        "plt.show()\n",
        "y_pred = model.predict(X_test)\n",
        "print(mean_squared_error(y_test,y_pred)**0.5)\n",
        "#Converting predictions to label\n"
      ],
      "execution_count": 0,
      "outputs": [
        {
          "output_type": "stream",
          "text": [
            "dict_keys(['loss', 'accuracy'])\n"
          ],
          "name": "stdout"
        },
        {
          "output_type": "display_data",
          "data": {
            "image/png": "[encoded data removed]",
            "text/plain": [
              "<Figure size 432x288 with 1 Axes>"
            ]
          },
          "metadata": {
            "tags": [],
            "needs_background": "light"
          }
        },
        {
          "output_type": "stream",
          "text": [
            "0.29198498345756657\n"
          ],
          "name": "stdout"
        }
      ]
    },
    {
      "cell_type": "code",
      "metadata": {
        "colab_type": "code",
        "id": "TTfaJJDaHGg9",
        "outputId": "a11c1592-c012-4de6-8707-f74635a9d77e",
        "colab": {
          "base_uri": "https://localhost:8080/",
          "height": 182
        }
      },
      "source": [
        "print(X_train)\n",
        "X_train=np.asarray(X_train)\n",
        "X_test=np.asarray(X_test)\n",
        "y_train=np.asarray(y_train)\n",
        "y_test=np.asarray(y_test)\n",
        "\n",
        "print(X_train.shape)\n",
        "X_train=X_train.reshape(X_train.shape[0],X_train.shape[1],1)\n",
        "print(X_train.shape)"
      ],
      "execution_count": 0,
      "outputs": [
        {
          "output_type": "stream",
          "text": [
            "[[0.6 0.6 0.6 0.7]\n",
            " [0.4 0.5 0.5 0.4]\n",
            " [0.7 0.6 0.6 0.7]\n",
            " ...\n",
            " [0.3 0.3 0.4 0.4]\n",
            " [0.3 0.3 0.3 0.3]\n",
            " [0.5 0.5 0.5 0.5]]\n",
            "(433829, 4)\n",
            "(433829, 4, 1)\n"
          ],
          "name": "stdout"
        }
      ]
    },
    {
      "cell_type": "code",
      "metadata": {
        "colab_type": "code",
        "id": "FFUuCp8g1vzB",
        "outputId": "ba67886b-821a-4094-d08c-54ae241d9477",
        "colab": {
          "base_uri": "https://localhost:8080/",
          "height": 1000
        }
      },
      "source": [
        "from keras.models import Sequential\n",
        "from keras.layers import Dense\n",
        "from keras.layers import LSTM\n",
        "from keras.layers import Dropout\n",
        "regressor = Sequential()\n",
        "\n",
        "regressor.add(LSTM(units = 50, return_sequences = True, input_shape = (X_train.shape[1], 1)))\n",
        "regressor.add(Dropout(0.2))\n",
        "\n",
        "regressor.add(LSTM(units = 50, return_sequences = True))\n",
        "regressor.add(Dropout(0.2))\n",
        "\n",
        "regressor.add(LSTM(units = 50, return_sequences = True))\n",
        "regressor.add(Dropout(0.2))\n",
        "\n",
        "regressor.add(LSTM(units = 50))\n",
        "regressor.add(Dropout(0.2))\n",
        "\n",
        "regressor.add(Dense(units = 1))\n",
        "\n",
        "regressor.compile(optimizer = 'adam', loss = 'mean_squared_error')\n",
        "\n",
        "history = regressor.fit(X_train, y_train, epochs = 30, batch_size = 32)"
      ],
      "execution_count": 0,
      "outputs": [
        {
          "output_type": "stream",
          "text": [
            "Epoch 1/30\n",
            "433829/433829 [==============================] - 451s 1ms/step - loss: 0.0929\n",
            "Epoch 2/30\n",
            "433829/433829 [==============================] - 454s 1ms/step - loss: 0.0901\n",
            "Epoch 3/30\n",
            "433829/433829 [==============================] - 449s 1ms/step - loss: 0.0888\n",
            "Epoch 4/30\n",
            "433829/433829 [==============================] - 449s 1ms/step - loss: 0.0889\n",
            "Epoch 5/30\n",
            "433829/433829 [==============================] - 453s 1ms/step - loss: 0.0903\n",
            "Epoch 6/30\n",
            "433829/433829 [==============================] - 449s 1ms/step - loss: 0.0873\n",
            "Epoch 7/30\n",
            "433829/433829 [==============================] - 449s 1ms/step - loss: 0.0864\n",
            "Epoch 8/30\n",
            "433829/433829 [==============================] - 441s 1ms/step - loss: 0.0880\n",
            "Epoch 9/30\n",
            "433829/433829 [==============================] - 451s 1ms/step - loss: 0.0893\n",
            "Epoch 10/30\n",
            "433829/433829 [==============================] - 446s 1ms/step - loss: 0.0850\n",
            "Epoch 11/30\n",
            "433829/433829 [==============================] - 446s 1ms/step - loss: 0.0834\n",
            "Epoch 12/30\n",
            "433829/433829 [==============================] - 454s 1ms/step - loss: 0.0862\n",
            "Epoch 13/30\n",
            "433829/433829 [==============================] - 452s 1ms/step - loss: 0.0856\n",
            "Epoch 14/30\n",
            "433829/433829 [==============================] - 453s 1ms/step - loss: 0.0853\n",
            "Epoch 15/30\n",
            "433829/433829 [==============================] - 452s 1ms/step - loss: 0.0794\n",
            "Epoch 16/30\n",
            "433829/433829 [==============================] - 452s 1ms/step - loss: 0.0883\n",
            "Epoch 17/30\n",
            "433829/433829 [==============================] - 449s 1ms/step - loss: 0.0836\n",
            "Epoch 18/30\n",
            "433829/433829 [==============================] - 456s 1ms/step - loss: 0.0862\n",
            "Epoch 19/30\n",
            "433829/433829 [==============================] - 457s 1ms/step - loss: 0.0847\n",
            "Epoch 20/30\n",
            "433829/433829 [==============================] - 453s 1ms/step - loss: 0.0811\n",
            "Epoch 21/30\n",
            "433829/433829 [==============================] - 442s 1ms/step - loss: 0.0777\n",
            "Epoch 22/30\n",
            "433829/433829 [==============================] - 450s 1ms/step - loss: 0.0813\n",
            "Epoch 23/30\n",
            "433829/433829 [==============================] - 444s 1ms/step - loss: 0.0783\n",
            "Epoch 24/30\n",
            "433829/433829 [==============================] - 439s 1ms/step - loss: 0.0785\n",
            "Epoch 25/30\n",
            "433829/433829 [==============================] - 437s 1ms/step - loss: 0.0800\n",
            "Epoch 26/30\n",
            "433829/433829 [==============================] - 437s 1ms/step - loss: 0.0768\n",
            "Epoch 27/30\n",
            "433829/433829 [==============================] - 446s 1ms/step - loss: 0.0734\n",
            "Epoch 28/30\n",
            "433829/433829 [==============================] - 444s 1ms/step - loss: 0.0745\n",
            "Epoch 29/30\n",
            "433829/433829 [==============================] - 452s 1ms/step - loss: 0.0729\n",
            "Epoch 30/30\n",
            "433829/433829 [==============================] - 450s 1ms/step - loss: 0.0777\n"
          ],
          "name": "stdout"
        }
      ]
    },
    {
      "cell_type": "code",
      "metadata": {
        "colab_type": "code",
        "id": "GvEtr3IPv0Sh",
        "outputId": "e53f6acd-4674-4b57-b2da-0aefee281a3b",
        "colab": {
          "base_uri": "https://localhost:8080/",
          "height": 332
        }
      },
      "source": [
        "print(history.history.keys())\n",
        "# \"Loss\"\n",
        "plt.plot(history.history['loss'])\n",
        "plt.title('model loss')\n",
        "plt.ylabel('loss')\n",
        "plt.xlabel('epoch')\n",
        "plt.legend(['train'], loc='upper left')\n",
        "plt.show()\n",
        "X_test=X_test.reshape(X_test.shape[0],X_test.shape[1],1)\n",
        "y_pred = regressor.predict(X_test)\n",
        "print(mean_squared_error(y_test,y_pred)**0.5)"
      ],
      "execution_count": 0,
      "outputs": [
        {
          "output_type": "stream",
          "text": [
            "dict_keys(['loss'])\n"
          ],
          "name": "stdout"
        },
        {
          "output_type": "display_data",
          "data": {
            "image/png": "[encoded data removed]",
            "text/plain": [
              "<Figure size 432x288 with 1 Axes>"
            ]
          },
          "metadata": {
            "tags": [],
            "needs_background": "light"
          }
        },
        {
          "output_type": "stream",
          "text": [
            "0.2746532099289284\n"
          ],
          "name": "stdout"
        }
      ]
    },
    {
      "cell_type": "code",
      "metadata": {
        "colab_type": "code",
        "id": "64suBIQS8DmU",
        "outputId": "1b25bf74-08a8-430a-fc1d-5c80a0daa432",
        "colab": {
          "base_uri": "https://localhost:8080/",
          "height": 281
        }
      },
      "source": [
        "plt.plot(y_test[0:100], color = 'black', label = 'TRUTH')\n",
        "plt.plot(y_pred[0:100], color = 'green', label = 'PREDICTION')\n",
        "plt.title('LSTM PERFORMANCE ON TEST SET')\n",
        "plt.ylabel('CO')\n",
        "plt.legend()\n",
        "plt.show()"
      ],
      "execution_count": 0,
      "outputs": [
        {
          "output_type": "display_data",
          "data": {
            "image/png": "[encoded data removed]",
            "text/plain": [
              "<Figure size 432x288 with 1 Axes>"
            ]
          },
          "metadata": {
            "tags": [],
            "needs_background": "light"
          }
        }
      ]
    }
  ]
}