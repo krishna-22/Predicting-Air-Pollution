{
  "nbformat": 4,
  "nbformat_minor": 0,
  "metadata": {
    "colab": {
      "name": "Prediction_SO2_Station105.ipynb",
      "provenance": [],
      "collapsed_sections": []
    },
    "kernelspec": {
      "name": "python3",
      "display_name": "Python 3"
    },
    "accelerator": "GPU"
  },
  "cells": [
    {
      "cell_type": "code",
      "metadata": {
        "id": "PBbQmfZ-ELYM",
        "colab_type": "code",
        "colab": {}
      },
      "source": [
        ""
      ],
      "execution_count": 0,
      "outputs": []
    },
    {
      "cell_type": "code",
      "metadata": {
        "id": "r4m1QUD8Lt4y",
        "colab_type": "code",
        "colab": {}
      },
      "source": [
        "#!unzip air-pollution-in-seoul.zip"
      ],
      "execution_count": 0,
      "outputs": []
    },
    {
      "cell_type": "code",
      "metadata": {
        "id": "aLafiv1zMqa3",
        "colab_type": "code",
        "outputId": "c7af83c3-54dc-424c-a78e-f4033f938c42",
        "colab": {
          "base_uri": "https://localhost:8080/",
          "height": 35
        }
      },
      "source": [
        "import pandas as pd\n",
        "import numpy as np\n",
        "import pickle\n",
        "from sklearn.externals import joblib \n",
        "% matplotlib inline\n",
        "import matplotlib.pyplot as plt\n",
        "from google.colab import drive\n",
        "from google.colab import drive\n",
        "drive.mount('/content/drive')"
      ],
      "execution_count": 138,
      "outputs": [
        {
          "output_type": "stream",
          "text": [
            "Drive already mounted at /content/drive; to attempt to forcibly remount, call drive.mount(\"/content/drive\", force_remount=True).\n"
          ],
          "name": "stdout"
        }
      ]
    },
    {
      "cell_type": "code",
      "metadata": {
        "id": "nZUi7009M9kN",
        "colab_type": "code",
        "outputId": "bee057f1-db44-4ca7-d590-9366f02dc403",
        "colab": {
          "base_uri": "https://localhost:8080/",
          "height": 363
        }
      },
      "source": [
        "data = pd.read_csv('/content/drive/My Drive/Dataset/Measurement_summary.csv')\n",
        "data.head(10)"
      ],
      "execution_count": 139,
      "outputs": [
        {
          "output_type": "execute_result",
          "data": {
            "text/html": [
              "<div>\n",
              "<style scoped>\n",
              "    .dataframe tbody tr th:only-of-type {\n",
              "        vertical-align: middle;\n",
              "    }\n",
              "\n",
              "    .dataframe tbody tr th {\n",
              "        vertical-align: top;\n",
              "    }\n",
              "\n",
              "    .dataframe thead th {\n",
              "        text-align: right;\n",
              "    }\n",
              "</style>\n",
              "<table border=\"1\" class=\"dataframe\">\n",
              "  <thead>\n",
              "    <tr style=\"text-align: right;\">\n",
              "      <th></th>\n",
              "      <th>Measurement date</th>\n",
              "      <th>Station code</th>\n",
              "      <th>Address</th>\n",
              "      <th>Latitude</th>\n",
              "      <th>Longitude</th>\n",
              "      <th>SO2</th>\n",
              "      <th>NO2</th>\n",
              "      <th>O3</th>\n",
              "      <th>CO</th>\n",
              "      <th>PM10</th>\n",
              "      <th>PM2.5</th>\n",
              "    </tr>\n",
              "  </thead>\n",
              "  <tbody>\n",
              "    <tr>\n",
              "      <th>0</th>\n",
              "      <td>2017-01-01 00:00</td>\n",
              "      <td>101</td>\n",
              "      <td>19, Jong-ro 35ga-gil, Jongno-gu, Seoul, Republ...</td>\n",
              "      <td>37.572016</td>\n",
              "      <td>127.005007</td>\n",
              "      <td>0.004</td>\n",
              "      <td>0.059</td>\n",
              "      <td>0.002</td>\n",
              "      <td>1.2</td>\n",
              "      <td>73.0</td>\n",
              "      <td>57.0</td>\n",
              "    </tr>\n",
              "    <tr>\n",
              "      <th>1</th>\n",
              "      <td>2017-01-01 01:00</td>\n",
              "      <td>101</td>\n",
              "      <td>19, Jong-ro 35ga-gil, Jongno-gu, Seoul, Republ...</td>\n",
              "      <td>37.572016</td>\n",
              "      <td>127.005007</td>\n",
              "      <td>0.004</td>\n",
              "      <td>0.058</td>\n",
              "      <td>0.002</td>\n",
              "      <td>1.2</td>\n",
              "      <td>71.0</td>\n",
              "      <td>59.0</td>\n",
              "    </tr>\n",
              "    <tr>\n",
              "      <th>2</th>\n",
              "      <td>2017-01-01 02:00</td>\n",
              "      <td>101</td>\n",
              "      <td>19, Jong-ro 35ga-gil, Jongno-gu, Seoul, Republ...</td>\n",
              "      <td>37.572016</td>\n",
              "      <td>127.005007</td>\n",
              "      <td>0.004</td>\n",
              "      <td>0.056</td>\n",
              "      <td>0.002</td>\n",
              "      <td>1.2</td>\n",
              "      <td>70.0</td>\n",
              "      <td>59.0</td>\n",
              "    </tr>\n",
              "    <tr>\n",
              "      <th>3</th>\n",
              "      <td>2017-01-01 03:00</td>\n",
              "      <td>101</td>\n",
              "      <td>19, Jong-ro 35ga-gil, Jongno-gu, Seoul, Republ...</td>\n",
              "      <td>37.572016</td>\n",
              "      <td>127.005007</td>\n",
              "      <td>0.004</td>\n",
              "      <td>0.056</td>\n",
              "      <td>0.002</td>\n",
              "      <td>1.2</td>\n",
              "      <td>70.0</td>\n",
              "      <td>58.0</td>\n",
              "    </tr>\n",
              "    <tr>\n",
              "      <th>4</th>\n",
              "      <td>2017-01-01 04:00</td>\n",
              "      <td>101</td>\n",
              "      <td>19, Jong-ro 35ga-gil, Jongno-gu, Seoul, Republ...</td>\n",
              "      <td>37.572016</td>\n",
              "      <td>127.005007</td>\n",
              "      <td>0.003</td>\n",
              "      <td>0.051</td>\n",
              "      <td>0.002</td>\n",
              "      <td>1.2</td>\n",
              "      <td>69.0</td>\n",
              "      <td>61.0</td>\n",
              "    </tr>\n",
              "    <tr>\n",
              "      <th>5</th>\n",
              "      <td>2017-01-01 05:00</td>\n",
              "      <td>101</td>\n",
              "      <td>19, Jong-ro 35ga-gil, Jongno-gu, Seoul, Republ...</td>\n",
              "      <td>37.572016</td>\n",
              "      <td>127.005007</td>\n",
              "      <td>0.003</td>\n",
              "      <td>0.046</td>\n",
              "      <td>0.002</td>\n",
              "      <td>1.1</td>\n",
              "      <td>70.0</td>\n",
              "      <td>61.0</td>\n",
              "    </tr>\n",
              "    <tr>\n",
              "      <th>6</th>\n",
              "      <td>2017-01-01 06:00</td>\n",
              "      <td>101</td>\n",
              "      <td>19, Jong-ro 35ga-gil, Jongno-gu, Seoul, Republ...</td>\n",
              "      <td>37.572016</td>\n",
              "      <td>127.005007</td>\n",
              "      <td>0.003</td>\n",
              "      <td>0.049</td>\n",
              "      <td>0.002</td>\n",
              "      <td>1.1</td>\n",
              "      <td>66.0</td>\n",
              "      <td>57.0</td>\n",
              "    </tr>\n",
              "    <tr>\n",
              "      <th>7</th>\n",
              "      <td>2017-01-01 07:00</td>\n",
              "      <td>101</td>\n",
              "      <td>19, Jong-ro 35ga-gil, Jongno-gu, Seoul, Republ...</td>\n",
              "      <td>37.572016</td>\n",
              "      <td>127.005007</td>\n",
              "      <td>0.003</td>\n",
              "      <td>0.045</td>\n",
              "      <td>0.002</td>\n",
              "      <td>1.0</td>\n",
              "      <td>71.0</td>\n",
              "      <td>60.0</td>\n",
              "    </tr>\n",
              "    <tr>\n",
              "      <th>8</th>\n",
              "      <td>2017-01-01 08:00</td>\n",
              "      <td>101</td>\n",
              "      <td>19, Jong-ro 35ga-gil, Jongno-gu, Seoul, Republ...</td>\n",
              "      <td>37.572016</td>\n",
              "      <td>127.005007</td>\n",
              "      <td>0.004</td>\n",
              "      <td>0.047</td>\n",
              "      <td>0.002</td>\n",
              "      <td>1.1</td>\n",
              "      <td>72.0</td>\n",
              "      <td>60.0</td>\n",
              "    </tr>\n",
              "    <tr>\n",
              "      <th>9</th>\n",
              "      <td>2017-01-01 09:00</td>\n",
              "      <td>101</td>\n",
              "      <td>19, Jong-ro 35ga-gil, Jongno-gu, Seoul, Republ...</td>\n",
              "      <td>37.572016</td>\n",
              "      <td>127.005007</td>\n",
              "      <td>0.003</td>\n",
              "      <td>0.047</td>\n",
              "      <td>0.002</td>\n",
              "      <td>1.1</td>\n",
              "      <td>74.0</td>\n",
              "      <td>63.0</td>\n",
              "    </tr>\n",
              "  </tbody>\n",
              "</table>\n",
              "</div>"
            ],
            "text/plain": [
              "   Measurement date  Station code  ...  PM10  PM2.5\n",
              "0  2017-01-01 00:00           101  ...  73.0   57.0\n",
              "1  2017-01-01 01:00           101  ...  71.0   59.0\n",
              "2  2017-01-01 02:00           101  ...  70.0   59.0\n",
              "3  2017-01-01 03:00           101  ...  70.0   58.0\n",
              "4  2017-01-01 04:00           101  ...  69.0   61.0\n",
              "5  2017-01-01 05:00           101  ...  70.0   61.0\n",
              "6  2017-01-01 06:00           101  ...  66.0   57.0\n",
              "7  2017-01-01 07:00           101  ...  71.0   60.0\n",
              "8  2017-01-01 08:00           101  ...  72.0   60.0\n",
              "9  2017-01-01 09:00           101  ...  74.0   63.0\n",
              "\n",
              "[10 rows x 11 columns]"
            ]
          },
          "metadata": {
            "tags": []
          },
          "execution_count": 139
        }
      ]
    },
    {
      "cell_type": "code",
      "metadata": {
        "id": "cFj-Od2FNYr7",
        "colab_type": "code",
        "outputId": "29feb850-23d8-4cce-8685-8e3ae9e79305",
        "colab": {
          "base_uri": "https://localhost:8080/",
          "height": 274
        }
      },
      "source": [
        "# Retriving data for station code 105 for SO2\n",
        "data_105=data[(data['Station code']==105) & (data['SO2']>0)]\n",
        "print(len(data_105))\n",
        "print(data_105.head(10))"
      ],
      "execution_count": 140,
      "outputs": [
        {
          "output_type": "stream",
          "text": [
            "24762\n",
            "        Measurement date  Station code  ...  PM10  PM2.5\n",
            "103610  2017-01-01 00:00           105  ...  81.0   44.0\n",
            "103611  2017-01-01 01:00           105  ...  67.0   44.0\n",
            "103612  2017-01-01 02:00           105  ...  84.0   43.0\n",
            "103613  2017-01-01 03:00           105  ...  85.0   42.0\n",
            "103614  2017-01-01 04:00           105  ...  79.0   35.0\n",
            "103615  2017-01-01 05:00           105  ...  72.0   38.0\n",
            "103616  2017-01-01 06:00           105  ...  70.0   38.0\n",
            "103617  2017-01-01 07:00           105  ...  76.0   48.0\n",
            "103618  2017-01-01 08:00           105  ...  87.0   44.0\n",
            "103619  2017-01-01 09:00           105  ...  80.0   46.0\n",
            "\n",
            "[10 rows x 11 columns]\n"
          ],
          "name": "stdout"
        }
      ]
    },
    {
      "cell_type": "code",
      "metadata": {
        "id": "gWDS6JoqXlfP",
        "colab_type": "code",
        "outputId": "e138dd13-f1f7-4cdb-b65f-9594a6da8d98",
        "colab": {
          "base_uri": "https://localhost:8080/",
          "height": 297
        }
      },
      "source": [
        "import seaborn as sns\n",
        "sns.boxplot(data_105['SO2'])"
      ],
      "execution_count": 141,
      "outputs": [
        {
          "output_type": "execute_result",
          "data": {
            "text/plain": [
              "<matplotlib.axes._subplots.AxesSubplot at 0x7fb24efa7ef0>"
            ]
          },
          "metadata": {
            "tags": []
          },
          "execution_count": 141
        },
        {
          "output_type": "display_data",
          "data": {
            "image/png": "[encoded data removed]",
            "text/plain": [
              "<Figure size 432x288 with 1 Axes>"
            ]
          },
          "metadata": {
            "tags": [],
            "needs_background": "light"
          }
        }
      ]
    },
    {
      "cell_type": "code",
      "metadata": {
        "id": "EcgONzxKnL2u",
        "colab_type": "code",
        "outputId": "0c1ebacc-4534-4c3f-ee72-4179b1219880",
        "colab": {
          "base_uri": "https://localhost:8080/",
          "height": 316
        }
      },
      "source": [
        "from scipy import stats\n",
        "z = np.abs(stats.zscore(data_105['SO2']))\n",
        "threshold = 3\n",
        "#print(len(np.where(z > 3)))\n",
        "data_105_Rout = data_105[(z < 3)]\n",
        "print(len(data_105_Rout))\n",
        "sns.boxplot(data_105_Rout['SO2'])"
      ],
      "execution_count": 142,
      "outputs": [
        {
          "output_type": "stream",
          "text": [
            "24415\n"
          ],
          "name": "stdout"
        },
        {
          "output_type": "execute_result",
          "data": {
            "text/plain": [
              "<matplotlib.axes._subplots.AxesSubplot at 0x7fb248b8c9e8>"
            ]
          },
          "metadata": {
            "tags": []
          },
          "execution_count": 142
        },
        {
          "output_type": "display_data",
          "data": {
            "image/png": "[encoded data removed]",
            "text/plain": [
              "<Figure size 432x288 with 1 Axes>"
            ]
          },
          "metadata": {
            "tags": [],
            "needs_background": "light"
          }
        }
      ]
    },
    {
      "cell_type": "code",
      "metadata": {
        "id": "_LNanJd1a1_D",
        "colab_type": "code",
        "outputId": "d2920965-959d-4730-cca1-e3b702170316",
        "colab": {
          "base_uri": "https://localhost:8080/",
          "height": 35
        }
      },
      "source": [
        "df=data_105_Rout['SO2']\n",
        "df=df.values\n",
        "df=df.reshape(df.shape[0],1)\n",
        "print(df.shape)"
      ],
      "execution_count": 143,
      "outputs": [
        {
          "output_type": "stream",
          "text": [
            "(24415, 1)\n"
          ],
          "name": "stdout"
        }
      ]
    },
    {
      "cell_type": "code",
      "metadata": {
        "id": "rzYngv6_TPhh",
        "colab_type": "code",
        "outputId": "9a7618e0-c9b8-48fd-f2e0-b4e01331da5d",
        "colab": {
          "base_uri": "https://localhost:8080/",
          "height": 72
        }
      },
      "source": [
        "from sklearn import preprocessing\n",
        "min_max_scaler = preprocessing.MinMaxScaler()\n",
        "df_scaled = min_max_scaler.fit_transform(df)\n",
        "print(min(df),max(df))\n",
        "list_=[]\n",
        "for i in range (0,df_scaled.shape[0]):\n",
        "  list_.append(df_scaled[i][0])\n",
        "print(len(list_))\n",
        "print(min(list_),max(list_))\n"
      ],
      "execution_count": 144,
      "outputs": [
        {
          "output_type": "stream",
          "text": [
            "[0.001] [0.01]\n",
            "24415\n",
            "0.0 0.9999999999999998\n"
          ],
          "name": "stdout"
        }
      ]
    },
    {
      "cell_type": "code",
      "metadata": {
        "id": "mFSUAFonN2ht",
        "colab_type": "code",
        "outputId": "e7a73c8b-671e-4b89-f98b-10e89b8debc4",
        "colab": {
          "base_uri": "https://localhost:8080/",
          "height": 35
        }
      },
      "source": [
        "window_size=5\n",
        "y=[]\n",
        "for i in range (0,len(list_)-window_size):\n",
        "  x=list_[i:i+window_size]\n",
        "  y.append(x)\n",
        "print(len(y),y[0])\n"
      ],
      "execution_count": 145,
      "outputs": [
        {
          "output_type": "stream",
          "text": [
            "24410 [0.44444444444444436, 0.44444444444444436, 0.3333333333333333, 0.44444444444444436, 0.3333333333333333]\n"
          ],
          "name": "stdout"
        }
      ]
    },
    {
      "cell_type": "code",
      "metadata": {
        "id": "jOkLjiONN_dz",
        "colab_type": "code",
        "outputId": "9d3b1b66-26db-40d8-a5de-4d43c6e36c2e",
        "colab": {
          "base_uri": "https://localhost:8080/",
          "height": 381
        }
      },
      "source": [
        "matrix=np.matrix(y)\n",
        "print(matrix.shape)\n",
        "new_data = pd.DataFrame(matrix,columns=['x1','x2','x3','x4','y'])\n",
        "new_data.head(10)\n"
      ],
      "execution_count": 146,
      "outputs": [
        {
          "output_type": "stream",
          "text": [
            "(24410, 5)\n"
          ],
          "name": "stdout"
        },
        {
          "output_type": "execute_result",
          "data": {
            "text/html": [
              "<div>\n",
              "<style scoped>\n",
              "    .dataframe tbody tr th:only-of-type {\n",
              "        vertical-align: middle;\n",
              "    }\n",
              "\n",
              "    .dataframe tbody tr th {\n",
              "        vertical-align: top;\n",
              "    }\n",
              "\n",
              "    .dataframe thead th {\n",
              "        text-align: right;\n",
              "    }\n",
              "</style>\n",
              "<table border=\"1\" class=\"dataframe\">\n",
              "  <thead>\n",
              "    <tr style=\"text-align: right;\">\n",
              "      <th></th>\n",
              "      <th>x1</th>\n",
              "      <th>x2</th>\n",
              "      <th>x3</th>\n",
              "      <th>x4</th>\n",
              "      <th>y</th>\n",
              "    </tr>\n",
              "  </thead>\n",
              "  <tbody>\n",
              "    <tr>\n",
              "      <th>0</th>\n",
              "      <td>0.444444</td>\n",
              "      <td>0.444444</td>\n",
              "      <td>0.333333</td>\n",
              "      <td>0.444444</td>\n",
              "      <td>0.333333</td>\n",
              "    </tr>\n",
              "    <tr>\n",
              "      <th>1</th>\n",
              "      <td>0.444444</td>\n",
              "      <td>0.333333</td>\n",
              "      <td>0.444444</td>\n",
              "      <td>0.333333</td>\n",
              "      <td>0.333333</td>\n",
              "    </tr>\n",
              "    <tr>\n",
              "      <th>2</th>\n",
              "      <td>0.333333</td>\n",
              "      <td>0.444444</td>\n",
              "      <td>0.333333</td>\n",
              "      <td>0.333333</td>\n",
              "      <td>0.333333</td>\n",
              "    </tr>\n",
              "    <tr>\n",
              "      <th>3</th>\n",
              "      <td>0.444444</td>\n",
              "      <td>0.333333</td>\n",
              "      <td>0.333333</td>\n",
              "      <td>0.333333</td>\n",
              "      <td>0.444444</td>\n",
              "    </tr>\n",
              "    <tr>\n",
              "      <th>4</th>\n",
              "      <td>0.333333</td>\n",
              "      <td>0.333333</td>\n",
              "      <td>0.333333</td>\n",
              "      <td>0.444444</td>\n",
              "      <td>0.444444</td>\n",
              "    </tr>\n",
              "    <tr>\n",
              "      <th>5</th>\n",
              "      <td>0.333333</td>\n",
              "      <td>0.333333</td>\n",
              "      <td>0.444444</td>\n",
              "      <td>0.444444</td>\n",
              "      <td>0.444444</td>\n",
              "    </tr>\n",
              "    <tr>\n",
              "      <th>6</th>\n",
              "      <td>0.333333</td>\n",
              "      <td>0.444444</td>\n",
              "      <td>0.444444</td>\n",
              "      <td>0.444444</td>\n",
              "      <td>0.444444</td>\n",
              "    </tr>\n",
              "    <tr>\n",
              "      <th>7</th>\n",
              "      <td>0.444444</td>\n",
              "      <td>0.444444</td>\n",
              "      <td>0.444444</td>\n",
              "      <td>0.444444</td>\n",
              "      <td>0.555556</td>\n",
              "    </tr>\n",
              "    <tr>\n",
              "      <th>8</th>\n",
              "      <td>0.444444</td>\n",
              "      <td>0.444444</td>\n",
              "      <td>0.444444</td>\n",
              "      <td>0.555556</td>\n",
              "      <td>0.555556</td>\n",
              "    </tr>\n",
              "    <tr>\n",
              "      <th>9</th>\n",
              "      <td>0.444444</td>\n",
              "      <td>0.444444</td>\n",
              "      <td>0.555556</td>\n",
              "      <td>0.555556</td>\n",
              "      <td>0.666667</td>\n",
              "    </tr>\n",
              "  </tbody>\n",
              "</table>\n",
              "</div>"
            ],
            "text/plain": [
              "         x1        x2        x3        x4         y\n",
              "0  0.444444  0.444444  0.333333  0.444444  0.333333\n",
              "1  0.444444  0.333333  0.444444  0.333333  0.333333\n",
              "2  0.333333  0.444444  0.333333  0.333333  0.333333\n",
              "3  0.444444  0.333333  0.333333  0.333333  0.444444\n",
              "4  0.333333  0.333333  0.333333  0.444444  0.444444\n",
              "5  0.333333  0.333333  0.444444  0.444444  0.444444\n",
              "6  0.333333  0.444444  0.444444  0.444444  0.444444\n",
              "7  0.444444  0.444444  0.444444  0.444444  0.555556\n",
              "8  0.444444  0.444444  0.444444  0.555556  0.555556\n",
              "9  0.444444  0.444444  0.555556  0.555556  0.666667"
            ]
          },
          "metadata": {
            "tags": []
          },
          "execution_count": 146
        }
      ]
    },
    {
      "cell_type": "code",
      "metadata": {
        "id": "0Z5frRmicq9M",
        "colab_type": "code",
        "outputId": "612f0b00-df16-4815-9734-693ee5a95020",
        "colab": {
          "base_uri": "https://localhost:8080/",
          "height": 146
        }
      },
      "source": [
        "print(matrix[:,4])"
      ],
      "execution_count": 147,
      "outputs": [
        {
          "output_type": "stream",
          "text": [
            "[[0.33333333]\n",
            " [0.33333333]\n",
            " [0.33333333]\n",
            " ...\n",
            " [0.22222222]\n",
            " [0.44444444]\n",
            " [0.44444444]]\n"
          ],
          "name": "stdout"
        }
      ]
    },
    {
      "cell_type": "code",
      "metadata": {
        "id": "SG1fsHWxOPTk",
        "colab_type": "code",
        "outputId": "953b2143-8715-4ea5-97e1-cd891e24bdde",
        "colab": {
          "base_uri": "https://localhost:8080/",
          "height": 109
        }
      },
      "source": [
        "from sklearn import linear_model\n",
        "from sklearn.model_selection import train_test_split\n",
        "from sklearn.metrics import r2_score\n",
        "from sklearn.metrics import mean_squared_error\n",
        "X_train, X_test, y_train, y_test = train_test_split(matrix[:,0:4],matrix[:,4],test_size=0.33, random_state=42)\n",
        "lm =linear_model.LinearRegression()\n",
        "model = lm.fit(X_train,y_train)\n",
        "prediction=model.predict(X_test)\n",
        "joblib.dump(model,'linear_regressor_Rout.pkl')\n",
        "from google.colab import files\n",
        "files.download('linear_regressor_Rout.pkl')\n",
        "print(prediction.shape,prediction[0:5])"
      ],
      "execution_count": 148,
      "outputs": [
        {
          "output_type": "stream",
          "text": [
            "(8056, 1) [[0.23158432]\n",
            " [0.34138801]\n",
            " [0.44091259]\n",
            " [0.22853715]\n",
            " [0.42651832]]\n"
          ],
          "name": "stdout"
        }
      ]
    },
    {
      "cell_type": "code",
      "metadata": {
        "id": "bye3z6vaOvbl",
        "colab_type": "code",
        "outputId": "1dab43ce-14c3-4be6-aeeb-d94ea39f51e4",
        "colab": {
          "base_uri": "https://localhost:8080/",
          "height": 72
        }
      },
      "source": [
        "print(model.score(X_train,y_train))\n",
        "print(model.intercept_)\n",
        "print(model.coef_)"
      ],
      "execution_count": 149,
      "outputs": [
        {
          "output_type": "stream",
          "text": [
            "0.847876573254357\n",
            "[0.02530321]\n",
            "[[ 0.02742453  0.03254375 -0.01781267  0.88610936]]\n"
          ],
          "name": "stdout"
        }
      ]
    },
    {
      "cell_type": "code",
      "metadata": {
        "id": "K9AvmWqwO0h1",
        "colab_type": "code",
        "outputId": "860102ea-4558-423d-8fd6-8cec792742b7",
        "colab": {
          "base_uri": "https://localhost:8080/",
          "height": 72
        }
      },
      "source": [
        "print('mean squared eror : ',mean_squared_error(y_test,prediction))\n",
        "from sklearn.metrics import mean_absolute_error\n",
        "print('absolute mean error : ', mean_absolute_error(y_test,prediction))\n",
        "print(r2_score(y_test,prediction))"
      ],
      "execution_count": 150,
      "outputs": [
        {
          "output_type": "stream",
          "text": [
            "mean squared eror :  0.005759363953949591\n",
            "absolute mean error :  0.04351902535341891\n",
            "0.8498547293486166\n"
          ],
          "name": "stdout"
        }
      ]
    },
    {
      "cell_type": "code",
      "metadata": {
        "id": "7ZFxbkZwIfsr",
        "colab_type": "code",
        "outputId": "2da9185b-9577-4acd-f493-c03d2701d523",
        "colab": {
          "base_uri": "https://localhost:8080/",
          "height": 281
        }
      },
      "source": [
        "plt.plot(y_test[0:100], color = 'black', label = 'TRUTH')\n",
        "plt.plot(prediction[0:100], color = 'green', label = 'PREDICTION')\n",
        "plt.title('Linear regression PERFORMANCE ON TEST SET after removing outliers')\n",
        "plt.ylabel('SO2')\n",
        "plt.legend()\n",
        "plt.show()"
      ],
      "execution_count": 151,
      "outputs": [
        {
          "output_type": "display_data",
          "data": {
            "image/png": "[encoded data removed]",
            "text/plain": [
              "<Figure size 432x288 with 1 Axes>"
            ]
          },
          "metadata": {
            "tags": [],
            "needs_background": "light"
          }
        }
      ]
    },
    {
      "cell_type": "code",
      "metadata": {
        "id": "J3NSycPY02mb",
        "colab_type": "code",
        "outputId": "b0da8325-6333-476c-ecbf-385bf4e6de95",
        "colab": {
          "base_uri": "https://localhost:8080/",
          "height": 520
        }
      },
      "source": [
        "# IMPLEMENTING LINEAR REGRESSION WITHOUT REMOVING OUTLIERS\n",
        "df=data_105['SO2']\n",
        "df=df.values\n",
        "df=df.reshape(df.shape[0],1)\n",
        "print(df.shape)\n",
        "from sklearn import preprocessing\n",
        "min_max_scaler = preprocessing.MinMaxScaler()\n",
        "df_scaled = min_max_scaler.fit_transform(df)\n",
        "print(min(df),max(df))\n",
        "list_=[]\n",
        "for i in range (0,df_scaled.shape[0]):\n",
        "  list_.append(df_scaled[i][0])\n",
        "print(len(list_))\n",
        "print(min(list_),max(list_))\n",
        "window_size=5\n",
        "y=[]\n",
        "for i in range (0,len(list_)-window_size):\n",
        "  x=list_[i:i+window_size]\n",
        "  y.append(x)\n",
        "print(len(y),y[0])\n",
        "matrix= np.matrix(y)\n",
        "from sklearn import linear_model\n",
        "from sklearn.model_selection import train_test_split\n",
        "from sklearn.metrics import r2_score\n",
        "from sklearn.metrics import mean_squared_error\n",
        "X_train, X_test, y_train, y_test = train_test_split(matrix[:,0:4],matrix[:,4],test_size=0.33, random_state=42)\n",
        "lm =linear_model.LinearRegression()\n",
        "model = lm.fit(X_train,y_train)\n",
        "prediction=model.predict(X_test)\n",
        "joblib.dump(model,'linear_regressor.pkl')\n",
        "from google.colab import files\n",
        "files.download('linear_regressor.pkl')\n",
        "print(prediction.shape,prediction[0:5])\n",
        "print('mean squared eror : ',mean_squared_error(y_test,prediction))\n",
        "from sklearn.metrics import mean_absolute_error\n",
        "print('absolute mean error : ', mean_absolute_error(y_test,prediction))\n",
        "print(r2_score(y_test,prediction))\n",
        "plt.plot(y_test[0:100], color = 'black', label = 'TRUTH')\n",
        "plt.plot(prediction[0:100], color = 'green', label = 'PREDICTION')\n",
        "plt.title('Linear regression PERFORMANCE ON TEST SET')\n",
        "plt.ylabel('SO2')\n",
        "plt.legend()\n",
        "plt.show()"
      ],
      "execution_count": 152,
      "outputs": [
        {
          "output_type": "stream",
          "text": [
            "(24762, 1)\n",
            "[0.001] [0.027]\n",
            "24762\n",
            "0.0 1.0\n",
            "24757 [0.15384615384615383, 0.15384615384615383, 0.11538461538461539, 0.15384615384615383, 0.11538461538461539]\n",
            "(8170, 1) [[0.15318707]\n",
            " [0.08179301]\n",
            " [0.15205122]\n",
            " [0.08248741]\n",
            " [0.04581202]]\n",
            "mean squared eror :  0.0009320883334852377\n",
            "absolute mean error :  0.01670694059862712\n",
            "0.8441115111450521\n"
          ],
          "name": "stdout"
        },
        {
          "output_type": "display_data",
          "data": {
            "image/png": "[encoded data removed]",
            "text/plain": [
              "<Figure size 432x288 with 1 Axes>"
            ]
          },
          "metadata": {
            "tags": [],
            "needs_background": "light"
          }
        }
      ]
    },
    {
      "cell_type": "code",
      "metadata": {
        "id": "hrZqAjEyGnIN",
        "colab_type": "code",
        "outputId": "d0003fdc-765c-4b0c-fd19-422c03b19d5c",
        "colab": {
          "base_uri": "https://localhost:8080/",
          "height": 129
        }
      },
      "source": [
        "# BAYESIAN RIDGE REGRESSION\n",
        "from sklearn import linear_model\n",
        "from statsmodels.tsa.ar_model import AR\n",
        "model = linear_model.BayesianRidge()\n",
        "\n",
        "model.fit(X_train,y_train )\n",
        "prediction=model.predict(X_test)\n",
        "joblib.dump(model,'bayesian_regressor.pkl')\n",
        "from google.colab import files\n",
        "files.download('bayesian_regressor.pkl')\n",
        "print('mean squared eror : ',mean_squared_error(y_test,prediction))\n",
        "from sklearn.metrics import mean_absolute_error\n",
        "print('absolute mean error : ', mean_absolute_error(y_test,prediction))\n",
        "\n",
        "print(r2_score(y_test,prediction))"
      ],
      "execution_count": 153,
      "outputs": [
        {
          "output_type": "stream",
          "text": [
            "/usr/local/lib/python3.6/dist-packages/sklearn/utils/validation.py:760: DataConversionWarning: A column-vector y was passed when a 1d array was expected. Please change the shape of y to (n_samples, ), for example using ravel().\n",
            "  y = column_or_1d(y, warn=True)\n"
          ],
          "name": "stderr"
        },
        {
          "output_type": "stream",
          "text": [
            "mean squared eror :  0.0009320721237562257\n",
            "absolute mean error :  0.016707312407964872\n",
            "0.8441142221651021\n"
          ],
          "name": "stdout"
        }
      ]
    },
    {
      "cell_type": "code",
      "metadata": {
        "id": "crUrc4mjO8uL",
        "colab_type": "code",
        "outputId": "e85c1ae0-052e-4783-bfd4-89b0d7efe7ca",
        "colab": {
          "base_uri": "https://localhost:8080/",
          "height": 109
        }
      },
      "source": [
        "# IMLEMENTING  RANDOM FOREST ALGORITHM\n",
        "from sklearn.ensemble import RandomForestRegressor\n",
        "model= RandomForestRegressor(max_depth=8, random_state=0)\n",
        "model.fit(X_train,y_train)\n",
        "prediction=model.predict(X_test)\n",
        "joblib.dump(model,'randomforest_regressor.pkl')\n",
        "print('mean squared eror : ',mean_squared_error(y_test,prediction))\n",
        "from sklearn.metrics import mean_absolute_error\n",
        "print('absolute mean error : ', mean_absolute_error(y_test,prediction))\n",
        "print(r2_score(y_test,prediction))"
      ],
      "execution_count": 154,
      "outputs": [
        {
          "output_type": "stream",
          "text": [
            "/usr/local/lib/python3.6/dist-packages/ipykernel_launcher.py:4: DataConversionWarning: A column-vector y was passed when a 1d array was expected. Please change the shape of y to (n_samples,), for example using ravel().\n",
            "  after removing the cwd from sys.path.\n"
          ],
          "name": "stderr"
        },
        {
          "output_type": "stream",
          "text": [
            "mean squared eror :  0.0009358653440628966\n",
            "absolute mean error :  0.016026830435981215\n",
            "0.8434798194371012\n"
          ],
          "name": "stdout"
        }
      ]
    },
    {
      "cell_type": "code",
      "metadata": {
        "id": "KAVNYF_yJXRN",
        "colab_type": "code",
        "outputId": "e1a69886-bb55-41c4-8ccd-5261aea65973",
        "colab": {
          "base_uri": "https://localhost:8080/",
          "height": 501
        }
      },
      "source": [
        "plt.plot(y_test[0:100], color = 'black', label = 'TRUTH')\n",
        "plt.plot(prediction[0:100], color = 'green', label = 'PREDICTION')\n",
        "plt.title('Random forest regression PERFORMANCE ON TEST SET')\n",
        "plt.ylabel('SO2')\n",
        "plt.legend()\n",
        "plt.show()\n",
        "print('truth : ',y_test[0:10])\n",
        "print('prediction : ',prediction[0:10])"
      ],
      "execution_count": 155,
      "outputs": [
        {
          "output_type": "display_data",
          "data": {
            "image/png": "[encoded data removed]",
            "text/plain": [
              "<Figure size 432x288 with 1 Axes>"
            ]
          },
          "metadata": {
            "tags": [],
            "needs_background": "light"
          }
        },
        {
          "output_type": "stream",
          "text": [
            "truth :  [[0.11538462]\n",
            " [0.07692308]\n",
            " [0.15384615]\n",
            " [0.07692308]\n",
            " [0.03846154]\n",
            " [0.15384615]\n",
            " [0.19230769]\n",
            " [0.15384615]\n",
            " [0.11538462]\n",
            " [0.07692308]]\n",
            "prediction :  [0.1588318  0.08019888 0.15454175 0.07049334 0.04139434 0.15354434\n",
            " 0.1173212  0.15306289 0.11754218 0.07862515]\n"
          ],
          "name": "stdout"
        }
      ]
    },
    {
      "cell_type": "code",
      "metadata": {
        "id": "s9oOYdsvFVAz",
        "colab_type": "code",
        "outputId": "c82c9402-7cfa-4630-d0b2-b493fe8376f2",
        "colab": {
          "base_uri": "https://localhost:8080/",
          "height": 72
        }
      },
      "source": [
        "# RIDGE REGRESSION\n",
        "from sklearn.linear_model import Ridge\n",
        "model = Ridge(alpha=1.0)\n",
        "model.fit(X_train,y_train)\n",
        "prediction=model.predict(X_test)\n",
        "joblib.dump(model,'ridge_regressor.pkl')\n",
        "from google.colab import files\n",
        "files.download('ridge_regressor.pkl')\n",
        "print(mean_squared_error(y_test,prediction))\n",
        "print(mean_absolute_error(y_test,prediction))\n",
        "print(r2_score(y_test,prediction))\n"
      ],
      "execution_count": 156,
      "outputs": [
        {
          "output_type": "stream",
          "text": [
            "0.0009319555599856062\n",
            "0.01684411804175467\n",
            "0.8441337170449373\n"
          ],
          "name": "stdout"
        }
      ]
    },
    {
      "cell_type": "code",
      "metadata": {
        "id": "08afymABtSx4",
        "colab_type": "code",
        "outputId": "846ee6d7-48c3-41ed-b871-cdb3875d0c66",
        "colab": {
          "base_uri": "https://localhost:8080/",
          "height": 129
        }
      },
      "source": [
        "# IMPLEMENTING SUPPORT VECTOR\n",
        "from sklearn.svm import LinearSVR\n",
        "model= LinearSVR()\n",
        "model.fit(X_train,y_train)\n",
        "prediction=model.predict(X_test)\n",
        "print('mean squared eror : ',mean_squared_error(y_test,prediction))\n",
        "from sklearn.metrics import mean_absolute_error\n",
        "print('absolute mean error : ', mean_absolute_error(y_test,prediction))\n",
        "print(r2_score(y_test,prediction))"
      ],
      "execution_count": 157,
      "outputs": [
        {
          "output_type": "stream",
          "text": [
            "mean squared eror :  0.0009715875756923175\n",
            "absolute mean error :  0.014207719601369543\n",
            "0.8375054020914677\n"
          ],
          "name": "stdout"
        },
        {
          "output_type": "stream",
          "text": [
            "/usr/local/lib/python3.6/dist-packages/sklearn/utils/validation.py:760: DataConversionWarning: A column-vector y was passed when a 1d array was expected. Please change the shape of y to (n_samples, ), for example using ravel().\n",
            "  y = column_or_1d(y, warn=True)\n"
          ],
          "name": "stderr"
        }
      ]
    },
    {
      "cell_type": "code",
      "metadata": {
        "id": "LFR-uIKhMIPs",
        "colab_type": "code",
        "outputId": "b8c72253-3daf-45f2-f271-5fdb91d56072",
        "colab": {
          "base_uri": "https://localhost:8080/",
          "height": 281
        }
      },
      "source": [
        "plt.plot(y_test[0:100], color = 'black', label = 'TRUTH')\n",
        "plt.plot(prediction[0:100], color = 'green', label = 'PREDICTION')\n",
        "plt.title('SVM regression PERFORMANCE ON TEST SET')\n",
        "plt.ylabel('SO2')\n",
        "plt.legend()\n",
        "plt.show()"
      ],
      "execution_count": 158,
      "outputs": [
        {
          "output_type": "display_data",
          "data": {
            "image/png": "[encoded data removed]",
            "text/plain": [
              "<Figure size 432x288 with 1 Axes>"
            ]
          },
          "metadata": {
            "tags": [],
            "needs_background": "light"
          }
        }
      ]
    },
    {
      "cell_type": "code",
      "metadata": {
        "id": "tUpcjRA2hCQz",
        "colab_type": "code",
        "outputId": "2f5fdaf9-6193-4c63-8ba2-0076cbbe9051",
        "colab": {
          "base_uri": "https://localhost:8080/",
          "height": 1000
        }
      },
      "source": [
        "# IMPLEMENTING A NEURAL NETWORK\n",
        "from sklearn.preprocessing import StandardScaler\n",
        "#sc = StandardScaler()\n",
        "#X = sc.fit_transform(X)\n",
        "import keras\n",
        "from keras.models import Sequential\n",
        "from keras.layers import Dense\n",
        "# Neural network\n",
        "model = Sequential()\n",
        "model.add(Dense(64, input_dim=4, activation='relu'))\n",
        "model.add(Dense(128, input_dim=4, activation='relu'))\n",
        "model.add(Dense(512, activation='relu'))\n",
        "model.add(Dense(1, activation='relu'))\n",
        "\n",
        "\n",
        "model.compile(optimizer = \"adam\", loss ='mse', \n",
        "          metrics =[\"accuracy\"])\n",
        "history = model.fit(X_train, y_train, epochs=100, batch_size=32)"
      ],
      "execution_count": 159,
      "outputs": [
        {
          "output_type": "stream",
          "text": [
            "Epoch 1/100\n",
            "16587/16587 [==============================] - 1s 85us/step - loss: 0.0012 - accuracy: 0.0015\n",
            "Epoch 2/100\n",
            "16587/16587 [==============================] - 1s 76us/step - loss: 0.0010 - accuracy: 0.0015\n",
            "Epoch 3/100\n",
            "16587/16587 [==============================] - 1s 77us/step - loss: 0.0010 - accuracy: 0.0015\n",
            "Epoch 4/100\n",
            "16587/16587 [==============================] - 1s 77us/step - loss: 0.0010 - accuracy: 0.0015\n",
            "Epoch 5/100\n",
            "16587/16587 [==============================] - 1s 78us/step - loss: 0.0010 - accuracy: 0.0015\n",
            "Epoch 6/100\n",
            "16587/16587 [==============================] - 1s 77us/step - loss: 9.9786e-04 - accuracy: 0.0015\n",
            "Epoch 7/100\n",
            "16587/16587 [==============================] - 1s 74us/step - loss: 0.0010 - accuracy: 0.0015\n",
            "Epoch 8/100\n",
            "16587/16587 [==============================] - 1s 73us/step - loss: 9.9600e-04 - accuracy: 0.0015\n",
            "Epoch 9/100\n",
            "16587/16587 [==============================] - 1s 75us/step - loss: 9.8830e-04 - accuracy: 0.0015\n",
            "Epoch 10/100\n",
            "16587/16587 [==============================] - 1s 75us/step - loss: 9.8655e-04 - accuracy: 0.0015\n",
            "Epoch 11/100\n",
            "16587/16587 [==============================] - 1s 79us/step - loss: 9.8431e-04 - accuracy: 0.0015\n",
            "Epoch 12/100\n",
            "16587/16587 [==============================] - 1s 82us/step - loss: 9.8289e-04 - accuracy: 0.0015\n",
            "Epoch 13/100\n",
            "16587/16587 [==============================] - 1s 79us/step - loss: 9.8437e-04 - accuracy: 0.0015\n",
            "Epoch 14/100\n",
            "16587/16587 [==============================] - 1s 80us/step - loss: 9.8214e-04 - accuracy: 0.0015\n",
            "Epoch 15/100\n",
            "16587/16587 [==============================] - 1s 76us/step - loss: 9.8651e-04 - accuracy: 0.0015\n",
            "Epoch 16/100\n",
            "16587/16587 [==============================] - 1s 73us/step - loss: 9.7813e-04 - accuracy: 0.0015\n",
            "Epoch 17/100\n",
            "16587/16587 [==============================] - 1s 74us/step - loss: 9.6189e-04 - accuracy: 0.0015\n",
            "Epoch 18/100\n",
            "16587/16587 [==============================] - 1s 73us/step - loss: 9.7669e-04 - accuracy: 0.0015\n",
            "Epoch 19/100\n",
            "16587/16587 [==============================] - 1s 78us/step - loss: 9.6882e-04 - accuracy: 0.0015\n",
            "Epoch 20/100\n",
            "16587/16587 [==============================] - 1s 75us/step - loss: 9.7780e-04 - accuracy: 0.0015\n",
            "Epoch 21/100\n",
            "16587/16587 [==============================] - 1s 78us/step - loss: 9.7987e-04 - accuracy: 0.0015\n",
            "Epoch 22/100\n",
            "16587/16587 [==============================] - 1s 74us/step - loss: 9.7594e-04 - accuracy: 0.0015\n",
            "Epoch 23/100\n",
            "16587/16587 [==============================] - 1s 74us/step - loss: 9.6825e-04 - accuracy: 0.0015\n",
            "Epoch 24/100\n",
            "16587/16587 [==============================] - 1s 73us/step - loss: 9.5890e-04 - accuracy: 0.0015\n",
            "Epoch 25/100\n",
            "16587/16587 [==============================] - 1s 72us/step - loss: 9.7468e-04 - accuracy: 0.0015\n",
            "Epoch 26/100\n",
            "16587/16587 [==============================] - 1s 76us/step - loss: 9.6169e-04 - accuracy: 0.0015\n",
            "Epoch 27/100\n",
            "16587/16587 [==============================] - 1s 77us/step - loss: 9.7057e-04 - accuracy: 0.0015\n",
            "Epoch 28/100\n",
            "16587/16587 [==============================] - 1s 79us/step - loss: 9.6214e-04 - accuracy: 0.0015\n",
            "Epoch 29/100\n",
            "16587/16587 [==============================] - 1s 75us/step - loss: 9.6664e-04 - accuracy: 0.0015\n",
            "Epoch 30/100\n",
            "16587/16587 [==============================] - 1s 76us/step - loss: 9.6801e-04 - accuracy: 0.0015\n",
            "Epoch 31/100\n",
            "16587/16587 [==============================] - 1s 77us/step - loss: 9.6133e-04 - accuracy: 0.0015\n",
            "Epoch 32/100\n",
            "16587/16587 [==============================] - 1s 79us/step - loss: 9.6699e-04 - accuracy: 0.0015\n",
            "Epoch 33/100\n",
            "16587/16587 [==============================] - 1s 74us/step - loss: 9.7475e-04 - accuracy: 0.0015\n",
            "Epoch 34/100\n",
            "16587/16587 [==============================] - 1s 77us/step - loss: 9.6962e-04 - accuracy: 0.0015\n",
            "Epoch 35/100\n",
            "16587/16587 [==============================] - 1s 76us/step - loss: 9.7332e-04 - accuracy: 0.0015\n",
            "Epoch 36/100\n",
            "16587/16587 [==============================] - 1s 79us/step - loss: 9.5733e-04 - accuracy: 0.0015\n",
            "Epoch 37/100\n",
            "16587/16587 [==============================] - 1s 75us/step - loss: 9.5922e-04 - accuracy: 0.0015\n",
            "Epoch 38/100\n",
            "16587/16587 [==============================] - 1s 75us/step - loss: 9.5310e-04 - accuracy: 0.0015\n",
            "Epoch 39/100\n",
            "16587/16587 [==============================] - 1s 74us/step - loss: 9.6024e-04 - accuracy: 0.0015\n",
            "Epoch 40/100\n",
            "16587/16587 [==============================] - 1s 77us/step - loss: 9.5658e-04 - accuracy: 0.0015\n",
            "Epoch 41/100\n",
            "16587/16587 [==============================] - 1s 76us/step - loss: 9.5556e-04 - accuracy: 0.0015\n",
            "Epoch 42/100\n",
            "16587/16587 [==============================] - 1s 77us/step - loss: 9.5406e-04 - accuracy: 0.0015\n",
            "Epoch 43/100\n",
            "16587/16587 [==============================] - 1s 76us/step - loss: 9.6096e-04 - accuracy: 0.0015\n",
            "Epoch 44/100\n",
            "16587/16587 [==============================] - 1s 79us/step - loss: 9.5815e-04 - accuracy: 0.0015\n",
            "Epoch 45/100\n",
            "16587/16587 [==============================] - 1s 78us/step - loss: 9.5632e-04 - accuracy: 0.0015\n",
            "Epoch 46/100\n",
            "16587/16587 [==============================] - 1s 73us/step - loss: 9.6148e-04 - accuracy: 0.0015\n",
            "Epoch 47/100\n",
            "16587/16587 [==============================] - 1s 75us/step - loss: 9.4302e-04 - accuracy: 0.0015\n",
            "Epoch 48/100\n",
            "16587/16587 [==============================] - 1s 74us/step - loss: 9.4759e-04 - accuracy: 0.0015\n",
            "Epoch 49/100\n",
            "16587/16587 [==============================] - 1s 75us/step - loss: 9.6600e-04 - accuracy: 0.0015\n",
            "Epoch 50/100\n",
            "16587/16587 [==============================] - 1s 76us/step - loss: 9.4601e-04 - accuracy: 0.0015\n",
            "Epoch 51/100\n",
            "16587/16587 [==============================] - 1s 78us/step - loss: 9.5043e-04 - accuracy: 0.0015\n",
            "Epoch 52/100\n",
            "16587/16587 [==============================] - 1s 75us/step - loss: 9.5002e-04 - accuracy: 0.0015\n",
            "Epoch 53/100\n",
            "16587/16587 [==============================] - 1s 73us/step - loss: 9.4922e-04 - accuracy: 0.0015\n",
            "Epoch 54/100\n",
            "16587/16587 [==============================] - 1s 74us/step - loss: 9.5876e-04 - accuracy: 0.0015\n",
            "Epoch 55/100\n",
            "16587/16587 [==============================] - 1s 73us/step - loss: 9.5110e-04 - accuracy: 0.0015\n",
            "Epoch 56/100\n",
            "16587/16587 [==============================] - 1s 74us/step - loss: 9.5083e-04 - accuracy: 0.0015\n",
            "Epoch 57/100\n",
            "16587/16587 [==============================] - 1s 75us/step - loss: 9.4648e-04 - accuracy: 0.0015\n",
            "Epoch 58/100\n",
            "16587/16587 [==============================] - 1s 76us/step - loss: 9.5033e-04 - accuracy: 0.0015\n",
            "Epoch 59/100\n",
            "16587/16587 [==============================] - 1s 74us/step - loss: 9.4105e-04 - accuracy: 0.0015\n",
            "Epoch 60/100\n",
            "16587/16587 [==============================] - 1s 75us/step - loss: 9.4949e-04 - accuracy: 0.0015\n",
            "Epoch 61/100\n",
            "16587/16587 [==============================] - 1s 76us/step - loss: 9.4815e-04 - accuracy: 0.0015\n",
            "Epoch 62/100\n",
            "16587/16587 [==============================] - 1s 73us/step - loss: 9.4901e-04 - accuracy: 0.0015\n",
            "Epoch 63/100\n",
            "16587/16587 [==============================] - 1s 74us/step - loss: 9.5880e-04 - accuracy: 0.0015\n",
            "Epoch 64/100\n",
            "16587/16587 [==============================] - 1s 75us/step - loss: 9.4579e-04 - accuracy: 0.0015\n",
            "Epoch 65/100\n",
            "16587/16587 [==============================] - 1s 76us/step - loss: 9.5324e-04 - accuracy: 0.0015\n",
            "Epoch 66/100\n",
            "16587/16587 [==============================] - 1s 77us/step - loss: 9.5065e-04 - accuracy: 0.0015\n",
            "Epoch 67/100\n",
            "16587/16587 [==============================] - 1s 75us/step - loss: 9.4980e-04 - accuracy: 0.0015\n",
            "Epoch 68/100\n",
            "16587/16587 [==============================] - 1s 74us/step - loss: 9.5133e-04 - accuracy: 0.0015\n",
            "Epoch 69/100\n",
            "16587/16587 [==============================] - 1s 74us/step - loss: 9.5123e-04 - accuracy: 0.0015\n",
            "Epoch 70/100\n",
            "16587/16587 [==============================] - 1s 75us/step - loss: 9.5113e-04 - accuracy: 0.0015\n",
            "Epoch 71/100\n",
            "16587/16587 [==============================] - 1s 72us/step - loss: 9.4462e-04 - accuracy: 0.0015\n",
            "Epoch 72/100\n",
            "16587/16587 [==============================] - 1s 73us/step - loss: 9.4663e-04 - accuracy: 0.0015\n",
            "Epoch 73/100\n",
            "16587/16587 [==============================] - 1s 76us/step - loss: 9.4317e-04 - accuracy: 0.0015\n",
            "Epoch 74/100\n",
            "16587/16587 [==============================] - 1s 70us/step - loss: 9.4654e-04 - accuracy: 0.0015\n",
            "Epoch 75/100\n",
            "16587/16587 [==============================] - 1s 73us/step - loss: 9.4538e-04 - accuracy: 0.0015\n",
            "Epoch 76/100\n",
            "16587/16587 [==============================] - 1s 73us/step - loss: 9.4612e-04 - accuracy: 0.0015\n",
            "Epoch 77/100\n",
            "16587/16587 [==============================] - 1s 73us/step - loss: 9.4895e-04 - accuracy: 0.0015\n",
            "Epoch 78/100\n",
            "16587/16587 [==============================] - 1s 75us/step - loss: 9.4107e-04 - accuracy: 0.0015\n",
            "Epoch 79/100\n",
            "16587/16587 [==============================] - 1s 76us/step - loss: 9.4034e-04 - accuracy: 0.0015\n",
            "Epoch 80/100\n",
            "16587/16587 [==============================] - 1s 73us/step - loss: 9.4302e-04 - accuracy: 0.0015\n",
            "Epoch 81/100\n",
            "16587/16587 [==============================] - 1s 74us/step - loss: 9.4924e-04 - accuracy: 0.0015\n",
            "Epoch 82/100\n",
            "16587/16587 [==============================] - 1s 74us/step - loss: 9.3568e-04 - accuracy: 0.0015\n",
            "Epoch 83/100\n",
            "16587/16587 [==============================] - 1s 82us/step - loss: 9.4582e-04 - accuracy: 0.0015\n",
            "Epoch 84/100\n",
            "16587/16587 [==============================] - 1s 79us/step - loss: 9.3371e-04 - accuracy: 0.0015\n",
            "Epoch 85/100\n",
            "16587/16587 [==============================] - 1s 82us/step - loss: 9.3878e-04 - accuracy: 0.0015\n",
            "Epoch 86/100\n",
            "16587/16587 [==============================] - 1s 79us/step - loss: 9.4603e-04 - accuracy: 0.0015\n",
            "Epoch 87/100\n",
            "16587/16587 [==============================] - 1s 81us/step - loss: 9.3757e-04 - accuracy: 0.0015\n",
            "Epoch 88/100\n",
            "16587/16587 [==============================] - 1s 81us/step - loss: 9.4206e-04 - accuracy: 0.0015\n",
            "Epoch 89/100\n",
            "16587/16587 [==============================] - 1s 80us/step - loss: 9.4086e-04 - accuracy: 0.0015\n",
            "Epoch 90/100\n",
            "16587/16587 [==============================] - 1s 81us/step - loss: 9.3961e-04 - accuracy: 0.0015\n",
            "Epoch 91/100\n",
            "16587/16587 [==============================] - 1s 76us/step - loss: 9.4555e-04 - accuracy: 0.0015\n",
            "Epoch 92/100\n",
            "16587/16587 [==============================] - 1s 73us/step - loss: 9.4695e-04 - accuracy: 0.0015\n",
            "Epoch 93/100\n",
            "16587/16587 [==============================] - 1s 75us/step - loss: 9.4593e-04 - accuracy: 0.0015\n",
            "Epoch 94/100\n",
            "16587/16587 [==============================] - 1s 73us/step - loss: 9.3486e-04 - accuracy: 0.0015\n",
            "Epoch 95/100\n",
            "16587/16587 [==============================] - 1s 75us/step - loss: 9.3974e-04 - accuracy: 0.0015\n",
            "Epoch 96/100\n",
            "16587/16587 [==============================] - 1s 73us/step - loss: 9.3586e-04 - accuracy: 0.0015\n",
            "Epoch 97/100\n",
            "16587/16587 [==============================] - 1s 75us/step - loss: 9.3666e-04 - accuracy: 0.0015\n",
            "Epoch 98/100\n",
            "16587/16587 [==============================] - 1s 75us/step - loss: 9.4360e-04 - accuracy: 0.0015\n",
            "Epoch 99/100\n",
            "16587/16587 [==============================] - 1s 73us/step - loss: 9.4156e-04 - accuracy: 0.0015\n",
            "Epoch 100/100\n",
            "16587/16587 [==============================] - 1s 74us/step - loss: 9.4777e-04 - accuracy: 0.0015\n"
          ],
          "name": "stdout"
        }
      ]
    },
    {
      "cell_type": "code",
      "metadata": {
        "id": "txen3N-yvsAt",
        "colab_type": "code",
        "outputId": "b3ecc261-481c-4e45-c9ca-e4da218d12c9",
        "colab": {
          "base_uri": "https://localhost:8080/",
          "height": 368
        }
      },
      "source": [
        "print(history.history.keys())\n",
        "# \"Loss\"\n",
        "plt.plot(history.history['loss'])\n",
        "plt.title('model loss')\n",
        "plt.ylabel('loss')\n",
        "plt.xlabel('epoch')\n",
        "plt.legend(['train'], loc='upper left')\n",
        "plt.show()\n",
        "y_pred = model.predict(X_test)\n",
        "print('mean squared error : ',mean_squared_error(y_test,y_pred))\n",
        "print('mean absolute error : ',mean_absolute_error(y_test,prediction))\n",
        "print(r2_score(y_test,prediction))\n",
        "#Converting predictions to label\n"
      ],
      "execution_count": 160,
      "outputs": [
        {
          "output_type": "stream",
          "text": [
            "dict_keys(['loss', 'accuracy'])\n"
          ],
          "name": "stdout"
        },
        {
          "output_type": "display_data",
          "data": {
            "image/png": "[encoded data removed]",
            "text/plain": [
              "<Figure size 432x288 with 1 Axes>"
            ]
          },
          "metadata": {
            "tags": [],
            "needs_background": "light"
          }
        },
        {
          "output_type": "stream",
          "text": [
            "mean squared error :  0.0010041703119046297\n",
            "mean absolute error :  0.014207719601369543\n",
            "0.8375054020914677\n"
          ],
          "name": "stdout"
        }
      ]
    },
    {
      "cell_type": "code",
      "metadata": {
        "id": "kErB8NCcdyHM",
        "colab_type": "code",
        "outputId": "74a20e2f-26df-47b0-fbfd-23a790d04810",
        "colab": {
          "base_uri": "https://localhost:8080/",
          "height": 281
        }
      },
      "source": [
        "plt.plot(y_test[0:100], color = 'black', label = 'TRUTH')\n",
        "plt.plot(prediction[0:100], color = 'green', label = 'PREDICTION')\n",
        "plt.title('Neural network PERFORMANCE ON TEST SET')\n",
        "plt.ylabel('SO2')\n",
        "plt.legend()\n",
        "plt.show()"
      ],
      "execution_count": 161,
      "outputs": [
        {
          "output_type": "display_data",
          "data": {
            "image/png": "[encoded data removed]",
            "text/plain": [
              "<Figure size 432x288 with 1 Axes>"
            ]
          },
          "metadata": {
            "tags": [],
            "needs_background": "light"
          }
        }
      ]
    },
    {
      "cell_type": "code",
      "metadata": {
        "id": "TTfaJJDaHGg9",
        "colab_type": "code",
        "outputId": "a3cbd356-98d7-41e2-9006-dd37fcb22b7c",
        "colab": {
          "base_uri": "https://localhost:8080/",
          "height": 182
        }
      },
      "source": [
        "print(X_train)\n",
        "X_train=np.asarray(X_train)\n",
        "X_test=np.asarray(X_test)\n",
        "y_train=np.asarray(y_train)\n",
        "y_test=np.asarray(y_test)\n",
        "\n",
        "print(X_train.shape)\n",
        "X_train=X_train.reshape(X_train.shape[0],X_train.shape[1],1)\n",
        "print(X_train.shape)"
      ],
      "execution_count": 162,
      "outputs": [
        {
          "output_type": "stream",
          "text": [
            "[[0.07692308 0.07692308 0.07692308 0.07692308]\n",
            " [0.11538462 0.11538462 0.11538462 0.11538462]\n",
            " [0.03846154 0.03846154 0.03846154 0.03846154]\n",
            " ...\n",
            " [0.15384615 0.15384615 0.15384615 0.15384615]\n",
            " [0.19230769 0.19230769 0.19230769 0.19230769]\n",
            " [0.07692308 0.07692308 0.07692308 0.11538462]]\n",
            "(16587, 4)\n",
            "(16587, 4, 1)\n"
          ],
          "name": "stdout"
        }
      ]
    },
    {
      "cell_type": "code",
      "metadata": {
        "id": "FFUuCp8g1vzB",
        "colab_type": "code",
        "outputId": "8053cc4a-3d2d-4953-8054-034d1cc29f14",
        "colab": {
          "base_uri": "https://localhost:8080/",
          "height": 1000
        }
      },
      "source": [
        "from keras.models import Sequential\n",
        "from keras.layers import Dense\n",
        "from keras.layers import LSTM\n",
        "from keras.layers import Dropout\n",
        "regressor = Sequential()\n",
        "\n",
        "regressor.add(LSTM(units = 50, return_sequences = True, input_shape = (X_train.shape[1], 1)))\n",
        "#regressor.add(Dropout(0.2))\n",
        "\n",
        "regressor.add(LSTM(units = 50, return_sequences = True))\n",
        "#regressor.add(Dropout(0.2))\n",
        "\n",
        "regressor.add(LSTM(units = 50, return_sequences = True))\n",
        "#regressor.add(Dropout(0.2))\n",
        "\n",
        "regressor.add(LSTM(units = 50))\n",
        "#regressor.add(Dropout(0.2))\n",
        "\n",
        "regressor.add(Dense(units = 1))\n",
        "\n",
        "regressor.compile(optimizer = 'adam', loss = 'mean_squared_error')\n",
        "\n",
        "history = regressor.fit(X_train, y_train, epochs = 100, batch_size = 32)"
      ],
      "execution_count": 163,
      "outputs": [
        {
          "output_type": "stream",
          "text": [
            "Epoch 1/100\n",
            "16587/16587 [==============================] - 9s 514us/step - loss: 0.0028\n",
            "Epoch 2/100\n",
            "16587/16587 [==============================] - 7s 407us/step - loss: 0.0013\n",
            "Epoch 3/100\n",
            "16587/16587 [==============================] - 7s 395us/step - loss: 0.0010\n",
            "Epoch 4/100\n",
            "16587/16587 [==============================] - 7s 403us/step - loss: 0.0010\n",
            "Epoch 5/100\n",
            "16587/16587 [==============================] - 7s 396us/step - loss: 0.0010\n",
            "Epoch 6/100\n",
            "16587/16587 [==============================] - 7s 398us/step - loss: 0.0010\n",
            "Epoch 7/100\n",
            "16587/16587 [==============================] - 7s 401us/step - loss: 9.9542e-04\n",
            "Epoch 8/100\n",
            "16587/16587 [==============================] - 6s 391us/step - loss: 0.0010\n",
            "Epoch 9/100\n",
            "16587/16587 [==============================] - 7s 393us/step - loss: 0.0010\n",
            "Epoch 10/100\n",
            "16587/16587 [==============================] - 7s 394us/step - loss: 9.9177e-04\n",
            "Epoch 11/100\n",
            "16587/16587 [==============================] - 7s 393us/step - loss: 9.9982e-04\n",
            "Epoch 12/100\n",
            "16587/16587 [==============================] - 7s 392us/step - loss: 9.9273e-04\n",
            "Epoch 13/100\n",
            "16587/16587 [==============================] - 7s 399us/step - loss: 9.8871e-04\n",
            "Epoch 14/100\n",
            "16587/16587 [==============================] - 7s 407us/step - loss: 9.9584e-04\n",
            "Epoch 15/100\n",
            "16587/16587 [==============================] - 7s 410us/step - loss: 9.8910e-04\n",
            "Epoch 16/100\n",
            "16587/16587 [==============================] - 7s 405us/step - loss: 9.9213e-04\n",
            "Epoch 17/100\n",
            "16587/16587 [==============================] - 7s 402us/step - loss: 9.8334e-04\n",
            "Epoch 18/100\n",
            "16587/16587 [==============================] - 7s 408us/step - loss: 9.8001e-04\n",
            "Epoch 19/100\n",
            "16587/16587 [==============================] - 6s 391us/step - loss: 9.9143e-04\n",
            "Epoch 20/100\n",
            "16587/16587 [==============================] - 7s 394us/step - loss: 9.8260e-04\n",
            "Epoch 21/100\n",
            "16587/16587 [==============================] - 7s 395us/step - loss: 9.8144e-04\n",
            "Epoch 22/100\n",
            "16587/16587 [==============================] - 7s 397us/step - loss: 9.8347e-04\n",
            "Epoch 23/100\n",
            "16587/16587 [==============================] - 7s 397us/step - loss: 9.8401e-04\n",
            "Epoch 24/100\n",
            "16587/16587 [==============================] - 7s 404us/step - loss: 9.8305e-04\n",
            "Epoch 25/100\n",
            "16587/16587 [==============================] - 7s 398us/step - loss: 9.7056e-04\n",
            "Epoch 26/100\n",
            "16587/16587 [==============================] - 7s 404us/step - loss: 9.7968e-04\n",
            "Epoch 27/100\n",
            "16587/16587 [==============================] - 7s 400us/step - loss: 9.7549e-04\n",
            "Epoch 28/100\n",
            "16587/16587 [==============================] - 7s 397us/step - loss: 9.7173e-04\n",
            "Epoch 29/100\n",
            "16587/16587 [==============================] - 7s 397us/step - loss: 9.7110e-04\n",
            "Epoch 30/100\n",
            "16587/16587 [==============================] - 6s 388us/step - loss: 9.7253e-04\n",
            "Epoch 31/100\n",
            "16587/16587 [==============================] - 7s 392us/step - loss: 9.7018e-04\n",
            "Epoch 32/100\n",
            "16587/16587 [==============================] - 7s 394us/step - loss: 9.7579e-04\n",
            "Epoch 33/100\n",
            "16587/16587 [==============================] - 6s 392us/step - loss: 9.7411e-04\n",
            "Epoch 34/100\n",
            "16587/16587 [==============================] - 6s 387us/step - loss: 9.7119e-04\n",
            "Epoch 35/100\n",
            "16587/16587 [==============================] - 6s 390us/step - loss: 9.7331e-04\n",
            "Epoch 36/100\n",
            "16587/16587 [==============================] - 6s 384us/step - loss: 9.6209e-04\n",
            "Epoch 37/100\n",
            "16587/16587 [==============================] - 6s 385us/step - loss: 9.7218e-04\n",
            "Epoch 38/100\n",
            "16587/16587 [==============================] - 6s 387us/step - loss: 9.6654e-04\n",
            "Epoch 39/100\n",
            "16587/16587 [==============================] - 6s 378us/step - loss: 9.6206e-04\n",
            "Epoch 40/100\n",
            "16587/16587 [==============================] - 6s 379us/step - loss: 9.5890e-04\n",
            "Epoch 41/100\n",
            "16587/16587 [==============================] - 6s 390us/step - loss: 9.7141e-04\n",
            "Epoch 42/100\n",
            "16587/16587 [==============================] - 7s 397us/step - loss: 9.6165e-04\n",
            "Epoch 43/100\n",
            "16587/16587 [==============================] - 7s 397us/step - loss: 9.4880e-04\n",
            "Epoch 44/100\n",
            "16587/16587 [==============================] - 6s 389us/step - loss: 9.5825e-04\n",
            "Epoch 45/100\n",
            "16587/16587 [==============================] - 6s 385us/step - loss: 9.5968e-04\n",
            "Epoch 46/100\n",
            "16587/16587 [==============================] - 6s 391us/step - loss: 9.5708e-04\n",
            "Epoch 47/100\n",
            "16587/16587 [==============================] - 6s 386us/step - loss: 9.6634e-04\n",
            "Epoch 48/100\n",
            "16587/16587 [==============================] - 7s 399us/step - loss: 9.6436e-04\n",
            "Epoch 49/100\n",
            "16587/16587 [==============================] - 6s 382us/step - loss: 9.5133e-04\n",
            "Epoch 50/100\n",
            "16587/16587 [==============================] - 6s 385us/step - loss: 9.5535e-04\n",
            "Epoch 51/100\n",
            "16587/16587 [==============================] - 6s 386us/step - loss: 9.5583e-04\n",
            "Epoch 52/100\n",
            "16587/16587 [==============================] - 7s 399us/step - loss: 9.5018e-04\n",
            "Epoch 53/100\n",
            "16587/16587 [==============================] - 6s 389us/step - loss: 9.5203e-04\n",
            "Epoch 54/100\n",
            "16587/16587 [==============================] - 6s 383us/step - loss: 9.4997e-04\n",
            "Epoch 55/100\n",
            "16587/16587 [==============================] - 6s 392us/step - loss: 9.5572e-04\n",
            "Epoch 56/100\n",
            "16587/16587 [==============================] - 7s 398us/step - loss: 9.4881e-04\n",
            "Epoch 57/100\n",
            "16587/16587 [==============================] - 7s 399us/step - loss: 9.5335e-04\n",
            "Epoch 58/100\n",
            "16587/16587 [==============================] - 7s 401us/step - loss: 9.5401e-04\n",
            "Epoch 59/100\n",
            "16587/16587 [==============================] - 7s 393us/step - loss: 9.4909e-04\n",
            "Epoch 60/100\n",
            "16587/16587 [==============================] - 7s 400us/step - loss: 9.5509e-04\n",
            "Epoch 61/100\n",
            "16587/16587 [==============================] - 7s 395us/step - loss: 9.5286e-04\n",
            "Epoch 62/100\n",
            "16587/16587 [==============================] - 7s 404us/step - loss: 9.4518e-04\n",
            "Epoch 63/100\n",
            "16587/16587 [==============================] - 7s 400us/step - loss: 9.4301e-04\n",
            "Epoch 64/100\n",
            "16587/16587 [==============================] - 6s 389us/step - loss: 9.4967e-04\n",
            "Epoch 65/100\n",
            "16587/16587 [==============================] - 7s 395us/step - loss: 9.4266e-04\n",
            "Epoch 66/100\n",
            "16587/16587 [==============================] - 7s 392us/step - loss: 9.5304e-04\n",
            "Epoch 67/100\n",
            "16587/16587 [==============================] - 7s 408us/step - loss: 9.4141e-04\n",
            "Epoch 68/100\n",
            "16587/16587 [==============================] - 7s 410us/step - loss: 9.4967e-04\n",
            "Epoch 69/100\n",
            "16587/16587 [==============================] - 7s 409us/step - loss: 9.5044e-04\n",
            "Epoch 70/100\n",
            "16587/16587 [==============================] - 7s 411us/step - loss: 9.4702e-04\n",
            "Epoch 71/100\n",
            "16587/16587 [==============================] - 7s 424us/step - loss: 9.4651e-04\n",
            "Epoch 72/100\n",
            "16587/16587 [==============================] - 7s 411us/step - loss: 9.3611e-04\n",
            "Epoch 73/100\n",
            "16587/16587 [==============================] - 7s 444us/step - loss: 9.4503e-04\n",
            "Epoch 74/100\n",
            "16587/16587 [==============================] - 8s 476us/step - loss: 9.3972e-04\n",
            "Epoch 75/100\n",
            "16587/16587 [==============================] - 7s 424us/step - loss: 9.4374e-04\n",
            "Epoch 76/100\n",
            "16587/16587 [==============================] - 7s 422us/step - loss: 9.4082e-04\n",
            "Epoch 77/100\n",
            "16587/16587 [==============================] - 7s 431us/step - loss: 9.5473e-04\n",
            "Epoch 78/100\n",
            "16587/16587 [==============================] - 7s 435us/step - loss: 9.4244e-04\n",
            "Epoch 79/100\n",
            "16587/16587 [==============================] - 7s 419us/step - loss: 9.4261e-04\n",
            "Epoch 80/100\n",
            "16587/16587 [==============================] - 7s 420us/step - loss: 9.4567e-04\n",
            "Epoch 81/100\n",
            "16587/16587 [==============================] - 7s 411us/step - loss: 9.3775e-04\n",
            "Epoch 82/100\n",
            "16587/16587 [==============================] - 7s 422us/step - loss: 9.4234e-04\n",
            "Epoch 83/100\n",
            "16587/16587 [==============================] - 7s 406us/step - loss: 9.4014e-04\n",
            "Epoch 84/100\n",
            "16587/16587 [==============================] - 6s 390us/step - loss: 9.3760e-04\n",
            "Epoch 85/100\n",
            "16587/16587 [==============================] - 7s 399us/step - loss: 9.4043e-04\n",
            "Epoch 86/100\n",
            "16587/16587 [==============================] - 6s 388us/step - loss: 9.3850e-04\n",
            "Epoch 87/100\n",
            "16587/16587 [==============================] - 7s 396us/step - loss: 9.4484e-04\n",
            "Epoch 88/100\n",
            "16587/16587 [==============================] - 6s 381us/step - loss: 9.4532e-04\n",
            "Epoch 89/100\n",
            "16587/16587 [==============================] - 6s 389us/step - loss: 9.4689e-04\n",
            "Epoch 90/100\n",
            "16587/16587 [==============================] - 6s 391us/step - loss: 9.3866e-04\n",
            "Epoch 91/100\n",
            "16587/16587 [==============================] - 6s 392us/step - loss: 9.3745e-04\n",
            "Epoch 92/100\n",
            "16587/16587 [==============================] - 7s 419us/step - loss: 9.4183e-04\n",
            "Epoch 93/100\n",
            "16587/16587 [==============================] - 7s 421us/step - loss: 9.3019e-04\n",
            "Epoch 94/100\n",
            "16587/16587 [==============================] - 7s 411us/step - loss: 9.4281e-04\n",
            "Epoch 95/100\n",
            "16587/16587 [==============================] - 7s 406us/step - loss: 9.3558e-04\n",
            "Epoch 96/100\n",
            "16587/16587 [==============================] - 7s 402us/step - loss: 9.3748e-04\n",
            "Epoch 97/100\n",
            "16587/16587 [==============================] - 7s 414us/step - loss: 9.3911e-04\n",
            "Epoch 98/100\n",
            "16587/16587 [==============================] - 7s 401us/step - loss: 9.2684e-04\n",
            "Epoch 99/100\n",
            "16587/16587 [==============================] - 6s 389us/step - loss: 9.3793e-04\n",
            "Epoch 100/100\n",
            "16587/16587 [==============================] - 6s 385us/step - loss: 9.4210e-04\n"
          ],
          "name": "stdout"
        }
      ]
    },
    {
      "cell_type": "code",
      "metadata": {
        "id": "GvEtr3IPv0Sh",
        "colab_type": "code",
        "outputId": "09601ccb-5dd9-4939-9584-dd1eacf4823e",
        "colab": {
          "base_uri": "https://localhost:8080/",
          "height": 368
        }
      },
      "source": [
        "print(history.history.keys())\n",
        "# \"Loss\"\n",
        "plt.plot(history.history['loss'])\n",
        "plt.title('model loss')\n",
        "plt.ylabel('loss')\n",
        "plt.xlabel('epoch')\n",
        "plt.legend(['train'], loc='upper left')\n",
        "plt.show()\n",
        "X_test=X_test.reshape(X_test.shape[0],X_test.shape[1],1)\n",
        "prediction = regressor.predict(X_test)\n",
        "print(\"mean square error :\" ,mean_squared_error(y_test,prediction))\n",
        "from sklearn.metrics import mean_absolute_error\n",
        "print(\"mean absolute error : \",mean_absolute_error(y_test,prediction))\n",
        "print(r2_score(y_test,prediction))"
      ],
      "execution_count": 164,
      "outputs": [
        {
          "output_type": "stream",
          "text": [
            "dict_keys(['loss'])\n"
          ],
          "name": "stdout"
        },
        {
          "output_type": "display_data",
          "data": {
            "image/png": "[encoded data removed]",
            "text/plain": [
              "<Figure size 432x288 with 1 Axes>"
            ]
          },
          "metadata": {
            "tags": [],
            "needs_background": "light"
          }
        },
        {
          "output_type": "stream",
          "text": [
            "mean square error : 0.0009251249864746904\n",
            "mean absolute error :  0.015877652998072606\n",
            "0.8452761063919296\n"
          ],
          "name": "stdout"
        }
      ]
    },
    {
      "cell_type": "code",
      "metadata": {
        "id": "64suBIQS8DmU",
        "colab_type": "code",
        "outputId": "3cda9eee-2447-49f7-af65-21e0e11f7d85",
        "colab": {
          "base_uri": "https://localhost:8080/",
          "height": 281
        }
      },
      "source": [
        "plt.plot(y_test[0:100], color = 'black', label = 'TRUTH')\n",
        "plt.plot(prediction[0:100], color = 'green', label = 'PREDICTION')\n",
        "plt.title('LSTM PERFORMANCE ON TEST SET')\n",
        "plt.ylabel('SO2')\n",
        "plt.legend()\n",
        "plt.show()"
      ],
      "execution_count": 165,
      "outputs": [
        {
          "output_type": "display_data",
          "data": {
            "image/png": "[encoded data removed]",
            "text/plain": [
              "<Figure size 432x288 with 1 Axes>"
            ]
          },
          "metadata": {
            "tags": [],
            "needs_background": "light"
          }
        }
      ]
    },
    {
      "cell_type": "code",
      "metadata": {
        "id": "M6ATb9dKn9KE",
        "colab_type": "code",
        "colab": {}
      },
      "source": [
        "#joblib.dump(regressor,'lstm_regressor.pkl')\n",
        "#from google.colab import files\n",
        "#files.download('lstm_regressor.pkl')"
      ],
      "execution_count": 0,
      "outputs": []
    },
    {
      "cell_type": "code",
      "metadata": {
        "id": "J2R-4HX3NL8E",
        "colab_type": "code",
        "colab": {}
      },
      "source": [
        ""
      ],
      "execution_count": 0,
      "outputs": []
    }
  ]
}