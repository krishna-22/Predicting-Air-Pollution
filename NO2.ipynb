{
 "cells": [
  {
   "cell_type": "code",
   "execution_count": null,
   "metadata": {
    "colab": {},
    "colab_type": "code",
    "id": "dtYedBxwqNlx"
   },
   "outputs": [],
   "source": []
  },
  {
   "cell_type": "code",
   "execution_count": null,
   "metadata": {
    "colab": {},
    "colab_type": "code",
    "id": "C0aNQ_nspWsI"
   },
   "outputs": [],
   "source": []
  },
  {
   "cell_type": "code",
   "execution_count": 2,
   "metadata": {
    "colab": {
     "base_uri": "https://localhost:8080/",
     "height": 129
    },
    "colab_type": "code",
    "id": "aLafiv1zMqa3",
    "outputId": "2ee86868-3eef-4e23-881f-d22365b30463"
   },
   "outputs": [],
   "source": [
    "import pandas as pd\n",
    "import numpy as np \n",
    "%matplotlib inline\n",
    "import matplotlib.pyplot as plt\n",
    "#from google.colab import drive\n",
    "#drive.mount('/content/drive')\n",
    "\n",
    "data = pd.read_csv('Measurement_summary.csv')"
   ]
  },
  {
   "cell_type": "code",
   "execution_count": 3,
   "metadata": {
    "colab": {
     "base_uri": "https://localhost:8080/",
     "height": 363
    },
    "colab_type": "code",
    "id": "nZUi7009M9kN",
    "outputId": "899001dc-a331-4eb8-ef57-375df8b0210d"
   },
   "outputs": [
    {
     "data": {
      "text/html": [
       "<div>\n",
       "<style scoped>\n",
       "    .dataframe tbody tr th:only-of-type {\n",
       "        vertical-align: middle;\n",
       "    }\n",
       "\n",
       "    .dataframe tbody tr th {\n",
       "        vertical-align: top;\n",
       "    }\n",
       "\n",
       "    .dataframe thead th {\n",
       "        text-align: right;\n",
       "    }\n",
       "</style>\n",
       "<table border=\"1\" class=\"dataframe\">\n",
       "  <thead>\n",
       "    <tr style=\"text-align: right;\">\n",
       "      <th></th>\n",
       "      <th>Measurement date</th>\n",
       "      <th>Station code</th>\n",
       "      <th>Address</th>\n",
       "      <th>Latitude</th>\n",
       "      <th>Longitude</th>\n",
       "      <th>SO2</th>\n",
       "      <th>NO2</th>\n",
       "      <th>O3</th>\n",
       "      <th>CO</th>\n",
       "      <th>PM10</th>\n",
       "      <th>PM2.5</th>\n",
       "    </tr>\n",
       "  </thead>\n",
       "  <tbody>\n",
       "    <tr>\n",
       "      <th>0</th>\n",
       "      <td>2017-01-01 00:00</td>\n",
       "      <td>101</td>\n",
       "      <td>19, Jong-ro 35ga-gil, Jongno-gu, Seoul, Republ...</td>\n",
       "      <td>37.572016</td>\n",
       "      <td>127.005007</td>\n",
       "      <td>0.004</td>\n",
       "      <td>0.059</td>\n",
       "      <td>0.002</td>\n",
       "      <td>1.2</td>\n",
       "      <td>73.0</td>\n",
       "      <td>57.0</td>\n",
       "    </tr>\n",
       "    <tr>\n",
       "      <th>1</th>\n",
       "      <td>2017-01-01 01:00</td>\n",
       "      <td>101</td>\n",
       "      <td>19, Jong-ro 35ga-gil, Jongno-gu, Seoul, Republ...</td>\n",
       "      <td>37.572016</td>\n",
       "      <td>127.005007</td>\n",
       "      <td>0.004</td>\n",
       "      <td>0.058</td>\n",
       "      <td>0.002</td>\n",
       "      <td>1.2</td>\n",
       "      <td>71.0</td>\n",
       "      <td>59.0</td>\n",
       "    </tr>\n",
       "    <tr>\n",
       "      <th>2</th>\n",
       "      <td>2017-01-01 02:00</td>\n",
       "      <td>101</td>\n",
       "      <td>19, Jong-ro 35ga-gil, Jongno-gu, Seoul, Republ...</td>\n",
       "      <td>37.572016</td>\n",
       "      <td>127.005007</td>\n",
       "      <td>0.004</td>\n",
       "      <td>0.056</td>\n",
       "      <td>0.002</td>\n",
       "      <td>1.2</td>\n",
       "      <td>70.0</td>\n",
       "      <td>59.0</td>\n",
       "    </tr>\n",
       "    <tr>\n",
       "      <th>3</th>\n",
       "      <td>2017-01-01 03:00</td>\n",
       "      <td>101</td>\n",
       "      <td>19, Jong-ro 35ga-gil, Jongno-gu, Seoul, Republ...</td>\n",
       "      <td>37.572016</td>\n",
       "      <td>127.005007</td>\n",
       "      <td>0.004</td>\n",
       "      <td>0.056</td>\n",
       "      <td>0.002</td>\n",
       "      <td>1.2</td>\n",
       "      <td>70.0</td>\n",
       "      <td>58.0</td>\n",
       "    </tr>\n",
       "    <tr>\n",
       "      <th>4</th>\n",
       "      <td>2017-01-01 04:00</td>\n",
       "      <td>101</td>\n",
       "      <td>19, Jong-ro 35ga-gil, Jongno-gu, Seoul, Republ...</td>\n",
       "      <td>37.572016</td>\n",
       "      <td>127.005007</td>\n",
       "      <td>0.003</td>\n",
       "      <td>0.051</td>\n",
       "      <td>0.002</td>\n",
       "      <td>1.2</td>\n",
       "      <td>69.0</td>\n",
       "      <td>61.0</td>\n",
       "    </tr>\n",
       "    <tr>\n",
       "      <th>5</th>\n",
       "      <td>2017-01-01 05:00</td>\n",
       "      <td>101</td>\n",
       "      <td>19, Jong-ro 35ga-gil, Jongno-gu, Seoul, Republ...</td>\n",
       "      <td>37.572016</td>\n",
       "      <td>127.005007</td>\n",
       "      <td>0.003</td>\n",
       "      <td>0.046</td>\n",
       "      <td>0.002</td>\n",
       "      <td>1.1</td>\n",
       "      <td>70.0</td>\n",
       "      <td>61.0</td>\n",
       "    </tr>\n",
       "    <tr>\n",
       "      <th>6</th>\n",
       "      <td>2017-01-01 06:00</td>\n",
       "      <td>101</td>\n",
       "      <td>19, Jong-ro 35ga-gil, Jongno-gu, Seoul, Republ...</td>\n",
       "      <td>37.572016</td>\n",
       "      <td>127.005007</td>\n",
       "      <td>0.003</td>\n",
       "      <td>0.049</td>\n",
       "      <td>0.002</td>\n",
       "      <td>1.1</td>\n",
       "      <td>66.0</td>\n",
       "      <td>57.0</td>\n",
       "    </tr>\n",
       "    <tr>\n",
       "      <th>7</th>\n",
       "      <td>2017-01-01 07:00</td>\n",
       "      <td>101</td>\n",
       "      <td>19, Jong-ro 35ga-gil, Jongno-gu, Seoul, Republ...</td>\n",
       "      <td>37.572016</td>\n",
       "      <td>127.005007</td>\n",
       "      <td>0.003</td>\n",
       "      <td>0.045</td>\n",
       "      <td>0.002</td>\n",
       "      <td>1.0</td>\n",
       "      <td>71.0</td>\n",
       "      <td>60.0</td>\n",
       "    </tr>\n",
       "    <tr>\n",
       "      <th>8</th>\n",
       "      <td>2017-01-01 08:00</td>\n",
       "      <td>101</td>\n",
       "      <td>19, Jong-ro 35ga-gil, Jongno-gu, Seoul, Republ...</td>\n",
       "      <td>37.572016</td>\n",
       "      <td>127.005007</td>\n",
       "      <td>0.004</td>\n",
       "      <td>0.047</td>\n",
       "      <td>0.002</td>\n",
       "      <td>1.1</td>\n",
       "      <td>72.0</td>\n",
       "      <td>60.0</td>\n",
       "    </tr>\n",
       "    <tr>\n",
       "      <th>9</th>\n",
       "      <td>2017-01-01 09:00</td>\n",
       "      <td>101</td>\n",
       "      <td>19, Jong-ro 35ga-gil, Jongno-gu, Seoul, Republ...</td>\n",
       "      <td>37.572016</td>\n",
       "      <td>127.005007</td>\n",
       "      <td>0.003</td>\n",
       "      <td>0.047</td>\n",
       "      <td>0.002</td>\n",
       "      <td>1.1</td>\n",
       "      <td>74.0</td>\n",
       "      <td>63.0</td>\n",
       "    </tr>\n",
       "  </tbody>\n",
       "</table>\n",
       "</div>"
      ],
      "text/plain": [
       "   Measurement date  Station code  \\\n",
       "0  2017-01-01 00:00           101   \n",
       "1  2017-01-01 01:00           101   \n",
       "2  2017-01-01 02:00           101   \n",
       "3  2017-01-01 03:00           101   \n",
       "4  2017-01-01 04:00           101   \n",
       "5  2017-01-01 05:00           101   \n",
       "6  2017-01-01 06:00           101   \n",
       "7  2017-01-01 07:00           101   \n",
       "8  2017-01-01 08:00           101   \n",
       "9  2017-01-01 09:00           101   \n",
       "\n",
       "                                             Address   Latitude   Longitude  \\\n",
       "0  19, Jong-ro 35ga-gil, Jongno-gu, Seoul, Republ...  37.572016  127.005007   \n",
       "1  19, Jong-ro 35ga-gil, Jongno-gu, Seoul, Republ...  37.572016  127.005007   \n",
       "2  19, Jong-ro 35ga-gil, Jongno-gu, Seoul, Republ...  37.572016  127.005007   \n",
       "3  19, Jong-ro 35ga-gil, Jongno-gu, Seoul, Republ...  37.572016  127.005007   \n",
       "4  19, Jong-ro 35ga-gil, Jongno-gu, Seoul, Republ...  37.572016  127.005007   \n",
       "5  19, Jong-ro 35ga-gil, Jongno-gu, Seoul, Republ...  37.572016  127.005007   \n",
       "6  19, Jong-ro 35ga-gil, Jongno-gu, Seoul, Republ...  37.572016  127.005007   \n",
       "7  19, Jong-ro 35ga-gil, Jongno-gu, Seoul, Republ...  37.572016  127.005007   \n",
       "8  19, Jong-ro 35ga-gil, Jongno-gu, Seoul, Republ...  37.572016  127.005007   \n",
       "9  19, Jong-ro 35ga-gil, Jongno-gu, Seoul, Republ...  37.572016  127.005007   \n",
       "\n",
       "     SO2    NO2     O3   CO  PM10  PM2.5  \n",
       "0  0.004  0.059  0.002  1.2  73.0   57.0  \n",
       "1  0.004  0.058  0.002  1.2  71.0   59.0  \n",
       "2  0.004  0.056  0.002  1.2  70.0   59.0  \n",
       "3  0.004  0.056  0.002  1.2  70.0   58.0  \n",
       "4  0.003  0.051  0.002  1.2  69.0   61.0  \n",
       "5  0.003  0.046  0.002  1.1  70.0   61.0  \n",
       "6  0.003  0.049  0.002  1.1  66.0   57.0  \n",
       "7  0.003  0.045  0.002  1.0  71.0   60.0  \n",
       "8  0.004  0.047  0.002  1.1  72.0   60.0  \n",
       "9  0.003  0.047  0.002  1.1  74.0   63.0  "
      ]
     },
     "execution_count": 3,
     "metadata": {},
     "output_type": "execute_result"
    }
   ],
   "source": [
    "\n",
    "data.head(10)"
   ]
  },
  {
   "cell_type": "code",
   "execution_count": 4,
   "metadata": {
    "colab": {
     "base_uri": "https://localhost:8080/",
     "height": 35
    },
    "colab_type": "code",
    "id": "cFj-Od2FNYr7",
    "outputId": "b7751fe7-ebf7-47ec-fcf2-19fd88d30a10"
   },
   "outputs": [
    {
     "name": "stdout",
     "output_type": "stream",
     "text": [
      "(647511, 1)\n"
     ]
    }
   ],
   "source": [
    "df=data['NO2']\n",
    "df=df.values\n",
    "df=df.reshape(df.shape[0],1)\n",
    "print(df.shape)"
   ]
  },
  {
   "cell_type": "code",
   "execution_count": 5,
   "metadata": {
    "colab": {
     "base_uri": "https://localhost:8080/",
     "height": 35
    },
    "colab_type": "code",
    "id": "rzYngv6_TPhh",
    "outputId": "61a9c06c-1c52-4be6-e5b7-59038013f64a"
   },
   "outputs": [
    {
     "name": "stdout",
     "output_type": "stream",
     "text": [
      "647511\n"
     ]
    }
   ],
   "source": [
    "list_=[]\n",
    "for i in range (0,df.shape[0]):\n",
    "  list_.append(df[i][0])\n",
    "print(len(list_))"
   ]
  },
  {
   "cell_type": "code",
   "execution_count": 6,
   "metadata": {
    "colab": {
     "base_uri": "https://localhost:8080/",
     "height": 35
    },
    "colab_type": "code",
    "id": "mFSUAFonN2ht",
    "outputId": "2d53fd17-faf6-4376-a5db-ee639ac509a1"
   },
   "outputs": [
    {
     "name": "stdout",
     "output_type": "stream",
     "text": [
      "647506 [0.059000000000000004, 0.057999999999999996, 0.055999999999999994, 0.055999999999999994, 0.051]\n"
     ]
    }
   ],
   "source": [
    "window_size=5\n",
    "y=[]\n",
    "for i in range (0,len(list_)-5):\n",
    "  x=list_[i:i+window_size]\n",
    "  y.append(x)\n",
    "print(len(y),y[0])\n"
   ]
  },
  {
   "cell_type": "code",
   "execution_count": 7,
   "metadata": {
    "colab": {
     "base_uri": "https://localhost:8080/",
     "height": 381
    },
    "colab_type": "code",
    "id": "jOkLjiONN_dz",
    "outputId": "df28ac6c-0e36-409a-b061-36e792fea7ae"
   },
   "outputs": [
    {
     "name": "stdout",
     "output_type": "stream",
     "text": [
      "(647506, 5)\n"
     ]
    },
    {
     "data": {
      "text/html": [
       "<div>\n",
       "<style scoped>\n",
       "    .dataframe tbody tr th:only-of-type {\n",
       "        vertical-align: middle;\n",
       "    }\n",
       "\n",
       "    .dataframe tbody tr th {\n",
       "        vertical-align: top;\n",
       "    }\n",
       "\n",
       "    .dataframe thead th {\n",
       "        text-align: right;\n",
       "    }\n",
       "</style>\n",
       "<table border=\"1\" class=\"dataframe\">\n",
       "  <thead>\n",
       "    <tr style=\"text-align: right;\">\n",
       "      <th></th>\n",
       "      <th>X1</th>\n",
       "      <th>X2</th>\n",
       "      <th>X3</th>\n",
       "      <th>X4</th>\n",
       "      <th>Y</th>\n",
       "    </tr>\n",
       "  </thead>\n",
       "  <tbody>\n",
       "    <tr>\n",
       "      <th>0</th>\n",
       "      <td>0.059</td>\n",
       "      <td>0.058</td>\n",
       "      <td>0.056</td>\n",
       "      <td>0.056</td>\n",
       "      <td>0.051</td>\n",
       "    </tr>\n",
       "    <tr>\n",
       "      <th>1</th>\n",
       "      <td>0.058</td>\n",
       "      <td>0.056</td>\n",
       "      <td>0.056</td>\n",
       "      <td>0.051</td>\n",
       "      <td>0.046</td>\n",
       "    </tr>\n",
       "    <tr>\n",
       "      <th>2</th>\n",
       "      <td>0.056</td>\n",
       "      <td>0.056</td>\n",
       "      <td>0.051</td>\n",
       "      <td>0.046</td>\n",
       "      <td>0.049</td>\n",
       "    </tr>\n",
       "    <tr>\n",
       "      <th>3</th>\n",
       "      <td>0.056</td>\n",
       "      <td>0.051</td>\n",
       "      <td>0.046</td>\n",
       "      <td>0.049</td>\n",
       "      <td>0.045</td>\n",
       "    </tr>\n",
       "    <tr>\n",
       "      <th>4</th>\n",
       "      <td>0.051</td>\n",
       "      <td>0.046</td>\n",
       "      <td>0.049</td>\n",
       "      <td>0.045</td>\n",
       "      <td>0.047</td>\n",
       "    </tr>\n",
       "    <tr>\n",
       "      <th>5</th>\n",
       "      <td>0.046</td>\n",
       "      <td>0.049</td>\n",
       "      <td>0.045</td>\n",
       "      <td>0.047</td>\n",
       "      <td>0.047</td>\n",
       "    </tr>\n",
       "    <tr>\n",
       "      <th>6</th>\n",
       "      <td>0.049</td>\n",
       "      <td>0.045</td>\n",
       "      <td>0.047</td>\n",
       "      <td>0.047</td>\n",
       "      <td>0.045</td>\n",
       "    </tr>\n",
       "    <tr>\n",
       "      <th>7</th>\n",
       "      <td>0.045</td>\n",
       "      <td>0.047</td>\n",
       "      <td>0.047</td>\n",
       "      <td>0.045</td>\n",
       "      <td>0.048</td>\n",
       "    </tr>\n",
       "    <tr>\n",
       "      <th>8</th>\n",
       "      <td>0.047</td>\n",
       "      <td>0.047</td>\n",
       "      <td>0.045</td>\n",
       "      <td>0.048</td>\n",
       "      <td>0.054</td>\n",
       "    </tr>\n",
       "    <tr>\n",
       "      <th>9</th>\n",
       "      <td>0.047</td>\n",
       "      <td>0.045</td>\n",
       "      <td>0.048</td>\n",
       "      <td>0.054</td>\n",
       "      <td>0.050</td>\n",
       "    </tr>\n",
       "  </tbody>\n",
       "</table>\n",
       "</div>"
      ],
      "text/plain": [
       "      X1     X2     X3     X4      Y\n",
       "0  0.059  0.058  0.056  0.056  0.051\n",
       "1  0.058  0.056  0.056  0.051  0.046\n",
       "2  0.056  0.056  0.051  0.046  0.049\n",
       "3  0.056  0.051  0.046  0.049  0.045\n",
       "4  0.051  0.046  0.049  0.045  0.047\n",
       "5  0.046  0.049  0.045  0.047  0.047\n",
       "6  0.049  0.045  0.047  0.047  0.045\n",
       "7  0.045  0.047  0.047  0.045  0.048\n",
       "8  0.047  0.047  0.045  0.048  0.054\n",
       "9  0.047  0.045  0.048  0.054  0.050"
      ]
     },
     "execution_count": 7,
     "metadata": {},
     "output_type": "execute_result"
    }
   ],
   "source": [
    "matrix=np.matrix(y)\n",
    "print(matrix.shape)\n",
    "new_data = pd.DataFrame(matrix,columns=['X1','X2','X3','X4','Y'])\n",
    "new_data.head(10)\n"
   ]
  },
  {
   "cell_type": "code",
   "execution_count": 8,
   "metadata": {
    "colab": {},
    "colab_type": "code",
    "id": "rQivHZ8cpD6d"
   },
   "outputs": [],
   "source": [
    "# NORMALISE the DATASET\n",
    "#from sklearn import preprocessing\n",
    "#scaler = preprocessing.MinMaxScaler()\n",
    "#matrix= scaler.fit_transform(matrix)\n",
    "#mm_scaler.transform(X_test)\n",
    "#new_data = pd.DataFrame(matrix,columns=['X1','X2','X3','X4','Y'])\n",
    "#new_data.head(10)"
   ]
  },
  {
   "cell_type": "code",
   "execution_count": 9,
   "metadata": {
    "colab": {
     "base_uri": "https://localhost:8080/",
     "height": 146
    },
    "colab_type": "code",
    "id": "0Z5frRmicq9M",
    "outputId": "7ea59dde-2c97-42ff-9d05-3fa5391507c6"
   },
   "outputs": [
    {
     "name": "stdout",
     "output_type": "stream",
     "text": [
      "[[0.051]\n",
      " [0.046]\n",
      " [0.049]\n",
      " ...\n",
      " [0.025]\n",
      " [0.023]\n",
      " [0.04 ]]\n"
     ]
    }
   ],
   "source": [
    "print(matrix[:,4])"
   ]
  },
  {
   "cell_type": "code",
   "execution_count": 10,
   "metadata": {
    "colab": {
     "base_uri": "https://localhost:8080/",
     "height": 109
    },
    "colab_type": "code",
    "id": "SG1fsHWxOPTk",
    "outputId": "86baf6a8-bace-437a-d714-effe50b3db6c"
   },
   "outputs": [
    {
     "name": "stdout",
     "output_type": "stream",
     "text": [
      "(213677, 1) [[0.0342947 ]\n",
      " [0.03538674]\n",
      " [0.02090323]\n",
      " [0.02751556]\n",
      " [0.03252823]]\n"
     ]
    }
   ],
   "source": [
    "from sklearn import linear_model\n",
    "from sklearn.model_selection import train_test_split\n",
    "from sklearn.metrics import r2_score\n",
    "from sklearn.metrics import mean_squared_error\n",
    "X_train, X_test, y_train, y_test = train_test_split(matrix[:,0:4],matrix[:,4],test_size=0.33, random_state=42)\n",
    "lm = linear_model.LinearRegression()\n",
    "model = lm.fit(X_train,y_train)\n",
    "prediction=model.predict(X_test)\n",
    "print(prediction.shape,prediction[0:5])"
   ]
  },
  {
   "cell_type": "code",
   "execution_count": 11,
   "metadata": {
    "colab": {
     "base_uri": "https://localhost:8080/",
     "height": 72
    },
    "colab_type": "code",
    "id": "bye3z6vaOvbl",
    "outputId": "6ca1333a-788d-4883-e12f-cb35fd7f0c96"
   },
   "outputs": [
    {
     "name": "stdout",
     "output_type": "stream",
     "text": [
      "0.6477366545458244\n",
      "[0.00360813]\n",
      "[[ 0.26738874 -0.13208824 -0.16619826  0.86945271]]\n"
     ]
    }
   ],
   "source": [
    "print(model.score(X_train,y_train))\n",
    "print(model.intercept_)\n",
    "print(model.coef_)"
   ]
  },
  {
   "cell_type": "code",
   "execution_count": 12,
   "metadata": {
    "colab": {
     "base_uri": "https://localhost:8080/",
     "height": 54
    },
    "colab_type": "code",
    "id": "K9AvmWqwO0h1",
    "outputId": "076b426d-5243-4731-9a3f-1f511d7f1e4e"
   },
   "outputs": [
    {
     "name": "stdout",
     "output_type": "stream",
     "text": [
      "0.10221879761702939\n",
      "0.2609014712426475\n"
     ]
    }
   ],
   "source": [
    "print(mean_squared_error(y_test,prediction)**0.5)\n",
    "print(r2_score(y_test,prediction))"
   ]
  },
  {
   "cell_type": "code",
   "execution_count": 13,
   "metadata": {
    "colab": {
     "base_uri": "https://localhost:8080/",
     "height": 281
    },
    "colab_type": "code",
    "id": "7ZFxbkZwIfsr",
    "outputId": "cbe9ce45-d0b8-4153-c5fc-8f917b2c1a2c"
   },
   "outputs": [
    {
     "data": {
      "image/png": "[encoded data removed]",
      "text/plain": [
       "<Figure size 432x288 with 1 Axes>"
      ]
     },
     "metadata": {
      "needs_background": "light"
     },
     "output_type": "display_data"
    }
   ],
   "source": [
    "plt.plot(y_test[0:100], color = 'black', label = 'TRUTH')\n",
    "plt.plot(prediction[0:100], color = 'green', label = 'PREDICTION')\n",
    "plt.title('Linear regression PERFORMANCE ON TEST SET')\n",
    "plt.ylabel('NO2')\n",
    "plt.legend()\n",
    "plt.show()"
   ]
  },
  {
   "cell_type": "code",
   "execution_count": 14,
   "metadata": {
    "colab": {
     "base_uri": "https://localhost:8080/",
     "height": 110
    },
    "colab_type": "code",
    "id": "hrZqAjEyGnIN",
    "outputId": "66344d56-66b1-471d-e8f3-0a58eb9c0450"
   },
   "outputs": [
    {
     "name": "stdout",
     "output_type": "stream",
     "text": [
      "0.10221834294367574\n",
      "0.2609080463084319\n"
     ]
    },
    {
     "name": "stderr",
     "output_type": "stream",
     "text": [
      "C:\\Users\\richa\\Anaconda3\\lib\\site-packages\\sklearn\\utils\\validation.py:760: DataConversionWarning: A column-vector y was passed when a 1d array was expected. Please change the shape of y to (n_samples, ), for example using ravel().\n",
      "  y = column_or_1d(y, warn=True)\n"
     ]
    }
   ],
   "source": [
    "# BAYESIAN RIDGE REGRESSION\n",
    "from sklearn import linear_model\n",
    "model = linear_model.BayesianRidge()\n",
    "model.fit(X_train,y_train)\n",
    "prediction=model.predict(X_test)\n",
    "print(mean_squared_error(y_test,prediction)**0.5)\n",
    "print(r2_score(y_test,prediction))"
   ]
  },
  {
   "cell_type": "code",
   "execution_count": 15,
   "metadata": {
    "colab": {
     "base_uri": "https://localhost:8080/",
     "height": 110
    },
    "colab_type": "code",
    "id": "crUrc4mjO8uL",
    "outputId": "fefdb85e-94d2-411d-c261-b4430c77a815"
   },
   "outputs": [
    {
     "name": "stderr",
     "output_type": "stream",
     "text": [
      "C:\\Users\\richa\\Anaconda3\\lib\\site-packages\\ipykernel_launcher.py:4: DataConversionWarning: A column-vector y was passed when a 1d array was expected. Please change the shape of y to (n_samples,), for example using ravel().\n",
      "  after removing the cwd from sys.path.\n"
     ]
    },
    {
     "name": "stdout",
     "output_type": "stream",
     "text": [
      "0.09029602734148669\n",
      "0.42326263535514697\n"
     ]
    }
   ],
   "source": [
    "# IMLEMENTING  RANDOM FOREST ALGORITHM\n",
    "from sklearn.ensemble import RandomForestRegressor\n",
    "model= RandomForestRegressor(max_depth=2, random_state=0)\n",
    "model.fit(X_train,y_train)\n",
    "prediction=model.predict(X_test)\n",
    "print(mean_squared_error(y_test,prediction)**0.5)\n",
    "print(r2_score(y_test,prediction))"
   ]
  },
  {
   "cell_type": "code",
   "execution_count": 16,
   "metadata": {
    "colab": {
     "base_uri": "https://localhost:8080/",
     "height": 281
    },
    "colab_type": "code",
    "id": "KAVNYF_yJXRN",
    "outputId": "683c729c-4d38-4a35-f976-888237df46bb"
   },
   "outputs": [
    {
     "data": {
      "image/png": "[encoded data removed]",
      "text/plain": [
       "<Figure size 432x288 with 1 Axes>"
      ]
     },
     "metadata": {
      "needs_background": "light"
     },
     "output_type": "display_data"
    }
   ],
   "source": [
    "plt.plot(y_test[0:100], color = 'black', label = 'TRUTH')\n",
    "plt.plot(prediction[0:100], color = 'green', label = 'PREDICTION')\n",
    "plt.title('Random forest regression PERFORMANCE ON TEST SET')\n",
    "plt.ylabel('data = pd.read_csvNO2')\n",
    "plt.legend()\n",
    "plt.show()"
   ]
  },
  {
   "cell_type": "code",
   "execution_count": 17,
   "metadata": {
    "colab": {
     "base_uri": "https://localhost:8080/",
     "height": 54
    },
    "colab_type": "code",
    "id": "VIgDwl3FE5KL",
    "outputId": "c5477635-d1aa-462a-88e1-49a17cabda06"
   },
   "outputs": [
    {
     "name": "stdout",
     "output_type": "stream",
     "text": [
      "0.11889940877874049\n",
      "-4.415937959745264e-07\n"
     ]
    }
   ],
   "source": [
    "# IMPLEMENTING LASSO REGRESSION\n",
    "from sklearn import linear_model\n",
    "model = linear_model.Lasso(alpha=0.1)\n",
    "model.fit(X_train,y_train)\n",
    "prediction=model.predict(X_test)\n",
    "print(mean_squared_error(y_test,prediction)**0.5)\n",
    "print(r2_score(y_test,prediction))"
   ]
  },
  {
   "cell_type": "code",
   "execution_count": 18,
   "metadata": {
    "colab": {
     "base_uri": "https://localhost:8080/",
     "height": 54
    },
    "colab_type": "code",
    "id": "s9oOYdsvFVAz",
    "outputId": "0242e734-06d8-4f9d-9c2e-b1b00f94b72b"
   },
   "outputs": [
    {
     "name": "stdout",
     "output_type": "stream",
     "text": [
      "0.102196878424787\n",
      "0.26121841306063287\n"
     ]
    }
   ],
   "source": [
    "# RIDGE REGRESSION\n",
    "from sklearn.linear_model import Ridge\n",
    "model = Ridge(alpha=1.0)\n",
    "model.fit(X_train,y_train)\n",
    "prediction=model.predict(X_test)\n",
    "print(mean_squared_error(y_test,prediction)**0.5)\n",
    "print(r2_score(y_test,prediction))\n"
   ]
  },
  {
   "cell_type": "code",
   "execution_count": 19,
   "metadata": {
    "colab": {
     "base_uri": "https://localhost:8080/",
     "height": 147
    },
    "colab_type": "code",
    "id": "08afymABtSx4",
    "outputId": "e46615d7-3fdb-47e1-986a-998f379320eb"
   },
   "outputs": [
    {
     "name": "stderr",
     "output_type": "stream",
     "text": [
      "C:\\Users\\richa\\Anaconda3\\lib\\site-packages\\sklearn\\utils\\validation.py:760: DataConversionWarning: A column-vector y was passed when a 1d array was expected. Please change the shape of y to (n_samples, ), for example using ravel().\n",
      "  y = column_or_1d(y, warn=True)\n"
     ]
    },
    {
     "name": "stdout",
     "output_type": "stream",
     "text": [
      "0.10658875991569232\n",
      "0.19635615914792182\n"
     ]
    },
    {
     "name": "stderr",
     "output_type": "stream",
     "text": [
      "C:\\Users\\richa\\Anaconda3\\lib\\site-packages\\sklearn\\svm\\_base.py:947: ConvergenceWarning: Liblinear failed to converge, increase the number of iterations.\n",
      "  \"the number of iterations.\", ConvergenceWarning)\n"
     ]
    }
   ],
   "source": [
    "# IMPLEMENTING SUPPORT VECTOR\n",
    "from sklearn.svm import LinearSVR\n",
    "model= LinearSVR()\n",
    "model.fit(X_train,y_train)\n",
    "prediction=model.predict(X_test)\n",
    "print(mean_squared_error(y_test,prediction)**0.5)\n",
    "print(r2_score(y_test,prediction))"
   ]
  },
  {
   "cell_type": "code",
   "execution_count": 20,
   "metadata": {
    "colab": {
     "base_uri": "https://localhost:8080/",
     "height": 281
    },
    "colab_type": "code",
    "id": "LFR-uIKhMIPs",
    "outputId": "060da036-83e2-4ce2-e186-06179c797d85"
   },
   "outputs": [
    {
     "data": {
      "image/png": "[encoded data removed]",
      "text/plain": [
       "<Figure size 432x288 with 1 Axes>"
      ]
     },
     "metadata": {
      "needs_background": "light"
     },
     "output_type": "display_data"
    }
   ],
   "source": [
    "plt.plot(y_test[0:100], color = 'black', label = 'TRUTH')\n",
    "plt.plot(prediction[0:100], color = 'green', label = 'PREDICTION')\n",
    "plt.title('SVM regression PERFORMANCE ON TEST SET')\n",
    "plt.ylabel('NO2')\n",
    "plt.legend()\n",
    "plt.show()"
   ]
  },
  {
   "cell_type": "code",
   "execution_count": 21,
   "metadata": {
    "colab": {
     "base_uri": "https://localhost:8080/",
     "height": 109
    },
    "colab_type": "code",
    "id": "tUpcjRA2hCQz",
    "outputId": "99da5185-9f21-4466-a046-2864d13b09a5"
   },
   "outputs": [
    {
     "name": "stdout",
     "output_type": "stream",
     "text": [
      "Epoch 1/50\n",
      "433829/433829 [==============================] - 12s 27us/step - loss: 0.0114 - accuracy: 0.0073\n",
      "Epoch 2/50\n",
      "433829/433829 [==============================] - 12s 27us/step - loss: 0.0123 - accuracy: 0.0073\n",
      "Epoch 3/50\n",
      "433829/433829 [==============================] - 12s 27us/step - loss: 0.0123 - accuracy: 0.0073\n",
      "Epoch 4/50\n",
      "433829/433829 [==============================] - 12s 27us/step - loss: 0.0123 - accuracy: 0.0073\n",
      "Epoch 5/50\n",
      "433829/433829 [==============================] - 12s 27us/step - loss: 0.0123 - accuracy: 0.0073\n",
      "Epoch 6/50\n",
      "433829/433829 [==============================] - 12s 27us/step - loss: 0.0123 - accuracy: 0.0073\n",
      "Epoch 7/50\n",
      "433829/433829 [==============================] - 12s 29us/step - loss: 0.0123 - accuracy: 0.0073\n",
      "Epoch 8/50\n",
      "433829/433829 [==============================] - 11s 26us/step - loss: 0.0123 - accuracy: 0.0073\n",
      "Epoch 9/50\n",
      "433829/433829 [==============================] - 12s 27us/step - loss: 0.0123 - accuracy: 0.0073\n",
      "Epoch 10/50\n",
      "433829/433829 [==============================] - 12s 27us/step - loss: 0.0123 - accuracy: 0.0073\n",
      "Epoch 11/50\n",
      "433829/433829 [==============================] - 12s 27us/step - loss: 0.0123 - accuracy: 0.0073\n",
      "Epoch 12/50\n",
      "433829/433829 [==============================] - 12s 27us/step - loss: 0.0123 - accuracy: 0.0073\n",
      "Epoch 13/50\n",
      "433829/433829 [==============================] - 11s 26us/step - loss: 0.0123 - accuracy: 0.0073\n",
      "Epoch 14/50\n",
      "433829/433829 [==============================] - 12s 27us/step - loss: 0.0123 - accuracy: 0.0073\n",
      "Epoch 15/50\n",
      "433829/433829 [==============================] - 11s 26us/step - loss: 0.0123 - accuracy: 0.0073\n",
      "Epoch 16/50\n",
      "433829/433829 [==============================] - 12s 27us/step - loss: 0.0123 - accuracy: 0.0073\n",
      "Epoch 17/50\n",
      "433829/433829 [==============================] - 12s 27us/step - loss: 0.0123 - accuracy: 0.0073\n",
      "Epoch 18/50\n",
      "433829/433829 [==============================] - 12s 27us/step - loss: 0.0123 - accuracy: 0.0073\n",
      "Epoch 19/50\n",
      "433829/433829 [==============================] - 12s 27us/step - loss: 0.0123 - accuracy: 0.0073\n",
      "Epoch 20/50\n",
      "433829/433829 [==============================] - 12s 27us/step - loss: 0.0123 - accuracy: 0.0073\n",
      "Epoch 21/50\n",
      "433829/433829 [==============================] - 12s 27us/step - loss: 0.0123 - accuracy: 0.0073\n",
      "Epoch 22/50\n",
      "433829/433829 [==============================] - 11s 26us/step - loss: 0.0123 - accuracy: 0.0073\n",
      "Epoch 23/50\n",
      "433829/433829 [==============================] - 12s 27us/step - loss: 0.0123 - accuracy: 0.0073\n",
      "Epoch 24/50\n",
      "433829/433829 [==============================] - 12s 27us/step - loss: 0.0123 - accuracy: 0.0073\n",
      "Epoch 25/50\n",
      "433829/433829 [==============================] - 12s 27us/step - loss: 0.0123 - accuracy: 0.0073\n",
      "Epoch 26/50\n",
      "433829/433829 [==============================] - 12s 27us/step - loss: 0.0123 - accuracy: 0.0073\n",
      "Epoch 27/50\n",
      "433829/433829 [==============================] - 12s 27us/step - loss: 0.0123 - accuracy: 0.0073\n",
      "Epoch 28/50\n",
      "433829/433829 [==============================] - 12s 27us/step - loss: 0.0123 - accuracy: 0.0073\n",
      "Epoch 29/50\n",
      "433829/433829 [==============================] - 11s 26us/step - loss: 0.0123 - accuracy: 0.0073\n",
      "Epoch 30/50\n",
      "433829/433829 [==============================] - 12s 27us/step - loss: 0.0123 - accuracy: 0.0073\n",
      "Epoch 31/50\n",
      "433829/433829 [==============================] - 12s 27us/step - loss: 0.0123 - accuracy: 0.0073\n",
      "Epoch 32/50\n",
      "433829/433829 [==============================] - 12s 27us/step - loss: 0.0123 - accuracy: 0.0073\n",
      "Epoch 33/50\n",
      "433829/433829 [==============================] - 12s 27us/step - loss: 0.0123 - accuracy: 0.0073\n",
      "Epoch 34/50\n",
      "433829/433829 [==============================] - 12s 27us/step - loss: 0.0123 - accuracy: 0.0073\n",
      "Epoch 35/50\n",
      "433829/433829 [==============================] - 12s 27us/step - loss: 0.0123 - accuracy: 0.0073\n",
      "Epoch 36/50\n",
      "433829/433829 [==============================] - 12s 27us/step - loss: 0.0123 - accuracy: 0.0073\n",
      "Epoch 37/50\n",
      "433829/433829 [==============================] - 12s 27us/step - loss: 0.0123 - accuracy: 0.0073\n",
      "Epoch 38/50\n",
      "433829/433829 [==============================] - 12s 27us/step - loss: 0.0123 - accuracy: 0.0073\n",
      "Epoch 39/50\n",
      "433829/433829 [==============================] - 12s 27us/step - loss: 0.0123 - accuracy: 0.0073\n",
      "Epoch 40/50\n",
      "433829/433829 [==============================] - 12s 27us/step - loss: 0.0123 - accuracy: 0.0073\n",
      "Epoch 41/50\n",
      "433829/433829 [==============================] - 12s 27us/step - loss: 0.0123 - accuracy: 0.0073\n",
      "Epoch 42/50\n",
      "433829/433829 [==============================] - 12s 27us/step - loss: 0.0123 - accuracy: 0.0073\n",
      "Epoch 43/50\n",
      "433829/433829 [==============================] - 12s 27us/step - loss: 0.0123 - accuracy: 0.0073\n",
      "Epoch 44/50\n",
      "433829/433829 [==============================] - 12s 27us/step - loss: 0.0123 - accuracy: 0.0073\n",
      "Epoch 45/50\n",
      "433829/433829 [==============================] - 12s 27us/step - loss: 0.0124 - accuracy: 0.0073\n",
      "Epoch 46/50\n",
      "433829/433829 [==============================] - 12s 27us/step - loss: 0.0123 - accuracy: 0.0073\n",
      "Epoch 47/50\n",
      "433829/433829 [==============================] - 12s 27us/step - loss: 0.0123 - accuracy: 0.0073\n",
      "Epoch 48/50\n",
      "433829/433829 [==============================] - 11s 26us/step - loss: 0.0123 - accuracy: 0.0073\n",
      "Epoch 49/50\n",
      "433829/433829 [==============================] - 12s 28us/step - loss: 0.0123 - accuracy: 0.0073\n",
      "Epoch 50/50\n",
      "433829/433829 [==============================] - 12s 27us/step - loss: 0.0123 - accuracy: 0.0073\n"
     ]
    }
   ],
   "source": [
    "# IMPLEMENTING A NEURAL NETWORK\n",
    "from sklearn.preprocessing import StandardScaler\n",
    "#sc = StandardScaler()\n",
    "#X = sc.fit_transform(X)\n",
    "import keras\n",
    "from keras.models import Sequential\n",
    "from keras.layers import Dense\n",
    "# Neural network\n",
    "model = Sequential()\n",
    "model.add(Dense(128, input_dim=4, activation='relu'))\n",
    "model.add(Dense(512, activation='relu'))\n",
    "model.add(Dense(1, activation='relu'))\n",
    "\n",
    "\n",
    "model.compile(optimizer = \"adam\", loss ='mse', \n",
    "          metrics =[\"accuracy\"])\n",
    "history = model.fit(X_train, y_train, epochs=50, batch_size=64)"
   ]
  },
  {
   "cell_type": "code",
   "execution_count": 22,
   "metadata": {
    "colab": {},
    "colab_type": "code",
    "id": "txen3N-yvsAt"
   },
   "outputs": [
    {
     "name": "stdout",
     "output_type": "stream",
     "text": [
      "dict_keys(['loss', 'accuracy'])\n"
     ]
    },
    {
     "data": {
      "image/png": "[encoded data removed]",
      "text/plain": [
       "<Figure size 432x288 with 1 Axes>"
      ]
     },
     "metadata": {
      "needs_background": "light"
     },
     "output_type": "display_data"
    },
    {
     "name": "stdout",
     "output_type": "stream",
     "text": [
      "0.11680654457437722\n"
     ]
    }
   ],
   "source": [
    "print(history.history.keys())\n",
    "# \"Loss\"\n",
    "plt.plot(history.history['loss'])\n",
    "plt.title('model loss')\n",
    "plt.ylabel('loss')\n",
    "plt.xlabel('epoch')\n",
    "plt.legend(['train'], loc='upper left')\n",
    "plt.show()\n",
    "y_pred = model.predict(X_test)\n",
    "print(mean_squared_error(y_test,y_pred)**0.5)\n",
    "#Converting predictions to label\n"
   ]
  },
  {
   "cell_type": "code",
   "execution_count": 23,
   "metadata": {
    "colab": {},
    "colab_type": "code",
    "id": "TTfaJJDaHGg9"
   },
   "outputs": [
    {
     "name": "stdout",
     "output_type": "stream",
     "text": [
      "[[0.048 0.048 0.045 0.046]\n",
      " [0.028 0.035 0.03  0.032]\n",
      " [0.021 0.019 0.018 0.023]\n",
      " ...\n",
      " [0.02  0.022 0.027 0.031]\n",
      " [0.031 0.02  0.015 0.013]\n",
      " [0.005 0.006 0.005 0.009]]\n",
      "(433829, 4)\n",
      "(433829, 4, 1)\n"
     ]
    }
   ],
   "source": [
    "print(X_train)\n",
    "X_train=np.asarray(X_train)\n",
    "X_test=np.asarray(X_test)\n",
    "y_train=np.asarray(y_train)\n",
    "y_test=np.asarray(y_test)\n",
    "\n",
    "print(X_train.shape)\n",
    "X_train=X_train.reshape(X_train.shape[0],X_train.shape[1],1)\n",
    "print(X_train.shape)"
   ]
  },
  {
   "cell_type": "code",
   "execution_count": 24,
   "metadata": {
    "colab": {},
    "colab_type": "code",
    "id": "FFUuCp8g1vzB"
   },
   "outputs": [
    {
     "name": "stdout",
     "output_type": "stream",
     "text": [
      "Epoch 1/30\n",
      "433829/433829 [==============================] - 145s 333us/step - loss: 0.0072\n",
      "Epoch 2/30\n",
      "433829/433829 [==============================] - 139s 321us/step - loss: 0.0068\n",
      "Epoch 3/30\n",
      "433829/433829 [==============================] - 139s 321us/step - loss: 0.0069\n",
      "Epoch 4/30\n",
      "433829/433829 [==============================] - 140s 324us/step - loss: 0.0069\n",
      "Epoch 5/30\n",
      "433829/433829 [==============================] - 148s 342us/step - loss: 0.0068\n",
      "Epoch 6/30\n",
      "433829/433829 [==============================] - 140s 322us/step - loss: 0.0069\n",
      "Epoch 7/30\n",
      "433829/433829 [==============================] - 138s 317us/step - loss: 0.0068\n",
      "Epoch 8/30\n",
      "433829/433829 [==============================] - 143s 329us/step - loss: 0.0066\n",
      "Epoch 9/30\n",
      "433829/433829 [==============================] - 145s 334us/step - loss: 0.0066\n",
      "Epoch 10/30\n",
      "433829/433829 [==============================] - 144s 332us/step - loss: 0.0065\n",
      "Epoch 11/30\n",
      "433829/433829 [==============================] - 149s 343us/step - loss: 0.0064\n",
      "Epoch 12/30\n",
      "433829/433829 [==============================] - 141s 325us/step - loss: 0.0063\n",
      "Epoch 13/30\n",
      "433829/433829 [==============================] - 138s 318us/step - loss: 0.0063\n",
      "Epoch 14/30\n",
      "433829/433829 [==============================] - 137s 316us/step - loss: 0.0063\n",
      "Epoch 15/30\n",
      "433829/433829 [==============================] - 137s 315us/step - loss: 0.0063\n",
      "Epoch 16/30\n",
      "433829/433829 [==============================] - 137s 316us/step - loss: 0.0064\n",
      "Epoch 17/30\n",
      "433829/433829 [==============================] - 139s 320us/step - loss: 0.0062\n",
      "Epoch 18/30\n",
      "433829/433829 [==============================] - 146s 337us/step - loss: 0.0060\n",
      "Epoch 19/30\n",
      "433829/433829 [==============================] - 142s 328us/step - loss: 0.0059\n",
      "Epoch 20/30\n",
      "433829/433829 [==============================] - 143s 331us/step - loss: 0.0059\n",
      "Epoch 21/30\n",
      "433829/433829 [==============================] - 144s 331us/step - loss: 0.0059\n",
      "Epoch 22/30\n",
      "433829/433829 [==============================] - 144s 333us/step - loss: 0.0058\n",
      "Epoch 23/30\n",
      "433829/433829 [==============================] - 142s 328us/step - loss: 0.0058\n",
      "Epoch 24/30\n",
      "433829/433829 [==============================] - 142s 326us/step - loss: 0.0058\n",
      "Epoch 25/30\n",
      "433829/433829 [==============================] - 143s 330us/step - loss: 0.0056\n",
      "Epoch 26/30\n",
      "433829/433829 [==============================] - 151s 347us/step - loss: 0.0056\n",
      "Epoch 27/30\n",
      "433829/433829 [==============================] - 154s 354us/step - loss: 0.0057\n",
      "Epoch 28/30\n",
      "433829/433829 [==============================] - 146s 336us/step - loss: 0.0057\n",
      "Epoch 29/30\n",
      "433829/433829 [==============================] - 146s 335us/step - loss: 0.0053\n",
      "Epoch 30/30\n",
      "433829/433829 [==============================] - 156s 359us/step - loss: 0.0055\n"
     ]
    }
   ],
   "source": [
    "from keras.models import Sequential\n",
    "from keras.layers import Dense\n",
    "from keras.layers import LSTM\n",
    "from keras.layers import Dropout\n",
    "regressor = Sequential()\n",
    "\n",
    "regressor.add(LSTM(units = 50, return_sequences = True, input_shape = (X_train.shape[1], 1)))\n",
    "regressor.add(Dropout(0.2))\n",
    "\n",
    "regressor.add(LSTM(units = 50, return_sequences = True))\n",
    "regressor.add(Dropout(0.2))\n",
    "\n",
    "regressor.add(LSTM(units = 50, return_sequences = True))\n",
    "regressor.add(Dropout(0.2))\n",
    "\n",
    "regressor.add(LSTM(units = 50))\n",
    "regressor.add(Dropout(0.2))\n",
    "\n",
    "regressor.add(Dense(units = 1))\n",
    "\n",
    "regressor.compile(optimizer = 'adam', loss = 'mean_squared_error')\n",
    "\n",
    "history = regressor.fit(X_train, y_train, epochs = 30, batch_size = 32)"
   ]
  },
  {
   "cell_type": "code",
   "execution_count": 25,
   "metadata": {
    "colab": {},
    "colab_type": "code",
    "id": "GvEtr3IPv0Sh"
   },
   "outputs": [
    {
     "name": "stdout",
     "output_type": "stream",
     "text": [
      "dict_keys(['loss'])\n"
     ]
    },
    {
     "data": {
      "image/png": "[encoded data removed]",
      "text/plain": [
       "<Figure size 432x288 with 1 Axes>"
      ]
     },
     "metadata": {
      "needs_background": "light"
     },
     "output_type": "display_data"
    },
    {
     "name": "stdout",
     "output_type": "stream",
     "text": [
      "0.08712905461960758\n"
     ]
    }
   ],
   "source": [
    "print(history.history.keys())\n",
    "# \"Loss\"\n",
    "plt.plot(history.history['loss'])\n",
    "plt.title('model loss')\n",
    "plt.ylabel('loss')\n",
    "plt.xlabel('epoch')\n",
    "plt.legend(['train'], loc='upper left')\n",
    "plt.show()\n",
    "X_test=X_test.reshape(X_test.shape[0],X_test.shape[1],1)\n",
    "y_pred = regressor.predict(X_test)\n",
    "print(mean_squared_error(y_test,y_pred)**0.5)"
   ]
  },
  {
   "cell_type": "code",
   "execution_count": 26,
   "metadata": {
    "colab": {},
    "colab_type": "code",
    "id": "64suBIQS8DmU"
   },
   "outputs": [
    {
     "data": {
      "image/png": "[encoded data removed]",
      "text/plain": [
       "<Figure size 432x288 with 1 Axes>"
      ]
     },
     "metadata": {
      "needs_background": "light"
     },
     "output_type": "display_data"
    }
   ],
   "source": [
    "plt.plot(y_test[0:100], color = 'black', label = 'TRUTH')\n",
    "plt.plot(y_pred[0:100], color = 'green', label = 'PREDICTION')\n",
    "plt.title('LSTM PERFORMANCE ON TEST SET')\n",
    "plt.ylabel('NO2')\n",
    "plt.legend()\n",
    "plt.show()"
   ]
  },
  {
   "cell_type": "code",
   "execution_count": null,
   "metadata": {
    "colab": {},
    "colab_type": "code",
    "id": "M6ATb9dKn9KE"
   },
   "outputs": [],
   "source": []
  },
  {
   "cell_type": "code",
   "execution_count": null,
   "metadata": {
    "colab": {},
    "colab_type": "code",
    "id": "Gj9JlfvToq1-"
   },
   "outputs": [],
   "source": []
  }
 ],
 "metadata": {
  "colab": {
   "collapsed_sections": [],
   "name": "airpollutiono3.ipynb",
   "provenance": []
  },
  "kernelspec": {
   "display_name": "Python 3",
   "language": "python",
   "name": "python3"
  },
  "language_info": {
   "codemirror_mode": {
    "name": "ipython",
    "version": 3
   },
   "file_extension": ".py",
   "mimetype": "text/x-python",
   "name": "python",
   "nbconvert_exporter": "python",
   "pygments_lexer": "ipython3",
   "version": "3.7.7"
  }
 },
 "nbformat": 4,
 "nbformat_minor": 1
}
