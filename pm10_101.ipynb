{
  "nbformat": 4,
  "nbformat_minor": 0,
  "metadata": {
    "colab": {
      "name": "Untitled17.ipynb",
      "provenance": [],
      "collapsed_sections": []
    },
    "kernelspec": {
      "name": "python3",
      "display_name": "Python 3"
    },
    "accelerator": "GPU"
  },
  "cells": [
    {
      "cell_type": "code",
      "metadata": {
        "id": "r4m1QUD8Lt4y",
        "colab_type": "code",
        "colab": {}
      },
      "source": [
        "#!unzip air-pollution-in-seoul.zip"
      ],
      "execution_count": 0,
      "outputs": []
    },
    {
      "cell_type": "code",
      "metadata": {
        "id": "aLafiv1zMqa3",
        "colab_type": "code",
        "colab": {}
      },
      "source": [
        "import pandas as pd\n",
        "import numpy as np\n",
        "import pickle\n",
        "from sklearn.externals import joblib \n",
        "% matplotlib inline\n",
        "import matplotlib.pyplot as plt"
      ],
      "execution_count": 0,
      "outputs": []
    },
    {
      "cell_type": "code",
      "metadata": {
        "id": "nZUi7009M9kN",
        "colab_type": "code",
        "outputId": "5d0dc633-77b8-4e13-cd13-744072c5e0f3",
        "colab": {
          "base_uri": "https://localhost:8080/",
          "height": 546
        }
      },
      "source": [
        "data = pd.read_csv('AirPollutionSeoul/Measurement_summary.csv')\n",
        "data.head(10)"
      ],
      "execution_count": 0,
      "outputs": [
        {
          "output_type": "execute_result",
          "data": {
            "text/html": [
              "<div>\n",
              "<style scoped>\n",
              "    .dataframe tbody tr th:only-of-type {\n",
              "        vertical-align: middle;\n",
              "    }\n",
              "\n",
              "    .dataframe tbody tr th {\n",
              "        vertical-align: top;\n",
              "    }\n",
              "\n",
              "    .dataframe thead th {\n",
              "        text-align: right;\n",
              "    }\n",
              "</style>\n",
              "<table border=\"1\" class=\"dataframe\">\n",
              "  <thead>\n",
              "    <tr style=\"text-align: right;\">\n",
              "      <th></th>\n",
              "      <th>Measurement date</th>\n",
              "      <th>Station code</th>\n",
              "      <th>Address</th>\n",
              "      <th>Latitude</th>\n",
              "      <th>Longitude</th>\n",
              "      <th>SO2</th>\n",
              "      <th>NO2</th>\n",
              "      <th>O3</th>\n",
              "      <th>CO</th>\n",
              "      <th>PM10</th>\n",
              "      <th>PM2.5</th>\n",
              "    </tr>\n",
              "  </thead>\n",
              "  <tbody>\n",
              "    <tr>\n",
              "      <th>0</th>\n",
              "      <td>2017-01-01 00:00</td>\n",
              "      <td>101</td>\n",
              "      <td>19, Jong-ro 35ga-gil, Jongno-gu, Seoul, Republ...</td>\n",
              "      <td>37.572016</td>\n",
              "      <td>127.005007</td>\n",
              "      <td>0.004</td>\n",
              "      <td>0.059</td>\n",
              "      <td>0.002</td>\n",
              "      <td>1.2</td>\n",
              "      <td>73.0</td>\n",
              "      <td>57.0</td>\n",
              "    </tr>\n",
              "    <tr>\n",
              "      <th>1</th>\n",
              "      <td>2017-01-01 01:00</td>\n",
              "      <td>101</td>\n",
              "      <td>19, Jong-ro 35ga-gil, Jongno-gu, Seoul, Republ...</td>\n",
              "      <td>37.572016</td>\n",
              "      <td>127.005007</td>\n",
              "      <td>0.004</td>\n",
              "      <td>0.058</td>\n",
              "      <td>0.002</td>\n",
              "      <td>1.2</td>\n",
              "      <td>71.0</td>\n",
              "      <td>59.0</td>\n",
              "    </tr>\n",
              "    <tr>\n",
              "      <th>2</th>\n",
              "      <td>2017-01-01 02:00</td>\n",
              "      <td>101</td>\n",
              "      <td>19, Jong-ro 35ga-gil, Jongno-gu, Seoul, Republ...</td>\n",
              "      <td>37.572016</td>\n",
              "      <td>127.005007</td>\n",
              "      <td>0.004</td>\n",
              "      <td>0.056</td>\n",
              "      <td>0.002</td>\n",
              "      <td>1.2</td>\n",
              "      <td>70.0</td>\n",
              "      <td>59.0</td>\n",
              "    </tr>\n",
              "    <tr>\n",
              "      <th>3</th>\n",
              "      <td>2017-01-01 03:00</td>\n",
              "      <td>101</td>\n",
              "      <td>19, Jong-ro 35ga-gil, Jongno-gu, Seoul, Republ...</td>\n",
              "      <td>37.572016</td>\n",
              "      <td>127.005007</td>\n",
              "      <td>0.004</td>\n",
              "      <td>0.056</td>\n",
              "      <td>0.002</td>\n",
              "      <td>1.2</td>\n",
              "      <td>70.0</td>\n",
              "      <td>58.0</td>\n",
              "    </tr>\n",
              "    <tr>\n",
              "      <th>4</th>\n",
              "      <td>2017-01-01 04:00</td>\n",
              "      <td>101</td>\n",
              "      <td>19, Jong-ro 35ga-gil, Jongno-gu, Seoul, Republ...</td>\n",
              "      <td>37.572016</td>\n",
              "      <td>127.005007</td>\n",
              "      <td>0.003</td>\n",
              "      <td>0.051</td>\n",
              "      <td>0.002</td>\n",
              "      <td>1.2</td>\n",
              "      <td>69.0</td>\n",
              "      <td>61.0</td>\n",
              "    </tr>\n",
              "    <tr>\n",
              "      <th>5</th>\n",
              "      <td>2017-01-01 05:00</td>\n",
              "      <td>101</td>\n",
              "      <td>19, Jong-ro 35ga-gil, Jongno-gu, Seoul, Republ...</td>\n",
              "      <td>37.572016</td>\n",
              "      <td>127.005007</td>\n",
              "      <td>0.003</td>\n",
              "      <td>0.046</td>\n",
              "      <td>0.002</td>\n",
              "      <td>1.1</td>\n",
              "      <td>70.0</td>\n",
              "      <td>61.0</td>\n",
              "    </tr>\n",
              "    <tr>\n",
              "      <th>6</th>\n",
              "      <td>2017-01-01 06:00</td>\n",
              "      <td>101</td>\n",
              "      <td>19, Jong-ro 35ga-gil, Jongno-gu, Seoul, Republ...</td>\n",
              "      <td>37.572016</td>\n",
              "      <td>127.005007</td>\n",
              "      <td>0.003</td>\n",
              "      <td>0.049</td>\n",
              "      <td>0.002</td>\n",
              "      <td>1.1</td>\n",
              "      <td>66.0</td>\n",
              "      <td>57.0</td>\n",
              "    </tr>\n",
              "    <tr>\n",
              "      <th>7</th>\n",
              "      <td>2017-01-01 07:00</td>\n",
              "      <td>101</td>\n",
              "      <td>19, Jong-ro 35ga-gil, Jongno-gu, Seoul, Republ...</td>\n",
              "      <td>37.572016</td>\n",
              "      <td>127.005007</td>\n",
              "      <td>0.003</td>\n",
              "      <td>0.045</td>\n",
              "      <td>0.002</td>\n",
              "      <td>1.0</td>\n",
              "      <td>71.0</td>\n",
              "      <td>60.0</td>\n",
              "    </tr>\n",
              "    <tr>\n",
              "      <th>8</th>\n",
              "      <td>2017-01-01 08:00</td>\n",
              "      <td>101</td>\n",
              "      <td>19, Jong-ro 35ga-gil, Jongno-gu, Seoul, Republ...</td>\n",
              "      <td>37.572016</td>\n",
              "      <td>127.005007</td>\n",
              "      <td>0.004</td>\n",
              "      <td>0.047</td>\n",
              "      <td>0.002</td>\n",
              "      <td>1.1</td>\n",
              "      <td>72.0</td>\n",
              "      <td>60.0</td>\n",
              "    </tr>\n",
              "    <tr>\n",
              "      <th>9</th>\n",
              "      <td>2017-01-01 09:00</td>\n",
              "      <td>101</td>\n",
              "      <td>19, Jong-ro 35ga-gil, Jongno-gu, Seoul, Republ...</td>\n",
              "      <td>37.572016</td>\n",
              "      <td>127.005007</td>\n",
              "      <td>0.003</td>\n",
              "      <td>0.047</td>\n",
              "      <td>0.002</td>\n",
              "      <td>1.1</td>\n",
              "      <td>74.0</td>\n",
              "      <td>63.0</td>\n",
              "    </tr>\n",
              "  </tbody>\n",
              "</table>\n",
              "</div>"
            ],
            "text/plain": [
              "   Measurement date  Station code  ...  PM10  PM2.5\n",
              "0  2017-01-01 00:00           101  ...  73.0   57.0\n",
              "1  2017-01-01 01:00           101  ...  71.0   59.0\n",
              "2  2017-01-01 02:00           101  ...  70.0   59.0\n",
              "3  2017-01-01 03:00           101  ...  70.0   58.0\n",
              "4  2017-01-01 04:00           101  ...  69.0   61.0\n",
              "5  2017-01-01 05:00           101  ...  70.0   61.0\n",
              "6  2017-01-01 06:00           101  ...  66.0   57.0\n",
              "7  2017-01-01 07:00           101  ...  71.0   60.0\n",
              "8  2017-01-01 08:00           101  ...  72.0   60.0\n",
              "9  2017-01-01 09:00           101  ...  74.0   63.0\n",
              "\n",
              "[10 rows x 11 columns]"
            ]
          },
          "metadata": {
            "tags": []
          },
          "execution_count": 40
        }
      ]
    },
    {
      "cell_type": "code",
      "metadata": {
        "id": "cFj-Od2FNYr7",
        "colab_type": "code",
        "outputId": "02c2f6ad-cabd-428a-e794-b898e2a06c40",
        "colab": {
          "base_uri": "https://localhost:8080/",
          "height": 255
        }
      },
      "source": [
        "# Retriving data for station code 101 for pm10\n",
        "data_101=data[(data['Station code']==101) & (data['PM10']>0)]\n",
        "print(len(data_101))\n",
        "print(data_101.head(10))"
      ],
      "execution_count": 0,
      "outputs": [
        {
          "output_type": "stream",
          "text": [
            "25812\n",
            "   Measurement date  Station code  ...  PM10  PM2.5\n",
            "0  2017-01-01 00:00           101  ...  73.0   57.0\n",
            "1  2017-01-01 01:00           101  ...  71.0   59.0\n",
            "2  2017-01-01 02:00           101  ...  70.0   59.0\n",
            "3  2017-01-01 03:00           101  ...  70.0   58.0\n",
            "4  2017-01-01 04:00           101  ...  69.0   61.0\n",
            "5  2017-01-01 05:00           101  ...  70.0   61.0\n",
            "6  2017-01-01 06:00           101  ...  66.0   57.0\n",
            "7  2017-01-01 07:00           101  ...  71.0   60.0\n",
            "8  2017-01-01 08:00           101  ...  72.0   60.0\n",
            "9  2017-01-01 09:00           101  ...  74.0   63.0\n",
            "\n",
            "[10 rows x 11 columns]\n"
          ],
          "name": "stdout"
        }
      ]
    },
    {
      "cell_type": "code",
      "metadata": {
        "id": "gWDS6JoqXlfP",
        "colab_type": "code",
        "outputId": "4087c892-a7a1-4bf5-db6d-512d54e26754",
        "colab": {
          "base_uri": "https://localhost:8080/",
          "height": 296
        }
      },
      "source": [
        "import seaborn as sns\n",
        "sns.boxplot(data_101['PM10'])"
      ],
      "execution_count": 0,
      "outputs": [
        {
          "output_type": "execute_result",
          "data": {
            "text/plain": [
              "<matplotlib.axes._subplots.AxesSubplot at 0x7f592d3cf9b0>"
            ]
          },
          "metadata": {
            "tags": []
          },
          "execution_count": 42
        },
        {
          "output_type": "display_data",
          "data": {
            "image/png": "[encoded data removed]",
            "text/plain": [
              "<Figure size 432x288 with 1 Axes>"
            ]
          },
          "metadata": {
            "tags": [],
            "needs_background": "light"
          }
        }
      ]
    },
    {
      "cell_type": "code",
      "metadata": {
        "id": "EcgONzxKnL2u",
        "colab_type": "code",
        "outputId": "effa6c28-e9ac-4fba-933b-d74caf6e6d1b",
        "colab": {
          "base_uri": "https://localhost:8080/",
          "height": 313
        }
      },
      "source": [
        "from scipy import stats\n",
        "z = np.abs(stats.zscore(data_101['PM10']))\n",
        "threshold = 3\n",
        "#print(len(np.where(z > 3)))\n",
        "data_101_Rout = data_101[(z < 3)]\n",
        "print(len(data_101_Rout))\n",
        "sns.boxplot(data_101_Rout['PM10'])"
      ],
      "execution_count": 0,
      "outputs": [
        {
          "output_type": "stream",
          "text": [
            "25419\n"
          ],
          "name": "stdout"
        },
        {
          "output_type": "execute_result",
          "data": {
            "text/plain": [
              "<matplotlib.axes._subplots.AxesSubplot at 0x7f592c1475c0>"
            ]
          },
          "metadata": {
            "tags": []
          },
          "execution_count": 43
        },
        {
          "output_type": "display_data",
          "data": {
            "image/png": "[encoded data removed]",
            "text/plain": [
              "<Figure size 432x288 with 1 Axes>"
            ]
          },
          "metadata": {
            "tags": [],
            "needs_background": "light"
          }
        }
      ]
    },
    {
      "cell_type": "code",
      "metadata": {
        "id": "_LNanJd1a1_D",
        "colab_type": "code",
        "outputId": "9b2ef833-c516-491f-d0a5-cda563495112",
        "colab": {
          "base_uri": "https://localhost:8080/",
          "height": 34
        }
      },
      "source": [
        "df=data_101_Rout['PM10']\n",
        "df=df.values\n",
        "df=df.reshape(df.shape[0],1)\n",
        "print(df.shape)"
      ],
      "execution_count": 0,
      "outputs": [
        {
          "output_type": "stream",
          "text": [
            "(25419, 1)\n"
          ],
          "name": "stdout"
        }
      ]
    },
    {
      "cell_type": "code",
      "metadata": {
        "id": "rzYngv6_TPhh",
        "colab_type": "code",
        "outputId": "36226689-2b6e-416e-f39d-7038dfda50a7",
        "colab": {
          "base_uri": "https://localhost:8080/",
          "height": 68
        }
      },
      "source": [
        "from sklearn import preprocessing\n",
        "min_max_scaler = preprocessing.MinMaxScaler()\n",
        "df_scaled = min_max_scaler.fit_transform(df)\n",
        "print(min(df),max(df))\n",
        "list_=[]\n",
        "for i in range (0,df_scaled.shape[0]):\n",
        "  list_.append(df_scaled[i][0])\n",
        "print(len(list_))\n",
        "print(min(list_),max(list_))\n"
      ],
      "execution_count": 0,
      "outputs": [
        {
          "output_type": "stream",
          "text": [
            "[1.] [120.]\n",
            "25419\n",
            "0.0 1.0\n"
          ],
          "name": "stdout"
        }
      ]
    },
    {
      "cell_type": "code",
      "metadata": {
        "id": "mFSUAFonN2ht",
        "colab_type": "code",
        "outputId": "02ba8a4b-e96d-42b5-a811-dac97c9788ce",
        "colab": {
          "base_uri": "https://localhost:8080/",
          "height": 34
        }
      },
      "source": [
        "window_size=5\n",
        "y=[]\n",
        "for i in range (0,len(list_)-window_size):\n",
        "  x=list_[i:i+window_size]\n",
        "  y.append(x)\n",
        "print(len(y),y[0])\n"
      ],
      "execution_count": 0,
      "outputs": [
        {
          "output_type": "stream",
          "text": [
            "25414 [0.6050420168067226, 0.5882352941176471, 0.5798319327731093, 0.5798319327731093, 0.5714285714285714]\n"
          ],
          "name": "stdout"
        }
      ]
    },
    {
      "cell_type": "code",
      "metadata": {
        "id": "jOkLjiONN_dz",
        "colab_type": "code",
        "outputId": "9f1e13fb-4f6a-4a68-f858-01075bce5916",
        "colab": {
          "base_uri": "https://localhost:8080/",
          "height": 376
        }
      },
      "source": [
        "matrix=np.matrix(y)\n",
        "print(matrix.shape)\n",
        "new_data = pd.DataFrame(matrix,columns=['x1','x2','x3','x4','y'])\n",
        "new_data.head(10)\n"
      ],
      "execution_count": 0,
      "outputs": [
        {
          "output_type": "stream",
          "text": [
            "(25414, 5)\n"
          ],
          "name": "stdout"
        },
        {
          "output_type": "execute_result",
          "data": {
            "text/html": [
              "<div>\n",
              "<style scoped>\n",
              "    .dataframe tbody tr th:only-of-type {\n",
              "        vertical-align: middle;\n",
              "    }\n",
              "\n",
              "    .dataframe tbody tr th {\n",
              "        vertical-align: top;\n",
              "    }\n",
              "\n",
              "    .dataframe thead th {\n",
              "        text-align: right;\n",
              "    }\n",
              "</style>\n",
              "<table border=\"1\" class=\"dataframe\">\n",
              "  <thead>\n",
              "    <tr style=\"text-align: right;\">\n",
              "      <th></th>\n",
              "      <th>x1</th>\n",
              "      <th>x2</th>\n",
              "      <th>x3</th>\n",
              "      <th>x4</th>\n",
              "      <th>y</th>\n",
              "    </tr>\n",
              "  </thead>\n",
              "  <tbody>\n",
              "    <tr>\n",
              "      <th>0</th>\n",
              "      <td>0.605042</td>\n",
              "      <td>0.588235</td>\n",
              "      <td>0.579832</td>\n",
              "      <td>0.579832</td>\n",
              "      <td>0.571429</td>\n",
              "    </tr>\n",
              "    <tr>\n",
              "      <th>1</th>\n",
              "      <td>0.588235</td>\n",
              "      <td>0.579832</td>\n",
              "      <td>0.579832</td>\n",
              "      <td>0.571429</td>\n",
              "      <td>0.579832</td>\n",
              "    </tr>\n",
              "    <tr>\n",
              "      <th>2</th>\n",
              "      <td>0.579832</td>\n",
              "      <td>0.579832</td>\n",
              "      <td>0.571429</td>\n",
              "      <td>0.579832</td>\n",
              "      <td>0.546218</td>\n",
              "    </tr>\n",
              "    <tr>\n",
              "      <th>3</th>\n",
              "      <td>0.579832</td>\n",
              "      <td>0.571429</td>\n",
              "      <td>0.579832</td>\n",
              "      <td>0.546218</td>\n",
              "      <td>0.588235</td>\n",
              "    </tr>\n",
              "    <tr>\n",
              "      <th>4</th>\n",
              "      <td>0.571429</td>\n",
              "      <td>0.579832</td>\n",
              "      <td>0.546218</td>\n",
              "      <td>0.588235</td>\n",
              "      <td>0.596639</td>\n",
              "    </tr>\n",
              "    <tr>\n",
              "      <th>5</th>\n",
              "      <td>0.579832</td>\n",
              "      <td>0.546218</td>\n",
              "      <td>0.588235</td>\n",
              "      <td>0.596639</td>\n",
              "      <td>0.613445</td>\n",
              "    </tr>\n",
              "    <tr>\n",
              "      <th>6</th>\n",
              "      <td>0.546218</td>\n",
              "      <td>0.588235</td>\n",
              "      <td>0.596639</td>\n",
              "      <td>0.613445</td>\n",
              "      <td>0.630252</td>\n",
              "    </tr>\n",
              "    <tr>\n",
              "      <th>7</th>\n",
              "      <td>0.588235</td>\n",
              "      <td>0.596639</td>\n",
              "      <td>0.613445</td>\n",
              "      <td>0.630252</td>\n",
              "      <td>0.689076</td>\n",
              "    </tr>\n",
              "    <tr>\n",
              "      <th>8</th>\n",
              "      <td>0.596639</td>\n",
              "      <td>0.613445</td>\n",
              "      <td>0.630252</td>\n",
              "      <td>0.689076</td>\n",
              "      <td>0.773109</td>\n",
              "    </tr>\n",
              "    <tr>\n",
              "      <th>9</th>\n",
              "      <td>0.613445</td>\n",
              "      <td>0.630252</td>\n",
              "      <td>0.689076</td>\n",
              "      <td>0.773109</td>\n",
              "      <td>0.781513</td>\n",
              "    </tr>\n",
              "  </tbody>\n",
              "</table>\n",
              "</div>"
            ],
            "text/plain": [
              "         x1        x2        x3        x4         y\n",
              "0  0.605042  0.588235  0.579832  0.579832  0.571429\n",
              "1  0.588235  0.579832  0.579832  0.571429  0.579832\n",
              "2  0.579832  0.579832  0.571429  0.579832  0.546218\n",
              "3  0.579832  0.571429  0.579832  0.546218  0.588235\n",
              "4  0.571429  0.579832  0.546218  0.588235  0.596639\n",
              "5  0.579832  0.546218  0.588235  0.596639  0.613445\n",
              "6  0.546218  0.588235  0.596639  0.613445  0.630252\n",
              "7  0.588235  0.596639  0.613445  0.630252  0.689076\n",
              "8  0.596639  0.613445  0.630252  0.689076  0.773109\n",
              "9  0.613445  0.630252  0.689076  0.773109  0.781513"
            ]
          },
          "metadata": {
            "tags": []
          },
          "execution_count": 47
        }
      ]
    },
    {
      "cell_type": "code",
      "metadata": {
        "id": "0Z5frRmicq9M",
        "colab_type": "code",
        "outputId": "80245cf7-d54a-41d2-9aff-c28fc339953b",
        "colab": {
          "base_uri": "https://localhost:8080/",
          "height": 136
        }
      },
      "source": [
        "print(matrix[:,4])"
      ],
      "execution_count": 0,
      "outputs": [
        {
          "output_type": "stream",
          "text": [
            "[[0.57142857]\n",
            " [0.57983193]\n",
            " [0.54621849]\n",
            " ...\n",
            " [0.21848739]\n",
            " [0.18487395]\n",
            " [0.15966387]]\n"
          ],
          "name": "stdout"
        }
      ]
    },
    {
      "cell_type": "code",
      "metadata": {
        "id": "SG1fsHWxOPTk",
        "colab_type": "code",
        "outputId": "facebcb2-14b9-4a62-84c3-e4c72916eef2",
        "colab": {
          "base_uri": "https://localhost:8080/",
          "height": 102
        }
      },
      "source": [
        "from sklearn import linear_model\n",
        "from sklearn.model_selection import train_test_split\n",
        "from sklearn.metrics import r2_score\n",
        "from sklearn.metrics import mean_squared_error\n",
        "X_train, X_test, y_train, y_test = train_test_split(matrix[:,0:4],matrix[:,4],test_size=0.33, random_state=42)\n",
        "lm =linear_model.LinearRegression()\n",
        "model = lm.fit(X_train,y_train)\n",
        "prediction=model.predict(X_test)\n",
        "joblib.dump(model,'linear_regressor_Rout.pkl')\n",
        "from google.colab import files\n",
        "files.download('linear_regressor_Rout.pkl')\n",
        "print(prediction.shape,prediction[0:5])"
      ],
      "execution_count": 0,
      "outputs": [
        {
          "output_type": "stream",
          "text": [
            "(8387, 1) [[0.08454375]\n",
            " [0.12363637]\n",
            " [0.32743283]\n",
            " [0.04783964]\n",
            " [0.52531731]]\n"
          ],
          "name": "stdout"
        }
      ]
    },
    {
      "cell_type": "code",
      "metadata": {
        "id": "bye3z6vaOvbl",
        "colab_type": "code",
        "outputId": "b6bbbb66-09fd-4de1-e3f8-41b957643df0",
        "colab": {
          "base_uri": "https://localhost:8080/",
          "height": 68
        }
      },
      "source": [
        "print(model.score(X_train,y_train))\n",
        "print(model.intercept_)\n",
        "print(model.coef_)"
      ],
      "execution_count": 0,
      "outputs": [
        {
          "output_type": "stream",
          "text": [
            "0.9138693477907466\n",
            "[0.01212442]\n",
            "[[ 0.04826128 -0.00751034 -0.09785974  1.01641249]]\n"
          ],
          "name": "stdout"
        }
      ]
    },
    {
      "cell_type": "code",
      "metadata": {
        "id": "K9AvmWqwO0h1",
        "colab_type": "code",
        "outputId": "9c15ece9-7bcf-46bd-e09d-1821f4abd901",
        "colab": {
          "base_uri": "https://localhost:8080/",
          "height": 68
        }
      },
      "source": [
        "print('mean squared eror : ',mean_squared_error(y_test,prediction))\n",
        "from sklearn.metrics import mean_absolute_error\n",
        "print('absolute mean error : ', mean_absolute_error(y_test,prediction))\n",
        "print(r2_score(y_test,prediction))"
      ],
      "execution_count": 0,
      "outputs": [
        {
          "output_type": "stream",
          "text": [
            "mean squared eror :  0.0029734782260380085\n",
            "absolute mean error :  0.03274105832994358\n",
            "0.9052010480664819\n"
          ],
          "name": "stdout"
        }
      ]
    },
    {
      "cell_type": "code",
      "metadata": {
        "id": "7ZFxbkZwIfsr",
        "colab_type": "code",
        "outputId": "5ea526fd-696d-4548-8630-f5fc1b3f436c",
        "colab": {
          "base_uri": "https://localhost:8080/",
          "height": 281
        }
      },
      "source": [
        "plt.plot(y_test[0:100], color = 'black', label = 'TRUTH')\n",
        "plt.plot(prediction[0:100], color = 'green', label = 'PREDICTION')\n",
        "plt.title('Linear regression PERFORMANCE ON TEST SET after removing outliers')\n",
        "plt.ylabel('PM10')\n",
        "plt.legend()\n",
        "plt.show()"
      ],
      "execution_count": 0,
      "outputs": [
        {
          "output_type": "display_data",
          "data": {
            "image/png": "[encoded data removed]",
            "text/plain": [
              "<Figure size 432x288 with 1 Axes>"
            ]
          },
          "metadata": {
            "tags": [],
            "needs_background": "light"
          }
        }
      ]
    },
    {
      "cell_type": "code",
      "metadata": {
        "id": "J3NSycPY02mb",
        "colab_type": "code",
        "outputId": "7c0c397f-5039-4ff9-d650-c3c901ee853d",
        "colab": {
          "base_uri": "https://localhost:8080/",
          "height": 502
        }
      },
      "source": [
        "# IMPLEMENTING LINEAR REGRESSION WITHOUT REMOVING OUTLIERS\n",
        "df=data_101['PM10']\n",
        "df=df.values\n",
        "df=df.reshape(df.shape[0],1)\n",
        "print(df.shape)\n",
        "from sklearn import preprocessing\n",
        "min_max_scaler = preprocessing.MinMaxScaler()\n",
        "df_scaled = min_max_scaler.fit_transform(df)\n",
        "print(min(df),max(df))\n",
        "list_=[]\n",
        "for i in range (0,df_scaled.shape[0]):\n",
        "  list_.append(df_scaled[i][0])\n",
        "print(len(list_))\n",
        "print(min(list_),max(list_))\n",
        "window_size=5\n",
        "y=[]\n",
        "for i in range (0,len(list_)-window_size):\n",
        "  x=list_[i:i+window_size]\n",
        "  y.append(x)\n",
        "print(len(y),y[0])\n",
        "matrix= np.matrix(y)\n",
        "from sklearn import linear_model\n",
        "from sklearn.model_selection import train_test_split\n",
        "from sklearn.metrics import r2_score\n",
        "from sklearn.metrics import mean_squared_error\n",
        "X_train, X_test, y_train, y_test = train_test_split(matrix[:,0:4],matrix[:,4],test_size=0.33, random_state=42)\n",
        "lm =linear_model.LinearRegression()\n",
        "model = lm.fit(X_train,y_train)\n",
        "prediction=model.predict(X_test)\n",
        "joblib.dump(model,'linear_regressor.pkl')\n",
        "from google.colab import files\n",
        "files.download('linear_regressor.pkl')\n",
        "print(prediction.shape,prediction[0:5])\n",
        "print('mean squared eror : ',mean_squared_error(y_test,prediction))\n",
        "from sklearn.metrics import mean_absolute_error\n",
        "print('absolute mean error : ', mean_absolute_error(y_test,prediction))\n",
        "print(r2_score(y_test,prediction))\n",
        "plt.plot(y_test[0:100], color = 'black', label = 'TRUTH')\n",
        "plt.plot(prediction[0:100], color = 'green', label = 'PREDICTION')\n",
        "plt.title('Linear regression PERFORMANCE ON TEST SET')\n",
        "plt.ylabel('PM10')\n",
        "plt.legend()\n",
        "plt.show()"
      ],
      "execution_count": 0,
      "outputs": [
        {
          "output_type": "stream",
          "text": [
            "(25812, 1)\n",
            "[1.] [516.]\n",
            "25812\n",
            "0.0 0.9999999999999999\n",
            "25807 [0.13980582524271842, 0.13592233009708737, 0.13398058252427184, 0.13398058252427184, 0.1320388349514563]\n",
            "(8517, 1) [[0.04092151]\n",
            " [0.02620815]\n",
            " [0.12984165]\n",
            " [0.02954135]\n",
            " [0.03921735]]\n",
            "mean squared eror :  0.0008825112446148838\n",
            "absolute mean error :  0.010432572398771886\n",
            "0.6934771991008813\n"
          ],
          "name": "stdout"
        },
        {
          "output_type": "display_data",
          "data": {
            "image/png": "[encoded data removed]",
            "text/plain": [
              "<Figure size 432x288 with 1 Axes>"
            ]
          },
          "metadata": {
            "tags": [],
            "needs_background": "light"
          }
        }
      ]
    },
    {
      "cell_type": "code",
      "metadata": {
        "id": "hrZqAjEyGnIN",
        "colab_type": "code",
        "outputId": "587d42ea-a00b-4fba-c91d-14cff830f65b",
        "colab": {
          "base_uri": "https://localhost:8080/",
          "height": 122
        }
      },
      "source": [
        "# BAYESIAN RIDGE REGRESSION\n",
        "from sklearn import linear_model\n",
        "from statsmodels.tsa.ar_model import AR\n",
        "model = linear_model.BayesianRidge()\n",
        "\n",
        "model.fit(X_train,y_train )\n",
        "prediction=model.predict(X_test)\n",
        "joblib.dump(model,'bayesian_regressor.pkl')\n",
        "from google.colab import files\n",
        "files.download('bayesian_regressor.pkl')\n",
        "print('mean squared eror : ',mean_squared_error(y_test,prediction))\n",
        "from sklearn.metrics import mean_absolute_error\n",
        "print('absolute mean error : ', mean_absolute_error(y_test,prediction))\n",
        "\n",
        "print(r2_score(y_test,prediction))"
      ],
      "execution_count": 0,
      "outputs": [
        {
          "output_type": "stream",
          "text": [
            "/usr/local/lib/python3.6/dist-packages/sklearn/utils/validation.py:760: DataConversionWarning: A column-vector y was passed when a 1d array was expected. Please change the shape of y to (n_samples, ), for example using ravel().\n",
            "  y = column_or_1d(y, warn=True)\n"
          ],
          "name": "stderr"
        },
        {
          "output_type": "stream",
          "text": [
            "mean squared eror :  0.0008824735568276516\n",
            "absolute mean error :  0.010433989474255894\n",
            "0.6934902892072936\n"
          ],
          "name": "stdout"
        }
      ]
    },
    {
      "cell_type": "code",
      "metadata": {
        "id": "crUrc4mjO8uL",
        "colab_type": "code",
        "outputId": "ab2a04f8-efc5-4ce5-c2b4-4e86a7e70d5b",
        "colab": {
          "base_uri": "https://localhost:8080/",
          "height": 122
        }
      },
      "source": [
        "# IMLEMENTING  RANDOM FOREST ALGORITHM\n",
        "from sklearn.ensemble import RandomForestRegressor\n",
        "model= RandomForestRegressor(max_depth=15, random_state=0)\n",
        "model.fit(X_train,y_train)\n",
        "prediction=model.predict(X_test)\n",
        "joblib.dump(model,'randomforest_regressor.pkl')\n",
        "print('mean squared eror : ',mean_squared_error(y_test,prediction))\n",
        "from sklearn.metrics import mean_absolute_error\n",
        "print('absolute mean error : ', mean_absolute_error(y_test,prediction))\n",
        "print(r2_score(y_test,prediction))"
      ],
      "execution_count": 0,
      "outputs": [
        {
          "output_type": "stream",
          "text": [
            "/usr/local/lib/python3.6/dist-packages/ipykernel_launcher.py:4: DataConversionWarning: A column-vector y was passed when a 1d array was expected. Please change the shape of y to (n_samples,), for example using ravel().\n",
            "  after removing the cwd from sys.path.\n"
          ],
          "name": "stderr"
        },
        {
          "output_type": "stream",
          "text": [
            "mean squared eror :  0.0007904573782400007\n",
            "absolute mean error :  0.009646843187952456\n",
            "0.7254502862734258\n"
          ],
          "name": "stdout"
        }
      ]
    },
    {
      "cell_type": "code",
      "metadata": {
        "id": "KAVNYF_yJXRN",
        "colab_type": "code",
        "outputId": "12928944-c62f-4bb2-95be-7bb510eb52b7",
        "colab": {
          "base_uri": "https://localhost:8080/",
          "height": 485
        }
      },
      "source": [
        "plt.plot(y_test[0:100], color = 'black', label = 'TRUTH')\n",
        "plt.plot(prediction[0:100], color = 'green', label = 'PREDICTION')\n",
        "plt.title('Random forest regression PERFORMANCE ON TEST SET')\n",
        "plt.ylabel('PM10')\n",
        "plt.legend()\n",
        "plt.show()\n",
        "print('truth : ',y_test[0:10])\n",
        "print('prediction : ',prediction[0:10])"
      ],
      "execution_count": 0,
      "outputs": [
        {
          "output_type": "display_data",
          "data": {
            "image/png": "[encoded data removed]",
            "text/plain": [
              "<Figure size 432x288 with 1 Axes>"
            ]
          },
          "metadata": {
            "tags": [],
            "needs_background": "light"
          }
        },
        {
          "output_type": "stream",
          "text": [
            "truth :  [[0.02718447]\n",
            " [0.02135922]\n",
            " [0.15145631]\n",
            " [0.02524272]\n",
            " [0.03495146]\n",
            " [0.12815534]\n",
            " [0.07184466]\n",
            " [0.02135922]\n",
            " [0.02718447]\n",
            " [0.05631068]]\n",
            "prediction :  [0.04010543 0.02125319 0.14898337 0.02713712 0.03606217 0.13134604\n",
            " 0.08651318 0.04001425 0.03681503 0.06637888]\n"
          ],
          "name": "stdout"
        }
      ]
    },
    {
      "cell_type": "code",
      "metadata": {
        "id": "s9oOYdsvFVAz",
        "colab_type": "code",
        "outputId": "0403de78-ed4b-4e98-c37e-2bd1f9515069",
        "colab": {
          "base_uri": "https://localhost:8080/",
          "height": 68
        }
      },
      "source": [
        "# RIDGE REGRESSION\n",
        "from sklearn.linear_model import Ridge\n",
        "model = Ridge(alpha=1.0)\n",
        "model.fit(X_train,y_train)\n",
        "prediction=model.predict(X_test)\n",
        "joblib.dump(model,'ridge_regressor.pkl')\n",
        "from google.colab import files\n",
        "files.download('ridge_regressor.pkl')\n",
        "print(mean_squared_error(y_test,prediction))\n",
        "print(mean_absolute_error(y_test,prediction))\n",
        "print(r2_score(y_test,prediction))\n"
      ],
      "execution_count": 0,
      "outputs": [
        {
          "output_type": "stream",
          "text": [
            "0.0008780151211511025\n",
            "0.010643718810028662\n",
            "0.6950388385312185\n"
          ],
          "name": "stdout"
        }
      ]
    },
    {
      "cell_type": "code",
      "metadata": {
        "id": "08afymABtSx4",
        "colab_type": "code",
        "outputId": "fc505d3e-4486-4746-d154-591dc0a93193",
        "colab": {
          "base_uri": "https://localhost:8080/",
          "height": 156
        }
      },
      "source": [
        "# IMPLEMENTING SUPPORT VECTOR\n",
        "from sklearn.svm import LinearSVR\n",
        "model= LinearSVR()\n",
        "model.fit(X_train,y_train)\n",
        "prediction=model.predict(X_test)\n",
        "print('mean squared eror : ',mean_squared_error(y_test,prediction))\n",
        "from sklearn.metrics import mean_absolute_error\n",
        "print('absolute mean error : ', mean_absolute_error(y_test,prediction))\n",
        "print(r2_score(y_test,prediction))"
      ],
      "execution_count": 0,
      "outputs": [
        {
          "output_type": "stream",
          "text": [
            "/usr/local/lib/python3.6/dist-packages/sklearn/utils/validation.py:760: DataConversionWarning: A column-vector y was passed when a 1d array was expected. Please change the shape of y to (n_samples, ), for example using ravel().\n",
            "  y = column_or_1d(y, warn=True)\n"
          ],
          "name": "stderr"
        },
        {
          "output_type": "stream",
          "text": [
            "mean squared eror :  0.001059613387545623\n",
            "absolute mean error :  0.009223418004800475\n",
            "0.631964277619574\n"
          ],
          "name": "stdout"
        },
        {
          "output_type": "stream",
          "text": [
            "/usr/local/lib/python3.6/dist-packages/sklearn/svm/_base.py:947: ConvergenceWarning: Liblinear failed to converge, increase the number of iterations.\n",
            "  \"the number of iterations.\", ConvergenceWarning)\n"
          ],
          "name": "stderr"
        }
      ]
    },
    {
      "cell_type": "code",
      "metadata": {
        "id": "LFR-uIKhMIPs",
        "colab_type": "code",
        "outputId": "5d5bc348-30a1-4656-fcee-6337744a0d3d",
        "colab": {
          "base_uri": "https://localhost:8080/",
          "height": 281
        }
      },
      "source": [
        "plt.plot(y_test[0:100], color = 'black', label = 'TRUTH')\n",
        "plt.plot(prediction[0:100], color = 'green', label = 'PREDICTION')\n",
        "plt.title('SVM regression PERFORMANCE ON TEST SET')\n",
        "plt.ylabel('PM10')\n",
        "plt.legend()\n",
        "plt.show()"
      ],
      "execution_count": 0,
      "outputs": [
        {
          "output_type": "display_data",
          "data": {
            "image/png": "[encoded data removed]",
            "text/plain": [
              "<Figure size 432x288 with 1 Axes>"
            ]
          },
          "metadata": {
            "tags": [],
            "needs_background": "light"
          }
        }
      ]
    },
    {
      "cell_type": "code",
      "metadata": {
        "id": "tUpcjRA2hCQz",
        "colab_type": "code",
        "outputId": "b0dcce21-12c0-4550-bab9-d8535f5e16dd",
        "colab": {
          "base_uri": "https://localhost:8080/",
          "height": 1000
        }
      },
      "source": [
        "# IMPLEMENTING A NEURAL NETWORK\n",
        "from sklearn.preprocessing import StandardScaler\n",
        "#sc = StandardScaler()\n",
        "#X = sc.fit_transform(X)\n",
        "import keras\n",
        "from keras.models import Sequential\n",
        "from keras.layers import Dense\n",
        "# Neural network\n",
        "model = Sequential()\n",
        "model.add(Dense(64, input_dim=4, activation='relu'))\n",
        "model.add(Dense(128, input_dim=4, activation='relu'))\n",
        "model.add(Dense(512, activation='relu'))\n",
        "model.add(Dense(1, activation='relu'))\n",
        "\n",
        "\n",
        "model.compile(optimizer = \"adam\", loss ='mse', \n",
        "          metrics =[\"accuracy\"])\n",
        "history = model.fit(X_train, y_train, epochs=100, batch_size=32)"
      ],
      "execution_count": 0,
      "outputs": [
        {
          "output_type": "stream",
          "text": [
            "Epoch 1/100\n",
            "17290/17290 [==============================] - 2s 139us/step - loss: 0.0010 - accuracy: 4.0486e-04\n",
            "Epoch 2/100\n",
            "17290/17290 [==============================] - 2s 133us/step - loss: 6.1656e-04 - accuracy: 4.0486e-04\n",
            "Epoch 3/100\n",
            "17290/17290 [==============================] - 2s 140us/step - loss: 6.0113e-04 - accuracy: 4.0486e-04\n",
            "Epoch 4/100\n",
            "17290/17290 [==============================] - 2s 140us/step - loss: 5.9339e-04 - accuracy: 4.0486e-04\n",
            "Epoch 5/100\n",
            "17290/17290 [==============================] - 2s 143us/step - loss: 5.8406e-04 - accuracy: 4.0486e-04\n",
            "Epoch 6/100\n",
            "17290/17290 [==============================] - 2s 140us/step - loss: 5.8477e-04 - accuracy: 4.0486e-04\n",
            "Epoch 7/100\n",
            "17290/17290 [==============================] - 2s 139us/step - loss: 5.6957e-04 - accuracy: 4.0486e-04\n",
            "Epoch 8/100\n",
            "17290/17290 [==============================] - 2s 132us/step - loss: 5.7571e-04 - accuracy: 4.0486e-04\n",
            "Epoch 9/100\n",
            "17290/17290 [==============================] - 2s 131us/step - loss: 5.6786e-04 - accuracy: 4.0486e-04\n",
            "Epoch 10/100\n",
            "17290/17290 [==============================] - 2s 132us/step - loss: 5.6984e-04 - accuracy: 4.0486e-04\n",
            "Epoch 11/100\n",
            "17290/17290 [==============================] - 2s 133us/step - loss: 5.6640e-04 - accuracy: 4.0486e-04\n",
            "Epoch 12/100\n",
            "17290/17290 [==============================] - 2s 132us/step - loss: 5.6379e-04 - accuracy: 4.0486e-04\n",
            "Epoch 13/100\n",
            "17290/17290 [==============================] - 2s 132us/step - loss: 5.6617e-04 - accuracy: 4.0486e-04\n",
            "Epoch 14/100\n",
            "17290/17290 [==============================] - 2s 131us/step - loss: 5.5599e-04 - accuracy: 4.0486e-04\n",
            "Epoch 15/100\n",
            "17290/17290 [==============================] - 2s 133us/step - loss: 5.5240e-04 - accuracy: 4.0486e-04\n",
            "Epoch 16/100\n",
            "17290/17290 [==============================] - 2s 132us/step - loss: 5.5427e-04 - accuracy: 4.0486e-04\n",
            "Epoch 17/100\n",
            "17290/17290 [==============================] - 2s 132us/step - loss: 5.4715e-04 - accuracy: 4.0486e-04\n",
            "Epoch 18/100\n",
            "17290/17290 [==============================] - 2s 134us/step - loss: 5.5536e-04 - accuracy: 4.0486e-04\n",
            "Epoch 19/100\n",
            "17290/17290 [==============================] - 2s 131us/step - loss: 5.5002e-04 - accuracy: 4.0486e-04\n",
            "Epoch 20/100\n",
            "17290/17290 [==============================] - 2s 132us/step - loss: 5.4586e-04 - accuracy: 4.0486e-04\n",
            "Epoch 21/100\n",
            "17290/17290 [==============================] - 2s 132us/step - loss: 5.4653e-04 - accuracy: 4.0486e-04\n",
            "Epoch 22/100\n",
            "17290/17290 [==============================] - 2s 131us/step - loss: 5.5307e-04 - accuracy: 4.0486e-04\n",
            "Epoch 23/100\n",
            "17290/17290 [==============================] - 2s 131us/step - loss: 5.4536e-04 - accuracy: 4.0486e-04\n",
            "Epoch 24/100\n",
            "17290/17290 [==============================] - 2s 133us/step - loss: 5.4303e-04 - accuracy: 4.0486e-04\n",
            "Epoch 25/100\n",
            "17290/17290 [==============================] - 2s 131us/step - loss: 5.4402e-04 - accuracy: 4.0486e-04\n",
            "Epoch 26/100\n",
            "17290/17290 [==============================] - 2s 132us/step - loss: 5.4383e-04 - accuracy: 4.0486e-04\n",
            "Epoch 27/100\n",
            "17290/17290 [==============================] - 2s 131us/step - loss: 5.4097e-04 - accuracy: 4.0486e-04\n",
            "Epoch 28/100\n",
            "17290/17290 [==============================] - 2s 133us/step - loss: 5.4318e-04 - accuracy: 4.0486e-04\n",
            "Epoch 29/100\n",
            "17290/17290 [==============================] - 2s 132us/step - loss: 5.4346e-04 - accuracy: 4.0486e-04\n",
            "Epoch 30/100\n",
            "17290/17290 [==============================] - 2s 132us/step - loss: 5.3651e-04 - accuracy: 4.0486e-04\n",
            "Epoch 31/100\n",
            "17290/17290 [==============================] - 2s 132us/step - loss: 5.4525e-04 - accuracy: 4.0486e-04\n",
            "Epoch 32/100\n",
            "17290/17290 [==============================] - 2s 131us/step - loss: 5.3537e-04 - accuracy: 4.0486e-04\n",
            "Epoch 33/100\n",
            "17290/17290 [==============================] - 2s 132us/step - loss: 5.3710e-04 - accuracy: 4.0486e-04\n",
            "Epoch 34/100\n",
            "17290/17290 [==============================] - 2s 131us/step - loss: 5.3484e-04 - accuracy: 4.0486e-04\n",
            "Epoch 35/100\n",
            "17290/17290 [==============================] - 2s 132us/step - loss: 5.3832e-04 - accuracy: 4.0486e-04\n",
            "Epoch 36/100\n",
            "17290/17290 [==============================] - 2s 133us/step - loss: 5.3939e-04 - accuracy: 4.0486e-04\n",
            "Epoch 37/100\n",
            "17290/17290 [==============================] - 2s 132us/step - loss: 5.3258e-04 - accuracy: 4.0486e-04\n",
            "Epoch 38/100\n",
            "17290/17290 [==============================] - 2s 133us/step - loss: 5.3237e-04 - accuracy: 4.0486e-04\n",
            "Epoch 39/100\n",
            "17290/17290 [==============================] - 2s 132us/step - loss: 5.3324e-04 - accuracy: 4.0486e-04\n",
            "Epoch 40/100\n",
            "17290/17290 [==============================] - 2s 131us/step - loss: 5.3711e-04 - accuracy: 4.0486e-04\n",
            "Epoch 41/100\n",
            "17290/17290 [==============================] - 2s 132us/step - loss: 5.3683e-04 - accuracy: 4.0486e-04\n",
            "Epoch 42/100\n",
            "17290/17290 [==============================] - 2s 131us/step - loss: 5.3007e-04 - accuracy: 4.0486e-04\n",
            "Epoch 43/100\n",
            "17290/17290 [==============================] - 2s 133us/step - loss: 5.4307e-04 - accuracy: 4.0486e-04\n",
            "Epoch 44/100\n",
            "17290/17290 [==============================] - 2s 133us/step - loss: 5.3343e-04 - accuracy: 4.0486e-04\n",
            "Epoch 45/100\n",
            "17290/17290 [==============================] - 2s 130us/step - loss: 5.3403e-04 - accuracy: 4.0486e-04\n",
            "Epoch 46/100\n",
            "17290/17290 [==============================] - 2s 130us/step - loss: 5.2795e-04 - accuracy: 4.0486e-04\n",
            "Epoch 47/100\n",
            "17290/17290 [==============================] - 2s 132us/step - loss: 5.3251e-04 - accuracy: 4.0486e-04\n",
            "Epoch 48/100\n",
            "17290/17290 [==============================] - 2s 130us/step - loss: 5.3448e-04 - accuracy: 4.0486e-04\n",
            "Epoch 49/100\n",
            "17290/17290 [==============================] - 2s 130us/step - loss: 5.3074e-04 - accuracy: 4.0486e-04\n",
            "Epoch 50/100\n",
            "17290/17290 [==============================] - 2s 130us/step - loss: 5.2639e-04 - accuracy: 4.0486e-04\n",
            "Epoch 51/100\n",
            "17290/17290 [==============================] - 2s 129us/step - loss: 5.2536e-04 - accuracy: 4.0486e-04\n",
            "Epoch 52/100\n",
            "17290/17290 [==============================] - 2s 131us/step - loss: 5.2026e-04 - accuracy: 4.0486e-04\n",
            "Epoch 53/100\n",
            "17290/17290 [==============================] - 2s 130us/step - loss: 5.3482e-04 - accuracy: 4.0486e-04\n",
            "Epoch 54/100\n",
            "17290/17290 [==============================] - 2s 131us/step - loss: 5.3022e-04 - accuracy: 4.0486e-04\n",
            "Epoch 55/100\n",
            "17290/17290 [==============================] - 2s 130us/step - loss: 5.2513e-04 - accuracy: 4.0486e-04\n",
            "Epoch 56/100\n",
            "17290/17290 [==============================] - 2s 130us/step - loss: 5.2648e-04 - accuracy: 4.0486e-04\n",
            "Epoch 57/100\n",
            "17290/17290 [==============================] - 2s 131us/step - loss: 5.3362e-04 - accuracy: 4.0486e-04\n",
            "Epoch 58/100\n",
            "17290/17290 [==============================] - 2s 129us/step - loss: 5.2416e-04 - accuracy: 4.0486e-04\n",
            "Epoch 59/100\n",
            "17290/17290 [==============================] - 2s 130us/step - loss: 5.2436e-04 - accuracy: 4.0486e-04\n",
            "Epoch 60/100\n",
            "17290/17290 [==============================] - 2s 129us/step - loss: 5.2626e-04 - accuracy: 4.0486e-04\n",
            "Epoch 61/100\n",
            "17290/17290 [==============================] - 2s 130us/step - loss: 5.2840e-04 - accuracy: 4.0486e-04\n",
            "Epoch 62/100\n",
            "17290/17290 [==============================] - 2s 131us/step - loss: 5.2629e-04 - accuracy: 4.0486e-04\n",
            "Epoch 63/100\n",
            "17290/17290 [==============================] - 2s 130us/step - loss: 5.2738e-04 - accuracy: 4.0486e-04\n",
            "Epoch 64/100\n",
            "17290/17290 [==============================] - 2s 129us/step - loss: 5.2639e-04 - accuracy: 4.0486e-04\n",
            "Epoch 65/100\n",
            "17290/17290 [==============================] - 2s 129us/step - loss: 5.2536e-04 - accuracy: 4.0486e-04\n",
            "Epoch 66/100\n",
            "17290/17290 [==============================] - 2s 130us/step - loss: 5.2918e-04 - accuracy: 4.0486e-04\n",
            "Epoch 67/100\n",
            "17290/17290 [==============================] - 2s 129us/step - loss: 5.2884e-04 - accuracy: 4.0486e-04\n",
            "Epoch 68/100\n",
            "17290/17290 [==============================] - 2s 131us/step - loss: 5.2645e-04 - accuracy: 4.0486e-04\n",
            "Epoch 69/100\n",
            "17290/17290 [==============================] - 2s 128us/step - loss: 5.2780e-04 - accuracy: 4.0486e-04\n",
            "Epoch 70/100\n",
            "17290/17290 [==============================] - 2s 130us/step - loss: 5.2260e-04 - accuracy: 4.0486e-04\n",
            "Epoch 71/100\n",
            "17290/17290 [==============================] - 2s 130us/step - loss: 5.2299e-04 - accuracy: 4.0486e-04\n",
            "Epoch 72/100\n",
            "17290/17290 [==============================] - 2s 130us/step - loss: 5.2293e-04 - accuracy: 4.0486e-04\n",
            "Epoch 73/100\n",
            "17290/17290 [==============================] - 2s 131us/step - loss: 5.1947e-04 - accuracy: 4.0486e-04\n",
            "Epoch 74/100\n",
            "17290/17290 [==============================] - 2s 129us/step - loss: 5.2349e-04 - accuracy: 4.0486e-04\n",
            "Epoch 75/100\n",
            "17290/17290 [==============================] - 2s 129us/step - loss: 5.3416e-04 - accuracy: 4.0486e-04\n",
            "Epoch 76/100\n",
            "17290/17290 [==============================] - 2s 131us/step - loss: 5.1661e-04 - accuracy: 4.0486e-04\n",
            "Epoch 77/100\n",
            "17290/17290 [==============================] - 2s 130us/step - loss: 5.2435e-04 - accuracy: 4.0486e-04\n",
            "Epoch 78/100\n",
            "17290/17290 [==============================] - 2s 135us/step - loss: 5.2444e-04 - accuracy: 4.0486e-04\n",
            "Epoch 79/100\n",
            "17290/17290 [==============================] - 2s 141us/step - loss: 5.2614e-04 - accuracy: 4.0486e-04\n",
            "Epoch 80/100\n",
            "17290/17290 [==============================] - 2s 139us/step - loss: 5.1723e-04 - accuracy: 4.0486e-04\n",
            "Epoch 81/100\n",
            "17290/17290 [==============================] - 2s 129us/step - loss: 5.2420e-04 - accuracy: 4.0486e-04\n",
            "Epoch 82/100\n",
            "17290/17290 [==============================] - 2s 130us/step - loss: 5.2246e-04 - accuracy: 4.0486e-04\n",
            "Epoch 83/100\n",
            "17290/17290 [==============================] - 2s 129us/step - loss: 5.2002e-04 - accuracy: 4.0486e-04\n",
            "Epoch 84/100\n",
            "17290/17290 [==============================] - 2s 130us/step - loss: 5.2145e-04 - accuracy: 4.0486e-04\n",
            "Epoch 85/100\n",
            "17290/17290 [==============================] - 2s 131us/step - loss: 5.1206e-04 - accuracy: 4.0486e-04\n",
            "Epoch 86/100\n",
            "17290/17290 [==============================] - 2s 130us/step - loss: 5.1883e-04 - accuracy: 4.0486e-04\n",
            "Epoch 87/100\n",
            "17290/17290 [==============================] - 2s 131us/step - loss: 5.2181e-04 - accuracy: 4.0486e-04\n",
            "Epoch 88/100\n",
            "17290/17290 [==============================] - 2s 130us/step - loss: 5.1234e-04 - accuracy: 4.0486e-04\n",
            "Epoch 89/100\n",
            "17290/17290 [==============================] - 2s 129us/step - loss: 5.1578e-04 - accuracy: 4.0486e-04\n",
            "Epoch 90/100\n",
            "17290/17290 [==============================] - 2s 130us/step - loss: 5.2202e-04 - accuracy: 4.0486e-04\n",
            "Epoch 91/100\n",
            "17290/17290 [==============================] - 2s 129us/step - loss: 5.1095e-04 - accuracy: 4.0486e-04\n",
            "Epoch 92/100\n",
            "17290/17290 [==============================] - 2s 129us/step - loss: 5.1487e-04 - accuracy: 4.0486e-04\n",
            "Epoch 93/100\n",
            "17290/17290 [==============================] - 2s 129us/step - loss: 5.1121e-04 - accuracy: 4.0486e-04\n",
            "Epoch 94/100\n",
            "17290/17290 [==============================] - 2s 129us/step - loss: 5.1462e-04 - accuracy: 4.0486e-04\n",
            "Epoch 95/100\n",
            "17290/17290 [==============================] - 2s 132us/step - loss: 5.2017e-04 - accuracy: 4.0486e-04\n",
            "Epoch 96/100\n",
            "17290/17290 [==============================] - 2s 130us/step - loss: 5.1093e-04 - accuracy: 4.0486e-04\n",
            "Epoch 97/100\n",
            "17290/17290 [==============================] - 2s 129us/step - loss: 5.1723e-04 - accuracy: 4.0486e-04\n",
            "Epoch 98/100\n",
            "17290/17290 [==============================] - 2s 129us/step - loss: 5.1584e-04 - accuracy: 4.0486e-04\n",
            "Epoch 99/100\n",
            "17290/17290 [==============================] - 2s 130us/step - loss: 5.1238e-04 - accuracy: 4.0486e-04\n",
            "Epoch 100/100\n",
            "17290/17290 [==============================] - 2s 130us/step - loss: 5.1151e-04 - accuracy: 4.0486e-04\n"
          ],
          "name": "stdout"
        }
      ]
    },
    {
      "cell_type": "code",
      "metadata": {
        "id": "txen3N-yvsAt",
        "colab_type": "code",
        "outputId": "04ac1d7d-e0ab-4555-b942-56fe8163cab1",
        "colab": {
          "base_uri": "https://localhost:8080/",
          "height": 363
        }
      },
      "source": [
        "print(history.history.keys())\n",
        "# \"Loss\"\n",
        "plt.plot(history.history['loss'])\n",
        "plt.title('model loss')\n",
        "plt.ylabel('loss')\n",
        "plt.xlabel('epoch')\n",
        "plt.legend(['train'], loc='upper left')\n",
        "plt.show()\n",
        "y_pred = model.predict(X_test)\n",
        "print('mean squared error : ',mean_squared_error(y_test,y_pred))\n",
        "print('mean absolute error : ',mean_absolute_error(y_test,prediction))\n",
        "print(r2_score(y_test,prediction))\n",
        "#Converting predictions to label\n"
      ],
      "execution_count": 0,
      "outputs": [
        {
          "output_type": "stream",
          "text": [
            "dict_keys(['loss', 'accuracy'])\n"
          ],
          "name": "stdout"
        },
        {
          "output_type": "display_data",
          "data": {
            "image/png": "[encoded data removed]",
            "text/plain": [
              "<Figure size 432x288 with 1 Axes>"
            ]
          },
          "metadata": {
            "tags": [],
            "needs_background": "light"
          }
        },
        {
          "output_type": "stream",
          "text": [
            "mean squared error :  0.0006566245832469967\n",
            "mean absolute error :  0.009223418004800475\n",
            "0.631964277619574\n"
          ],
          "name": "stdout"
        }
      ]
    },
    {
      "cell_type": "code",
      "metadata": {
        "id": "kErB8NCcdyHM",
        "colab_type": "code",
        "outputId": "a22b3b2a-22e4-4504-e189-dd6d34febac1",
        "colab": {
          "base_uri": "https://localhost:8080/",
          "height": 281
        }
      },
      "source": [
        "plt.plot(y_test[0:100], color = 'black', label = 'TRUTH')\n",
        "plt.plot(prediction[0:100], color = 'green', label = 'PREDICTION')\n",
        "plt.title('Neural network PERFORMANCE ON TEST SET')\n",
        "plt.ylabel('PM10')\n",
        "plt.legend()\n",
        "plt.show()"
      ],
      "execution_count": 0,
      "outputs": [
        {
          "output_type": "display_data",
          "data": {
            "image/png": "[encoded data removed]",
            "text/plain": [
              "<Figure size 432x288 with 1 Axes>"
            ]
          },
          "metadata": {
            "tags": [],
            "needs_background": "light"
          }
        }
      ]
    },
    {
      "cell_type": "code",
      "metadata": {
        "id": "TTfaJJDaHGg9",
        "colab_type": "code",
        "outputId": "7305b80c-6255-43e7-b0b4-f91cd01cbf2e",
        "colab": {
          "base_uri": "https://localhost:8080/",
          "height": 170
        }
      },
      "source": [
        "print(X_train)\n",
        "X_train=np.asarray(X_train)\n",
        "X_test=np.asarray(X_test)\n",
        "y_train=np.asarray(y_train)\n",
        "y_test=np.asarray(y_test)\n",
        "\n",
        "print(X_train.shape)\n",
        "X_train=X_train.reshape(X_train.shape[0],X_train.shape[1],1)\n",
        "print(X_train.shape)"
      ],
      "execution_count": 0,
      "outputs": [
        {
          "output_type": "stream",
          "text": [
            "[[0.00970874 0.00776699 0.00776699 0.01165049]\n",
            " [0.14563107 0.13980583 0.12038835 0.12038835]\n",
            " [0.10679612 0.11067961 0.11456311 0.11456311]\n",
            " ...\n",
            " [0.06601942 0.06601942 0.58640777 0.09902913]\n",
            " [0.07184466 0.08932039 0.09708738 0.07572816]\n",
            " [0.03300971 0.03300971 0.04660194 0.02912621]]\n",
            "(17290, 4)\n",
            "(17290, 4, 1)\n"
          ],
          "name": "stdout"
        }
      ]
    },
    {
      "cell_type": "code",
      "metadata": {
        "id": "FFUuCp8g1vzB",
        "colab_type": "code",
        "outputId": "fd23a778-52b5-4b3f-ade3-903b269b91ff",
        "colab": {
          "base_uri": "https://localhost:8080/",
          "height": 1000
        }
      },
      "source": [
        "from keras.models import Sequential\n",
        "from keras.layers import Dense\n",
        "from keras.layers import LSTM\n",
        "from keras.layers import Dropout\n",
        "regressor = Sequential()\n",
        "\n",
        "regressor.add(LSTM(units = 50, return_sequences = True, input_shape = (X_train.shape[1], 1)))\n",
        "#regressor.add(Dropout(0.2))\n",
        "\n",
        "regressor.add(LSTM(units = 50, return_sequences = True))\n",
        "#regressor.add(Dropout(0.2))\n",
        "\n",
        "regressor.add(LSTM(units = 50, return_sequences = True))\n",
        "#regressor.add(Dropout(0.2))\n",
        "\n",
        "regressor.add(LSTM(units = 50))\n",
        "#regressor.add(Dropout(0.2))\n",
        "\n",
        "regressor.add(Dense(units = 1))\n",
        "\n",
        "regressor.compile(optimizer = 'adam', loss = 'mean_squared_error')\n",
        "\n",
        "history = regressor.fit(X_train, y_train, epochs = 100, batch_size = 32)"
      ],
      "execution_count": 0,
      "outputs": [
        {
          "output_type": "stream",
          "text": [
            "Epoch 1/100\n",
            "17290/17290 [==============================] - 30s 2ms/step - loss: 0.0013\n",
            "Epoch 2/100\n",
            "17290/17290 [==============================] - 29s 2ms/step - loss: 9.4723e-04\n",
            "Epoch 3/100\n",
            "17290/17290 [==============================] - 29s 2ms/step - loss: 7.2550e-04\n",
            "Epoch 4/100\n",
            "17290/17290 [==============================] - 29s 2ms/step - loss: 6.7786e-04\n",
            "Epoch 5/100\n",
            "17290/17290 [==============================] - 29s 2ms/step - loss: 6.5426e-04\n",
            "Epoch 6/100\n",
            "17290/17290 [==============================] - 29s 2ms/step - loss: 6.5026e-04\n",
            "Epoch 7/100\n",
            "17290/17290 [==============================] - 29s 2ms/step - loss: 6.1310e-04\n",
            "Epoch 8/100\n",
            "17290/17290 [==============================] - 29s 2ms/step - loss: 6.1982e-04\n",
            "Epoch 9/100\n",
            "17290/17290 [==============================] - 29s 2ms/step - loss: 6.1500e-04\n",
            "Epoch 10/100\n",
            "17290/17290 [==============================] - 29s 2ms/step - loss: 6.0647e-04\n",
            "Epoch 11/100\n",
            "17290/17290 [==============================] - 29s 2ms/step - loss: 6.1639e-04\n",
            "Epoch 12/100\n",
            "17290/17290 [==============================] - 29s 2ms/step - loss: 6.0621e-04\n",
            "Epoch 13/100\n",
            "17290/17290 [==============================] - 29s 2ms/step - loss: 6.0669e-04\n",
            "Epoch 14/100\n",
            "17290/17290 [==============================] - 29s 2ms/step - loss: 5.9764e-04\n",
            "Epoch 15/100\n",
            "17290/17290 [==============================] - 28s 2ms/step - loss: 5.9600e-04\n",
            "Epoch 16/100\n",
            "17290/17290 [==============================] - 28s 2ms/step - loss: 5.8673e-04\n",
            "Epoch 17/100\n",
            "17290/17290 [==============================] - 28s 2ms/step - loss: 5.8439e-04\n",
            "Epoch 18/100\n",
            "17290/17290 [==============================] - 28s 2ms/step - loss: 5.7880e-04\n",
            "Epoch 19/100\n",
            "17290/17290 [==============================] - 28s 2ms/step - loss: 5.7541e-04\n",
            "Epoch 20/100\n",
            "17290/17290 [==============================] - 28s 2ms/step - loss: 5.7042e-04\n",
            "Epoch 21/100\n",
            "17290/17290 [==============================] - 29s 2ms/step - loss: 5.6520e-04\n",
            "Epoch 22/100\n",
            "17290/17290 [==============================] - 29s 2ms/step - loss: 5.6773e-04\n",
            "Epoch 23/100\n",
            "17290/17290 [==============================] - 28s 2ms/step - loss: 5.6205e-04\n",
            "Epoch 24/100\n",
            "17290/17290 [==============================] - 28s 2ms/step - loss: 5.6278e-04\n",
            "Epoch 25/100\n",
            "17290/17290 [==============================] - 28s 2ms/step - loss: 5.5880e-04\n",
            "Epoch 26/100\n",
            "17290/17290 [==============================] - 29s 2ms/step - loss: 5.6324e-04\n",
            "Epoch 27/100\n",
            "17290/17290 [==============================] - 29s 2ms/step - loss: 5.5732e-04\n",
            "Epoch 28/100\n",
            "17290/17290 [==============================] - 28s 2ms/step - loss: 5.5599e-04\n",
            "Epoch 29/100\n",
            "17290/17290 [==============================] - 28s 2ms/step - loss: 5.5690e-04\n",
            "Epoch 30/100\n",
            "17290/17290 [==============================] - 28s 2ms/step - loss: 5.5370e-04\n",
            "Epoch 31/100\n",
            "17290/17290 [==============================] - 28s 2ms/step - loss: 5.5409e-04\n",
            "Epoch 32/100\n",
            "17290/17290 [==============================] - 28s 2ms/step - loss: 5.5195e-04\n",
            "Epoch 33/100\n",
            "17290/17290 [==============================] - 28s 2ms/step - loss: 5.5176e-04\n",
            "Epoch 34/100\n",
            "17290/17290 [==============================] - 28s 2ms/step - loss: 5.5376e-04\n",
            "Epoch 35/100\n",
            "17290/17290 [==============================] - 28s 2ms/step - loss: 5.5509e-04\n",
            "Epoch 36/100\n",
            "17290/17290 [==============================] - 28s 2ms/step - loss: 5.5292e-04\n",
            "Epoch 37/100\n",
            "17290/17290 [==============================] - 28s 2ms/step - loss: 5.5484e-04\n",
            "Epoch 38/100\n",
            "17290/17290 [==============================] - 28s 2ms/step - loss: 5.5103e-04\n",
            "Epoch 39/100\n",
            "17290/17290 [==============================] - 28s 2ms/step - loss: 5.4900e-04\n",
            "Epoch 40/100\n",
            "17290/17290 [==============================] - 28s 2ms/step - loss: 5.4843e-04\n",
            "Epoch 41/100\n",
            "17290/17290 [==============================] - 28s 2ms/step - loss: 5.4802e-04\n",
            "Epoch 42/100\n",
            "17290/17290 [==============================] - 28s 2ms/step - loss: 5.4640e-04\n",
            "Epoch 43/100\n",
            "17290/17290 [==============================] - 28s 2ms/step - loss: 5.4959e-04\n",
            "Epoch 44/100\n",
            "17290/17290 [==============================] - 28s 2ms/step - loss: 5.4732e-04\n",
            "Epoch 45/100\n",
            "17290/17290 [==============================] - 28s 2ms/step - loss: 5.4820e-04\n",
            "Epoch 46/100\n",
            "17290/17290 [==============================] - 28s 2ms/step - loss: 5.4674e-04\n",
            "Epoch 47/100\n",
            "17290/17290 [==============================] - 28s 2ms/step - loss: 5.4543e-04\n",
            "Epoch 48/100\n",
            "17290/17290 [==============================] - 28s 2ms/step - loss: 5.4498e-04\n",
            "Epoch 49/100\n",
            "17290/17290 [==============================] - 28s 2ms/step - loss: 5.4179e-04\n",
            "Epoch 50/100\n",
            "17290/17290 [==============================] - 28s 2ms/step - loss: 5.4138e-04\n",
            "Epoch 51/100\n",
            "17290/17290 [==============================] - 29s 2ms/step - loss: 5.4753e-04\n",
            "Epoch 52/100\n",
            "17290/17290 [==============================] - 29s 2ms/step - loss: 5.4459e-04\n",
            "Epoch 53/100\n",
            "17290/17290 [==============================] - 29s 2ms/step - loss: 5.3856e-04\n",
            "Epoch 54/100\n",
            "17290/17290 [==============================] - 29s 2ms/step - loss: 5.3893e-04\n",
            "Epoch 55/100\n",
            "17290/17290 [==============================] - 28s 2ms/step - loss: 5.4146e-04\n",
            "Epoch 56/100\n",
            "17290/17290 [==============================] - 28s 2ms/step - loss: 5.3874e-04\n",
            "Epoch 57/100\n",
            "17290/17290 [==============================] - 28s 2ms/step - loss: 5.3873e-04\n",
            "Epoch 58/100\n",
            "17290/17290 [==============================] - 28s 2ms/step - loss: 5.3827e-04\n",
            "Epoch 59/100\n",
            "17290/17290 [==============================] - 28s 2ms/step - loss: 5.3600e-04\n",
            "Epoch 60/100\n",
            "17290/17290 [==============================] - 28s 2ms/step - loss: 5.3510e-04\n",
            "Epoch 61/100\n",
            "17290/17290 [==============================] - 28s 2ms/step - loss: 5.3624e-04\n",
            "Epoch 62/100\n",
            "17290/17290 [==============================] - 28s 2ms/step - loss: 5.3422e-04\n",
            "Epoch 63/100\n",
            "17290/17290 [==============================] - 28s 2ms/step - loss: 5.3463e-04\n",
            "Epoch 64/100\n",
            "17290/17290 [==============================] - 28s 2ms/step - loss: 5.3706e-04\n",
            "Epoch 65/100\n",
            "17290/17290 [==============================] - 28s 2ms/step - loss: 5.3113e-04\n",
            "Epoch 66/100\n",
            "17290/17290 [==============================] - 28s 2ms/step - loss: 5.3104e-04\n",
            "Epoch 67/100\n",
            "17290/17290 [==============================] - 28s 2ms/step - loss: 5.3439e-04\n",
            "Epoch 68/100\n",
            "17290/17290 [==============================] - 28s 2ms/step - loss: 5.3217e-04\n",
            "Epoch 69/100\n",
            "17290/17290 [==============================] - 28s 2ms/step - loss: 5.2890e-04\n",
            "Epoch 70/100\n",
            "17290/17290 [==============================] - 28s 2ms/step - loss: 5.3231e-04\n",
            "Epoch 71/100\n",
            "17290/17290 [==============================] - 28s 2ms/step - loss: 5.3227e-04\n",
            "Epoch 72/100\n",
            "17290/17290 [==============================] - 28s 2ms/step - loss: 5.3360e-04\n",
            "Epoch 73/100\n",
            "17290/17290 [==============================] - 28s 2ms/step - loss: 5.3037e-04\n",
            "Epoch 74/100\n",
            "17290/17290 [==============================] - 28s 2ms/step - loss: 5.3101e-04\n",
            "Epoch 75/100\n",
            "17290/17290 [==============================] - 28s 2ms/step - loss: 5.2718e-04\n",
            "Epoch 76/100\n",
            "17290/17290 [==============================] - 28s 2ms/step - loss: 5.3106e-04\n",
            "Epoch 77/100\n",
            "17290/17290 [==============================] - 28s 2ms/step - loss: 5.3107e-04\n",
            "Epoch 78/100\n",
            "17290/17290 [==============================] - 28s 2ms/step - loss: 5.3187e-04\n",
            "Epoch 79/100\n",
            "17290/17290 [==============================] - 28s 2ms/step - loss: 5.2813e-04\n",
            "Epoch 80/100\n",
            "17290/17290 [==============================] - 28s 2ms/step - loss: 5.3166e-04\n",
            "Epoch 81/100\n",
            "17290/17290 [==============================] - 28s 2ms/step - loss: 5.2766e-04\n",
            "Epoch 82/100\n",
            "17290/17290 [==============================] - 28s 2ms/step - loss: 5.2977e-04\n",
            "Epoch 83/100\n",
            "17290/17290 [==============================] - 28s 2ms/step - loss: 5.2995e-04\n",
            "Epoch 84/100\n",
            "17290/17290 [==============================] - 28s 2ms/step - loss: 5.2809e-04\n",
            "Epoch 85/100\n",
            "17290/17290 [==============================] - 28s 2ms/step - loss: 5.2727e-04\n",
            "Epoch 86/100\n",
            "17290/17290 [==============================] - 28s 2ms/step - loss: 5.2733e-04\n",
            "Epoch 87/100\n",
            "17290/17290 [==============================] - 28s 2ms/step - loss: 5.2667e-04\n",
            "Epoch 88/100\n",
            "17290/17290 [==============================] - 29s 2ms/step - loss: 5.3021e-04\n",
            "Epoch 89/100\n",
            "17290/17290 [==============================] - 28s 2ms/step - loss: 5.2916e-04\n",
            "Epoch 90/100\n",
            "17290/17290 [==============================] - 28s 2ms/step - loss: 5.2411e-04\n",
            "Epoch 91/100\n",
            "17290/17290 [==============================] - 28s 2ms/step - loss: 5.2541e-04\n",
            "Epoch 92/100\n",
            "17290/17290 [==============================] - 29s 2ms/step - loss: 5.2490e-04\n",
            "Epoch 93/100\n",
            "17290/17290 [==============================] - 29s 2ms/step - loss: 5.2186e-04\n",
            "Epoch 94/100\n",
            "17290/17290 [==============================] - 29s 2ms/step - loss: 5.2231e-04\n",
            "Epoch 95/100\n",
            "17290/17290 [==============================] - 28s 2ms/step - loss: 5.2335e-04\n",
            "Epoch 96/100\n",
            "17290/17290 [==============================] - 28s 2ms/step - loss: 5.2573e-04\n",
            "Epoch 97/100\n",
            "17290/17290 [==============================] - 29s 2ms/step - loss: 5.2190e-04\n",
            "Epoch 98/100\n",
            "17290/17290 [==============================] - 29s 2ms/step - loss: 5.2002e-04\n",
            "Epoch 99/100\n",
            "17290/17290 [==============================] - 29s 2ms/step - loss: 5.1784e-04\n",
            "Epoch 100/100\n",
            "17290/17290 [==============================] - 29s 2ms/step - loss: 5.2217e-04\n"
          ],
          "name": "stdout"
        }
      ]
    },
    {
      "cell_type": "code",
      "metadata": {
        "id": "GvEtr3IPv0Sh",
        "colab_type": "code",
        "outputId": "0f270383-7a7b-43a2-c4cd-07a40c4ba602",
        "colab": {
          "base_uri": "https://localhost:8080/",
          "height": 363
        }
      },
      "source": [
        "print(history.history.keys())\n",
        "# \"Loss\"\n",
        "plt.plot(history.history['loss'])\n",
        "plt.title('model loss')\n",
        "plt.ylabel('loss')\n",
        "plt.xlabel('epoch')\n",
        "plt.legend(['train'], loc='upper left')\n",
        "plt.show()\n",
        "X_test=X_test.reshape(X_test.shape[0],X_test.shape[1],1)\n",
        "prediction = regressor.predict(X_test)\n",
        "print(\"mean square error :\" ,mean_squared_error(y_test,prediction))\n",
        "from sklearn.metrics import mean_absolute_error\n",
        "print(\"mean absolute error : \",mean_absolute_error(y_test,prediction))\n",
        "print(r2_score(y_test,prediction))"
      ],
      "execution_count": 0,
      "outputs": [
        {
          "output_type": "stream",
          "text": [
            "dict_keys(['loss'])\n"
          ],
          "name": "stdout"
        },
        {
          "output_type": "display_data",
          "data": {
            "image/png": "[encoded data removed]",
            "text/plain": [
              "<Figure size 432x288 with 1 Axes>"
            ]
          },
          "metadata": {
            "tags": [],
            "needs_background": "light"
          }
        },
        {
          "output_type": "stream",
          "text": [
            "mean square error : 0.0006305104656698903\n",
            "mean absolute error :  0.008708725093951047\n",
            "0.7810046782829594\n"
          ],
          "name": "stdout"
        }
      ]
    },
    {
      "cell_type": "code",
      "metadata": {
        "id": "64suBIQS8DmU",
        "colab_type": "code",
        "outputId": "65c78c7d-2902-49c7-8ccf-08235b842f0d",
        "colab": {
          "base_uri": "https://localhost:8080/",
          "height": 281
        }
      },
      "source": [
        "plt.plot(y_test[0:100], color = 'black', label = 'TRUTH')\n",
        "plt.plot(prediction[0:100], color = 'green', label = 'PREDICTION')\n",
        "plt.title('LSTM PERFORMANCE ON TEST SET')\n",
        "plt.ylabel('PM10')\n",
        "plt.legend()\n",
        "plt.show()"
      ],
      "execution_count": 0,
      "outputs": [
        {
          "output_type": "display_data",
          "data": {
            "image/png": "[encoded data removed]",
            "text/plain": [
              "<Figure size 432x288 with 1 Axes>"
            ]
          },
          "metadata": {
            "tags": [],
            "needs_background": "light"
          }
        }
      ]
    },
    {
      "cell_type": "code",
      "metadata": {
        "id": "M6ATb9dKn9KE",
        "colab_type": "code",
        "colab": {}
      },
      "source": [
        "joblib.dump(regressor,'lstm_regressor.pkl')\n",
        "from google.colab import files\n",
        "files.download('lstm_regressor.pkl')"
      ],
      "execution_count": 0,
      "outputs": []
    },
    {
      "cell_type": "code",
      "metadata": {
        "id": "J2R-4HX3NL8E",
        "colab_type": "code",
        "colab": {}
      },
      "source": [
        ""
      ],
      "execution_count": 0,
      "outputs": []
    }
  ]
}