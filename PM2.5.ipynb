{
 "cells": [
  {
   "cell_type": "code",
   "execution_count": null,
   "metadata": {
    "colab": {},
    "colab_type": "code",
    "id": "jr2l9vbIrkO-"
   },
   "outputs": [],
   "source": []
  },
  {
   "cell_type": "code",
   "execution_count": null,
   "metadata": {
    "colab": {},
    "colab_type": "code",
    "id": "VTT9QhI4quRa"
   },
   "outputs": [],
   "source": []
  },
  {
   "cell_type": "code",
   "execution_count": null,
   "metadata": {
    "colab": {},
    "colab_type": "code",
    "id": "dtYedBxwqNlx"
   },
   "outputs": [],
   "source": []
  },
  {
   "cell_type": "code",
   "execution_count": null,
   "metadata": {
    "colab": {},
    "colab_type": "code",
    "id": "C0aNQ_nspWsI"
   },
   "outputs": [],
   "source": []
  },
  {
   "cell_type": "code",
   "execution_count": 8,
   "metadata": {
    "colab": {
     "base_uri": "https://localhost:8080/",
     "height": 129
    },
    "colab_type": "code",
    "id": "aLafiv1zMqa3",
    "outputId": "5a55847e-7cd9-4854-827f-1bc8f8660db7"
   },
   "outputs": [],
   "source": [
    "import pandas as pd\n",
    "import numpy as np \n",
    "%matplotlib inline\n",
    "import matplotlib.pyplot as plt\n",
    "#from google.colab import drive\n",
    "#drive.mount('/content/drive')\n",
    "\n",
    "data = pd.read_csv('Measurement_summary.csv')"
   ]
  },
  {
   "cell_type": "code",
   "execution_count": 9,
   "metadata": {
    "colab": {
     "base_uri": "https://localhost:8080/",
     "height": 363
    },
    "colab_type": "code",
    "id": "nZUi7009M9kN",
    "outputId": "25029377-48c1-4437-9a27-c639db2729df"
   },
   "outputs": [
    {
     "data": {
      "text/html": [
       "<div>\n",
       "<style scoped>\n",
       "    .dataframe tbody tr th:only-of-type {\n",
       "        vertical-align: middle;\n",
       "    }\n",
       "\n",
       "    .dataframe tbody tr th {\n",
       "        vertical-align: top;\n",
       "    }\n",
       "\n",
       "    .dataframe thead th {\n",
       "        text-align: right;\n",
       "    }\n",
       "</style>\n",
       "<table border=\"1\" class=\"dataframe\">\n",
       "  <thead>\n",
       "    <tr style=\"text-align: right;\">\n",
       "      <th></th>\n",
       "      <th>Measurement date</th>\n",
       "      <th>Station code</th>\n",
       "      <th>Address</th>\n",
       "      <th>Latitude</th>\n",
       "      <th>Longitude</th>\n",
       "      <th>SO2</th>\n",
       "      <th>NO2</th>\n",
       "      <th>O3</th>\n",
       "      <th>CO</th>\n",
       "      <th>PM10</th>\n",
       "      <th>PM2.5</th>\n",
       "    </tr>\n",
       "  </thead>\n",
       "  <tbody>\n",
       "    <tr>\n",
       "      <th>0</th>\n",
       "      <td>2017-01-01 00:00</td>\n",
       "      <td>101</td>\n",
       "      <td>19, Jong-ro 35ga-gil, Jongno-gu, Seoul, Republ...</td>\n",
       "      <td>37.572016</td>\n",
       "      <td>127.005007</td>\n",
       "      <td>0.004</td>\n",
       "      <td>0.059</td>\n",
       "      <td>0.002</td>\n",
       "      <td>1.2</td>\n",
       "      <td>73.0</td>\n",
       "      <td>57.0</td>\n",
       "    </tr>\n",
       "    <tr>\n",
       "      <th>1</th>\n",
       "      <td>2017-01-01 01:00</td>\n",
       "      <td>101</td>\n",
       "      <td>19, Jong-ro 35ga-gil, Jongno-gu, Seoul, Republ...</td>\n",
       "      <td>37.572016</td>\n",
       "      <td>127.005007</td>\n",
       "      <td>0.004</td>\n",
       "      <td>0.058</td>\n",
       "      <td>0.002</td>\n",
       "      <td>1.2</td>\n",
       "      <td>71.0</td>\n",
       "      <td>59.0</td>\n",
       "    </tr>\n",
       "    <tr>\n",
       "      <th>2</th>\n",
       "      <td>2017-01-01 02:00</td>\n",
       "      <td>101</td>\n",
       "      <td>19, Jong-ro 35ga-gil, Jongno-gu, Seoul, Republ...</td>\n",
       "      <td>37.572016</td>\n",
       "      <td>127.005007</td>\n",
       "      <td>0.004</td>\n",
       "      <td>0.056</td>\n",
       "      <td>0.002</td>\n",
       "      <td>1.2</td>\n",
       "      <td>70.0</td>\n",
       "      <td>59.0</td>\n",
       "    </tr>\n",
       "    <tr>\n",
       "      <th>3</th>\n",
       "      <td>2017-01-01 03:00</td>\n",
       "      <td>101</td>\n",
       "      <td>19, Jong-ro 35ga-gil, Jongno-gu, Seoul, Republ...</td>\n",
       "      <td>37.572016</td>\n",
       "      <td>127.005007</td>\n",
       "      <td>0.004</td>\n",
       "      <td>0.056</td>\n",
       "      <td>0.002</td>\n",
       "      <td>1.2</td>\n",
       "      <td>70.0</td>\n",
       "      <td>58.0</td>\n",
       "    </tr>\n",
       "    <tr>\n",
       "      <th>4</th>\n",
       "      <td>2017-01-01 04:00</td>\n",
       "      <td>101</td>\n",
       "      <td>19, Jong-ro 35ga-gil, Jongno-gu, Seoul, Republ...</td>\n",
       "      <td>37.572016</td>\n",
       "      <td>127.005007</td>\n",
       "      <td>0.003</td>\n",
       "      <td>0.051</td>\n",
       "      <td>0.002</td>\n",
       "      <td>1.2</td>\n",
       "      <td>69.0</td>\n",
       "      <td>61.0</td>\n",
       "    </tr>\n",
       "    <tr>\n",
       "      <th>5</th>\n",
       "      <td>2017-01-01 05:00</td>\n",
       "      <td>101</td>\n",
       "      <td>19, Jong-ro 35ga-gil, Jongno-gu, Seoul, Republ...</td>\n",
       "      <td>37.572016</td>\n",
       "      <td>127.005007</td>\n",
       "      <td>0.003</td>\n",
       "      <td>0.046</td>\n",
       "      <td>0.002</td>\n",
       "      <td>1.1</td>\n",
       "      <td>70.0</td>\n",
       "      <td>61.0</td>\n",
       "    </tr>\n",
       "    <tr>\n",
       "      <th>6</th>\n",
       "      <td>2017-01-01 06:00</td>\n",
       "      <td>101</td>\n",
       "      <td>19, Jong-ro 35ga-gil, Jongno-gu, Seoul, Republ...</td>\n",
       "      <td>37.572016</td>\n",
       "      <td>127.005007</td>\n",
       "      <td>0.003</td>\n",
       "      <td>0.049</td>\n",
       "      <td>0.002</td>\n",
       "      <td>1.1</td>\n",
       "      <td>66.0</td>\n",
       "      <td>57.0</td>\n",
       "    </tr>\n",
       "    <tr>\n",
       "      <th>7</th>\n",
       "      <td>2017-01-01 07:00</td>\n",
       "      <td>101</td>\n",
       "      <td>19, Jong-ro 35ga-gil, Jongno-gu, Seoul, Republ...</td>\n",
       "      <td>37.572016</td>\n",
       "      <td>127.005007</td>\n",
       "      <td>0.003</td>\n",
       "      <td>0.045</td>\n",
       "      <td>0.002</td>\n",
       "      <td>1.0</td>\n",
       "      <td>71.0</td>\n",
       "      <td>60.0</td>\n",
       "    </tr>\n",
       "    <tr>\n",
       "      <th>8</th>\n",
       "      <td>2017-01-01 08:00</td>\n",
       "      <td>101</td>\n",
       "      <td>19, Jong-ro 35ga-gil, Jongno-gu, Seoul, Republ...</td>\n",
       "      <td>37.572016</td>\n",
       "      <td>127.005007</td>\n",
       "      <td>0.004</td>\n",
       "      <td>0.047</td>\n",
       "      <td>0.002</td>\n",
       "      <td>1.1</td>\n",
       "      <td>72.0</td>\n",
       "      <td>60.0</td>\n",
       "    </tr>\n",
       "    <tr>\n",
       "      <th>9</th>\n",
       "      <td>2017-01-01 09:00</td>\n",
       "      <td>101</td>\n",
       "      <td>19, Jong-ro 35ga-gil, Jongno-gu, Seoul, Republ...</td>\n",
       "      <td>37.572016</td>\n",
       "      <td>127.005007</td>\n",
       "      <td>0.003</td>\n",
       "      <td>0.047</td>\n",
       "      <td>0.002</td>\n",
       "      <td>1.1</td>\n",
       "      <td>74.0</td>\n",
       "      <td>63.0</td>\n",
       "    </tr>\n",
       "  </tbody>\n",
       "</table>\n",
       "</div>"
      ],
      "text/plain": [
       "   Measurement date  Station code  \\\n",
       "0  2017-01-01 00:00           101   \n",
       "1  2017-01-01 01:00           101   \n",
       "2  2017-01-01 02:00           101   \n",
       "3  2017-01-01 03:00           101   \n",
       "4  2017-01-01 04:00           101   \n",
       "5  2017-01-01 05:00           101   \n",
       "6  2017-01-01 06:00           101   \n",
       "7  2017-01-01 07:00           101   \n",
       "8  2017-01-01 08:00           101   \n",
       "9  2017-01-01 09:00           101   \n",
       "\n",
       "                                             Address   Latitude   Longitude  \\\n",
       "0  19, Jong-ro 35ga-gil, Jongno-gu, Seoul, Republ...  37.572016  127.005007   \n",
       "1  19, Jong-ro 35ga-gil, Jongno-gu, Seoul, Republ...  37.572016  127.005007   \n",
       "2  19, Jong-ro 35ga-gil, Jongno-gu, Seoul, Republ...  37.572016  127.005007   \n",
       "3  19, Jong-ro 35ga-gil, Jongno-gu, Seoul, Republ...  37.572016  127.005007   \n",
       "4  19, Jong-ro 35ga-gil, Jongno-gu, Seoul, Republ...  37.572016  127.005007   \n",
       "5  19, Jong-ro 35ga-gil, Jongno-gu, Seoul, Republ...  37.572016  127.005007   \n",
       "6  19, Jong-ro 35ga-gil, Jongno-gu, Seoul, Republ...  37.572016  127.005007   \n",
       "7  19, Jong-ro 35ga-gil, Jongno-gu, Seoul, Republ...  37.572016  127.005007   \n",
       "8  19, Jong-ro 35ga-gil, Jongno-gu, Seoul, Republ...  37.572016  127.005007   \n",
       "9  19, Jong-ro 35ga-gil, Jongno-gu, Seoul, Republ...  37.572016  127.005007   \n",
       "\n",
       "     SO2    NO2     O3   CO  PM10  PM2.5  \n",
       "0  0.004  0.059  0.002  1.2  73.0   57.0  \n",
       "1  0.004  0.058  0.002  1.2  71.0   59.0  \n",
       "2  0.004  0.056  0.002  1.2  70.0   59.0  \n",
       "3  0.004  0.056  0.002  1.2  70.0   58.0  \n",
       "4  0.003  0.051  0.002  1.2  69.0   61.0  \n",
       "5  0.003  0.046  0.002  1.1  70.0   61.0  \n",
       "6  0.003  0.049  0.002  1.1  66.0   57.0  \n",
       "7  0.003  0.045  0.002  1.0  71.0   60.0  \n",
       "8  0.004  0.047  0.002  1.1  72.0   60.0  \n",
       "9  0.003  0.047  0.002  1.1  74.0   63.0  "
      ]
     },
     "execution_count": 9,
     "metadata": {},
     "output_type": "execute_result"
    }
   ],
   "source": [
    "\n",
    "data.head(10)\n"
   ]
  },
  {
   "cell_type": "code",
   "execution_count": 10,
   "metadata": {
    "colab": {
     "base_uri": "https://localhost:8080/",
     "height": 35
    },
    "colab_type": "code",
    "id": "cFj-Od2FNYr7",
    "outputId": "a0c443c7-5628-4028-a734-d69c27370f1d"
   },
   "outputs": [
    {
     "name": "stdout",
     "output_type": "stream",
     "text": [
      "(647511, 1)\n"
     ]
    }
   ],
   "source": [
    "df=data['PM2.5']\n",
    "df=df.values\n",
    "df=df.reshape(df.shape[0],1)\n",
    "print(df.shape)"
   ]
  },
  {
   "cell_type": "code",
   "execution_count": 11,
   "metadata": {
    "colab": {
     "base_uri": "https://localhost:8080/",
     "height": 35
    },
    "colab_type": "code",
    "id": "rzYngv6_TPhh",
    "outputId": "6e9f084c-b3e5-4939-e392-47068d79e976"
   },
   "outputs": [
    {
     "name": "stdout",
     "output_type": "stream",
     "text": [
      "647511\n"
     ]
    }
   ],
   "source": [
    "list_=[]\n",
    "for i in range (0,df.shape[0]):\n",
    "  list_.append(df[i][0])\n",
    "print(len(list_))"
   ]
  },
  {
   "cell_type": "code",
   "execution_count": 12,
   "metadata": {
    "colab": {
     "base_uri": "https://localhost:8080/",
     "height": 35
    },
    "colab_type": "code",
    "id": "mFSUAFonN2ht",
    "outputId": "37bbb35a-2764-4a68-c472-2cc78245b91c"
   },
   "outputs": [
    {
     "name": "stdout",
     "output_type": "stream",
     "text": [
      "647506 [57.0, 59.0, 59.0, 58.0, 61.0]\n"
     ]
    }
   ],
   "source": [
    "window_size=5\n",
    "y=[]\n",
    "for i in range (0,len(list_)-5):\n",
    "  x=list_[i:i+window_size]\n",
    "  y.append(x)\n",
    "print(len(y),y[0])\n"
   ]
  },
  {
   "cell_type": "code",
   "execution_count": 13,
   "metadata": {
    "colab": {
     "base_uri": "https://localhost:8080/",
     "height": 381
    },
    "colab_type": "code",
    "id": "jOkLjiONN_dz",
    "outputId": "e8bb64e6-bcef-4dbd-ec05-be747c04c928"
   },
   "outputs": [
    {
     "name": "stdout",
     "output_type": "stream",
     "text": [
      "(647506, 5)\n"
     ]
    },
    {
     "data": {
      "text/html": [
       "<div>\n",
       "<style scoped>\n",
       "    .dataframe tbody tr th:only-of-type {\n",
       "        vertical-align: middle;\n",
       "    }\n",
       "\n",
       "    .dataframe tbody tr th {\n",
       "        vertical-align: top;\n",
       "    }\n",
       "\n",
       "    .dataframe thead th {\n",
       "        text-align: right;\n",
       "    }\n",
       "</style>\n",
       "<table border=\"1\" class=\"dataframe\">\n",
       "  <thead>\n",
       "    <tr style=\"text-align: right;\">\n",
       "      <th></th>\n",
       "      <th>X1</th>\n",
       "      <th>X2</th>\n",
       "      <th>X3</th>\n",
       "      <th>X4</th>\n",
       "      <th>Y</th>\n",
       "    </tr>\n",
       "  </thead>\n",
       "  <tbody>\n",
       "    <tr>\n",
       "      <th>0</th>\n",
       "      <td>57.0</td>\n",
       "      <td>59.0</td>\n",
       "      <td>59.0</td>\n",
       "      <td>58.0</td>\n",
       "      <td>61.0</td>\n",
       "    </tr>\n",
       "    <tr>\n",
       "      <th>1</th>\n",
       "      <td>59.0</td>\n",
       "      <td>59.0</td>\n",
       "      <td>58.0</td>\n",
       "      <td>61.0</td>\n",
       "      <td>61.0</td>\n",
       "    </tr>\n",
       "    <tr>\n",
       "      <th>2</th>\n",
       "      <td>59.0</td>\n",
       "      <td>58.0</td>\n",
       "      <td>61.0</td>\n",
       "      <td>61.0</td>\n",
       "      <td>57.0</td>\n",
       "    </tr>\n",
       "    <tr>\n",
       "      <th>3</th>\n",
       "      <td>58.0</td>\n",
       "      <td>61.0</td>\n",
       "      <td>61.0</td>\n",
       "      <td>57.0</td>\n",
       "      <td>60.0</td>\n",
       "    </tr>\n",
       "    <tr>\n",
       "      <th>4</th>\n",
       "      <td>61.0</td>\n",
       "      <td>61.0</td>\n",
       "      <td>57.0</td>\n",
       "      <td>60.0</td>\n",
       "      <td>60.0</td>\n",
       "    </tr>\n",
       "    <tr>\n",
       "      <th>5</th>\n",
       "      <td>61.0</td>\n",
       "      <td>57.0</td>\n",
       "      <td>60.0</td>\n",
       "      <td>60.0</td>\n",
       "      <td>63.0</td>\n",
       "    </tr>\n",
       "    <tr>\n",
       "      <th>6</th>\n",
       "      <td>57.0</td>\n",
       "      <td>60.0</td>\n",
       "      <td>60.0</td>\n",
       "      <td>63.0</td>\n",
       "      <td>68.0</td>\n",
       "    </tr>\n",
       "    <tr>\n",
       "      <th>7</th>\n",
       "      <td>60.0</td>\n",
       "      <td>60.0</td>\n",
       "      <td>63.0</td>\n",
       "      <td>68.0</td>\n",
       "      <td>74.0</td>\n",
       "    </tr>\n",
       "    <tr>\n",
       "      <th>8</th>\n",
       "      <td>60.0</td>\n",
       "      <td>63.0</td>\n",
       "      <td>68.0</td>\n",
       "      <td>74.0</td>\n",
       "      <td>79.0</td>\n",
       "    </tr>\n",
       "    <tr>\n",
       "      <th>9</th>\n",
       "      <td>63.0</td>\n",
       "      <td>68.0</td>\n",
       "      <td>74.0</td>\n",
       "      <td>79.0</td>\n",
       "      <td>79.0</td>\n",
       "    </tr>\n",
       "  </tbody>\n",
       "</table>\n",
       "</div>"
      ],
      "text/plain": [
       "     X1    X2    X3    X4     Y\n",
       "0  57.0  59.0  59.0  58.0  61.0\n",
       "1  59.0  59.0  58.0  61.0  61.0\n",
       "2  59.0  58.0  61.0  61.0  57.0\n",
       "3  58.0  61.0  61.0  57.0  60.0\n",
       "4  61.0  61.0  57.0  60.0  60.0\n",
       "5  61.0  57.0  60.0  60.0  63.0\n",
       "6  57.0  60.0  60.0  63.0  68.0\n",
       "7  60.0  60.0  63.0  68.0  74.0\n",
       "8  60.0  63.0  68.0  74.0  79.0\n",
       "9  63.0  68.0  74.0  79.0  79.0"
      ]
     },
     "execution_count": 13,
     "metadata": {},
     "output_type": "execute_result"
    }
   ],
   "source": [
    "matrix=np.matrix(y)\n",
    "print(matrix.shape)\n",
    "new_data = pd.DataFrame(matrix,columns=['X1','X2','X3','X4','Y'])\n",
    "new_data.head(10)\n"
   ]
  },
  {
   "cell_type": "code",
   "execution_count": 14,
   "metadata": {
    "colab": {},
    "colab_type": "code",
    "id": "rQivHZ8cpD6d"
   },
   "outputs": [],
   "source": [
    "# NORMALISE the DATASET\n",
    "#from sklearn import preprocessing\n",
    "#scaler = preprocessing.MinMaxScaler()\n",
    "#matrix= scaler.fit_transform(matrix)\n",
    "#mm_scaler.transform(X_test)\n",
    "#new_data = pd.DataFrame(matrix,columns=['X1','X2','X3','X4','Y'])\n",
    "#new_data.head(10)"
   ]
  },
  {
   "cell_type": "code",
   "execution_count": 15,
   "metadata": {
    "colab": {
     "base_uri": "https://localhost:8080/",
     "height": 146
    },
    "colab_type": "code",
    "id": "0Z5frRmicq9M",
    "outputId": "84c41765-21aa-4e3d-b9d3-79fcba845213"
   },
   "outputs": [
    {
     "name": "stdout",
     "output_type": "stream",
     "text": [
      "[[61.]\n",
      " [61.]\n",
      " [57.]\n",
      " ...\n",
      " [19.]\n",
      " [17.]\n",
      " [18.]]\n"
     ]
    }
   ],
   "source": [
    "print(matrix[:,4])"
   ]
  },
  {
   "cell_type": "code",
   "execution_count": 16,
   "metadata": {
    "colab": {
     "base_uri": "https://localhost:8080/",
     "height": 109
    },
    "colab_type": "code",
    "id": "SG1fsHWxOPTk",
    "outputId": "f67339f0-e3fe-45d9-808a-081ae2f70b1a"
   },
   "outputs": [
    {
     "name": "stdout",
     "output_type": "stream",
     "text": [
      "(213677, 1) [[17.63404041]\n",
      " [27.14562998]\n",
      " [29.49827441]\n",
      " [12.61887563]\n",
      " [19.22818984]]\n"
     ]
    }
   ],
   "source": [
    "from sklearn import linear_model\n",
    "from sklearn.model_selection import train_test_split\n",
    "from sklearn.metrics import r2_score\n",
    "from sklearn.metrics import mean_squared_error\n",
    "X_train, X_test, y_train, y_test = train_test_split(matrix[:,0:4],matrix[:,4],test_size=0.33, random_state=42)\n",
    "lm = linear_model.LinearRegression()\n",
    "model = lm.fit(X_train,y_train)\n",
    "prediction=model.predict(X_test)\n",
    "print(prediction.shape,prediction[0:5])"
   ]
  },
  {
   "cell_type": "code",
   "execution_count": 17,
   "metadata": {
    "colab": {
     "base_uri": "https://localhost:8080/",
     "height": 72
    },
    "colab_type": "code",
    "id": "bye3z6vaOvbl",
    "outputId": "1063179c-cc68-40df-8065-f5a3b5eaa993"
   },
   "outputs": [
    {
     "name": "stdout",
     "output_type": "stream",
     "text": [
      "0.1988501709011321\n",
      "[9.65154303]\n",
      "[[0.12071222 0.12440673 0.15526335 0.22031139]]\n"
     ]
    }
   ],
   "source": [
    "print(model.score(X_train,y_train))\n",
    "print(model.intercept_)\n",
    "print(model.coef_)"
   ]
  },
  {
   "cell_type": "code",
   "execution_count": 18,
   "metadata": {
    "colab": {
     "base_uri": "https://localhost:8080/",
     "height": 54
    },
    "colab_type": "code",
    "id": "K9AvmWqwO0h1",
    "outputId": "415a21ec-5f72-4fae-ff54-5c55a57a88ff"
   },
   "outputs": [
    {
     "name": "stdout",
     "output_type": "stream",
     "text": [
      "40.68149962262998\n",
      "0.17268271971840865\n"
     ]
    }
   ],
   "source": [
    "print(mean_squared_error(y_test,prediction)**0.5)\n",
    "print(r2_score(y_test,prediction))"
   ]
  },
  {
   "cell_type": "code",
   "execution_count": 19,
   "metadata": {
    "colab": {
     "base_uri": "https://localhost:8080/",
     "height": 281
    },
    "colab_type": "code",
    "id": "7ZFxbkZwIfsr",
    "outputId": "4d6e3f19-1a82-4670-83e4-49b344292f01"
   },
   "outputs": [
    {
     "data": {
      "image/png": "[encoded data removed]",
      "text/plain": [
       "<Figure size 432x288 with 1 Axes>"
      ]
     },
     "metadata": {
      "needs_background": "light"
     },
     "output_type": "display_data"
    }
   ],
   "source": [
    "plt.plot(y_test[0:100], color = 'black', label = 'TRUTH')\n",
    "plt.plot(prediction[0:100], color = 'green', label = 'PREDICTION')\n",
    "plt.title('Linear regression PERFORMANCE ON TEST SET')\n",
    "plt.ylabel('PM2.5')\n",
    "plt.legend()\n",
    "plt.show()"
   ]
  },
  {
   "cell_type": "code",
   "execution_count": 20,
   "metadata": {
    "colab": {
     "base_uri": "https://localhost:8080/",
     "height": 110
    },
    "colab_type": "code",
    "id": "hrZqAjEyGnIN",
    "outputId": "4319e6b2-0768-4fcd-ebc5-8be3e12c0731"
   },
   "outputs": [
    {
     "name": "stderr",
     "output_type": "stream",
     "text": [
      "C:\\Users\\richa\\Anaconda3\\lib\\site-packages\\sklearn\\utils\\validation.py:760: DataConversionWarning: A column-vector y was passed when a 1d array was expected. Please change the shape of y to (n_samples, ), for example using ravel().\n",
      "  y = column_or_1d(y, warn=True)\n"
     ]
    },
    {
     "name": "stdout",
     "output_type": "stream",
     "text": [
      "40.68148832549145\n",
      "0.1726831792057293\n"
     ]
    }
   ],
   "source": [
    "# BAYESIAN RIDGE REGRESSION\n",
    "from sklearn import linear_model\n",
    "model = linear_model.BayesianRidge()\n",
    "model.fit(X_train,y_train)\n",
    "prediction=model.predict(X_test)\n",
    "print(mean_squared_error(y_test,prediction)**0.5)\n",
    "print(r2_score(y_test,prediction))"
   ]
  },
  {
   "cell_type": "code",
   "execution_count": 21,
   "metadata": {
    "colab": {
     "base_uri": "https://localhost:8080/",
     "height": 90
    },
    "colab_type": "code",
    "id": "crUrc4mjO8uL",
    "outputId": "5bf8e4e5-0ee7-4861-f416-b1994aac1f5e"
   },
   "outputs": [
    {
     "name": "stderr",
     "output_type": "stream",
     "text": [
      "C:\\Users\\richa\\Anaconda3\\lib\\site-packages\\ipykernel_launcher.py:4: DataConversionWarning: A column-vector y was passed when a 1d array was expected. Please change the shape of y to (n_samples,), for example using ravel().\n",
      "  after removing the cwd from sys.path.\n"
     ]
    },
    {
     "name": "stdout",
     "output_type": "stream",
     "text": [
      "39.99045033070563\n",
      "0.20055097428471547\n"
     ]
    }
   ],
   "source": [
    "# IMLEMENTING  RANDOM FOREST ALGORITHM\n",
    "from sklearn.ensemble import RandomForestRegressor\n",
    "model= RandomForestRegressor(max_depth=2, random_state=0)\n",
    "model.fit(X_train,y_train)\n",
    "prediction=model.predict(X_test)\n",
    "print(mean_squared_error(y_test,prediction)**0.5)\n",
    "print(r2_score(y_test,prediction))"
   ]
  },
  {
   "cell_type": "code",
   "execution_count": 22,
   "metadata": {
    "colab": {
     "base_uri": "https://localhost:8080/",
     "height": 281
    },
    "colab_type": "code",
    "id": "KAVNYF_yJXRN",
    "outputId": "509c125f-c4df-466d-9b28-b7e582a949ea"
   },
   "outputs": [
    {
     "data": {
      "image/png": "[encoded data removed]",
      "text/plain": [
       "<Figure size 432x288 with 1 Axes>"
      ]
     },
     "metadata": {
      "needs_background": "light"
     },
     "output_type": "display_data"
    }
   ],
   "source": [
    "plt.plot(y_test[0:100], color = 'black', label = 'TRUTH')\n",
    "plt.plot(prediction[0:100], color = 'green', label = 'PREDICTION')\n",
    "plt.title('Random forest regression PERFORMANCE ON TEST SET')\n",
    "plt.ylabel('data = pd.read_csvPM2.5')\n",
    "plt.legend()\n",
    "plt.show()"
   ]
  },
  {
   "cell_type": "code",
   "execution_count": 23,
   "metadata": {
    "colab": {
     "base_uri": "https://localhost:8080/",
     "height": 54
    },
    "colab_type": "code",
    "id": "VIgDwl3FE5KL",
    "outputId": "ebb545c6-a106-4b93-adb7-b9d94e93c15e"
   },
   "outputs": [
    {
     "name": "stdout",
     "output_type": "stream",
     "text": [
      "40.68145652852579\n",
      "0.17268447247966467\n"
     ]
    }
   ],
   "source": [
    "# IMPLEMENTING LASSO REGRESSION\n",
    "from sklearn import linear_model\n",
    "model = linear_model.Lasso(alpha=0.1)\n",
    "model.fit(X_train,y_train)\n",
    "prediction=model.predict(X_test)\n",
    "print(mean_squared_error(y_test,prediction)**0.5)\n",
    "print(r2_score(y_test,prediction))"
   ]
  },
  {
   "cell_type": "code",
   "execution_count": 24,
   "metadata": {
    "colab": {
     "base_uri": "https://localhost:8080/",
     "height": 54
    },
    "colab_type": "code",
    "id": "s9oOYdsvFVAz",
    "outputId": "5a90b8a1-cffc-40f6-a8de-09f4d25bcc1c"
   },
   "outputs": [
    {
     "name": "stdout",
     "output_type": "stream",
     "text": [
      "40.68149962243874\n",
      "0.17268271972618698\n"
     ]
    }
   ],
   "source": [
    "# RIDGE REGRESSION\n",
    "from sklearn.linear_model import Ridge\n",
    "model = Ridge(alpha=1.0)\n",
    "model.fit(X_train,y_train)\n",
    "prediction=model.predict(X_test)\n",
    "print(mean_squared_error(y_test,prediction)**0.5)\n",
    "print(r2_score(y_test,prediction))\n"
   ]
  },
  {
   "cell_type": "code",
   "execution_count": 25,
   "metadata": {
    "colab": {
     "base_uri": "https://localhost:8080/",
     "height": 147
    },
    "colab_type": "code",
    "id": "08afymABtSx4",
    "outputId": "d1af19dc-ab7c-469e-fda6-043bae090f10"
   },
   "outputs": [
    {
     "name": "stderr",
     "output_type": "stream",
     "text": [
      "C:\\Users\\richa\\Anaconda3\\lib\\site-packages\\sklearn\\utils\\validation.py:760: DataConversionWarning: A column-vector y was passed when a 1d array was expected. Please change the shape of y to (n_samples, ), for example using ravel().\n",
      "  y = column_or_1d(y, warn=True)\n"
     ]
    },
    {
     "name": "stdout",
     "output_type": "stream",
     "text": [
      "44.09657840837969\n",
      "0.02795141338279561\n"
     ]
    },
    {
     "name": "stderr",
     "output_type": "stream",
     "text": [
      "C:\\Users\\richa\\Anaconda3\\lib\\site-packages\\sklearn\\svm\\_base.py:947: ConvergenceWarning: Liblinear failed to converge, increase the number of iterations.\n",
      "  \"the number of iterations.\", ConvergenceWarning)\n"
     ]
    }
   ],
   "source": [
    "# IMPLEMENTING SUPPORT VECTOR\n",
    "from sklearn.svm import LinearSVR\n",
    "model= LinearSVR()\n",
    "model.fit(X_train,y_train)\n",
    "prediction=model.predict(X_test)\n",
    "print(mean_squared_error(y_test,prediction)**0.5)\n",
    "print(r2_score(y_test,prediction))"
   ]
  },
  {
   "cell_type": "code",
   "execution_count": 26,
   "metadata": {
    "colab": {
     "base_uri": "https://localhost:8080/",
     "height": 281
    },
    "colab_type": "code",
    "id": "LFR-uIKhMIPs",
    "outputId": "979adfb5-cc04-4e64-d2ad-a20ca4841f80"
   },
   "outputs": [
    {
     "data": {
      "image/png": "[encoded data removed]",
      "text/plain": [
       "<Figure size 432x288 with 1 Axes>"
      ]
     },
     "metadata": {
      "needs_background": "light"
     },
     "output_type": "display_data"
    }
   ],
   "source": [
    "plt.plot(y_test[0:100], color = 'black', label = 'TRUTH')\n",
    "plt.plot(prediction[0:100], color = 'green', label = 'PREDICTION')\n",
    "plt.title('SVM regression PERFORMANCE ON TEST SET')\n",
    "plt.ylabel('PM2.5')\n",
    "plt.legend()\n",
    "plt.show()"
   ]
  },
  {
   "cell_type": "code",
   "execution_count": 27,
   "metadata": {
    "colab": {
     "base_uri": "https://localhost:8080/",
     "height": 1000
    },
    "colab_type": "code",
    "id": "tUpcjRA2hCQz",
    "outputId": "be328ec5-419d-443c-917d-186d1047e5f4"
   },
   "outputs": [
    {
     "name": "stderr",
     "output_type": "stream",
     "text": [
      "Using TensorFlow backend.\n"
     ]
    },
    {
     "name": "stdout",
     "output_type": "stream",
     "text": [
      "Epoch 1/50\n",
      "433829/433829 [==============================] - 17s 40us/step - loss: 1399.3788 - accuracy: 0.0771\n",
      "Epoch 2/50\n",
      "433829/433829 [==============================] - 17s 39us/step - loss: 1373.3672 - accuracy: 0.0715\n",
      "Epoch 3/50\n",
      "433829/433829 [==============================] - 17s 39us/step - loss: 1373.3373 - accuracy: 0.0758\n",
      "Epoch 4/50\n",
      "433829/433829 [==============================] - 18s 40us/step - loss: 1381.6620 - accuracy: 0.0777\n",
      "Epoch 5/50\n",
      "433829/433829 [==============================] - 18s 40us/step - loss: 1393.1321 - accuracy: 0.0765\n",
      "Epoch 6/50\n",
      "433829/433829 [==============================] - 17s 39us/step - loss: 1368.9983 - accuracy: 0.0788\n",
      "Epoch 7/50\n",
      "433829/433829 [==============================] - 15s 35us/step - loss: 1371.0682 - accuracy: 0.0770\n",
      "Epoch 8/50\n",
      "433829/433829 [==============================] - 15s 34us/step - loss: 1366.9293 - accuracy: 0.0773\n",
      "Epoch 9/50\n",
      "433829/433829 [==============================] - 14s 33us/step - loss: 1368.3393 - accuracy: 0.0764\n",
      "Epoch 10/50\n",
      "433829/433829 [==============================] - 15s 36us/step - loss: 1370.5030 - accuracy: 0.0771\n",
      "Epoch 11/50\n",
      "433829/433829 [==============================] - 18s 41us/step - loss: 1373.4562 - accuracy: 0.0778\n",
      "Epoch 12/50\n",
      "433829/433829 [==============================] - 16s 38us/step - loss: 1376.5281 - accuracy: 0.0825\n",
      "Epoch 13/50\n",
      "433829/433829 [==============================] - 14s 33us/step - loss: 1368.8397 - accuracy: 0.0809\n",
      "Epoch 14/50\n",
      "433829/433829 [==============================] - 18s 41us/step - loss: 1381.0495 - accuracy: 0.0861\n",
      "Epoch 15/50\n",
      "433829/433829 [==============================] - 18s 41us/step - loss: 1368.9793 - accuracy: 0.0853\n",
      "Epoch 16/50\n",
      "433829/433829 [==============================] - 19s 44us/step - loss: 1367.1169 - accuracy: 0.0837\n",
      "Epoch 17/50\n",
      "433829/433829 [==============================] - 17s 39us/step - loss: 1366.6243 - accuracy: 0.0843\n",
      "Epoch 18/50\n",
      "433829/433829 [==============================] - 18s 42us/step - loss: 1374.7142 - accuracy: 0.0872\n",
      "Epoch 19/50\n",
      "433829/433829 [==============================] - 18s 42us/step - loss: 1375.2910 - accuracy: 0.0863\n",
      "Epoch 20/50\n",
      "433829/433829 [==============================] - 17s 40us/step - loss: 1362.9393 - accuracy: 0.0891\n",
      "Epoch 21/50\n",
      "433829/433829 [==============================] - 17s 40us/step - loss: 1364.2459 - accuracy: 0.0892\n",
      "Epoch 22/50\n",
      "433829/433829 [==============================] - 18s 42us/step - loss: 1369.1462 - accuracy: 0.0881\n",
      "Epoch 23/50\n",
      "433829/433829 [==============================] - 18s 41us/step - loss: 1366.7974 - accuracy: 0.0898\n",
      "Epoch 24/50\n",
      "433829/433829 [==============================] - 18s 42us/step - loss: 1366.8485 - accuracy: 0.0881\n",
      "Epoch 25/50\n",
      "433829/433829 [==============================] - 19s 44us/step - loss: 1375.2682 - accuracy: 0.0849\n",
      "Epoch 26/50\n",
      "433829/433829 [==============================] - 19s 44us/step - loss: 1375.0177 - accuracy: 0.0901\n",
      "Epoch 27/50\n",
      "433829/433829 [==============================] - 19s 44us/step - loss: 1373.1436 - accuracy: 0.0850\n",
      "Epoch 28/50\n",
      "433829/433829 [==============================] - 19s 44us/step - loss: 1372.6498 - accuracy: 0.0876\n",
      "Epoch 29/50\n",
      "433829/433829 [==============================] - 19s 43us/step - loss: 1363.3047 - accuracy: 0.0863\n",
      "Epoch 30/50\n",
      "433829/433829 [==============================] - 19s 44us/step - loss: 1363.1201 - accuracy: 0.0906\n",
      "Epoch 31/50\n",
      "433829/433829 [==============================] - 19s 44us/step - loss: 1368.6671 - accuracy: 0.0848\n",
      "Epoch 32/50\n",
      "433829/433829 [==============================] - 19s 44us/step - loss: 1373.7351 - accuracy: 0.0887\n",
      "Epoch 33/50\n",
      "433829/433829 [==============================] - 19s 44us/step - loss: 1367.8791 - accuracy: 0.0896\n",
      "Epoch 34/50\n",
      "433829/433829 [==============================] - 19s 44us/step - loss: 1377.8363 - accuracy: 0.0851\n",
      "Epoch 35/50\n",
      "433829/433829 [==============================] - 19s 44us/step - loss: 1370.4694 - accuracy: 0.0871\n",
      "Epoch 36/50\n",
      "433829/433829 [==============================] - 19s 43us/step - loss: 1365.2871 - accuracy: 0.0869\n",
      "Epoch 37/50\n",
      "433829/433829 [==============================] - 18s 43us/step - loss: 1366.9284 - accuracy: 0.0871\n",
      "Epoch 38/50\n",
      "433829/433829 [==============================] - 18s 42us/step - loss: 1365.2122 - accuracy: 0.0883\n",
      "Epoch 39/50\n",
      "433829/433829 [==============================] - 18s 42us/step - loss: 1373.5638 - accuracy: 0.0853\n",
      "Epoch 40/50\n",
      "433829/433829 [==============================] - 18s 42us/step - loss: 1376.9469 - accuracy: 0.0849\n",
      "Epoch 41/50\n",
      "433829/433829 [==============================] - 18s 42us/step - loss: 1367.6127 - accuracy: 0.0835\n",
      "Epoch 42/50\n",
      "433829/433829 [==============================] - 18s 42us/step - loss: 1363.3050 - accuracy: 0.0848\n",
      "Epoch 43/50\n",
      "433829/433829 [==============================] - 19s 43us/step - loss: 1363.5453 - accuracy: 0.0862\n",
      "Epoch 44/50\n",
      "433829/433829 [==============================] - 19s 43us/step - loss: 1362.3022 - accuracy: 0.0893\n",
      "Epoch 45/50\n",
      "433829/433829 [==============================] - 19s 43us/step - loss: 1364.5872 - accuracy: 0.0876\n",
      "Epoch 46/50\n",
      "433829/433829 [==============================] - 19s 43us/step - loss: 1358.2282 - accuracy: 0.0910\n",
      "Epoch 47/50\n",
      "433829/433829 [==============================] - 19s 43us/step - loss: 1364.1559 - accuracy: 0.0897\n",
      "Epoch 48/50\n",
      "433829/433829 [==============================] - 19s 43us/step - loss: 1362.9465 - accuracy: 0.0918\n",
      "Epoch 49/50\n",
      "433829/433829 [==============================] - 19s 43us/step - loss: 1361.9329 - accuracy: 0.0883\n",
      "Epoch 50/50\n",
      "433829/433829 [==============================] - 18s 43us/step - loss: 1362.5774 - accuracy: 0.0877\n"
     ]
    }
   ],
   "source": [
    "# IMPLEMENTING A NEURAL NETWORK\n",
    "from sklearn.preprocessing import StandardScaler\n",
    "#sc = StandardScaler()\n",
    "#X = sc.fit_transform(X)\n",
    "import keras\n",
    "from keras.models import Sequential\n",
    "from keras.layers import Dense\n",
    "# Neural network\n",
    "model = Sequential()\n",
    "model.add(Dense(128, input_dim=4, activation='relu'))\n",
    "model.add(Dense(512, activation='relu'))\n",
    "model.add(Dense(1, activation='relu'))\n",
    "\n",
    "\n",
    "model.compile(optimizer = \"adam\", loss ='mse', \n",
    "          metrics =[\"accuracy\"])\n",
    "history = model.fit(X_train, y_train, epochs=50, batch_size=64)"
   ]
  },
  {
   "cell_type": "code",
   "execution_count": 28,
   "metadata": {
    "colab": {
     "base_uri": "https://localhost:8080/",
     "height": 332
    },
    "colab_type": "code",
    "id": "txen3N-yvsAt",
    "outputId": "43469248-c8cc-4e84-b64f-764fbf7c0e72"
   },
   "outputs": [
    {
     "name": "stdout",
     "output_type": "stream",
     "text": [
      "dict_keys(['loss', 'accuracy'])\n"
     ]
    },
    {
     "data": {
      "image/png": "[encoded data removed]",
      "text/plain": [
       "<Figure size 432x288 with 1 Axes>"
      ]
     },
     "metadata": {
      "needs_background": "light"
     },
     "output_type": "display_data"
    },
    {
     "name": "stdout",
     "output_type": "stream",
     "text": [
      "38.78943071216381\n"
     ]
    }
   ],
   "source": [
    "print(history.history.keys())\n",
    "# \"Loss\"\n",
    "plt.plot(history.history['loss'])\n",
    "plt.title('model loss')\n",
    "plt.ylabel('loss')\n",
    "plt.xlabel('epoch')\n",
    "plt.legend(['train'], loc='upper left')\n",
    "plt.show()\n",
    "y_pred = model.predict(X_test)\n",
    "print(mean_squared_error(y_test,y_pred)**0.5)\n",
    "#Converting predictions to label\n"
   ]
  },
  {
   "cell_type": "code",
   "execution_count": 29,
   "metadata": {
    "colab": {
     "base_uri": "https://localhost:8080/",
     "height": 182
    },
    "colab_type": "code",
    "id": "TTfaJJDaHGg9",
    "outputId": "2a1ff4e7-629d-4d59-c6e2-b2ce66f26ab5"
   },
   "outputs": [
    {
     "name": "stdout",
     "output_type": "stream",
     "text": [
      "[[16. 18. 15. 19.]\n",
      " [26. 25. 28. 27.]\n",
      " [39. 37. 31. 29.]\n",
      " ...\n",
      " [20. 20. 21. 18.]\n",
      " [12. 13. 11. 14.]\n",
      " [17. 18. 18. 13.]]\n",
      "(433829, 4)\n",
      "(433829, 4, 1)\n"
     ]
    }
   ],
   "source": [
    "print(X_train)\n",
    "X_train=np.asarray(X_train)\n",
    "X_test=np.asarray(X_test)\n",
    "y_train=np.asarray(y_train)\n",
    "y_test=np.asarray(y_test)\n",
    "\n",
    "print(X_train.shape)\n",
    "X_train=X_train.reshape(X_train.shape[0],X_train.shape[1],1)\n",
    "print(X_train.shape)"
   ]
  },
  {
   "cell_type": "code",
   "execution_count": 30,
   "metadata": {
    "colab": {
     "base_uri": "https://localhost:8080/",
     "height": 495
    },
    "colab_type": "code",
    "id": "FFUuCp8g1vzB",
    "outputId": "57ecb26c-b858-49a1-a0f1-6d7ce3fcac58"
   },
   "outputs": [
    {
     "name": "stdout",
     "output_type": "stream",
     "text": [
      "Epoch 1/30\n",
      "433829/433829 [==============================] - 239s 550us/step - loss: 1586.0674\n",
      "Epoch 2/30\n",
      "433829/433829 [==============================] - 233s 537us/step - loss: 1525.2239\n",
      "Epoch 3/30\n",
      "433829/433829 [==============================] - 235s 541us/step - loss: 1504.4423\n",
      "Epoch 4/30\n",
      "433829/433829 [==============================] - 231s 532us/step - loss: 1491.2043\n",
      "Epoch 5/30\n",
      "433829/433829 [==============================] - 231s 533us/step - loss: 1475.9105\n",
      "Epoch 6/30\n",
      "433829/433829 [==============================] - 229s 528us/step - loss: 1461.2862\n",
      "Epoch 7/30\n",
      "433829/433829 [==============================] - 218s 503us/step - loss: 1445.4642\n",
      "Epoch 8/30\n",
      "433829/433829 [==============================] - 220s 507us/step - loss: 1437.3871\n",
      "Epoch 9/30\n",
      "433829/433829 [==============================] - 218s 502us/step - loss: 1422.7103\n",
      "Epoch 10/30\n",
      "433829/433829 [==============================] - 211s 487us/step - loss: 1408.9082\n",
      "Epoch 11/30\n",
      "433829/433829 [==============================] - 216s 498us/step - loss: 1404.0439\n",
      "Epoch 12/30\n",
      "433829/433829 [==============================] - 160s 369us/step - loss: 1391.1044\n",
      "Epoch 13/30\n",
      "433829/433829 [==============================] - 137s 316us/step - loss: 1383.7306\n",
      "Epoch 14/30\n",
      "433829/433829 [==============================] - 140s 323us/step - loss: 1375.1644\n",
      "Epoch 15/30\n",
      "433829/433829 [==============================] - 140s 323us/step - loss: 1381.3929\n",
      "Epoch 16/30\n",
      "433829/433829 [==============================] - 135s 312us/step - loss: 1369.6992\n",
      "Epoch 17/30\n",
      "433829/433829 [==============================] - 137s 316us/step - loss: 1365.8633\n",
      "Epoch 18/30\n",
      "433829/433829 [==============================] - 140s 322us/step - loss: 1366.9195\n",
      "Epoch 19/30\n",
      "433829/433829 [==============================] - 140s 322us/step - loss: 1361.1138\n",
      "Epoch 20/30\n",
      "433829/433829 [==============================] - 140s 323us/step - loss: 1361.0883\n",
      "Epoch 21/30\n",
      "433829/433829 [==============================] - 142s 328us/step - loss: 1359.5758\n",
      "Epoch 22/30\n",
      "433829/433829 [==============================] - 141s 324us/step - loss: 1355.3897\n",
      "Epoch 23/30\n",
      "433829/433829 [==============================] - 143s 328us/step - loss: 1360.0993\n",
      "Epoch 24/30\n",
      "433829/433829 [==============================] - 143s 329us/step - loss: 1354.5667\n",
      "Epoch 25/30\n",
      "433829/433829 [==============================] - 141s 325us/step - loss: 1359.2156\n",
      "Epoch 26/30\n",
      "433829/433829 [==============================] - 142s 327us/step - loss: 1357.9873\n",
      "Epoch 27/30\n",
      "433829/433829 [==============================] - 143s 329us/step - loss: 1356.8700\n",
      "Epoch 28/30\n",
      "433829/433829 [==============================] - 141s 324us/step - loss: 1353.4522\n",
      "Epoch 29/30\n",
      "433829/433829 [==============================] - 142s 328us/step - loss: 1353.1449\n",
      "Epoch 30/30\n",
      "433829/433829 [==============================] - 143s 330us/step - loss: 1358.7527\n"
     ]
    }
   ],
   "source": [
    "from keras.models import Sequential\n",
    "from keras.layers import Dense\n",
    "from keras.layers import LSTM\n",
    "from keras.layers import Dropout\n",
    "regressor = Sequential()\n",
    "\n",
    "regressor.add(LSTM(units = 50, return_sequences = True, input_shape = (X_train.shape[1], 1)))\n",
    "regressor.add(Dropout(0.2))\n",
    "\n",
    "regressor.add(LSTM(units = 50, return_sequences = True))\n",
    "regressor.add(Dropout(0.2))\n",
    "\n",
    "regressor.add(LSTM(units = 50, return_sequences = True))\n",
    "regressor.add(Dropout(0.2))\n",
    "\n",
    "regressor.add(LSTM(units = 50))\n",
    "regressor.add(Dropout(0.2))\n",
    "\n",
    "regressor.add(Dense(units = 1))\n",
    "\n",
    "regressor.compile(optimizer = 'adam', loss = 'mean_squared_error')\n",
    "\n",
    "history = regressor.fit(X_train, y_train, epochs = 30, batch_size = 32)"
   ]
  },
  {
   "cell_type": "code",
   "execution_count": 31,
   "metadata": {
    "colab": {},
    "colab_type": "code",
    "id": "GvEtr3IPv0Sh"
   },
   "outputs": [
    {
     "name": "stdout",
     "output_type": "stream",
     "text": [
      "dict_keys(['loss'])\n"
     ]
    },
    {
     "data": {
      "image/png": "[encoded data removed]",
      "text/plain": [
       "<Figure size 432x288 with 1 Axes>"
      ]
     },
     "metadata": {
      "needs_background": "light"
     },
     "output_type": "display_data"
    },
    {
     "name": "stdout",
     "output_type": "stream",
     "text": [
      "38.587866283717986\n"
     ]
    }
   ],
   "source": [
    "print(history.history.keys())\n",
    "# \"Loss\"\n",
    "plt.plot(history.history['loss'])\n",
    "plt.title('model loss')\n",
    "plt.ylabel('loss')\n",
    "plt.xlabel('epoch')\n",
    "plt.legend(['train'], loc='upper left')\n",
    "plt.show()\n",
    "X_test=X_test.reshape(X_test.shape[0],X_test.shape[1],1)\n",
    "y_pred = regressor.predict(X_test)\n",
    "print(mean_squared_error(y_test,y_pred)**0.5)"
   ]
  },
  {
   "cell_type": "code",
   "execution_count": 32,
   "metadata": {
    "colab": {},
    "colab_type": "code",
    "id": "64suBIQS8DmU"
   },
   "outputs": [
    {
     "data": {
      "image/png": "[encoded data removed]",
      "text/plain": [
       "<Figure size 432x288 with 1 Axes>"
      ]
     },
     "metadata": {
      "needs_background": "light"
     },
     "output_type": "display_data"
    }
   ],
   "source": [
    "plt.plot(y_test[0:100], color = 'black', label = 'TRUTH')\n",
    "plt.plot(y_pred[0:100], color = 'green', label = 'PREDICTION')\n",
    "plt.title('LSTM PERFORMANCE ON TEST SET')\n",
    "plt.ylabel('PM2.5')\n",
    "plt.legend()\n",
    "plt.show()"
   ]
  },
  {
   "cell_type": "code",
   "execution_count": null,
   "metadata": {
    "colab": {},
    "colab_type": "code",
    "id": "M6ATb9dKn9KE"
   },
   "outputs": [],
   "source": []
  },
  {
   "cell_type": "code",
   "execution_count": null,
   "metadata": {
    "colab": {},
    "colab_type": "code",
    "id": "Gj9JlfvToq1-"
   },
   "outputs": [],
   "source": []
  }
 ],
 "metadata": {
  "colab": {
   "collapsed_sections": [],
   "name": "airpollutionpm25.ipynb",
   "provenance": []
  },
  "kernelspec": {
   "display_name": "Python 3",
   "language": "python",
   "name": "python3"
  },
  "language_info": {
   "codemirror_mode": {
    "name": "ipython",
    "version": 3
   },
   "file_extension": ".py",
   "mimetype": "text/x-python",
   "name": "python",
   "nbconvert_exporter": "python",
   "pygments_lexer": "ipython3",
   "version": "3.7.7"
  }
 },
 "nbformat": 4,
 "nbformat_minor": 1
}
