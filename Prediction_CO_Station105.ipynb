{
  "nbformat": 4,
  "nbformat_minor": 0,
  "metadata": {
    "colab": {
      "name": "Prediction_CO_Station104.ipynb",
      "provenance": [],
      "collapsed_sections": []
    },
    "kernelspec": {
      "name": "python3",
      "display_name": "Python 3"
    }
  },
  "cells": [
    {
      "cell_type": "code",
      "metadata": {
        "id": "Htlq-iPMFOD5",
        "colab_type": "code",
        "colab": {}
      },
      "source": [
        ""
      ],
      "execution_count": 0,
      "outputs": []
    },
    {
      "cell_type": "code",
      "metadata": {
        "id": "PBbQmfZ-ELYM",
        "colab_type": "code",
        "colab": {}
      },
      "source": [
        ""
      ],
      "execution_count": 0,
      "outputs": []
    },
    {
      "cell_type": "code",
      "metadata": {
        "id": "r4m1QUD8Lt4y",
        "colab_type": "code",
        "colab": {}
      },
      "source": [
        "#!unzip air-pollution-in-seoul.zip"
      ],
      "execution_count": 0,
      "outputs": []
    },
    {
      "cell_type": "code",
      "metadata": {
        "id": "aLafiv1zMqa3",
        "colab_type": "code",
        "outputId": "06640168-a217-4ddc-906a-faa2d0aa0abe",
        "colab": {
          "base_uri": "https://localhost:8080/",
          "height": 35
        }
      },
      "source": [
        "import pandas as pd\n",
        "import numpy as np\n",
        "import pickle\n",
        "from sklearn.externals import joblib \n",
        "% matplotlib inline\n",
        "import matplotlib.pyplot as plt\n",
        "from google.colab import drive\n",
        "from google.colab import drive\n",
        "drive.mount('/content/drive')"
      ],
      "execution_count": 150,
      "outputs": [
        {
          "output_type": "stream",
          "text": [
            "Drive already mounted at /content/drive; to attempt to forcibly remount, call drive.mount(\"/content/drive\", force_remount=True).\n"
          ],
          "name": "stdout"
        }
      ]
    },
    {
      "cell_type": "code",
      "metadata": {
        "id": "nZUi7009M9kN",
        "colab_type": "code",
        "outputId": "f36cc5fe-5dcf-4563-98f1-ac1201869343",
        "colab": {
          "base_uri": "https://localhost:8080/",
          "height": 363
        }
      },
      "source": [
        "data = pd.read_csv('/content/drive/My Drive/Dataset/Measurement_summary.csv')\n",
        "data.head(10)"
      ],
      "execution_count": 151,
      "outputs": [
        {
          "output_type": "execute_result",
          "data": {
            "text/html": [
              "<div>\n",
              "<style scoped>\n",
              "    .dataframe tbody tr th:only-of-type {\n",
              "        vertical-align: middle;\n",
              "    }\n",
              "\n",
              "    .dataframe tbody tr th {\n",
              "        vertical-align: top;\n",
              "    }\n",
              "\n",
              "    .dataframe thead th {\n",
              "        text-align: right;\n",
              "    }\n",
              "</style>\n",
              "<table border=\"1\" class=\"dataframe\">\n",
              "  <thead>\n",
              "    <tr style=\"text-align: right;\">\n",
              "      <th></th>\n",
              "      <th>Measurement date</th>\n",
              "      <th>Station code</th>\n",
              "      <th>Address</th>\n",
              "      <th>Latitude</th>\n",
              "      <th>Longitude</th>\n",
              "      <th>SO2</th>\n",
              "      <th>NO2</th>\n",
              "      <th>O3</th>\n",
              "      <th>CO</th>\n",
              "      <th>PM10</th>\n",
              "      <th>PM2.5</th>\n",
              "    </tr>\n",
              "  </thead>\n",
              "  <tbody>\n",
              "    <tr>\n",
              "      <th>0</th>\n",
              "      <td>2017-01-01 00:00</td>\n",
              "      <td>101</td>\n",
              "      <td>19, Jong-ro 35ga-gil, Jongno-gu, Seoul, Republ...</td>\n",
              "      <td>37.572016</td>\n",
              "      <td>127.005007</td>\n",
              "      <td>0.004</td>\n",
              "      <td>0.059</td>\n",
              "      <td>0.002</td>\n",
              "      <td>1.2</td>\n",
              "      <td>73.0</td>\n",
              "      <td>57.0</td>\n",
              "    </tr>\n",
              "    <tr>\n",
              "      <th>1</th>\n",
              "      <td>2017-01-01 01:00</td>\n",
              "      <td>101</td>\n",
              "      <td>19, Jong-ro 35ga-gil, Jongno-gu, Seoul, Republ...</td>\n",
              "      <td>37.572016</td>\n",
              "      <td>127.005007</td>\n",
              "      <td>0.004</td>\n",
              "      <td>0.058</td>\n",
              "      <td>0.002</td>\n",
              "      <td>1.2</td>\n",
              "      <td>71.0</td>\n",
              "      <td>59.0</td>\n",
              "    </tr>\n",
              "    <tr>\n",
              "      <th>2</th>\n",
              "      <td>2017-01-01 02:00</td>\n",
              "      <td>101</td>\n",
              "      <td>19, Jong-ro 35ga-gil, Jongno-gu, Seoul, Republ...</td>\n",
              "      <td>37.572016</td>\n",
              "      <td>127.005007</td>\n",
              "      <td>0.004</td>\n",
              "      <td>0.056</td>\n",
              "      <td>0.002</td>\n",
              "      <td>1.2</td>\n",
              "      <td>70.0</td>\n",
              "      <td>59.0</td>\n",
              "    </tr>\n",
              "    <tr>\n",
              "      <th>3</th>\n",
              "      <td>2017-01-01 03:00</td>\n",
              "      <td>101</td>\n",
              "      <td>19, Jong-ro 35ga-gil, Jongno-gu, Seoul, Republ...</td>\n",
              "      <td>37.572016</td>\n",
              "      <td>127.005007</td>\n",
              "      <td>0.004</td>\n",
              "      <td>0.056</td>\n",
              "      <td>0.002</td>\n",
              "      <td>1.2</td>\n",
              "      <td>70.0</td>\n",
              "      <td>58.0</td>\n",
              "    </tr>\n",
              "    <tr>\n",
              "      <th>4</th>\n",
              "      <td>2017-01-01 04:00</td>\n",
              "      <td>101</td>\n",
              "      <td>19, Jong-ro 35ga-gil, Jongno-gu, Seoul, Republ...</td>\n",
              "      <td>37.572016</td>\n",
              "      <td>127.005007</td>\n",
              "      <td>0.003</td>\n",
              "      <td>0.051</td>\n",
              "      <td>0.002</td>\n",
              "      <td>1.2</td>\n",
              "      <td>69.0</td>\n",
              "      <td>61.0</td>\n",
              "    </tr>\n",
              "    <tr>\n",
              "      <th>5</th>\n",
              "      <td>2017-01-01 05:00</td>\n",
              "      <td>101</td>\n",
              "      <td>19, Jong-ro 35ga-gil, Jongno-gu, Seoul, Republ...</td>\n",
              "      <td>37.572016</td>\n",
              "      <td>127.005007</td>\n",
              "      <td>0.003</td>\n",
              "      <td>0.046</td>\n",
              "      <td>0.002</td>\n",
              "      <td>1.1</td>\n",
              "      <td>70.0</td>\n",
              "      <td>61.0</td>\n",
              "    </tr>\n",
              "    <tr>\n",
              "      <th>6</th>\n",
              "      <td>2017-01-01 06:00</td>\n",
              "      <td>101</td>\n",
              "      <td>19, Jong-ro 35ga-gil, Jongno-gu, Seoul, Republ...</td>\n",
              "      <td>37.572016</td>\n",
              "      <td>127.005007</td>\n",
              "      <td>0.003</td>\n",
              "      <td>0.049</td>\n",
              "      <td>0.002</td>\n",
              "      <td>1.1</td>\n",
              "      <td>66.0</td>\n",
              "      <td>57.0</td>\n",
              "    </tr>\n",
              "    <tr>\n",
              "      <th>7</th>\n",
              "      <td>2017-01-01 07:00</td>\n",
              "      <td>101</td>\n",
              "      <td>19, Jong-ro 35ga-gil, Jongno-gu, Seoul, Republ...</td>\n",
              "      <td>37.572016</td>\n",
              "      <td>127.005007</td>\n",
              "      <td>0.003</td>\n",
              "      <td>0.045</td>\n",
              "      <td>0.002</td>\n",
              "      <td>1.0</td>\n",
              "      <td>71.0</td>\n",
              "      <td>60.0</td>\n",
              "    </tr>\n",
              "    <tr>\n",
              "      <th>8</th>\n",
              "      <td>2017-01-01 08:00</td>\n",
              "      <td>101</td>\n",
              "      <td>19, Jong-ro 35ga-gil, Jongno-gu, Seoul, Republ...</td>\n",
              "      <td>37.572016</td>\n",
              "      <td>127.005007</td>\n",
              "      <td>0.004</td>\n",
              "      <td>0.047</td>\n",
              "      <td>0.002</td>\n",
              "      <td>1.1</td>\n",
              "      <td>72.0</td>\n",
              "      <td>60.0</td>\n",
              "    </tr>\n",
              "    <tr>\n",
              "      <th>9</th>\n",
              "      <td>2017-01-01 09:00</td>\n",
              "      <td>101</td>\n",
              "      <td>19, Jong-ro 35ga-gil, Jongno-gu, Seoul, Republ...</td>\n",
              "      <td>37.572016</td>\n",
              "      <td>127.005007</td>\n",
              "      <td>0.003</td>\n",
              "      <td>0.047</td>\n",
              "      <td>0.002</td>\n",
              "      <td>1.1</td>\n",
              "      <td>74.0</td>\n",
              "      <td>63.0</td>\n",
              "    </tr>\n",
              "  </tbody>\n",
              "</table>\n",
              "</div>"
            ],
            "text/plain": [
              "   Measurement date  Station code  ...  PM10  PM2.5\n",
              "0  2017-01-01 00:00           101  ...  73.0   57.0\n",
              "1  2017-01-01 01:00           101  ...  71.0   59.0\n",
              "2  2017-01-01 02:00           101  ...  70.0   59.0\n",
              "3  2017-01-01 03:00           101  ...  70.0   58.0\n",
              "4  2017-01-01 04:00           101  ...  69.0   61.0\n",
              "5  2017-01-01 05:00           101  ...  70.0   61.0\n",
              "6  2017-01-01 06:00           101  ...  66.0   57.0\n",
              "7  2017-01-01 07:00           101  ...  71.0   60.0\n",
              "8  2017-01-01 08:00           101  ...  72.0   60.0\n",
              "9  2017-01-01 09:00           101  ...  74.0   63.0\n",
              "\n",
              "[10 rows x 11 columns]"
            ]
          },
          "metadata": {
            "tags": []
          },
          "execution_count": 151
        }
      ]
    },
    {
      "cell_type": "code",
      "metadata": {
        "id": "cFj-Od2FNYr7",
        "colab_type": "code",
        "outputId": "b05532aa-d294-48be-a70a-c9f263f1c70a",
        "colab": {
          "base_uri": "https://localhost:8080/",
          "height": 274
        }
      },
      "source": [
        "# Retriving data for station code 105 for CO\n",
        "data_105=data[(data['Station code']==105) & (data['CO']>0)]\n",
        "print(len(data_105))\n",
        "print(data_105.head(10))"
      ],
      "execution_count": 152,
      "outputs": [
        {
          "output_type": "stream",
          "text": [
            "24512\n",
            "        Measurement date  Station code  ...  PM10  PM2.5\n",
            "103610  2017-01-01 00:00           105  ...  81.0   44.0\n",
            "103611  2017-01-01 01:00           105  ...  67.0   44.0\n",
            "103612  2017-01-01 02:00           105  ...  84.0   43.0\n",
            "103613  2017-01-01 03:00           105  ...  85.0   42.0\n",
            "103614  2017-01-01 04:00           105  ...  79.0   35.0\n",
            "103615  2017-01-01 05:00           105  ...  72.0   38.0\n",
            "103616  2017-01-01 06:00           105  ...  70.0   38.0\n",
            "103617  2017-01-01 07:00           105  ...  76.0   48.0\n",
            "103618  2017-01-01 08:00           105  ...  87.0   44.0\n",
            "103619  2017-01-01 09:00           105  ...  80.0   46.0\n",
            "\n",
            "[10 rows x 11 columns]\n"
          ],
          "name": "stdout"
        }
      ]
    },
    {
      "cell_type": "code",
      "metadata": {
        "id": "gWDS6JoqXlfP",
        "colab_type": "code",
        "outputId": "7a758f04-8cec-4e9d-8052-e62d60480fee",
        "colab": {
          "base_uri": "https://localhost:8080/",
          "height": 297
        }
      },
      "source": [
        "import seaborn as sns\n",
        "sns.boxplot(data_105['CO'])"
      ],
      "execution_count": 153,
      "outputs": [
        {
          "output_type": "execute_result",
          "data": {
            "text/plain": [
              "<matplotlib.axes._subplots.AxesSubplot at 0x7f3ea6aeccf8>"
            ]
          },
          "metadata": {
            "tags": []
          },
          "execution_count": 153
        },
        {
          "output_type": "display_data",
          "data": {
            "image/png": "[encoded data removed]",
            "text/plain": [
              "<Figure size 432x288 with 1 Axes>"
            ]
          },
          "metadata": {
            "tags": [],
            "needs_background": "light"
          }
        }
      ]
    },
    {
      "cell_type": "code",
      "metadata": {
        "id": "EcgONzxKnL2u",
        "colab_type": "code",
        "outputId": "700e5093-2f3c-4f60-a531-0ff2b0e274c4",
        "colab": {
          "base_uri": "https://localhost:8080/",
          "height": 316
        }
      },
      "source": [
        "from scipy import stats\n",
        "z = np.abs(stats.zscore(data_105['CO']))\n",
        "threshold = 3\n",
        "#print(len(np.where(z > 3)))\n",
        "data_105_Rout = data_105[(z < 3)]\n",
        "print(len(data_105_Rout))\n",
        "sns.boxplot(data_105_Rout['CO'])"
      ],
      "execution_count": 154,
      "outputs": [
        {
          "output_type": "stream",
          "text": [
            "24002\n"
          ],
          "name": "stdout"
        },
        {
          "output_type": "execute_result",
          "data": {
            "text/plain": [
              "<matplotlib.axes._subplots.AxesSubplot at 0x7f3ea2749198>"
            ]
          },
          "metadata": {
            "tags": []
          },
          "execution_count": 154
        },
        {
          "output_type": "display_data",
          "data": {
            "image/png": "[encoded data removed]",
            "text/plain": [
              "<Figure size 432x288 with 1 Axes>"
            ]
          },
          "metadata": {
            "tags": [],
            "needs_background": "light"
          }
        }
      ]
    },
    {
      "cell_type": "code",
      "metadata": {
        "id": "_LNanJd1a1_D",
        "colab_type": "code",
        "outputId": "cef10438-0a51-44c4-e24f-6e2e8021ed56",
        "colab": {
          "base_uri": "https://localhost:8080/",
          "height": 35
        }
      },
      "source": [
        "df=data_105_Rout['CO']\n",
        "df=df.values\n",
        "df=df.reshape(df.shape[0],1)\n",
        "print(df.shape)"
      ],
      "execution_count": 155,
      "outputs": [
        {
          "output_type": "stream",
          "text": [
            "(24002, 1)\n"
          ],
          "name": "stdout"
        }
      ]
    },
    {
      "cell_type": "code",
      "metadata": {
        "id": "rzYngv6_TPhh",
        "colab_type": "code",
        "outputId": "c6d3e0a0-db48-4a2a-9d31-29204f48ba49",
        "colab": {
          "base_uri": "https://localhost:8080/",
          "height": 72
        }
      },
      "source": [
        "from sklearn import preprocessing\n",
        "min_max_scaler = preprocessing.MinMaxScaler()\n",
        "df_scaled = min_max_scaler.fit_transform(df)\n",
        "print(min(df),max(df))\n",
        "list_=[]\n",
        "for i in range (0,df_scaled.shape[0]):\n",
        "  list_.append(df_scaled[i][0])\n",
        "print(len(list_))\n",
        "print(min(list_),max(list_))\n"
      ],
      "execution_count": 156,
      "outputs": [
        {
          "output_type": "stream",
          "text": [
            "[0.1] [1.4]\n",
            "24002\n",
            "0.0 1.0000000000000002\n"
          ],
          "name": "stdout"
        }
      ]
    },
    {
      "cell_type": "code",
      "metadata": {
        "id": "mFSUAFonN2ht",
        "colab_type": "code",
        "outputId": "a3338cad-7b9d-4226-d0c3-675c1671af1f",
        "colab": {
          "base_uri": "https://localhost:8080/",
          "height": 35
        }
      },
      "source": [
        "window_size=5\n",
        "y=[]\n",
        "for i in range (0,len(list_)-window_size):\n",
        "  x=list_[i:i+window_size]\n",
        "  y.append(x)\n",
        "print(len(y),y[0])\n"
      ],
      "execution_count": 157,
      "outputs": [
        {
          "output_type": "stream",
          "text": [
            "23997 [0.6923076923076924, 0.6153846153846155, 0.6153846153846155, 0.5384615384615385, 0.5384615384615385]\n"
          ],
          "name": "stdout"
        }
      ]
    },
    {
      "cell_type": "code",
      "metadata": {
        "id": "jOkLjiONN_dz",
        "colab_type": "code",
        "outputId": "3bda3ae3-79aa-4dbb-cf92-7cc0bd45faed",
        "colab": {
          "base_uri": "https://localhost:8080/",
          "height": 381
        }
      },
      "source": [
        "matrix=np.matrix(y)\n",
        "print(matrix.shape)\n",
        "new_data = pd.DataFrame(matrix,columns=['x1','x2','x3','x4','y'])\n",
        "new_data.head(10)\n"
      ],
      "execution_count": 158,
      "outputs": [
        {
          "output_type": "stream",
          "text": [
            "(23997, 5)\n"
          ],
          "name": "stdout"
        },
        {
          "output_type": "execute_result",
          "data": {
            "text/html": [
              "<div>\n",
              "<style scoped>\n",
              "    .dataframe tbody tr th:only-of-type {\n",
              "        vertical-align: middle;\n",
              "    }\n",
              "\n",
              "    .dataframe tbody tr th {\n",
              "        vertical-align: top;\n",
              "    }\n",
              "\n",
              "    .dataframe thead th {\n",
              "        text-align: right;\n",
              "    }\n",
              "</style>\n",
              "<table border=\"1\" class=\"dataframe\">\n",
              "  <thead>\n",
              "    <tr style=\"text-align: right;\">\n",
              "      <th></th>\n",
              "      <th>x1</th>\n",
              "      <th>x2</th>\n",
              "      <th>x3</th>\n",
              "      <th>x4</th>\n",
              "      <th>y</th>\n",
              "    </tr>\n",
              "  </thead>\n",
              "  <tbody>\n",
              "    <tr>\n",
              "      <th>0</th>\n",
              "      <td>0.692308</td>\n",
              "      <td>0.615385</td>\n",
              "      <td>0.615385</td>\n",
              "      <td>0.538462</td>\n",
              "      <td>0.538462</td>\n",
              "    </tr>\n",
              "    <tr>\n",
              "      <th>1</th>\n",
              "      <td>0.615385</td>\n",
              "      <td>0.615385</td>\n",
              "      <td>0.538462</td>\n",
              "      <td>0.538462</td>\n",
              "      <td>0.538462</td>\n",
              "    </tr>\n",
              "    <tr>\n",
              "      <th>2</th>\n",
              "      <td>0.615385</td>\n",
              "      <td>0.538462</td>\n",
              "      <td>0.538462</td>\n",
              "      <td>0.538462</td>\n",
              "      <td>0.461538</td>\n",
              "    </tr>\n",
              "    <tr>\n",
              "      <th>3</th>\n",
              "      <td>0.538462</td>\n",
              "      <td>0.538462</td>\n",
              "      <td>0.538462</td>\n",
              "      <td>0.461538</td>\n",
              "      <td>0.538462</td>\n",
              "    </tr>\n",
              "    <tr>\n",
              "      <th>4</th>\n",
              "      <td>0.538462</td>\n",
              "      <td>0.538462</td>\n",
              "      <td>0.461538</td>\n",
              "      <td>0.538462</td>\n",
              "      <td>0.461538</td>\n",
              "    </tr>\n",
              "    <tr>\n",
              "      <th>5</th>\n",
              "      <td>0.538462</td>\n",
              "      <td>0.461538</td>\n",
              "      <td>0.538462</td>\n",
              "      <td>0.461538</td>\n",
              "      <td>0.538462</td>\n",
              "    </tr>\n",
              "    <tr>\n",
              "      <th>6</th>\n",
              "      <td>0.461538</td>\n",
              "      <td>0.538462</td>\n",
              "      <td>0.461538</td>\n",
              "      <td>0.538462</td>\n",
              "      <td>0.538462</td>\n",
              "    </tr>\n",
              "    <tr>\n",
              "      <th>7</th>\n",
              "      <td>0.538462</td>\n",
              "      <td>0.461538</td>\n",
              "      <td>0.538462</td>\n",
              "      <td>0.538462</td>\n",
              "      <td>0.461538</td>\n",
              "    </tr>\n",
              "    <tr>\n",
              "      <th>8</th>\n",
              "      <td>0.461538</td>\n",
              "      <td>0.538462</td>\n",
              "      <td>0.538462</td>\n",
              "      <td>0.461538</td>\n",
              "      <td>0.461538</td>\n",
              "    </tr>\n",
              "    <tr>\n",
              "      <th>9</th>\n",
              "      <td>0.538462</td>\n",
              "      <td>0.538462</td>\n",
              "      <td>0.461538</td>\n",
              "      <td>0.461538</td>\n",
              "      <td>0.461538</td>\n",
              "    </tr>\n",
              "  </tbody>\n",
              "</table>\n",
              "</div>"
            ],
            "text/plain": [
              "         x1        x2        x3        x4         y\n",
              "0  0.692308  0.615385  0.615385  0.538462  0.538462\n",
              "1  0.615385  0.615385  0.538462  0.538462  0.538462\n",
              "2  0.615385  0.538462  0.538462  0.538462  0.461538\n",
              "3  0.538462  0.538462  0.538462  0.461538  0.538462\n",
              "4  0.538462  0.538462  0.461538  0.538462  0.461538\n",
              "5  0.538462  0.461538  0.538462  0.461538  0.538462\n",
              "6  0.461538  0.538462  0.461538  0.538462  0.538462\n",
              "7  0.538462  0.461538  0.538462  0.538462  0.461538\n",
              "8  0.461538  0.538462  0.538462  0.461538  0.461538\n",
              "9  0.538462  0.538462  0.461538  0.461538  0.461538"
            ]
          },
          "metadata": {
            "tags": []
          },
          "execution_count": 158
        }
      ]
    },
    {
      "cell_type": "code",
      "metadata": {
        "id": "0Z5frRmicq9M",
        "colab_type": "code",
        "outputId": "e55d5542-697c-4c2f-ceba-6d569e52da39",
        "colab": {
          "base_uri": "https://localhost:8080/",
          "height": 146
        }
      },
      "source": [
        "print(matrix[:,4])"
      ],
      "execution_count": 159,
      "outputs": [
        {
          "output_type": "stream",
          "text": [
            "[[0.53846154]\n",
            " [0.53846154]\n",
            " [0.46153846]\n",
            " ...\n",
            " [0.30769231]\n",
            " [0.53846154]\n",
            " [0.61538462]]\n"
          ],
          "name": "stdout"
        }
      ]
    },
    {
      "cell_type": "code",
      "metadata": {
        "id": "SG1fsHWxOPTk",
        "colab_type": "code",
        "outputId": "314a9763-3b6c-4b75-ab0f-2398872ecf7f",
        "colab": {
          "base_uri": "https://localhost:8080/",
          "height": 109
        }
      },
      "source": [
        "from sklearn import linear_model\n",
        "from sklearn.model_selection import train_test_split\n",
        "from sklearn.metrics import r2_score\n",
        "from sklearn.metrics import mean_squared_error\n",
        "X_train, X_test, y_train, y_test = train_test_split(matrix[:,0:4],matrix[:,4],test_size=0.33, random_state=42)\n",
        "lm =linear_model.LinearRegression()\n",
        "model = lm.fit(X_train,y_train)\n",
        "prediction=model.predict(X_test)\n",
        "joblib.dump(model,'linear_regressor_Rout.pkl')\n",
        "from google.colab import files\n",
        "files.download('linear_regressor_Rout.pkl')\n",
        "print(prediction.shape,prediction[0:5])"
      ],
      "execution_count": 160,
      "outputs": [
        {
          "output_type": "stream",
          "text": [
            "(7920, 1) [[0.45549989]\n",
            " [0.52501287]\n",
            " [0.2433355 ]\n",
            " [0.31325648]\n",
            " [0.5255831 ]]\n"
          ],
          "name": "stdout"
        }
      ]
    },
    {
      "cell_type": "code",
      "metadata": {
        "id": "bye3z6vaOvbl",
        "colab_type": "code",
        "outputId": "216057e3-dafa-4369-92f4-2f2b3fafc130",
        "colab": {
          "base_uri": "https://localhost:8080/",
          "height": 72
        }
      },
      "source": [
        "print(model.score(X_train,y_train))\n",
        "print(model.intercept_)\n",
        "print(model.coef_)"
      ],
      "execution_count": 161,
      "outputs": [
        {
          "output_type": "stream",
          "text": [
            "0.8425502539057192\n",
            "[0.03084664]\n",
            "[[ 9.52202883e-03 -5.21719144e-04 -2.10905866e-03  9.13190777e-01]]\n"
          ],
          "name": "stdout"
        }
      ]
    },
    {
      "cell_type": "code",
      "metadata": {
        "id": "K9AvmWqwO0h1",
        "colab_type": "code",
        "outputId": "f5b28a6f-0b3c-410d-dffb-6592761e6602",
        "colab": {
          "base_uri": "https://localhost:8080/",
          "height": 72
        }
      },
      "source": [
        "print('mean squared eror : ',mean_squared_error(y_test,prediction))\n",
        "from sklearn.metrics import mean_absolute_error\n",
        "print('absolute mean error : ', mean_absolute_error(y_test,prediction))\n",
        "print(r2_score(y_test,prediction))"
      ],
      "execution_count": 162,
      "outputs": [
        {
          "output_type": "stream",
          "text": [
            "mean squared eror :  0.004895561538104958\n",
            "absolute mean error :  0.04357725531756169\n",
            "0.8423817629041763\n"
          ],
          "name": "stdout"
        }
      ]
    },
    {
      "cell_type": "code",
      "metadata": {
        "id": "7ZFxbkZwIfsr",
        "colab_type": "code",
        "outputId": "9581eacc-f751-4c34-fd26-61780fdf7748",
        "colab": {
          "base_uri": "https://localhost:8080/",
          "height": 281
        }
      },
      "source": [
        "plt.plot(y_test[0:100], color = 'black', label = 'TRUTH')\n",
        "plt.plot(prediction[0:100], color = 'green', label = 'PREDICTION')\n",
        "plt.title('Linear regression PERFORMANCE ON TEST SET after removing outliers')\n",
        "plt.ylabel('CO')\n",
        "plt.legend()\n",
        "plt.show()"
      ],
      "execution_count": 163,
      "outputs": [
        {
          "output_type": "display_data",
          "data": {
            "image/png": "[encoded data removed]",
            "text/plain": [
              "<Figure size 432x288 with 1 Axes>"
            ]
          },
          "metadata": {
            "tags": [],
            "needs_background": "light"
          }
        }
      ]
    },
    {
      "cell_type": "code",
      "metadata": {
        "id": "J3NSycPY02mb",
        "colab_type": "code",
        "outputId": "42efc90c-d70b-4c06-b09d-1c285adf8f66",
        "colab": {
          "base_uri": "https://localhost:8080/",
          "height": 520
        }
      },
      "source": [
        "# IMPLEMENTING LINEAR REGRESSION WITHOUT REMOVING OUTLIERS\n",
        "df=data_105['CO']\n",
        "df=df.values\n",
        "df=df.reshape(df.shape[0],1)\n",
        "print(df.shape)\n",
        "from sklearn import preprocessing\n",
        "min_max_scaler = preprocessing.MinMaxScaler()\n",
        "df_scaled = min_max_scaler.fit_transform(df)\n",
        "print(min(df),max(df))\n",
        "list_=[]\n",
        "for i in range (0,df_scaled.shape[0]):\n",
        "  list_.append(df_scaled[i][0])\n",
        "print(len(list_))\n",
        "print(min(list_),max(list_))\n",
        "window_size=5\n",
        "y=[]\n",
        "for i in range (0,len(list_)-window_size):\n",
        "  x=list_[i:i+window_size]\n",
        "  y.append(x)\n",
        "print(len(y),y[0])\n",
        "matrix= np.matrix(y)\n",
        "from sklearn import linear_model\n",
        "from sklearn.model_selection import train_test_split\n",
        "from sklearn.metrics import r2_score\n",
        "from sklearn.metrics import mean_squared_error\n",
        "X_train, X_test, y_train, y_test = train_test_split(matrix[:,0:4],matrix[:,4],test_size=0.33, random_state=42)\n",
        "lm =linear_model.LinearRegression()\n",
        "model = lm.fit(X_train,y_train)\n",
        "prediction=model.predict(X_test)\n",
        "joblib.dump(model,'linear_regressor.pkl')\n",
        "from google.colab import files\n",
        "files.download('linear_regressor.pkl')\n",
        "print(prediction.shape,prediction[0:5])\n",
        "print('mean squared eror : ',mean_squared_error(y_test,prediction))\n",
        "from sklearn.metrics import mean_absolute_error\n",
        "print('absolute mean error : ', mean_absolute_error(y_test,prediction))\n",
        "print(r2_score(y_test,prediction))\n",
        "plt.plot(y_test[0:100], color = 'black', label = 'TRUTH')\n",
        "plt.plot(prediction[0:100], color = 'green', label = 'PREDICTION')\n",
        "plt.title('Linear regression PERFORMANCE ON TEST SET')\n",
        "plt.ylabel('CO')\n",
        "plt.legend()\n",
        "plt.show()"
      ],
      "execution_count": 164,
      "outputs": [
        {
          "output_type": "stream",
          "text": [
            "(24512, 1)\n",
            "[0.1] [10.9]\n",
            "24512\n",
            "0.0 1.0\n",
            "24507 [0.08333333333333333, 0.07407407407407407, 0.07407407407407407, 0.06481481481481481, 0.06481481481481481]\n",
            "(8088, 1) [[0.03182925]\n",
            " [0.0377606 ]\n",
            " [0.04644393]\n",
            " [0.06083506]\n",
            " [0.01265238]]\n",
            "mean squared eror :  0.00021673530835943823\n",
            "absolute mean error :  0.006121821917719767\n",
            "0.7108203160118288\n"
          ],
          "name": "stdout"
        },
        {
          "output_type": "display_data",
          "data": {
            "image/png": "[encoded data removed]",
            "text/plain": [
              "<Figure size 432x288 with 1 Axes>"
            ]
          },
          "metadata": {
            "tags": [],
            "needs_background": "light"
          }
        }
      ]
    },
    {
      "cell_type": "code",
      "metadata": {
        "id": "hrZqAjEyGnIN",
        "colab_type": "code",
        "outputId": "a0eec57c-b29b-40a8-fb35-3a911ab9d6d7",
        "colab": {
          "base_uri": "https://localhost:8080/",
          "height": 129
        }
      },
      "source": [
        "# BAYESIAN RIDGE REGRESSION\n",
        "from sklearn import linear_model\n",
        "from statsmodels.tsa.ar_model import AR\n",
        "model = linear_model.BayesianRidge()\n",
        "\n",
        "model.fit(X_train,y_train )\n",
        "prediction=model.predict(X_test)\n",
        "joblib.dump(model,'bayesian_regressor.pkl')\n",
        "from google.colab import files\n",
        "files.download('bayesian_regressor.pkl')\n",
        "print('mean squared eror : ',mean_squared_error(y_test,prediction))\n",
        "from sklearn.metrics import mean_absolute_error\n",
        "print('absolute mean error : ', mean_absolute_error(y_test,prediction))\n",
        "\n",
        "print(r2_score(y_test,prediction))"
      ],
      "execution_count": 165,
      "outputs": [
        {
          "output_type": "stream",
          "text": [
            "/usr/local/lib/python3.6/dist-packages/sklearn/utils/validation.py:760: DataConversionWarning: A column-vector y was passed when a 1d array was expected. Please change the shape of y to (n_samples, ), for example using ravel().\n",
            "  y = column_or_1d(y, warn=True)\n"
          ],
          "name": "stderr"
        },
        {
          "output_type": "stream",
          "text": [
            "mean squared eror :  0.00021673993379815938\n",
            "absolute mean error :  0.006122234683420202\n",
            "0.7108141445074356\n"
          ],
          "name": "stdout"
        }
      ]
    },
    {
      "cell_type": "code",
      "metadata": {
        "id": "crUrc4mjO8uL",
        "colab_type": "code",
        "outputId": "24536141-77a7-4d24-b16c-aa2d35d025a5",
        "colab": {
          "base_uri": "https://localhost:8080/",
          "height": 109
        }
      },
      "source": [
        "# IMLEMENTING  RANDOM FOREST ALGORITHM\n",
        "from sklearn.ensemble import RandomForestRegressor\n",
        "model= RandomForestRegressor(max_depth=8, random_state=0)\n",
        "model.fit(X_train,y_train)\n",
        "prediction=model.predict(X_test)\n",
        "joblib.dump(model,'randomforest_regressor.pkl')\n",
        "print('mean squared eror : ',mean_squared_error(y_test,prediction))\n",
        "from sklearn.metrics import mean_absolute_error\n",
        "print('absolute mean error : ', mean_absolute_error(y_test,prediction))\n",
        "print(r2_score(y_test,prediction))"
      ],
      "execution_count": 166,
      "outputs": [
        {
          "output_type": "stream",
          "text": [
            "/usr/local/lib/python3.6/dist-packages/ipykernel_launcher.py:4: DataConversionWarning: A column-vector y was passed when a 1d array was expected. Please change the shape of y to (n_samples,), for example using ravel().\n",
            "  after removing the cwd from sys.path.\n"
          ],
          "name": "stderr"
        },
        {
          "output_type": "stream",
          "text": [
            "mean squared eror :  0.0001981214588051971\n",
            "absolute mean error :  0.005531703629183799\n",
            "0.7356558962070592\n"
          ],
          "name": "stdout"
        }
      ]
    },
    {
      "cell_type": "code",
      "metadata": {
        "id": "KAVNYF_yJXRN",
        "colab_type": "code",
        "outputId": "d38eb072-8322-4d1e-da0d-955283bd6911",
        "colab": {
          "base_uri": "https://localhost:8080/",
          "height": 501
        }
      },
      "source": [
        "plt.plot(y_test[0:100], color = 'black', label = 'TRUTH')\n",
        "plt.plot(prediction[0:100], color = 'green', label = 'PREDICTION')\n",
        "plt.title('Random forest regression PERFORMANCE ON TEST SET')\n",
        "plt.ylabel('CO')\n",
        "plt.legend()\n",
        "plt.show()\n",
        "print('truth : ',y_test[0:10])\n",
        "print('prediction : ',prediction[0:10])"
      ],
      "execution_count": 167,
      "outputs": [
        {
          "output_type": "display_data",
          "data": {
            "image/png": "[encoded data removed]",
            "text/plain": [
              "<Figure size 432x288 with 1 Axes>"
            ]
          },
          "metadata": {
            "tags": [],
            "needs_background": "light"
          }
        },
        {
          "output_type": "stream",
          "text": [
            "truth :  [[0.02777778]\n",
            " [0.03703704]\n",
            " [0.0462963 ]\n",
            " [0.06481481]\n",
            " [0.00925926]\n",
            " [0.03703704]\n",
            " [0.03703704]\n",
            " [0.02777778]\n",
            " [0.05555556]\n",
            " [0.02777778]]\n",
            "prediction :  [0.02952751 0.03766095 0.04630024 0.0640446  0.01142314 0.03766095\n",
            " 0.0372375  0.02037205 0.06290627 0.02990573]\n"
          ],
          "name": "stdout"
        }
      ]
    },
    {
      "cell_type": "code",
      "metadata": {
        "id": "s9oOYdsvFVAz",
        "colab_type": "code",
        "outputId": "43240976-f14c-41a3-9ac9-248b6b3a82ba",
        "colab": {
          "base_uri": "https://localhost:8080/",
          "height": 72
        }
      },
      "source": [
        "# RIDGE REGRESSION\n",
        "from sklearn.linear_model import Ridge\n",
        "model = Ridge(alpha=1.0)\n",
        "model.fit(X_train,y_train)\n",
        "prediction=model.predict(X_test)\n",
        "joblib.dump(model,'ridge_regressor.pkl')\n",
        "from google.colab import files\n",
        "files.download('ridge_regressor.pkl')\n",
        "print(mean_squared_error(y_test,prediction))\n",
        "print(mean_absolute_error(y_test,prediction))\n",
        "print(r2_score(y_test,prediction))\n"
      ],
      "execution_count": 168,
      "outputs": [
        {
          "output_type": "stream",
          "text": [
            "0.00022242394738400398\n",
            "0.006537137300396561\n",
            "0.7032302336763815\n"
          ],
          "name": "stdout"
        }
      ]
    },
    {
      "cell_type": "code",
      "metadata": {
        "id": "08afymABtSx4",
        "colab_type": "code",
        "outputId": "0d7d7bf9-170c-4657-a193-417e240d07e0",
        "colab": {
          "base_uri": "https://localhost:8080/",
          "height": 129
        }
      },
      "source": [
        "# IMPLEMENTING SUPPORT VECTOR\n",
        "from sklearn.svm import LinearSVR\n",
        "model= LinearSVR()\n",
        "model.fit(X_train,y_train)\n",
        "prediction=model.predict(X_test)\n",
        "print('mean squared eror : ',mean_squared_error(y_test,prediction))\n",
        "from sklearn.metrics import mean_absolute_error\n",
        "print('absolute mean error : ', mean_absolute_error(y_test,prediction))\n",
        "print(r2_score(y_test,prediction))"
      ],
      "execution_count": 169,
      "outputs": [
        {
          "output_type": "stream",
          "text": [
            "/usr/local/lib/python3.6/dist-packages/sklearn/utils/validation.py:760: DataConversionWarning: A column-vector y was passed when a 1d array was expected. Please change the shape of y to (n_samples, ), for example using ravel().\n",
            "  y = column_or_1d(y, warn=True)\n"
          ],
          "name": "stderr"
        },
        {
          "output_type": "stream",
          "text": [
            "mean squared eror :  0.00020071941568542377\n",
            "absolute mean error :  0.00504109910460507\n",
            "0.7321895650618222\n"
          ],
          "name": "stdout"
        }
      ]
    },
    {
      "cell_type": "code",
      "metadata": {
        "id": "LFR-uIKhMIPs",
        "colab_type": "code",
        "outputId": "904337eb-85ed-4c38-ec82-be943f8f1bd4",
        "colab": {
          "base_uri": "https://localhost:8080/",
          "height": 281
        }
      },
      "source": [
        "plt.plot(y_test[0:100], color = 'black', label = 'TRUTH')\n",
        "plt.plot(prediction[0:100], color = 'green', label = 'PREDICTION')\n",
        "plt.title('SVM regression PERFORMANCE ON TEST SET')\n",
        "plt.ylabel('CO')\n",
        "plt.legend()\n",
        "plt.show()"
      ],
      "execution_count": 170,
      "outputs": [
        {
          "output_type": "display_data",
          "data": {
            "image/png": "[encoded data removed]",
            "text/plain": [
              "<Figure size 432x288 with 1 Axes>"
            ]
          },
          "metadata": {
            "tags": [],
            "needs_background": "light"
          }
        }
      ]
    },
    {
      "cell_type": "code",
      "metadata": {
        "id": "tUpcjRA2hCQz",
        "colab_type": "code",
        "outputId": "7f8bea6e-6b03-42fb-d8ab-6118f9a66855",
        "colab": {
          "base_uri": "https://localhost:8080/",
          "height": 1000
        }
      },
      "source": [
        "# IMPLEMENTING A NEURAL NETWORK\n",
        "from sklearn.preprocessing import StandardScaler\n",
        "#sc = StandardScaler()\n",
        "#X = sc.fit_transform(X)\n",
        "import keras\n",
        "from keras.models import Sequential\n",
        "from keras.layers import Dense\n",
        "# Neural network\n",
        "model = Sequential()\n",
        "model.add(Dense(64, input_dim=4, activation='relu'))\n",
        "model.add(Dense(128, input_dim=4, activation='relu'))\n",
        "model.add(Dense(512, activation='relu'))\n",
        "model.add(Dense(1, activation='relu'))\n",
        "\n",
        "\n",
        "model.compile(optimizer = \"adam\", loss ='mse', \n",
        "          metrics =[\"accuracy\"])\n",
        "history = model.fit(X_train, y_train, epochs=100, batch_size=32)"
      ],
      "execution_count": 171,
      "outputs": [
        {
          "output_type": "stream",
          "text": [
            "Epoch 1/100\n",
            "16419/16419 [==============================] - 1s 69us/step - loss: 1.3359e-04 - accuracy: 0.0072\n",
            "Epoch 2/100\n",
            "16419/16419 [==============================] - 1s 63us/step - loss: 9.8592e-05 - accuracy: 0.0072\n",
            "Epoch 3/100\n",
            "16419/16419 [==============================] - 1s 62us/step - loss: 9.9565e-05 - accuracy: 0.0072\n",
            "Epoch 4/100\n",
            "16419/16419 [==============================] - 1s 63us/step - loss: 1.0016e-04 - accuracy: 0.0072\n",
            "Epoch 5/100\n",
            "16419/16419 [==============================] - 1s 64us/step - loss: 1.0497e-04 - accuracy: 0.0072\n",
            "Epoch 6/100\n",
            "16419/16419 [==============================] - 1s 62us/step - loss: 9.7566e-05 - accuracy: 0.0072\n",
            "Epoch 7/100\n",
            "16419/16419 [==============================] - 1s 62us/step - loss: 9.4350e-05 - accuracy: 0.0072\n",
            "Epoch 8/100\n",
            "16419/16419 [==============================] - 1s 62us/step - loss: 9.5786e-05 - accuracy: 0.0072\n",
            "Epoch 9/100\n",
            "16419/16419 [==============================] - 1s 63us/step - loss: 9.4119e-05 - accuracy: 0.0072\n",
            "Epoch 10/100\n",
            "16419/16419 [==============================] - 1s 62us/step - loss: 9.4783e-05 - accuracy: 0.0072\n",
            "Epoch 11/100\n",
            "16419/16419 [==============================] - 1s 63us/step - loss: 9.2803e-05 - accuracy: 0.0072\n",
            "Epoch 12/100\n",
            "16419/16419 [==============================] - 1s 64us/step - loss: 9.2003e-05 - accuracy: 0.0072\n",
            "Epoch 13/100\n",
            "16419/16419 [==============================] - 1s 64us/step - loss: 9.3770e-05 - accuracy: 0.0072\n",
            "Epoch 14/100\n",
            "16419/16419 [==============================] - 1s 63us/step - loss: 9.7004e-05 - accuracy: 0.0072\n",
            "Epoch 15/100\n",
            "16419/16419 [==============================] - 1s 62us/step - loss: 9.3929e-05 - accuracy: 0.0072\n",
            "Epoch 16/100\n",
            "16419/16419 [==============================] - 1s 62us/step - loss: 9.1890e-05 - accuracy: 0.0072\n",
            "Epoch 17/100\n",
            "16419/16419 [==============================] - 1s 62us/step - loss: 9.1206e-05 - accuracy: 0.0072\n",
            "Epoch 18/100\n",
            "16419/16419 [==============================] - 1s 63us/step - loss: 9.2377e-05 - accuracy: 0.0072\n",
            "Epoch 19/100\n",
            "16419/16419 [==============================] - 1s 62us/step - loss: 9.1727e-05 - accuracy: 0.0072\n",
            "Epoch 20/100\n",
            "16419/16419 [==============================] - 1s 65us/step - loss: 9.3698e-05 - accuracy: 0.0072\n",
            "Epoch 21/100\n",
            "16419/16419 [==============================] - 1s 63us/step - loss: 9.0573e-05 - accuracy: 0.0072\n",
            "Epoch 22/100\n",
            "16419/16419 [==============================] - 1s 64us/step - loss: 9.1474e-05 - accuracy: 0.0072\n",
            "Epoch 23/100\n",
            "16419/16419 [==============================] - 1s 63us/step - loss: 9.2292e-05 - accuracy: 0.0072\n",
            "Epoch 24/100\n",
            "16419/16419 [==============================] - 1s 63us/step - loss: 9.1005e-05 - accuracy: 0.0072\n",
            "Epoch 25/100\n",
            "16419/16419 [==============================] - 1s 62us/step - loss: 9.0498e-05 - accuracy: 0.0072\n",
            "Epoch 26/100\n",
            "16419/16419 [==============================] - 1s 64us/step - loss: 9.1675e-05 - accuracy: 0.0072\n",
            "Epoch 27/100\n",
            "16419/16419 [==============================] - 1s 64us/step - loss: 9.2764e-05 - accuracy: 0.0072\n",
            "Epoch 28/100\n",
            "16419/16419 [==============================] - 1s 63us/step - loss: 9.1618e-05 - accuracy: 0.0072\n",
            "Epoch 29/100\n",
            "16419/16419 [==============================] - 1s 64us/step - loss: 9.0383e-05 - accuracy: 0.0072\n",
            "Epoch 30/100\n",
            "16419/16419 [==============================] - 1s 63us/step - loss: 9.2887e-05 - accuracy: 0.0072\n",
            "Epoch 31/100\n",
            "16419/16419 [==============================] - 1s 63us/step - loss: 9.1263e-05 - accuracy: 0.0072\n",
            "Epoch 32/100\n",
            "16419/16419 [==============================] - 1s 63us/step - loss: 9.1933e-05 - accuracy: 0.0072\n",
            "Epoch 33/100\n",
            "16419/16419 [==============================] - 1s 63us/step - loss: 9.1794e-05 - accuracy: 0.0072\n",
            "Epoch 34/100\n",
            "16419/16419 [==============================] - 1s 63us/step - loss: 8.9487e-05 - accuracy: 0.0072\n",
            "Epoch 35/100\n",
            "16419/16419 [==============================] - 1s 64us/step - loss: 9.1137e-05 - accuracy: 0.0072\n",
            "Epoch 36/100\n",
            "16419/16419 [==============================] - 1s 63us/step - loss: 9.0581e-05 - accuracy: 0.0072\n",
            "Epoch 37/100\n",
            "16419/16419 [==============================] - 1s 64us/step - loss: 9.0351e-05 - accuracy: 0.0072\n",
            "Epoch 38/100\n",
            "16419/16419 [==============================] - 1s 63us/step - loss: 9.0633e-05 - accuracy: 0.0072\n",
            "Epoch 39/100\n",
            "16419/16419 [==============================] - 1s 63us/step - loss: 9.0660e-05 - accuracy: 0.0072\n",
            "Epoch 40/100\n",
            "16419/16419 [==============================] - 1s 62us/step - loss: 9.3601e-05 - accuracy: 0.0072\n",
            "Epoch 41/100\n",
            "16419/16419 [==============================] - 1s 62us/step - loss: 9.0931e-05 - accuracy: 0.0072\n",
            "Epoch 42/100\n",
            "16419/16419 [==============================] - 1s 62us/step - loss: 9.0672e-05 - accuracy: 0.0072\n",
            "Epoch 43/100\n",
            "16419/16419 [==============================] - 1s 62us/step - loss: 9.0228e-05 - accuracy: 0.0072\n",
            "Epoch 44/100\n",
            "16419/16419 [==============================] - 1s 63us/step - loss: 9.0573e-05 - accuracy: 0.0072\n",
            "Epoch 45/100\n",
            "16419/16419 [==============================] - 1s 63us/step - loss: 8.9749e-05 - accuracy: 0.0072\n",
            "Epoch 46/100\n",
            "16419/16419 [==============================] - 1s 62us/step - loss: 8.8919e-05 - accuracy: 0.0072\n",
            "Epoch 47/100\n",
            "16419/16419 [==============================] - 1s 63us/step - loss: 8.9157e-05 - accuracy: 0.0072\n",
            "Epoch 48/100\n",
            "16419/16419 [==============================] - 1s 62us/step - loss: 9.0477e-05 - accuracy: 0.0072\n",
            "Epoch 49/100\n",
            "16419/16419 [==============================] - 1s 63us/step - loss: 8.9749e-05 - accuracy: 0.0072\n",
            "Epoch 50/100\n",
            "16419/16419 [==============================] - 1s 63us/step - loss: 9.0126e-05 - accuracy: 0.0072\n",
            "Epoch 51/100\n",
            "16419/16419 [==============================] - 1s 63us/step - loss: 9.1136e-05 - accuracy: 0.0072\n",
            "Epoch 52/100\n",
            "16419/16419 [==============================] - 1s 63us/step - loss: 8.9596e-05 - accuracy: 0.0072\n",
            "Epoch 53/100\n",
            "16419/16419 [==============================] - 1s 62us/step - loss: 9.0253e-05 - accuracy: 0.0072\n",
            "Epoch 54/100\n",
            "16419/16419 [==============================] - 1s 63us/step - loss: 9.0191e-05 - accuracy: 0.0072\n",
            "Epoch 55/100\n",
            "16419/16419 [==============================] - 1s 63us/step - loss: 9.0192e-05 - accuracy: 0.0072\n",
            "Epoch 56/100\n",
            "16419/16419 [==============================] - 1s 63us/step - loss: 8.9690e-05 - accuracy: 0.0072\n",
            "Epoch 57/100\n",
            "16419/16419 [==============================] - 1s 62us/step - loss: 8.9144e-05 - accuracy: 0.0072\n",
            "Epoch 58/100\n",
            "16419/16419 [==============================] - 1s 63us/step - loss: 9.0558e-05 - accuracy: 0.0072\n",
            "Epoch 59/100\n",
            "16419/16419 [==============================] - 1s 63us/step - loss: 8.9367e-05 - accuracy: 0.0072\n",
            "Epoch 60/100\n",
            "16419/16419 [==============================] - 1s 63us/step - loss: 8.9180e-05 - accuracy: 0.0072\n",
            "Epoch 61/100\n",
            "16419/16419 [==============================] - 1s 63us/step - loss: 8.9754e-05 - accuracy: 0.0072\n",
            "Epoch 62/100\n",
            "16419/16419 [==============================] - 1s 63us/step - loss: 8.8992e-05 - accuracy: 0.0072\n",
            "Epoch 63/100\n",
            "16419/16419 [==============================] - 1s 63us/step - loss: 8.9279e-05 - accuracy: 0.0072\n",
            "Epoch 64/100\n",
            "16419/16419 [==============================] - 1s 63us/step - loss: 8.9724e-05 - accuracy: 0.0072\n",
            "Epoch 65/100\n",
            "16419/16419 [==============================] - 1s 63us/step - loss: 8.9402e-05 - accuracy: 0.0072\n",
            "Epoch 66/100\n",
            "16419/16419 [==============================] - 1s 63us/step - loss: 8.9230e-05 - accuracy: 0.0072\n",
            "Epoch 67/100\n",
            "16419/16419 [==============================] - 1s 63us/step - loss: 8.8396e-05 - accuracy: 0.0072\n",
            "Epoch 68/100\n",
            "16419/16419 [==============================] - 1s 63us/step - loss: 8.9781e-05 - accuracy: 0.0072\n",
            "Epoch 69/100\n",
            "16419/16419 [==============================] - 1s 64us/step - loss: 8.8595e-05 - accuracy: 0.0072\n",
            "Epoch 70/100\n",
            "16419/16419 [==============================] - 1s 62us/step - loss: 8.9269e-05 - accuracy: 0.0072\n",
            "Epoch 71/100\n",
            "16419/16419 [==============================] - 1s 63us/step - loss: 8.8972e-05 - accuracy: 0.0072\n",
            "Epoch 72/100\n",
            "16419/16419 [==============================] - 1s 63us/step - loss: 8.9710e-05 - accuracy: 0.0072\n",
            "Epoch 73/100\n",
            "16419/16419 [==============================] - 1s 64us/step - loss: 8.8371e-05 - accuracy: 0.0072\n",
            "Epoch 74/100\n",
            "16419/16419 [==============================] - 1s 63us/step - loss: 8.9273e-05 - accuracy: 0.0072\n",
            "Epoch 75/100\n",
            "16419/16419 [==============================] - 1s 64us/step - loss: 9.0737e-05 - accuracy: 0.0072\n",
            "Epoch 76/100\n",
            "16419/16419 [==============================] - 1s 63us/step - loss: 9.0186e-05 - accuracy: 0.0072\n",
            "Epoch 77/100\n",
            "16419/16419 [==============================] - 1s 63us/step - loss: 8.8752e-05 - accuracy: 0.0072\n",
            "Epoch 78/100\n",
            "16419/16419 [==============================] - 1s 64us/step - loss: 9.4252e-05 - accuracy: 0.0072\n",
            "Epoch 79/100\n",
            "16419/16419 [==============================] - 1s 65us/step - loss: 8.8458e-05 - accuracy: 0.0072\n",
            "Epoch 80/100\n",
            "16419/16419 [==============================] - 1s 63us/step - loss: 8.8697e-05 - accuracy: 0.0072\n",
            "Epoch 81/100\n",
            "16419/16419 [==============================] - 1s 64us/step - loss: 8.9924e-05 - accuracy: 0.0072\n",
            "Epoch 82/100\n",
            "16419/16419 [==============================] - 1s 63us/step - loss: 8.8978e-05 - accuracy: 0.0072\n",
            "Epoch 83/100\n",
            "16419/16419 [==============================] - 1s 65us/step - loss: 8.9267e-05 - accuracy: 0.0072\n",
            "Epoch 84/100\n",
            "16419/16419 [==============================] - 1s 66us/step - loss: 8.9376e-05 - accuracy: 0.0072\n",
            "Epoch 85/100\n",
            "16419/16419 [==============================] - 1s 68us/step - loss: 8.9252e-05 - accuracy: 0.0072\n",
            "Epoch 86/100\n",
            "16419/16419 [==============================] - 1s 67us/step - loss: 8.9205e-05 - accuracy: 0.0072\n",
            "Epoch 87/100\n",
            "16419/16419 [==============================] - 1s 66us/step - loss: 8.8840e-05 - accuracy: 0.0072\n",
            "Epoch 88/100\n",
            "16419/16419 [==============================] - 1s 66us/step - loss: 8.9364e-05 - accuracy: 0.0072\n",
            "Epoch 89/100\n",
            "16419/16419 [==============================] - 1s 65us/step - loss: 8.8783e-05 - accuracy: 0.0072\n",
            "Epoch 90/100\n",
            "16419/16419 [==============================] - 1s 66us/step - loss: 8.8815e-05 - accuracy: 0.0072\n",
            "Epoch 91/100\n",
            "16419/16419 [==============================] - 1s 66us/step - loss: 8.8701e-05 - accuracy: 0.0072\n",
            "Epoch 92/100\n",
            "16419/16419 [==============================] - 1s 66us/step - loss: 8.8821e-05 - accuracy: 0.0072\n",
            "Epoch 93/100\n",
            "16419/16419 [==============================] - 1s 62us/step - loss: 9.0017e-05 - accuracy: 0.0072\n",
            "Epoch 94/100\n",
            "16419/16419 [==============================] - 1s 63us/step - loss: 8.8775e-05 - accuracy: 0.0072\n",
            "Epoch 95/100\n",
            "16419/16419 [==============================] - 1s 64us/step - loss: 8.8485e-05 - accuracy: 0.0072\n",
            "Epoch 96/100\n",
            "16419/16419 [==============================] - 1s 62us/step - loss: 8.8858e-05 - accuracy: 0.0072\n",
            "Epoch 97/100\n",
            "16419/16419 [==============================] - 1s 63us/step - loss: 8.8123e-05 - accuracy: 0.0072\n",
            "Epoch 98/100\n",
            "16419/16419 [==============================] - 1s 63us/step - loss: 8.8682e-05 - accuracy: 0.0072\n",
            "Epoch 99/100\n",
            "16419/16419 [==============================] - 1s 63us/step - loss: 9.0142e-05 - accuracy: 0.0072\n",
            "Epoch 100/100\n",
            "16419/16419 [==============================] - 1s 62us/step - loss: 8.9163e-05 - accuracy: 0.0072\n"
          ],
          "name": "stdout"
        }
      ]
    },
    {
      "cell_type": "code",
      "metadata": {
        "id": "txen3N-yvsAt",
        "colab_type": "code",
        "outputId": "a6d242a3-d42f-4b54-b5a6-5cbfeada440e",
        "colab": {
          "base_uri": "https://localhost:8080/",
          "height": 368
        }
      },
      "source": [
        "print(history.history.keys())\n",
        "# \"Loss\"\n",
        "plt.plot(history.history['loss'])\n",
        "plt.title('model loss')\n",
        "plt.ylabel('loss')\n",
        "plt.xlabel('epoch')\n",
        "plt.legend(['train'], loc='upper left')\n",
        "plt.show()\n",
        "y_pred = model.predict(X_test)\n",
        "print('mean squared error : ',mean_squared_error(y_test,y_pred))\n",
        "print('mean absolute error : ',mean_absolute_error(y_test,prediction))\n",
        "print(r2_score(y_test,prediction))\n",
        "#Converting predictions to label\n"
      ],
      "execution_count": 172,
      "outputs": [
        {
          "output_type": "stream",
          "text": [
            "dict_keys(['loss', 'accuracy'])\n"
          ],
          "name": "stdout"
        },
        {
          "output_type": "display_data",
          "data": {
            "image/png": "[encoded data removed]",
            "text/plain": [
              "<Figure size 432x288 with 1 Axes>"
            ]
          },
          "metadata": {
            "tags": [],
            "needs_background": "light"
          }
        },
        {
          "output_type": "stream",
          "text": [
            "mean squared error :  0.00019848742179570165\n",
            "mean absolute error :  0.00504109910460507\n",
            "0.7321895650618222\n"
          ],
          "name": "stdout"
        }
      ]
    },
    {
      "cell_type": "code",
      "metadata": {
        "id": "kErB8NCcdyHM",
        "colab_type": "code",
        "outputId": "756ce533-e3f9-4c5f-ce03-8da6eda0c2aa",
        "colab": {
          "base_uri": "https://localhost:8080/",
          "height": 281
        }
      },
      "source": [
        "plt.plot(y_test[0:100], color = 'black', label = 'TRUTH')\n",
        "plt.plot(prediction[0:100], color = 'green', label = 'PREDICTION')\n",
        "plt.title('Neural network PERFORMANCE ON TEST SET')\n",
        "plt.ylabel('CO')\n",
        "plt.legend()\n",
        "plt.show()"
      ],
      "execution_count": 173,
      "outputs": [
        {
          "output_type": "display_data",
          "data": {
            "image/png": "[encoded data removed]",
            "text/plain": [
              "<Figure size 432x288 with 1 Axes>"
            ]
          },
          "metadata": {
            "tags": [],
            "needs_background": "light"
          }
        }
      ]
    },
    {
      "cell_type": "code",
      "metadata": {
        "id": "TTfaJJDaHGg9",
        "colab_type": "code",
        "outputId": "ad4f5acf-c472-467f-8393-584e6a678fc1",
        "colab": {
          "base_uri": "https://localhost:8080/",
          "height": 182
        }
      },
      "source": [
        "print(X_train)\n",
        "X_train=np.asarray(X_train)\n",
        "X_test=np.asarray(X_test)\n",
        "y_train=np.asarray(y_train)\n",
        "y_test=np.asarray(y_test)\n",
        "\n",
        "print(X_train.shape)\n",
        "X_train=X_train.reshape(X_train.shape[0],X_train.shape[1],1)\n",
        "print(X_train.shape)"
      ],
      "execution_count": 174,
      "outputs": [
        {
          "output_type": "stream",
          "text": [
            "[[0.03703704 0.03703704 0.03703704 0.03703704]\n",
            " [0.0462963  0.03703704 0.03703704 0.03703704]\n",
            " [0.00925926 0.01851852 0.01851852 0.00925926]\n",
            " ...\n",
            " [0.07407407 0.08333333 0.07407407 0.05555556]\n",
            " [0.10185185 0.11111111 0.12037037 0.12962963]\n",
            " [0.09259259 0.10185185 0.11111111 0.11111111]]\n",
            "(16419, 4)\n",
            "(16419, 4, 1)\n"
          ],
          "name": "stdout"
        }
      ]
    },
    {
      "cell_type": "code",
      "metadata": {
        "id": "FFUuCp8g1vzB",
        "colab_type": "code",
        "outputId": "c7da03a4-7ce9-4233-9b7d-793c3b73a96a",
        "colab": {
          "base_uri": "https://localhost:8080/",
          "height": 1000
        }
      },
      "source": [
        "from keras.models import Sequential\n",
        "from keras.layers import Dense\n",
        "from keras.layers import LSTM\n",
        "from keras.layers import Dropout\n",
        "regressor = Sequential()\n",
        "\n",
        "regressor.add(LSTM(units = 50, return_sequences = True, input_shape = (X_train.shape[1], 1)))\n",
        "#regressor.add(Dropout(0.2))\n",
        "\n",
        "regressor.add(LSTM(units = 50, return_sequences = True))\n",
        "#regressor.add(Dropout(0.2))\n",
        "\n",
        "regressor.add(LSTM(units = 50, return_sequences = True))\n",
        "#regressor.add(Dropout(0.2))\n",
        "\n",
        "regressor.add(LSTM(units = 50))\n",
        "#regressor.add(Dropout(0.2))\n",
        "\n",
        "regressor.add(Dense(units = 1))\n",
        "\n",
        "regressor.compile(optimizer = 'adam', loss = 'mean_squared_error')\n",
        "\n",
        "history = regressor.fit(X_train, y_train, epochs = 100, batch_size = 32)"
      ],
      "execution_count": 175,
      "outputs": [
        {
          "output_type": "stream",
          "text": [
            "Epoch 1/100\n",
            "16419/16419 [==============================] - 7s 414us/step - loss: 3.2973e-04\n",
            "Epoch 2/100\n",
            "16419/16419 [==============================] - 6s 341us/step - loss: 1.8797e-04\n",
            "Epoch 3/100\n",
            "16419/16419 [==============================] - 6s 343us/step - loss: 1.2507e-04\n",
            "Epoch 4/100\n",
            "16419/16419 [==============================] - 6s 346us/step - loss: 1.1382e-04\n",
            "Epoch 5/100\n",
            "16419/16419 [==============================] - 6s 341us/step - loss: 1.0414e-04\n",
            "Epoch 6/100\n",
            "16419/16419 [==============================] - 6s 346us/step - loss: 1.0028e-04\n",
            "Epoch 7/100\n",
            "16419/16419 [==============================] - 6s 342us/step - loss: 9.8574e-05\n",
            "Epoch 8/100\n",
            "16419/16419 [==============================] - 6s 346us/step - loss: 9.5919e-05\n",
            "Epoch 9/100\n",
            "16419/16419 [==============================] - 6s 347us/step - loss: 9.4803e-05\n",
            "Epoch 10/100\n",
            "16419/16419 [==============================] - 6s 341us/step - loss: 9.5586e-05\n",
            "Epoch 11/100\n",
            "16419/16419 [==============================] - 6s 343us/step - loss: 9.4493e-05\n",
            "Epoch 12/100\n",
            "16419/16419 [==============================] - 6s 341us/step - loss: 9.2732e-05\n",
            "Epoch 13/100\n",
            "16419/16419 [==============================] - 6s 344us/step - loss: 9.5453e-05\n",
            "Epoch 14/100\n",
            "16419/16419 [==============================] - 6s 339us/step - loss: 9.3600e-05\n",
            "Epoch 15/100\n",
            "16419/16419 [==============================] - 6s 340us/step - loss: 9.4721e-05\n",
            "Epoch 16/100\n",
            "16419/16419 [==============================] - 6s 339us/step - loss: 9.4155e-05\n",
            "Epoch 17/100\n",
            "16419/16419 [==============================] - 6s 340us/step - loss: 9.2921e-05\n",
            "Epoch 18/100\n",
            "16419/16419 [==============================] - 6s 340us/step - loss: 9.2265e-05\n",
            "Epoch 19/100\n",
            "16419/16419 [==============================] - 6s 343us/step - loss: 9.4580e-05\n",
            "Epoch 20/100\n",
            "16419/16419 [==============================] - 6s 339us/step - loss: 9.2413e-05\n",
            "Epoch 21/100\n",
            "16419/16419 [==============================] - 6s 343us/step - loss: 9.2735e-05\n",
            "Epoch 22/100\n",
            "16419/16419 [==============================] - 6s 338us/step - loss: 9.2651e-05\n",
            "Epoch 23/100\n",
            "16419/16419 [==============================] - 6s 339us/step - loss: 9.1714e-05\n",
            "Epoch 24/100\n",
            "16419/16419 [==============================] - 6s 337us/step - loss: 9.2208e-05\n",
            "Epoch 25/100\n",
            "16419/16419 [==============================] - 6s 343us/step - loss: 9.1342e-05\n",
            "Epoch 26/100\n",
            "16419/16419 [==============================] - 6s 340us/step - loss: 9.1832e-05\n",
            "Epoch 27/100\n",
            "16419/16419 [==============================] - 6s 337us/step - loss: 9.1050e-05\n",
            "Epoch 28/100\n",
            "16419/16419 [==============================] - 6s 338us/step - loss: 9.1681e-05\n",
            "Epoch 29/100\n",
            "16419/16419 [==============================] - 6s 341us/step - loss: 9.0827e-05\n",
            "Epoch 30/100\n",
            "16419/16419 [==============================] - 6s 336us/step - loss: 9.0951e-05\n",
            "Epoch 31/100\n",
            "16419/16419 [==============================] - 6s 340us/step - loss: 9.1852e-05\n",
            "Epoch 32/100\n",
            "16419/16419 [==============================] - 5s 335us/step - loss: 9.2118e-05\n",
            "Epoch 33/100\n",
            "16419/16419 [==============================] - 6s 340us/step - loss: 9.0860e-05\n",
            "Epoch 34/100\n",
            "16419/16419 [==============================] - 6s 339us/step - loss: 9.0444e-05\n",
            "Epoch 35/100\n",
            "16419/16419 [==============================] - 6s 338us/step - loss: 9.2260e-05\n",
            "Epoch 36/100\n",
            "16419/16419 [==============================] - 6s 336us/step - loss: 9.0155e-05\n",
            "Epoch 37/100\n",
            "16419/16419 [==============================] - 6s 338us/step - loss: 9.0708e-05\n",
            "Epoch 38/100\n",
            "16419/16419 [==============================] - 6s 339us/step - loss: 9.0759e-05\n",
            "Epoch 39/100\n",
            "16419/16419 [==============================] - 6s 337us/step - loss: 9.0186e-05\n",
            "Epoch 40/100\n",
            "16419/16419 [==============================] - 6s 340us/step - loss: 9.0787e-05\n",
            "Epoch 41/100\n",
            "16419/16419 [==============================] - 6s 341us/step - loss: 8.9608e-05\n",
            "Epoch 42/100\n",
            "16419/16419 [==============================] - 6s 339us/step - loss: 9.1286e-05\n",
            "Epoch 43/100\n",
            "16419/16419 [==============================] - 6s 337us/step - loss: 9.0683e-05\n",
            "Epoch 44/100\n",
            "16419/16419 [==============================] - 6s 337us/step - loss: 8.9785e-05\n",
            "Epoch 45/100\n",
            "16419/16419 [==============================] - 6s 343us/step - loss: 8.9985e-05\n",
            "Epoch 46/100\n",
            "16419/16419 [==============================] - 5s 335us/step - loss: 9.0780e-05\n",
            "Epoch 47/100\n",
            "16419/16419 [==============================] - 6s 338us/step - loss: 8.9638e-05\n",
            "Epoch 48/100\n",
            "16419/16419 [==============================] - 6s 337us/step - loss: 8.9147e-05\n",
            "Epoch 49/100\n",
            "16419/16419 [==============================] - 6s 340us/step - loss: 8.9696e-05\n",
            "Epoch 50/100\n",
            "16419/16419 [==============================] - 6s 338us/step - loss: 8.9419e-05\n",
            "Epoch 51/100\n",
            "16419/16419 [==============================] - 6s 339us/step - loss: 8.9006e-05\n",
            "Epoch 52/100\n",
            "16419/16419 [==============================] - 6s 340us/step - loss: 8.9005e-05\n",
            "Epoch 53/100\n",
            "16419/16419 [==============================] - 6s 352us/step - loss: 8.9252e-05\n",
            "Epoch 54/100\n",
            "16419/16419 [==============================] - 6s 341us/step - loss: 8.9445e-05\n",
            "Epoch 55/100\n",
            "16419/16419 [==============================] - 6s 338us/step - loss: 8.9592e-05\n",
            "Epoch 56/100\n",
            "16419/16419 [==============================] - 6s 336us/step - loss: 8.9759e-05\n",
            "Epoch 57/100\n",
            "16419/16419 [==============================] - 6s 342us/step - loss: 8.8283e-05\n",
            "Epoch 58/100\n",
            "16419/16419 [==============================] - 6s 345us/step - loss: 9.0352e-05\n",
            "Epoch 59/100\n",
            "16419/16419 [==============================] - 6s 343us/step - loss: 8.9524e-05\n",
            "Epoch 60/100\n",
            "16419/16419 [==============================] - 6s 340us/step - loss: 8.8858e-05\n",
            "Epoch 61/100\n",
            "16419/16419 [==============================] - 6s 341us/step - loss: 8.8283e-05\n",
            "Epoch 62/100\n",
            "16419/16419 [==============================] - 6s 340us/step - loss: 8.9014e-05\n",
            "Epoch 63/100\n",
            "16419/16419 [==============================] - 6s 339us/step - loss: 9.0065e-05\n",
            "Epoch 64/100\n",
            "16419/16419 [==============================] - 6s 339us/step - loss: 8.8820e-05\n",
            "Epoch 65/100\n",
            "16419/16419 [==============================] - 6s 339us/step - loss: 8.9582e-05\n",
            "Epoch 66/100\n",
            "16419/16419 [==============================] - 6s 340us/step - loss: 8.9190e-05\n",
            "Epoch 67/100\n",
            "16419/16419 [==============================] - 6s 337us/step - loss: 8.8716e-05\n",
            "Epoch 68/100\n",
            "16419/16419 [==============================] - 6s 339us/step - loss: 8.9489e-05\n",
            "Epoch 69/100\n",
            "16419/16419 [==============================] - 6s 339us/step - loss: 8.8599e-05\n",
            "Epoch 70/100\n",
            "16419/16419 [==============================] - 6s 341us/step - loss: 8.8834e-05\n",
            "Epoch 71/100\n",
            "16419/16419 [==============================] - 6s 338us/step - loss: 8.9582e-05\n",
            "Epoch 72/100\n",
            "16419/16419 [==============================] - 6s 339us/step - loss: 8.9019e-05\n",
            "Epoch 73/100\n",
            "16419/16419 [==============================] - 6s 339us/step - loss: 8.8299e-05\n",
            "Epoch 74/100\n",
            "16419/16419 [==============================] - 6s 342us/step - loss: 8.9508e-05\n",
            "Epoch 75/100\n",
            "16419/16419 [==============================] - 6s 337us/step - loss: 8.9226e-05\n",
            "Epoch 76/100\n",
            "16419/16419 [==============================] - 6s 337us/step - loss: 8.8586e-05\n",
            "Epoch 77/100\n",
            "16419/16419 [==============================] - 6s 337us/step - loss: 8.8555e-05\n",
            "Epoch 78/100\n",
            "16419/16419 [==============================] - 6s 340us/step - loss: 8.8507e-05\n",
            "Epoch 79/100\n",
            "16419/16419 [==============================] - 6s 338us/step - loss: 8.8444e-05\n",
            "Epoch 80/100\n",
            "16419/16419 [==============================] - 6s 337us/step - loss: 8.8644e-05\n",
            "Epoch 81/100\n",
            "16419/16419 [==============================] - 6s 335us/step - loss: 8.7895e-05\n",
            "Epoch 82/100\n",
            "16419/16419 [==============================] - 6s 344us/step - loss: 8.8895e-05\n",
            "Epoch 83/100\n",
            "16419/16419 [==============================] - 6s 339us/step - loss: 8.9327e-05\n",
            "Epoch 84/100\n",
            "16419/16419 [==============================] - 6s 337us/step - loss: 8.8940e-05\n",
            "Epoch 85/100\n",
            "16419/16419 [==============================] - 6s 339us/step - loss: 8.8759e-05\n",
            "Epoch 86/100\n",
            "16419/16419 [==============================] - 6s 343us/step - loss: 8.8823e-05\n",
            "Epoch 87/100\n",
            "16419/16419 [==============================] - 6s 339us/step - loss: 8.9094e-05\n",
            "Epoch 88/100\n",
            "16419/16419 [==============================] - 6s 337us/step - loss: 8.7894e-05\n",
            "Epoch 89/100\n",
            "16419/16419 [==============================] - 6s 337us/step - loss: 8.8625e-05\n",
            "Epoch 90/100\n",
            "16419/16419 [==============================] - 6s 341us/step - loss: 8.8591e-05\n",
            "Epoch 91/100\n",
            "16419/16419 [==============================] - 6s 338us/step - loss: 8.8591e-05\n",
            "Epoch 92/100\n",
            "16419/16419 [==============================] - 6s 337us/step - loss: 8.7713e-05\n",
            "Epoch 93/100\n",
            "16419/16419 [==============================] - 6s 338us/step - loss: 8.8125e-05\n",
            "Epoch 94/100\n",
            "16419/16419 [==============================] - 6s 342us/step - loss: 8.8162e-05\n",
            "Epoch 95/100\n",
            "16419/16419 [==============================] - 6s 340us/step - loss: 8.7963e-05\n",
            "Epoch 96/100\n",
            "16419/16419 [==============================] - 6s 337us/step - loss: 8.8685e-05\n",
            "Epoch 97/100\n",
            "16419/16419 [==============================] - 6s 336us/step - loss: 8.8310e-05\n",
            "Epoch 98/100\n",
            "16419/16419 [==============================] - 6s 339us/step - loss: 8.7926e-05\n",
            "Epoch 99/100\n",
            "16419/16419 [==============================] - 5s 335us/step - loss: 8.8749e-05\n",
            "Epoch 100/100\n",
            "16419/16419 [==============================] - 5s 334us/step - loss: 8.8033e-05\n"
          ],
          "name": "stdout"
        }
      ]
    },
    {
      "cell_type": "code",
      "metadata": {
        "id": "GvEtr3IPv0Sh",
        "colab_type": "code",
        "outputId": "f17b0b95-a2fd-4d6b-9d56-93d27e8be196",
        "colab": {
          "base_uri": "https://localhost:8080/",
          "height": 368
        }
      },
      "source": [
        "print(history.history.keys())\n",
        "# \"Loss\"\n",
        "plt.plot(history.history['loss'])\n",
        "plt.title('model loss')\n",
        "plt.ylabel('loss')\n",
        "plt.xlabel('epoch')\n",
        "plt.legend(['train'], loc='upper left')\n",
        "plt.show()\n",
        "X_test=X_test.reshape(X_test.shape[0],X_test.shape[1],1)\n",
        "prediction = regressor.predict(X_test)\n",
        "print(\"mean square error :\" ,mean_squared_error(y_test,prediction))\n",
        "from sklearn.metrics import mean_absolute_error\n",
        "print(\"mean absolute error : \",mean_absolute_error(y_test,prediction))\n",
        "print(r2_score(y_test,prediction))"
      ],
      "execution_count": 176,
      "outputs": [
        {
          "output_type": "stream",
          "text": [
            "dict_keys(['loss'])\n"
          ],
          "name": "stdout"
        },
        {
          "output_type": "display_data",
          "data": {
            "image/png": "[encoded data removed]",
            "text/plain": [
              "<Figure size 432x288 with 1 Axes>"
            ]
          },
          "metadata": {
            "tags": [],
            "needs_background": "light"
          }
        },
        {
          "output_type": "stream",
          "text": [
            "mean square error : 0.00019673854715718193\n",
            "mean absolute error :  0.006026168618236994\n",
            "0.7375010498942165\n"
          ],
          "name": "stdout"
        }
      ]
    },
    {
      "cell_type": "code",
      "metadata": {
        "id": "64suBIQS8DmU",
        "colab_type": "code",
        "outputId": "cc183342-faf0-454b-a628-5dd3fd55ade8",
        "colab": {
          "base_uri": "https://localhost:8080/",
          "height": 281
        }
      },
      "source": [
        "plt.plot(y_test[0:100], color = 'black', label = 'TRUTH')\n",
        "plt.plot(prediction[0:100], color = 'green', label = 'PREDICTION')\n",
        "plt.title('LSTM PERFORMANCE ON TEST SET')\n",
        "plt.ylabel('CO')\n",
        "plt.legend()\n",
        "plt.show()"
      ],
      "execution_count": 177,
      "outputs": [
        {
          "output_type": "display_data",
          "data": {
            "image/png": "[encoded data removed]",
            "text/plain": [
              "<Figure size 432x288 with 1 Axes>"
            ]
          },
          "metadata": {
            "tags": [],
            "needs_background": "light"
          }
        }
      ]
    },
    {
      "cell_type": "code",
      "metadata": {
        "id": "M6ATb9dKn9KE",
        "colab_type": "code",
        "colab": {}
      },
      "source": [
        "#joblib.dump(regressor,'lstm_regressor.pkl')\n",
        "#from google.colab import files\n",
        "#files.download('lstm_regressor.pkl')"
      ],
      "execution_count": 0,
      "outputs": []
    },
    {
      "cell_type": "code",
      "metadata": {
        "id": "J2R-4HX3NL8E",
        "colab_type": "code",
        "colab": {}
      },
      "source": [
        ""
      ],
      "execution_count": 0,
      "outputs": []
    }
  ]
}