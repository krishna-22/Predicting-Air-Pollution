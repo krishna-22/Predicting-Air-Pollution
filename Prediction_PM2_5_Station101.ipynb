{
  "nbformat": 4,
  "nbformat_minor": 0,
  "metadata": {
    "colab": {
      "name": "Prediction_PM2.5_Station101.ipynb",
      "provenance": [],
      "collapsed_sections": []
    },
    "kernelspec": {
      "name": "python3",
      "display_name": "Python 3"
    },
    "accelerator": "GPU"
  },
  "cells": [
    {
      "cell_type": "code",
      "metadata": {
        "id": "r4m1QUD8Lt4y",
        "colab_type": "code",
        "colab": {}
      },
      "source": [
        "#!unzip air-pollution-in-seoul.zip"
      ],
      "execution_count": 0,
      "outputs": []
    },
    {
      "cell_type": "code",
      "metadata": {
        "id": "aLafiv1zMqa3",
        "colab_type": "code",
        "outputId": "944843c5-d28b-4eb9-b7f1-cb06dd7d9961",
        "colab": {
          "base_uri": "https://localhost:8080/",
          "height": 166
        }
      },
      "source": [
        "import pandas as pd\n",
        "import numpy as np\n",
        "import pickle\n",
        "from sklearn.externals import joblib \n",
        "% matplotlib inline\n",
        "import matplotlib.pyplot as plt\n",
        "from google.colab import drive\n",
        "from google.colab import drive\n",
        "drive.mount('/content/drive')"
      ],
      "execution_count": 3,
      "outputs": [
        {
          "output_type": "stream",
          "text": [
            "/usr/local/lib/python3.6/dist-packages/sklearn/externals/joblib/__init__.py:15: FutureWarning: sklearn.externals.joblib is deprecated in 0.21 and will be removed in 0.23. Please import this functionality directly from joblib, which can be installed with: pip install joblib. If this warning is raised when loading pickled models, you may need to re-serialize those models with scikit-learn 0.21+.\n",
            "  warnings.warn(msg, category=FutureWarning)\n"
          ],
          "name": "stderr"
        },
        {
          "output_type": "stream",
          "text": [
            "Go to this URL in a browser: https://accounts.google.com/o/oauth2/auth?client_id=947318989803-6bn6qk8qdgf4n4g3pfee6491hc0brc4i.apps.googleusercontent.com&redirect_uri=urn%3aietf%3awg%3aoauth%3a2.0%3aoob&response_type=code&scope=email%20https%3a%2f%2fwww.googleapis.com%2fauth%2fdocs.test%20https%3a%2f%2fwww.googleapis.com%2fauth%2fdrive%20https%3a%2f%2fwww.googleapis.com%2fauth%2fdrive.photos.readonly%20https%3a%2f%2fwww.googleapis.com%2fauth%2fpeopleapi.readonly\n",
            "\n",
            "Enter your authorization code:\n",
            "··········\n",
            "Mounted at /content/drive\n"
          ],
          "name": "stdout"
        }
      ]
    },
    {
      "cell_type": "code",
      "metadata": {
        "id": "nZUi7009M9kN",
        "colab_type": "code",
        "outputId": "392b345a-1b6b-4a36-e714-0f5f1e34275c",
        "colab": {
          "base_uri": "https://localhost:8080/",
          "height": 363
        }
      },
      "source": [
        "data = pd.read_csv('/content/drive/My Drive/Dataset/Measurement_summary.csv')\n",
        "data.head(10)"
      ],
      "execution_count": 4,
      "outputs": [
        {
          "output_type": "execute_result",
          "data": {
            "text/html": [
              "<div>\n",
              "<style scoped>\n",
              "    .dataframe tbody tr th:only-of-type {\n",
              "        vertical-align: middle;\n",
              "    }\n",
              "\n",
              "    .dataframe tbody tr th {\n",
              "        vertical-align: top;\n",
              "    }\n",
              "\n",
              "    .dataframe thead th {\n",
              "        text-align: right;\n",
              "    }\n",
              "</style>\n",
              "<table border=\"1\" class=\"dataframe\">\n",
              "  <thead>\n",
              "    <tr style=\"text-align: right;\">\n",
              "      <th></th>\n",
              "      <th>Measurement date</th>\n",
              "      <th>Station code</th>\n",
              "      <th>Address</th>\n",
              "      <th>Latitude</th>\n",
              "      <th>Longitude</th>\n",
              "      <th>SO2</th>\n",
              "      <th>NO2</th>\n",
              "      <th>O3</th>\n",
              "      <th>CO</th>\n",
              "      <th>PM10</th>\n",
              "      <th>PM2.5</th>\n",
              "    </tr>\n",
              "  </thead>\n",
              "  <tbody>\n",
              "    <tr>\n",
              "      <th>0</th>\n",
              "      <td>2017-01-01 00:00</td>\n",
              "      <td>101</td>\n",
              "      <td>19, Jong-ro 35ga-gil, Jongno-gu, Seoul, Republ...</td>\n",
              "      <td>37.572016</td>\n",
              "      <td>127.005007</td>\n",
              "      <td>0.004</td>\n",
              "      <td>0.059</td>\n",
              "      <td>0.002</td>\n",
              "      <td>1.2</td>\n",
              "      <td>73.0</td>\n",
              "      <td>57.0</td>\n",
              "    </tr>\n",
              "    <tr>\n",
              "      <th>1</th>\n",
              "      <td>2017-01-01 01:00</td>\n",
              "      <td>101</td>\n",
              "      <td>19, Jong-ro 35ga-gil, Jongno-gu, Seoul, Republ...</td>\n",
              "      <td>37.572016</td>\n",
              "      <td>127.005007</td>\n",
              "      <td>0.004</td>\n",
              "      <td>0.058</td>\n",
              "      <td>0.002</td>\n",
              "      <td>1.2</td>\n",
              "      <td>71.0</td>\n",
              "      <td>59.0</td>\n",
              "    </tr>\n",
              "    <tr>\n",
              "      <th>2</th>\n",
              "      <td>2017-01-01 02:00</td>\n",
              "      <td>101</td>\n",
              "      <td>19, Jong-ro 35ga-gil, Jongno-gu, Seoul, Republ...</td>\n",
              "      <td>37.572016</td>\n",
              "      <td>127.005007</td>\n",
              "      <td>0.004</td>\n",
              "      <td>0.056</td>\n",
              "      <td>0.002</td>\n",
              "      <td>1.2</td>\n",
              "      <td>70.0</td>\n",
              "      <td>59.0</td>\n",
              "    </tr>\n",
              "    <tr>\n",
              "      <th>3</th>\n",
              "      <td>2017-01-01 03:00</td>\n",
              "      <td>101</td>\n",
              "      <td>19, Jong-ro 35ga-gil, Jongno-gu, Seoul, Republ...</td>\n",
              "      <td>37.572016</td>\n",
              "      <td>127.005007</td>\n",
              "      <td>0.004</td>\n",
              "      <td>0.056</td>\n",
              "      <td>0.002</td>\n",
              "      <td>1.2</td>\n",
              "      <td>70.0</td>\n",
              "      <td>58.0</td>\n",
              "    </tr>\n",
              "    <tr>\n",
              "      <th>4</th>\n",
              "      <td>2017-01-01 04:00</td>\n",
              "      <td>101</td>\n",
              "      <td>19, Jong-ro 35ga-gil, Jongno-gu, Seoul, Republ...</td>\n",
              "      <td>37.572016</td>\n",
              "      <td>127.005007</td>\n",
              "      <td>0.003</td>\n",
              "      <td>0.051</td>\n",
              "      <td>0.002</td>\n",
              "      <td>1.2</td>\n",
              "      <td>69.0</td>\n",
              "      <td>61.0</td>\n",
              "    </tr>\n",
              "    <tr>\n",
              "      <th>5</th>\n",
              "      <td>2017-01-01 05:00</td>\n",
              "      <td>101</td>\n",
              "      <td>19, Jong-ro 35ga-gil, Jongno-gu, Seoul, Republ...</td>\n",
              "      <td>37.572016</td>\n",
              "      <td>127.005007</td>\n",
              "      <td>0.003</td>\n",
              "      <td>0.046</td>\n",
              "      <td>0.002</td>\n",
              "      <td>1.1</td>\n",
              "      <td>70.0</td>\n",
              "      <td>61.0</td>\n",
              "    </tr>\n",
              "    <tr>\n",
              "      <th>6</th>\n",
              "      <td>2017-01-01 06:00</td>\n",
              "      <td>101</td>\n",
              "      <td>19, Jong-ro 35ga-gil, Jongno-gu, Seoul, Republ...</td>\n",
              "      <td>37.572016</td>\n",
              "      <td>127.005007</td>\n",
              "      <td>0.003</td>\n",
              "      <td>0.049</td>\n",
              "      <td>0.002</td>\n",
              "      <td>1.1</td>\n",
              "      <td>66.0</td>\n",
              "      <td>57.0</td>\n",
              "    </tr>\n",
              "    <tr>\n",
              "      <th>7</th>\n",
              "      <td>2017-01-01 07:00</td>\n",
              "      <td>101</td>\n",
              "      <td>19, Jong-ro 35ga-gil, Jongno-gu, Seoul, Republ...</td>\n",
              "      <td>37.572016</td>\n",
              "      <td>127.005007</td>\n",
              "      <td>0.003</td>\n",
              "      <td>0.045</td>\n",
              "      <td>0.002</td>\n",
              "      <td>1.0</td>\n",
              "      <td>71.0</td>\n",
              "      <td>60.0</td>\n",
              "    </tr>\n",
              "    <tr>\n",
              "      <th>8</th>\n",
              "      <td>2017-01-01 08:00</td>\n",
              "      <td>101</td>\n",
              "      <td>19, Jong-ro 35ga-gil, Jongno-gu, Seoul, Republ...</td>\n",
              "      <td>37.572016</td>\n",
              "      <td>127.005007</td>\n",
              "      <td>0.004</td>\n",
              "      <td>0.047</td>\n",
              "      <td>0.002</td>\n",
              "      <td>1.1</td>\n",
              "      <td>72.0</td>\n",
              "      <td>60.0</td>\n",
              "    </tr>\n",
              "    <tr>\n",
              "      <th>9</th>\n",
              "      <td>2017-01-01 09:00</td>\n",
              "      <td>101</td>\n",
              "      <td>19, Jong-ro 35ga-gil, Jongno-gu, Seoul, Republ...</td>\n",
              "      <td>37.572016</td>\n",
              "      <td>127.005007</td>\n",
              "      <td>0.003</td>\n",
              "      <td>0.047</td>\n",
              "      <td>0.002</td>\n",
              "      <td>1.1</td>\n",
              "      <td>74.0</td>\n",
              "      <td>63.0</td>\n",
              "    </tr>\n",
              "  </tbody>\n",
              "</table>\n",
              "</div>"
            ],
            "text/plain": [
              "   Measurement date  Station code  ...  PM10  PM2.5\n",
              "0  2017-01-01 00:00           101  ...  73.0   57.0\n",
              "1  2017-01-01 01:00           101  ...  71.0   59.0\n",
              "2  2017-01-01 02:00           101  ...  70.0   59.0\n",
              "3  2017-01-01 03:00           101  ...  70.0   58.0\n",
              "4  2017-01-01 04:00           101  ...  69.0   61.0\n",
              "5  2017-01-01 05:00           101  ...  70.0   61.0\n",
              "6  2017-01-01 06:00           101  ...  66.0   57.0\n",
              "7  2017-01-01 07:00           101  ...  71.0   60.0\n",
              "8  2017-01-01 08:00           101  ...  72.0   60.0\n",
              "9  2017-01-01 09:00           101  ...  74.0   63.0\n",
              "\n",
              "[10 rows x 11 columns]"
            ]
          },
          "metadata": {
            "tags": []
          },
          "execution_count": 4
        }
      ]
    },
    {
      "cell_type": "code",
      "metadata": {
        "id": "cFj-Od2FNYr7",
        "colab_type": "code",
        "outputId": "1fa2ec45-d2b7-49cf-98d6-ad7bdba8bd17",
        "colab": {
          "base_uri": "https://localhost:8080/",
          "height": 274
        }
      },
      "source": [
        "# Retriving data for station code 101 for PM2.5\n",
        "data_101=data[(data['Station code']==101) & (data['PM2.5']>0)]\n",
        "print(len(data_101))\n",
        "print(data_101.head(10))"
      ],
      "execution_count": 5,
      "outputs": [
        {
          "output_type": "stream",
          "text": [
            "25797\n",
            "   Measurement date  Station code  ...  PM10  PM2.5\n",
            "0  2017-01-01 00:00           101  ...  73.0   57.0\n",
            "1  2017-01-01 01:00           101  ...  71.0   59.0\n",
            "2  2017-01-01 02:00           101  ...  70.0   59.0\n",
            "3  2017-01-01 03:00           101  ...  70.0   58.0\n",
            "4  2017-01-01 04:00           101  ...  69.0   61.0\n",
            "5  2017-01-01 05:00           101  ...  70.0   61.0\n",
            "6  2017-01-01 06:00           101  ...  66.0   57.0\n",
            "7  2017-01-01 07:00           101  ...  71.0   60.0\n",
            "8  2017-01-01 08:00           101  ...  72.0   60.0\n",
            "9  2017-01-01 09:00           101  ...  74.0   63.0\n",
            "\n",
            "[10 rows x 11 columns]\n"
          ],
          "name": "stdout"
        }
      ]
    },
    {
      "cell_type": "code",
      "metadata": {
        "id": "gWDS6JoqXlfP",
        "colab_type": "code",
        "outputId": "30038b73-59d3-4f30-d5c4-8a49804f6719",
        "colab": {
          "base_uri": "https://localhost:8080/",
          "height": 334
        }
      },
      "source": [
        "import seaborn as sns\n",
        "sns.boxplot(data_101['PM2.5'])"
      ],
      "execution_count": 6,
      "outputs": [
        {
          "output_type": "stream",
          "text": [
            "/usr/local/lib/python3.6/dist-packages/statsmodels/tools/_testing.py:19: FutureWarning: pandas.util.testing is deprecated. Use the functions in the public API at pandas.testing instead.\n",
            "  import pandas.util.testing as tm\n"
          ],
          "name": "stderr"
        },
        {
          "output_type": "execute_result",
          "data": {
            "text/plain": [
              "<matplotlib.axes._subplots.AxesSubplot at 0x7f4632e72d68>"
            ]
          },
          "metadata": {
            "tags": []
          },
          "execution_count": 6
        },
        {
          "output_type": "display_data",
          "data": {
            "image/png": "[encoded data removed]",
            "text/plain": [
              "<Figure size 432x288 with 1 Axes>"
            ]
          },
          "metadata": {
            "tags": [],
            "needs_background": "light"
          }
        }
      ]
    },
    {
      "cell_type": "code",
      "metadata": {
        "id": "EcgONzxKnL2u",
        "colab_type": "code",
        "outputId": "5614ea49-d6b7-450a-80a3-ac3d2d96c0d3",
        "colab": {
          "base_uri": "https://localhost:8080/",
          "height": 316
        }
      },
      "source": [
        "from scipy import stats\n",
        "z = np.abs(stats.zscore(data_101['PM2.5']))\n",
        "threshold = 3\n",
        "#print(len(np.where(z > 3)))\n",
        "data_101_Rout = data_101[(z < 3)]\n",
        "print(len(data_101_Rout))\n",
        "sns.boxplot(data_101_Rout['PM2.5'])"
      ],
      "execution_count": 7,
      "outputs": [
        {
          "output_type": "stream",
          "text": [
            "25427\n"
          ],
          "name": "stdout"
        },
        {
          "output_type": "execute_result",
          "data": {
            "text/plain": [
              "<matplotlib.axes._subplots.AxesSubplot at 0x7f46326b7cf8>"
            ]
          },
          "metadata": {
            "tags": []
          },
          "execution_count": 7
        },
        {
          "output_type": "display_data",
          "data": {
            "image/png": "[encoded data removed]",
            "text/plain": [
              "<Figure size 432x288 with 1 Axes>"
            ]
          },
          "metadata": {
            "tags": [],
            "needs_background": "light"
          }
        }
      ]
    },
    {
      "cell_type": "code",
      "metadata": {
        "id": "_LNanJd1a1_D",
        "colab_type": "code",
        "outputId": "ae2cfba2-8701-4038-fbc4-0b3bc197e153",
        "colab": {
          "base_uri": "https://localhost:8080/",
          "height": 35
        }
      },
      "source": [
        "df=data_101_Rout['PM2.5']\n",
        "df=df.values\n",
        "df=df.reshape(df.shape[0],1)\n",
        "print(df.shape)"
      ],
      "execution_count": 8,
      "outputs": [
        {
          "output_type": "stream",
          "text": [
            "(25427, 1)\n"
          ],
          "name": "stdout"
        }
      ]
    },
    {
      "cell_type": "code",
      "metadata": {
        "id": "rzYngv6_TPhh",
        "colab_type": "code",
        "outputId": "c3cc62e3-027e-4c36-ad42-c89010b8b9e2",
        "colab": {
          "base_uri": "https://localhost:8080/",
          "height": 72
        }
      },
      "source": [
        "from sklearn import preprocessing\n",
        "min_max_scaler = preprocessing.MinMaxScaler()\n",
        "df_scaled = min_max_scaler.fit_transform(df)\n",
        "print(min(df),max(df))\n",
        "list_=[]\n",
        "for i in range (0,df_scaled.shape[0]):\n",
        "  list_.append(df_scaled[i][0])\n",
        "print(len(list_))\n",
        "print(min(list_),max(list_))\n"
      ],
      "execution_count": 9,
      "outputs": [
        {
          "output_type": "stream",
          "text": [
            "[1.] [82.]\n",
            "25427\n",
            "0.0 1.0\n"
          ],
          "name": "stdout"
        }
      ]
    },
    {
      "cell_type": "code",
      "metadata": {
        "id": "mFSUAFonN2ht",
        "colab_type": "code",
        "outputId": "782b23b7-2afd-4cde-e4a1-46a54479065f",
        "colab": {
          "base_uri": "https://localhost:8080/",
          "height": 35
        }
      },
      "source": [
        "window_size=5\n",
        "y=[]\n",
        "for i in range (0,len(list_)-window_size):\n",
        "  x=list_[i:i+window_size]\n",
        "  y.append(x)\n",
        "print(len(y),y[0])\n"
      ],
      "execution_count": 10,
      "outputs": [
        {
          "output_type": "stream",
          "text": [
            "25422 [0.691358024691358, 0.7160493827160492, 0.7160493827160492, 0.7037037037037037, 0.7407407407407407]\n"
          ],
          "name": "stdout"
        }
      ]
    },
    {
      "cell_type": "code",
      "metadata": {
        "id": "jOkLjiONN_dz",
        "colab_type": "code",
        "outputId": "b4731596-e44d-4b92-9fde-681e69870295",
        "colab": {
          "base_uri": "https://localhost:8080/",
          "height": 381
        }
      },
      "source": [
        "matrix=np.matrix(y)\n",
        "print(matrix.shape)\n",
        "new_data = pd.DataFrame(matrix,columns=['x1','x2','x3','x4','y'])\n",
        "new_data.head(10)\n"
      ],
      "execution_count": 11,
      "outputs": [
        {
          "output_type": "stream",
          "text": [
            "(25422, 5)\n"
          ],
          "name": "stdout"
        },
        {
          "output_type": "execute_result",
          "data": {
            "text/html": [
              "<div>\n",
              "<style scoped>\n",
              "    .dataframe tbody tr th:only-of-type {\n",
              "        vertical-align: middle;\n",
              "    }\n",
              "\n",
              "    .dataframe tbody tr th {\n",
              "        vertical-align: top;\n",
              "    }\n",
              "\n",
              "    .dataframe thead th {\n",
              "        text-align: right;\n",
              "    }\n",
              "</style>\n",
              "<table border=\"1\" class=\"dataframe\">\n",
              "  <thead>\n",
              "    <tr style=\"text-align: right;\">\n",
              "      <th></th>\n",
              "      <th>x1</th>\n",
              "      <th>x2</th>\n",
              "      <th>x3</th>\n",
              "      <th>x4</th>\n",
              "      <th>y</th>\n",
              "    </tr>\n",
              "  </thead>\n",
              "  <tbody>\n",
              "    <tr>\n",
              "      <th>0</th>\n",
              "      <td>0.691358</td>\n",
              "      <td>0.716049</td>\n",
              "      <td>0.716049</td>\n",
              "      <td>0.703704</td>\n",
              "      <td>0.740741</td>\n",
              "    </tr>\n",
              "    <tr>\n",
              "      <th>1</th>\n",
              "      <td>0.716049</td>\n",
              "      <td>0.716049</td>\n",
              "      <td>0.703704</td>\n",
              "      <td>0.740741</td>\n",
              "      <td>0.740741</td>\n",
              "    </tr>\n",
              "    <tr>\n",
              "      <th>2</th>\n",
              "      <td>0.716049</td>\n",
              "      <td>0.703704</td>\n",
              "      <td>0.740741</td>\n",
              "      <td>0.740741</td>\n",
              "      <td>0.691358</td>\n",
              "    </tr>\n",
              "    <tr>\n",
              "      <th>3</th>\n",
              "      <td>0.703704</td>\n",
              "      <td>0.740741</td>\n",
              "      <td>0.740741</td>\n",
              "      <td>0.691358</td>\n",
              "      <td>0.728395</td>\n",
              "    </tr>\n",
              "    <tr>\n",
              "      <th>4</th>\n",
              "      <td>0.740741</td>\n",
              "      <td>0.740741</td>\n",
              "      <td>0.691358</td>\n",
              "      <td>0.728395</td>\n",
              "      <td>0.728395</td>\n",
              "    </tr>\n",
              "    <tr>\n",
              "      <th>5</th>\n",
              "      <td>0.740741</td>\n",
              "      <td>0.691358</td>\n",
              "      <td>0.728395</td>\n",
              "      <td>0.728395</td>\n",
              "      <td>0.765432</td>\n",
              "    </tr>\n",
              "    <tr>\n",
              "      <th>6</th>\n",
              "      <td>0.691358</td>\n",
              "      <td>0.728395</td>\n",
              "      <td>0.728395</td>\n",
              "      <td>0.765432</td>\n",
              "      <td>0.827160</td>\n",
              "    </tr>\n",
              "    <tr>\n",
              "      <th>7</th>\n",
              "      <td>0.728395</td>\n",
              "      <td>0.728395</td>\n",
              "      <td>0.765432</td>\n",
              "      <td>0.827160</td>\n",
              "      <td>0.901235</td>\n",
              "    </tr>\n",
              "    <tr>\n",
              "      <th>8</th>\n",
              "      <td>0.728395</td>\n",
              "      <td>0.765432</td>\n",
              "      <td>0.827160</td>\n",
              "      <td>0.901235</td>\n",
              "      <td>0.962963</td>\n",
              "    </tr>\n",
              "    <tr>\n",
              "      <th>9</th>\n",
              "      <td>0.765432</td>\n",
              "      <td>0.827160</td>\n",
              "      <td>0.901235</td>\n",
              "      <td>0.962963</td>\n",
              "      <td>0.962963</td>\n",
              "    </tr>\n",
              "  </tbody>\n",
              "</table>\n",
              "</div>"
            ],
            "text/plain": [
              "         x1        x2        x3        x4         y\n",
              "0  0.691358  0.716049  0.716049  0.703704  0.740741\n",
              "1  0.716049  0.716049  0.703704  0.740741  0.740741\n",
              "2  0.716049  0.703704  0.740741  0.740741  0.691358\n",
              "3  0.703704  0.740741  0.740741  0.691358  0.728395\n",
              "4  0.740741  0.740741  0.691358  0.728395  0.728395\n",
              "5  0.740741  0.691358  0.728395  0.728395  0.765432\n",
              "6  0.691358  0.728395  0.728395  0.765432  0.827160\n",
              "7  0.728395  0.728395  0.765432  0.827160  0.901235\n",
              "8  0.728395  0.765432  0.827160  0.901235  0.962963\n",
              "9  0.765432  0.827160  0.901235  0.962963  0.962963"
            ]
          },
          "metadata": {
            "tags": []
          },
          "execution_count": 11
        }
      ]
    },
    {
      "cell_type": "code",
      "metadata": {
        "id": "0Z5frRmicq9M",
        "colab_type": "code",
        "outputId": "1e38626a-0d60-4465-bc0a-03d61b5f5ce4",
        "colab": {
          "base_uri": "https://localhost:8080/",
          "height": 146
        }
      },
      "source": [
        "print(matrix[:,4])"
      ],
      "execution_count": 12,
      "outputs": [
        {
          "output_type": "stream",
          "text": [
            "[[0.74074074]\n",
            " [0.74074074]\n",
            " [0.69135802]\n",
            " ...\n",
            " [0.22222222]\n",
            " [0.20987654]\n",
            " [0.22222222]]\n"
          ],
          "name": "stdout"
        }
      ]
    },
    {
      "cell_type": "code",
      "metadata": {
        "id": "SG1fsHWxOPTk",
        "colab_type": "code",
        "outputId": "2775a1dc-7045-40e5-cf60-bbed3004a462",
        "colab": {
          "base_uri": "https://localhost:8080/",
          "height": 109
        }
      },
      "source": [
        "from sklearn import linear_model\n",
        "from sklearn.model_selection import train_test_split\n",
        "from sklearn.metrics import r2_score\n",
        "from sklearn.metrics import mean_squared_error\n",
        "X_train, X_test, y_train, y_test = train_test_split(matrix[:,0:4],matrix[:,4],test_size=0.33, random_state=42)\n",
        "lm =linear_model.LinearRegression()\n",
        "model = lm.fit(X_train,y_train)\n",
        "prediction=model.predict(X_test)\n",
        "joblib.dump(model,'linear_regressor_Rout.pkl')\n",
        "from google.colab import files\n",
        "files.download('linear_regressor_Rout.pkl')\n",
        "print(prediction.shape,prediction[0:5])"
      ],
      "execution_count": 13,
      "outputs": [
        {
          "output_type": "stream",
          "text": [
            "(8390, 1) [[0.21760281]\n",
            " [0.13295884]\n",
            " [0.19870452]\n",
            " [0.22800954]\n",
            " [0.18483533]]\n"
          ],
          "name": "stdout"
        }
      ]
    },
    {
      "cell_type": "code",
      "metadata": {
        "id": "bye3z6vaOvbl",
        "colab_type": "code",
        "outputId": "ccd4b232-3400-4c73-c8cd-7c4e48e8723a",
        "colab": {
          "base_uri": "https://localhost:8080/",
          "height": 72
        }
      },
      "source": [
        "print(model.score(X_train,y_train))\n",
        "print(model.intercept_)\n",
        "print(model.coef_)"
      ],
      "execution_count": 14,
      "outputs": [
        {
          "output_type": "stream",
          "text": [
            "0.9173699447538057\n",
            "[0.01087671]\n",
            "[[ 0.10591088 -0.13999482  0.0324895   0.95889285]]\n"
          ],
          "name": "stdout"
        }
      ]
    },
    {
      "cell_type": "code",
      "metadata": {
        "id": "K9AvmWqwO0h1",
        "colab_type": "code",
        "outputId": "4e64f727-f940-40e4-95bb-85abf845794a",
        "colab": {
          "base_uri": "https://localhost:8080/",
          "height": 72
        }
      },
      "source": [
        "print('mean squared eror : ',mean_squared_error(y_test,prediction))\n",
        "from sklearn.metrics import mean_absolute_error\n",
        "print('absolute mean error : ', mean_absolute_error(y_test,prediction))\n",
        "print(r2_score(y_test,prediction))"
      ],
      "execution_count": 15,
      "outputs": [
        {
          "output_type": "stream",
          "text": [
            "mean squared eror :  0.0024960864297079908\n",
            "absolute mean error :  0.03250412248094966\n",
            "0.9228585809125677\n"
          ],
          "name": "stdout"
        }
      ]
    },
    {
      "cell_type": "code",
      "metadata": {
        "id": "7ZFxbkZwIfsr",
        "colab_type": "code",
        "outputId": "a4fb402e-542f-495b-d688-bd83a7102b46",
        "colab": {
          "base_uri": "https://localhost:8080/",
          "height": 281
        }
      },
      "source": [
        "plt.plot(y_test[0:100], color = 'black', label = 'TRUTH')\n",
        "plt.plot(prediction[0:100], color = 'green', label = 'PREDICTION')\n",
        "plt.title('Linear regression PERFORMANCE ON TEST SET after removing outliers')\n",
        "plt.ylabel('PM2.5')\n",
        "plt.legend()\n",
        "plt.show()"
      ],
      "execution_count": 16,
      "outputs": [
        {
          "output_type": "display_data",
          "data": {
            "image/png": "[encoded data removed]",
            "text/plain": [
              "<Figure size 432x288 with 1 Axes>"
            ]
          },
          "metadata": {
            "tags": [],
            "needs_background": "light"
          }
        }
      ]
    },
    {
      "cell_type": "code",
      "metadata": {
        "id": "J3NSycPY02mb",
        "colab_type": "code",
        "outputId": "e534eaa2-3958-47aa-fb9d-9a3e3e660939",
        "colab": {
          "base_uri": "https://localhost:8080/",
          "height": 520
        }
      },
      "source": [
        "# IMPLEMENTING LINEAR REGRESSION WITHOUT REMOVING OUTLIERS\n",
        "df=data_101['PM2.5']\n",
        "df=df.values\n",
        "df=df.reshape(df.shape[0],1)\n",
        "print(df.shape)\n",
        "from sklearn import preprocessing\n",
        "min_max_scaler = preprocessing.MinMaxScaler()\n",
        "df_scaled = min_max_scaler.fit_transform(df)\n",
        "print(min(df),max(df))\n",
        "list_=[]\n",
        "for i in range (0,df_scaled.shape[0]):\n",
        "  list_.append(df_scaled[i][0])\n",
        "print(len(list_))\n",
        "print(min(list_),max(list_))\n",
        "window_size=5\n",
        "y=[]\n",
        "for i in range (0,len(list_)-window_size):\n",
        "  x=list_[i:i+window_size]\n",
        "  y.append(x)\n",
        "print(len(y),y[0])\n",
        "matrix= np.matrix(y)\n",
        "from sklearn import linear_model\n",
        "from sklearn.model_selection import train_test_split\n",
        "from sklearn.metrics import r2_score\n",
        "from sklearn.metrics import mean_squared_error\n",
        "X_train, X_test, y_train, y_test = train_test_split(matrix[:,0:4],matrix[:,4],test_size=0.33, random_state=42)\n",
        "lm =linear_model.LinearRegression()\n",
        "model = lm.fit(X_train,y_train)\n",
        "prediction=model.predict(X_test)\n",
        "joblib.dump(model,'linear_regressor.pkl')\n",
        "from google.colab import files\n",
        "files.download('linear_regressor.pkl')\n",
        "print(prediction.shape,prediction[0:5])\n",
        "print('mean squared eror : ',mean_squared_error(y_test,prediction))\n",
        "from sklearn.metrics import mean_absolute_error\n",
        "print('absolute mean error : ', mean_absolute_error(y_test,prediction))\n",
        "print(r2_score(y_test,prediction))\n",
        "plt.plot(y_test[0:100], color = 'black', label = 'TRUTH')\n",
        "plt.plot(prediction[0:100], color = 'green', label = 'PREDICTION')\n",
        "plt.title('Linear regression PERFORMANCE ON TEST SET')\n",
        "plt.ylabel('PM2.5')\n",
        "plt.legend()\n",
        "plt.show()"
      ],
      "execution_count": 17,
      "outputs": [
        {
          "output_type": "stream",
          "text": [
            "(25797, 1)\n",
            "[1.] [513.]\n",
            "25797\n",
            "0.0 1.0\n",
            "25792 [0.109375, 0.11328125, 0.11328125, 0.111328125, 0.1171875]\n",
            "(8512, 1) [[0.04743622]\n",
            " [0.03265948]\n",
            " [0.02008934]\n",
            " [0.03600668]\n",
            " [0.03006051]]\n",
            "mean squared eror :  0.0006997391083211256\n",
            "absolute mean error :  0.008362847499441566\n",
            "0.5610825678965272\n"
          ],
          "name": "stdout"
        },
        {
          "output_type": "display_data",
          "data": {
            "image/png": "[encoded data removed]",
            "text/plain": [
              "<Figure size 432x288 with 1 Axes>"
            ]
          },
          "metadata": {
            "tags": [],
            "needs_background": "light"
          }
        }
      ]
    },
    {
      "cell_type": "code",
      "metadata": {
        "id": "hrZqAjEyGnIN",
        "colab_type": "code",
        "outputId": "8a67fd42-06d0-470c-f18f-67f33310fa88",
        "colab": {
          "base_uri": "https://localhost:8080/",
          "height": 129
        }
      },
      "source": [
        "# BAYESIAN RIDGE REGRESSION\n",
        "from sklearn import linear_model\n",
        "from statsmodels.tsa.ar_model import AR\n",
        "model = linear_model.BayesianRidge()\n",
        "\n",
        "model.fit(X_train,y_train )\n",
        "prediction=model.predict(X_test)\n",
        "joblib.dump(model,'bayesian_regressor.pkl')\n",
        "from google.colab import files\n",
        "files.download('bayesian_regressor.pkl')\n",
        "print('mean squared eror : ',mean_squared_error(y_test,prediction))\n",
        "from sklearn.metrics import mean_absolute_error\n",
        "print('absolute mean error : ', mean_absolute_error(y_test,prediction))\n",
        "\n",
        "print(r2_score(y_test,prediction))"
      ],
      "execution_count": 18,
      "outputs": [
        {
          "output_type": "stream",
          "text": [
            "/usr/local/lib/python3.6/dist-packages/sklearn/utils/validation.py:760: DataConversionWarning: A column-vector y was passed when a 1d array was expected. Please change the shape of y to (n_samples, ), for example using ravel().\n",
            "  y = column_or_1d(y, warn=True)\n"
          ],
          "name": "stderr"
        },
        {
          "output_type": "stream",
          "text": [
            "mean squared eror :  0.0006997164262189205\n",
            "absolute mean error :  0.00836446986512085\n",
            "0.5610967954421028\n"
          ],
          "name": "stdout"
        }
      ]
    },
    {
      "cell_type": "code",
      "metadata": {
        "id": "crUrc4mjO8uL",
        "colab_type": "code",
        "outputId": "0cb763c1-5f28-4f14-a5d5-874f0e2fb6cf",
        "colab": {
          "base_uri": "https://localhost:8080/",
          "height": 109
        }
      },
      "source": [
        "# IMLEMENTING  RANDOM FOREST ALGORITHM\n",
        "from sklearn.ensemble import RandomForestRegressor\n",
        "model= RandomForestRegressor(max_depth=8, random_state=0)\n",
        "model.fit(X_train,y_train)\n",
        "prediction=model.predict(X_test)\n",
        "joblib.dump(model,'randomforest_regressor.pkl')\n",
        "print('mean squared eror : ',mean_squared_error(y_test,prediction))\n",
        "from sklearn.metrics import mean_absolute_error\n",
        "print('absolute mean error : ', mean_absolute_error(y_test,prediction))\n",
        "print(r2_score(y_test,prediction))"
      ],
      "execution_count": 19,
      "outputs": [
        {
          "output_type": "stream",
          "text": [
            "/usr/local/lib/python3.6/dist-packages/ipykernel_launcher.py:4: DataConversionWarning: A column-vector y was passed when a 1d array was expected. Please change the shape of y to (n_samples,), for example using ravel().\n",
            "  after removing the cwd from sys.path.\n"
          ],
          "name": "stderr"
        },
        {
          "output_type": "stream",
          "text": [
            "mean squared eror :  0.0005316264772427601\n",
            "absolute mean error :  0.006726623195879123\n",
            "0.6665326756004002\n"
          ],
          "name": "stdout"
        }
      ]
    },
    {
      "cell_type": "code",
      "metadata": {
        "id": "KAVNYF_yJXRN",
        "colab_type": "code",
        "outputId": "a18d9d91-4c41-4826-961f-7242d3104940",
        "colab": {
          "base_uri": "https://localhost:8080/",
          "height": 501
        }
      },
      "source": [
        "plt.plot(y_test[0:100], color = 'black', label = 'TRUTH')\n",
        "plt.plot(prediction[0:100], color = 'green', label = 'PREDICTION')\n",
        "plt.title('Random forest regression PERFORMANCE ON TEST SET')\n",
        "plt.ylabel('PM2.5')\n",
        "plt.legend()\n",
        "plt.show()\n",
        "print('truth : ',y_test[0:10])\n",
        "print('prediction : ',prediction[0:10])"
      ],
      "execution_count": 20,
      "outputs": [
        {
          "output_type": "display_data",
          "data": {
            "image/png": "[encoded data removed]",
            "text/plain": [
              "<Figure size 432x288 with 1 Axes>"
            ]
          },
          "metadata": {
            "tags": [],
            "needs_background": "light"
          }
        },
        {
          "output_type": "stream",
          "text": [
            "truth :  [[0.0546875 ]\n",
            " [0.03515625]\n",
            " [0.01953125]\n",
            " [0.02929688]\n",
            " [0.0234375 ]\n",
            " [0.05859375]\n",
            " [0.04492188]\n",
            " [0.01367188]\n",
            " [0.06445312]\n",
            " [0.02929688]]\n",
            "prediction :  [0.04900865 0.03366323 0.01857604 0.04108965 0.02958072 0.05278713\n",
            " 0.04838327 0.01352905 0.06509421 0.03160184]\n"
          ],
          "name": "stdout"
        }
      ]
    },
    {
      "cell_type": "code",
      "metadata": {
        "id": "s9oOYdsvFVAz",
        "colab_type": "code",
        "outputId": "b20b96ba-862f-4136-d75e-a1cc75a91182",
        "colab": {
          "base_uri": "https://localhost:8080/",
          "height": 72
        }
      },
      "source": [
        "# RIDGE REGRESSION\n",
        "from sklearn.linear_model import Ridge\n",
        "model = Ridge(alpha=1.0)\n",
        "model.fit(X_train,y_train)\n",
        "prediction=model.predict(X_test)\n",
        "joblib.dump(model,'ridge_regressor.pkl')\n",
        "from google.colab import files\n",
        "files.download('ridge_regressor.pkl')\n",
        "print(mean_squared_error(y_test,prediction))\n",
        "print(mean_absolute_error(y_test,prediction))\n",
        "print(r2_score(y_test,prediction))\n"
      ],
      "execution_count": 21,
      "outputs": [
        {
          "output_type": "stream",
          "text": [
            "0.0006977050264059438\n",
            "0.008570884016938167\n",
            "0.562358463441428\n"
          ],
          "name": "stdout"
        }
      ]
    },
    {
      "cell_type": "code",
      "metadata": {
        "id": "08afymABtSx4",
        "colab_type": "code",
        "outputId": "f6c7f67c-1c42-44a9-89de-13ee964298b2",
        "colab": {
          "base_uri": "https://localhost:8080/",
          "height": 166
        }
      },
      "source": [
        "# IMPLEMENTING SUPPORT VECTOR\n",
        "from sklearn.svm import LinearSVR\n",
        "model= LinearSVR()\n",
        "model.fit(X_train,y_train)\n",
        "prediction=model.predict(X_test)\n",
        "print('mean squared eror : ',mean_squared_error(y_test,prediction))\n",
        "from sklearn.metrics import mean_absolute_error\n",
        "print('absolute mean error : ', mean_absolute_error(y_test,prediction))\n",
        "print(r2_score(y_test,prediction))"
      ],
      "execution_count": 22,
      "outputs": [
        {
          "output_type": "stream",
          "text": [
            "/usr/local/lib/python3.6/dist-packages/sklearn/utils/validation.py:760: DataConversionWarning: A column-vector y was passed when a 1d array was expected. Please change the shape of y to (n_samples, ), for example using ravel().\n",
            "  y = column_or_1d(y, warn=True)\n"
          ],
          "name": "stderr"
        },
        {
          "output_type": "stream",
          "text": [
            "mean squared eror :  0.0008882965939460014\n",
            "absolute mean error :  0.006981780724284423\n",
            "0.44280824763890203\n"
          ],
          "name": "stdout"
        },
        {
          "output_type": "stream",
          "text": [
            "/usr/local/lib/python3.6/dist-packages/sklearn/svm/_base.py:947: ConvergenceWarning: Liblinear failed to converge, increase the number of iterations.\n",
            "  \"the number of iterations.\", ConvergenceWarning)\n"
          ],
          "name": "stderr"
        }
      ]
    },
    {
      "cell_type": "code",
      "metadata": {
        "id": "LFR-uIKhMIPs",
        "colab_type": "code",
        "outputId": "53bcc6b3-774d-46ff-804a-4c443c5b0e1d",
        "colab": {
          "base_uri": "https://localhost:8080/",
          "height": 281
        }
      },
      "source": [
        "plt.plot(y_test[0:100], color = 'black', label = 'TRUTH')\n",
        "plt.plot(prediction[0:100], color = 'green', label = 'PREDICTION')\n",
        "plt.title('SVM regression PERFORMANCE ON TEST SET')\n",
        "plt.ylabel('PM2.5')\n",
        "plt.legend()\n",
        "plt.show()"
      ],
      "execution_count": 23,
      "outputs": [
        {
          "output_type": "display_data",
          "data": {
            "image/png": "[encoded data removed]",
            "text/plain": [
              "<Figure size 432x288 with 1 Axes>"
            ]
          },
          "metadata": {
            "tags": [],
            "needs_background": "light"
          }
        }
      ]
    },
    {
      "cell_type": "code",
      "metadata": {
        "id": "tUpcjRA2hCQz",
        "colab_type": "code",
        "outputId": "201e8fea-7c3b-4c95-fc8c-02f6a1311e27",
        "colab": {
          "base_uri": "https://localhost:8080/",
          "height": 1000
        }
      },
      "source": [
        "# IMPLEMENTING A NEURAL NETWORK\n",
        "from sklearn.preprocessing import StandardScaler\n",
        "#sc = StandardScaler()\n",
        "#X = sc.fit_transform(X)\n",
        "import keras\n",
        "from keras.models import Sequential\n",
        "from keras.layers import Dense\n",
        "# Neural network\n",
        "model = Sequential()\n",
        "model.add(Dense(64, input_dim=4, activation='relu'))\n",
        "model.add(Dense(128, input_dim=4, activation='relu'))\n",
        "model.add(Dense(512, activation='relu'))\n",
        "model.add(Dense(1, activation='relu'))\n",
        "\n",
        "\n",
        "model.compile(optimizer = \"adam\", loss ='mse', \n",
        "          metrics =[\"accuracy\"])\n",
        "history = model.fit(X_train, y_train, epochs=100, batch_size=32)"
      ],
      "execution_count": 24,
      "outputs": [
        {
          "output_type": "stream",
          "text": [
            "Epoch 1/100\n",
            "17280/17280 [==============================] - 4s 218us/step - loss: 0.0033 - accuracy: 0.0042\n",
            "Epoch 2/100\n",
            "17280/17280 [==============================] - 2s 122us/step - loss: 0.0033 - accuracy: 0.0042\n",
            "Epoch 3/100\n",
            "17280/17280 [==============================] - 2s 121us/step - loss: 0.0033 - accuracy: 0.0042\n",
            "Epoch 4/100\n",
            "17280/17280 [==============================] - 2s 119us/step - loss: 0.0033 - accuracy: 0.0042\n",
            "Epoch 5/100\n",
            "17280/17280 [==============================] - 2s 120us/step - loss: 0.0033 - accuracy: 0.0042\n",
            "Epoch 6/100\n",
            "17280/17280 [==============================] - 2s 119us/step - loss: 0.0033 - accuracy: 0.0042\n",
            "Epoch 7/100\n",
            "17280/17280 [==============================] - 2s 122us/step - loss: 0.0033 - accuracy: 0.0042\n",
            "Epoch 8/100\n",
            "17280/17280 [==============================] - 2s 121us/step - loss: 0.0033 - accuracy: 0.0042\n",
            "Epoch 9/100\n",
            "17280/17280 [==============================] - 2s 120us/step - loss: 0.0033 - accuracy: 0.0042\n",
            "Epoch 10/100\n",
            "17280/17280 [==============================] - 2s 118us/step - loss: 0.0033 - accuracy: 0.0042\n",
            "Epoch 11/100\n",
            "17280/17280 [==============================] - 2s 123us/step - loss: 0.0033 - accuracy: 0.0042\n",
            "Epoch 12/100\n",
            "17280/17280 [==============================] - 2s 120us/step - loss: 0.0033 - accuracy: 0.0042\n",
            "Epoch 13/100\n",
            "17280/17280 [==============================] - 2s 120us/step - loss: 0.0033 - accuracy: 0.0042\n",
            "Epoch 14/100\n",
            "17280/17280 [==============================] - 2s 118us/step - loss: 0.0033 - accuracy: 0.0042\n",
            "Epoch 15/100\n",
            "17280/17280 [==============================] - 2s 118us/step - loss: 0.0033 - accuracy: 0.0042\n",
            "Epoch 16/100\n",
            "17280/17280 [==============================] - 2s 118us/step - loss: 0.0033 - accuracy: 0.0042\n",
            "Epoch 17/100\n",
            "17280/17280 [==============================] - 2s 118us/step - loss: 0.0033 - accuracy: 0.0042\n",
            "Epoch 18/100\n",
            "17280/17280 [==============================] - 2s 118us/step - loss: 0.0033 - accuracy: 0.0042\n",
            "Epoch 19/100\n",
            "17280/17280 [==============================] - 2s 118us/step - loss: 0.0033 - accuracy: 0.0042\n",
            "Epoch 20/100\n",
            "17280/17280 [==============================] - 2s 119us/step - loss: 0.0033 - accuracy: 0.0042\n",
            "Epoch 21/100\n",
            "17280/17280 [==============================] - 2s 119us/step - loss: 0.0033 - accuracy: 0.0042\n",
            "Epoch 22/100\n",
            "17280/17280 [==============================] - 2s 119us/step - loss: 0.0033 - accuracy: 0.0042\n",
            "Epoch 23/100\n",
            "17280/17280 [==============================] - 2s 119us/step - loss: 0.0033 - accuracy: 0.0042\n",
            "Epoch 24/100\n",
            "17280/17280 [==============================] - 2s 120us/step - loss: 0.0033 - accuracy: 0.0042\n",
            "Epoch 25/100\n",
            "17280/17280 [==============================] - 2s 121us/step - loss: 0.0033 - accuracy: 0.0042\n",
            "Epoch 26/100\n",
            "17280/17280 [==============================] - 2s 118us/step - loss: 0.0033 - accuracy: 0.0042\n",
            "Epoch 27/100\n",
            "17280/17280 [==============================] - 2s 121us/step - loss: 0.0033 - accuracy: 0.0042\n",
            "Epoch 28/100\n",
            "17280/17280 [==============================] - 2s 119us/step - loss: 0.0033 - accuracy: 0.0042\n",
            "Epoch 29/100\n",
            "17280/17280 [==============================] - 2s 119us/step - loss: 0.0033 - accuracy: 0.0042\n",
            "Epoch 30/100\n",
            "17280/17280 [==============================] - 2s 119us/step - loss: 0.0033 - accuracy: 0.0042\n",
            "Epoch 31/100\n",
            "17280/17280 [==============================] - 2s 118us/step - loss: 0.0033 - accuracy: 0.0042\n",
            "Epoch 32/100\n",
            "17280/17280 [==============================] - 2s 121us/step - loss: 0.0033 - accuracy: 0.0042\n",
            "Epoch 33/100\n",
            "17280/17280 [==============================] - 2s 118us/step - loss: 0.0033 - accuracy: 0.0042\n",
            "Epoch 34/100\n",
            "17280/17280 [==============================] - 2s 117us/step - loss: 0.0033 - accuracy: 0.0042\n",
            "Epoch 35/100\n",
            "17280/17280 [==============================] - 2s 118us/step - loss: 0.0033 - accuracy: 0.0042\n",
            "Epoch 36/100\n",
            "17280/17280 [==============================] - 2s 118us/step - loss: 0.0033 - accuracy: 0.0042\n",
            "Epoch 37/100\n",
            "17280/17280 [==============================] - 2s 118us/step - loss: 0.0033 - accuracy: 0.0042\n",
            "Epoch 38/100\n",
            "17280/17280 [==============================] - 2s 121us/step - loss: 0.0033 - accuracy: 0.0042\n",
            "Epoch 39/100\n",
            "17280/17280 [==============================] - 2s 120us/step - loss: 0.0033 - accuracy: 0.0042\n",
            "Epoch 40/100\n",
            "17280/17280 [==============================] - 2s 119us/step - loss: 0.0033 - accuracy: 0.0042\n",
            "Epoch 41/100\n",
            "17280/17280 [==============================] - 2s 119us/step - loss: 0.0033 - accuracy: 0.0042\n",
            "Epoch 42/100\n",
            "17280/17280 [==============================] - 2s 127us/step - loss: 0.0033 - accuracy: 0.0042\n",
            "Epoch 43/100\n",
            "17280/17280 [==============================] - 2s 125us/step - loss: 0.0033 - accuracy: 0.0042\n",
            "Epoch 44/100\n",
            "17280/17280 [==============================] - 2s 131us/step - loss: 0.0033 - accuracy: 0.0042\n",
            "Epoch 45/100\n",
            "17280/17280 [==============================] - 2s 135us/step - loss: 0.0033 - accuracy: 0.0042\n",
            "Epoch 46/100\n",
            "17280/17280 [==============================] - 2s 129us/step - loss: 0.0033 - accuracy: 0.0042\n",
            "Epoch 47/100\n",
            "17280/17280 [==============================] - 2s 118us/step - loss: 0.0033 - accuracy: 0.0042\n",
            "Epoch 48/100\n",
            "17280/17280 [==============================] - 2s 119us/step - loss: 0.0033 - accuracy: 0.0042\n",
            "Epoch 49/100\n",
            "17280/17280 [==============================] - 2s 119us/step - loss: 0.0033 - accuracy: 0.0042\n",
            "Epoch 50/100\n",
            "17280/17280 [==============================] - 2s 120us/step - loss: 0.0033 - accuracy: 0.0042\n",
            "Epoch 51/100\n",
            "17280/17280 [==============================] - 2s 119us/step - loss: 0.0033 - accuracy: 0.0042\n",
            "Epoch 52/100\n",
            "17280/17280 [==============================] - 2s 118us/step - loss: 0.0033 - accuracy: 0.0042\n",
            "Epoch 53/100\n",
            "17280/17280 [==============================] - 2s 120us/step - loss: 0.0033 - accuracy: 0.0042\n",
            "Epoch 54/100\n",
            "17280/17280 [==============================] - 2s 120us/step - loss: 0.0033 - accuracy: 0.0042\n",
            "Epoch 55/100\n",
            "17280/17280 [==============================] - 2s 119us/step - loss: 0.0033 - accuracy: 0.0042\n",
            "Epoch 56/100\n",
            "17280/17280 [==============================] - 2s 119us/step - loss: 0.0033 - accuracy: 0.0042\n",
            "Epoch 57/100\n",
            "17280/17280 [==============================] - 2s 117us/step - loss: 0.0033 - accuracy: 0.0042\n",
            "Epoch 58/100\n",
            "17280/17280 [==============================] - 2s 121us/step - loss: 0.0033 - accuracy: 0.0042\n",
            "Epoch 59/100\n",
            "17280/17280 [==============================] - 2s 122us/step - loss: 0.0033 - accuracy: 0.0042\n",
            "Epoch 60/100\n",
            "17280/17280 [==============================] - 2s 120us/step - loss: 0.0033 - accuracy: 0.0042\n",
            "Epoch 61/100\n",
            "17280/17280 [==============================] - 2s 121us/step - loss: 0.0033 - accuracy: 0.0042\n",
            "Epoch 62/100\n",
            "17280/17280 [==============================] - 2s 119us/step - loss: 0.0033 - accuracy: 0.0042\n",
            "Epoch 63/100\n",
            "17280/17280 [==============================] - 2s 120us/step - loss: 0.0033 - accuracy: 0.0042\n",
            "Epoch 64/100\n",
            "17280/17280 [==============================] - 2s 118us/step - loss: 0.0033 - accuracy: 0.0042\n",
            "Epoch 65/100\n",
            "17280/17280 [==============================] - 2s 118us/step - loss: 0.0033 - accuracy: 0.0042\n",
            "Epoch 66/100\n",
            "17280/17280 [==============================] - 2s 118us/step - loss: 0.0033 - accuracy: 0.0042\n",
            "Epoch 67/100\n",
            "17280/17280 [==============================] - 2s 117us/step - loss: 0.0033 - accuracy: 0.0042\n",
            "Epoch 68/100\n",
            "17280/17280 [==============================] - 2s 118us/step - loss: 0.0033 - accuracy: 0.0042\n",
            "Epoch 69/100\n",
            "17280/17280 [==============================] - 2s 121us/step - loss: 0.0033 - accuracy: 0.0042\n",
            "Epoch 70/100\n",
            "17280/17280 [==============================] - 2s 118us/step - loss: 0.0033 - accuracy: 0.0042\n",
            "Epoch 71/100\n",
            "17280/17280 [==============================] - 2s 117us/step - loss: 0.0033 - accuracy: 0.0042\n",
            "Epoch 72/100\n",
            "17280/17280 [==============================] - 2s 118us/step - loss: 0.0033 - accuracy: 0.0042\n",
            "Epoch 73/100\n",
            "17280/17280 [==============================] - 2s 117us/step - loss: 0.0033 - accuracy: 0.0042\n",
            "Epoch 74/100\n",
            "17280/17280 [==============================] - 2s 117us/step - loss: 0.0033 - accuracy: 0.0042\n",
            "Epoch 75/100\n",
            "17280/17280 [==============================] - 2s 116us/step - loss: 0.0033 - accuracy: 0.0042\n",
            "Epoch 76/100\n",
            "17280/17280 [==============================] - 2s 117us/step - loss: 0.0033 - accuracy: 0.0042\n",
            "Epoch 77/100\n",
            "17280/17280 [==============================] - 2s 117us/step - loss: 0.0033 - accuracy: 0.0042\n",
            "Epoch 78/100\n",
            "17280/17280 [==============================] - 2s 116us/step - loss: 0.0033 - accuracy: 0.0042\n",
            "Epoch 79/100\n",
            "17280/17280 [==============================] - 2s 118us/step - loss: 0.0033 - accuracy: 0.0042\n",
            "Epoch 80/100\n",
            "17280/17280 [==============================] - 2s 118us/step - loss: 0.0033 - accuracy: 0.0042\n",
            "Epoch 81/100\n",
            "17280/17280 [==============================] - 2s 117us/step - loss: 0.0033 - accuracy: 0.0042\n",
            "Epoch 82/100\n",
            "17280/17280 [==============================] - 2s 117us/step - loss: 0.0033 - accuracy: 0.0042\n",
            "Epoch 83/100\n",
            "17280/17280 [==============================] - 2s 116us/step - loss: 0.0033 - accuracy: 0.0042\n",
            "Epoch 84/100\n",
            "17280/17280 [==============================] - 2s 119us/step - loss: 0.0033 - accuracy: 0.0042\n",
            "Epoch 85/100\n",
            "17280/17280 [==============================] - 2s 118us/step - loss: 0.0033 - accuracy: 0.0042\n",
            "Epoch 86/100\n",
            "17280/17280 [==============================] - 2s 117us/step - loss: 0.0033 - accuracy: 0.0042\n",
            "Epoch 87/100\n",
            "17280/17280 [==============================] - 2s 117us/step - loss: 0.0033 - accuracy: 0.0042\n",
            "Epoch 88/100\n",
            "17280/17280 [==============================] - 2s 117us/step - loss: 0.0033 - accuracy: 0.0042\n",
            "Epoch 89/100\n",
            "17280/17280 [==============================] - 2s 119us/step - loss: 0.0033 - accuracy: 0.0042\n",
            "Epoch 90/100\n",
            "17280/17280 [==============================] - 2s 118us/step - loss: 0.0033 - accuracy: 0.0042\n",
            "Epoch 91/100\n",
            "17280/17280 [==============================] - 2s 116us/step - loss: 0.0033 - accuracy: 0.0042\n",
            "Epoch 92/100\n",
            "17280/17280 [==============================] - 2s 118us/step - loss: 0.0033 - accuracy: 0.0042\n",
            "Epoch 93/100\n",
            "17280/17280 [==============================] - 2s 117us/step - loss: 0.0033 - accuracy: 0.0042\n",
            "Epoch 94/100\n",
            "17280/17280 [==============================] - 2s 116us/step - loss: 0.0033 - accuracy: 0.0042\n",
            "Epoch 95/100\n",
            "17280/17280 [==============================] - 2s 119us/step - loss: 0.0033 - accuracy: 0.0042\n",
            "Epoch 96/100\n",
            "17280/17280 [==============================] - 2s 117us/step - loss: 0.0033 - accuracy: 0.0042\n",
            "Epoch 97/100\n",
            "17280/17280 [==============================] - 2s 117us/step - loss: 0.0033 - accuracy: 0.0042\n",
            "Epoch 98/100\n",
            "17280/17280 [==============================] - 2s 118us/step - loss: 0.0033 - accuracy: 0.0042\n",
            "Epoch 99/100\n",
            "17280/17280 [==============================] - 2s 116us/step - loss: 0.0033 - accuracy: 0.0042\n",
            "Epoch 100/100\n",
            "17280/17280 [==============================] - 2s 118us/step - loss: 0.0033 - accuracy: 0.0042\n"
          ],
          "name": "stdout"
        }
      ]
    },
    {
      "cell_type": "code",
      "metadata": {
        "id": "txen3N-yvsAt",
        "colab_type": "code",
        "outputId": "ef0dfba5-eb72-4635-f060-c789138e74f9",
        "colab": {
          "base_uri": "https://localhost:8080/",
          "height": 368
        }
      },
      "source": [
        "print(history.history.keys())\n",
        "# \"Loss\"\n",
        "plt.plot(history.history['loss'])\n",
        "plt.title('model loss')\n",
        "plt.ylabel('loss')\n",
        "plt.xlabel('epoch')\n",
        "plt.legend(['train'], loc='upper left')\n",
        "plt.show()\n",
        "y_pred = model.predict(X_test)\n",
        "print('mean squared error : ',mean_squared_error(y_test,y_pred))\n",
        "print('mean absolute error : ',mean_absolute_error(y_test,prediction))\n",
        "print(r2_score(y_test,prediction))\n",
        "#Converting predictions to label\n"
      ],
      "execution_count": 25,
      "outputs": [
        {
          "output_type": "stream",
          "text": [
            "dict_keys(['loss', 'accuracy'])\n"
          ],
          "name": "stdout"
        },
        {
          "output_type": "display_data",
          "data": {
            "image/png": "[encoded data removed]",
            "text/plain": [
              "<Figure size 432x288 with 1 Axes>"
            ]
          },
          "metadata": {
            "tags": [],
            "needs_background": "light"
          }
        },
        {
          "output_type": "stream",
          "text": [
            "mean squared error :  0.0034245947249849935\n",
            "mean absolute error :  0.006981780724284423\n",
            "0.44280824763890203\n"
          ],
          "name": "stdout"
        }
      ]
    },
    {
      "cell_type": "code",
      "metadata": {
        "id": "kErB8NCcdyHM",
        "colab_type": "code",
        "outputId": "5dc84620-9810-41d5-d138-c6e143868d78",
        "colab": {
          "base_uri": "https://localhost:8080/",
          "height": 281
        }
      },
      "source": [
        "plt.plot(y_test[0:100], color = 'black', label = 'TRUTH')\n",
        "plt.plot(prediction[0:100], color = 'green', label = 'PREDICTION')\n",
        "plt.title('Neural network PERFORMANCE ON TEST SET')\n",
        "plt.ylabel('PM2.5')\n",
        "plt.legend()\n",
        "plt.show()"
      ],
      "execution_count": 26,
      "outputs": [
        {
          "output_type": "display_data",
          "data": {
            "image/png": "[encoded data removed]",
            "text/plain": [
              "<Figure size 432x288 with 1 Axes>"
            ]
          },
          "metadata": {
            "tags": [],
            "needs_background": "light"
          }
        }
      ]
    },
    {
      "cell_type": "code",
      "metadata": {
        "id": "TTfaJJDaHGg9",
        "colab_type": "code",
        "outputId": "5a94901a-e85d-48ce-f0c5-094c52220d15",
        "colab": {
          "base_uri": "https://localhost:8080/",
          "height": 182
        }
      },
      "source": [
        "print(X_train)\n",
        "X_train=np.asarray(X_train)\n",
        "X_test=np.asarray(X_test)\n",
        "y_train=np.asarray(y_train)\n",
        "y_test=np.asarray(y_test)\n",
        "\n",
        "print(X_train.shape)\n",
        "X_train=X_train.reshape(X_train.shape[0],X_train.shape[1],1)\n",
        "print(X_train.shape)"
      ],
      "execution_count": 27,
      "outputs": [
        {
          "output_type": "stream",
          "text": [
            "[[0.02929688 0.02539062 0.02929688 0.02539062]\n",
            " [0.046875   0.06640625 0.05664062 0.0546875 ]\n",
            " [0.13085938 0.12109375 0.11132812 0.09960938]\n",
            " ...\n",
            " [0.05273438 0.046875   0.60351562 0.10742188]\n",
            " [0.02929688 0.02929688 0.02539062 0.02734375]\n",
            " [0.01367188 0.00976562 0.0078125  0.00976562]]\n",
            "(17280, 4)\n",
            "(17280, 4, 1)\n"
          ],
          "name": "stdout"
        }
      ]
    },
    {
      "cell_type": "code",
      "metadata": {
        "id": "FFUuCp8g1vzB",
        "colab_type": "code",
        "outputId": "61c895f6-656b-4874-c332-94268e798c96",
        "colab": {
          "base_uri": "https://localhost:8080/",
          "height": 1000
        }
      },
      "source": [
        "from keras.models import Sequential\n",
        "from keras.layers import Dense\n",
        "from keras.layers import LSTM\n",
        "from keras.layers import Dropout\n",
        "regressor = Sequential()\n",
        "\n",
        "regressor.add(LSTM(units = 50, return_sequences = True, input_shape = (X_train.shape[1], 1)))\n",
        "#regressor.add(Dropout(0.2))\n",
        "\n",
        "regressor.add(LSTM(units = 50, return_sequences = True))\n",
        "#regressor.add(Dropout(0.2))\n",
        "\n",
        "regressor.add(LSTM(units = 50, return_sequences = True))\n",
        "#regressor.add(Dropout(0.2))\n",
        "\n",
        "regressor.add(LSTM(units = 50))\n",
        "#regressor.add(Dropout(0.2))\n",
        "\n",
        "regressor.add(Dense(units = 1))\n",
        "\n",
        "regressor.compile(optimizer = 'adam', loss = 'mean_squared_error')\n",
        "\n",
        "history = regressor.fit(X_train, y_train, epochs = 100, batch_size = 32)"
      ],
      "execution_count": 28,
      "outputs": [
        {
          "output_type": "stream",
          "text": [
            "Epoch 1/100\n",
            "17280/17280 [==============================] - 27s 2ms/step - loss: 8.3199e-04\n",
            "Epoch 2/100\n",
            "17280/17280 [==============================] - 26s 2ms/step - loss: 6.3643e-04\n",
            "Epoch 3/100\n",
            "17280/17280 [==============================] - 26s 1ms/step - loss: 5.5140e-04\n",
            "Epoch 4/100\n",
            "17280/17280 [==============================] - 26s 1ms/step - loss: 5.1276e-04\n",
            "Epoch 5/100\n",
            "17280/17280 [==============================] - 26s 1ms/step - loss: 4.8644e-04\n",
            "Epoch 6/100\n",
            "17280/17280 [==============================] - 26s 2ms/step - loss: 4.7014e-04\n",
            "Epoch 7/100\n",
            "17280/17280 [==============================] - 26s 1ms/step - loss: 4.6363e-04\n",
            "Epoch 8/100\n",
            "17280/17280 [==============================] - 26s 2ms/step - loss: 4.6299e-04\n",
            "Epoch 9/100\n",
            "17280/17280 [==============================] - 26s 2ms/step - loss: 4.5262e-04\n",
            "Epoch 10/100\n",
            "17280/17280 [==============================] - 25s 1ms/step - loss: 4.4966e-04\n",
            "Epoch 11/100\n",
            "17280/17280 [==============================] - 26s 1ms/step - loss: 4.5220e-04\n",
            "Epoch 12/100\n",
            "17280/17280 [==============================] - 26s 2ms/step - loss: 4.4539e-04\n",
            "Epoch 13/100\n",
            "17280/17280 [==============================] - 26s 2ms/step - loss: 4.4378e-04\n",
            "Epoch 14/100\n",
            "17280/17280 [==============================] - 26s 2ms/step - loss: 4.4184e-04\n",
            "Epoch 15/100\n",
            "17280/17280 [==============================] - 26s 2ms/step - loss: 4.3998e-04\n",
            "Epoch 16/100\n",
            "17280/17280 [==============================] - 26s 2ms/step - loss: 4.3734e-04\n",
            "Epoch 17/100\n",
            "17280/17280 [==============================] - 26s 2ms/step - loss: 4.3323e-04\n",
            "Epoch 18/100\n",
            "17280/17280 [==============================] - 26s 2ms/step - loss: 4.3573e-04\n",
            "Epoch 19/100\n",
            "17280/17280 [==============================] - 26s 2ms/step - loss: 4.2889e-04\n",
            "Epoch 20/100\n",
            "17280/17280 [==============================] - 26s 2ms/step - loss: 4.3009e-04\n",
            "Epoch 21/100\n",
            "17280/17280 [==============================] - 26s 2ms/step - loss: 4.3239e-04\n",
            "Epoch 22/100\n",
            "17280/17280 [==============================] - 26s 2ms/step - loss: 4.3306e-04\n",
            "Epoch 23/100\n",
            "17280/17280 [==============================] - 26s 2ms/step - loss: 4.3112e-04\n",
            "Epoch 24/100\n",
            "17280/17280 [==============================] - 26s 2ms/step - loss: 4.2920e-04\n",
            "Epoch 25/100\n",
            "17280/17280 [==============================] - 26s 2ms/step - loss: 4.2624e-04\n",
            "Epoch 26/100\n",
            "17280/17280 [==============================] - 26s 2ms/step - loss: 4.2882e-04\n",
            "Epoch 27/100\n",
            "17280/17280 [==============================] - 26s 2ms/step - loss: 4.2624e-04\n",
            "Epoch 28/100\n",
            "17280/17280 [==============================] - 26s 2ms/step - loss: 4.2679e-04\n",
            "Epoch 29/100\n",
            "17280/17280 [==============================] - 26s 1ms/step - loss: 4.2470e-04\n",
            "Epoch 30/100\n",
            "17280/17280 [==============================] - 26s 1ms/step - loss: 4.2515e-04\n",
            "Epoch 31/100\n",
            "17280/17280 [==============================] - 26s 2ms/step - loss: 4.2450e-04\n",
            "Epoch 32/100\n",
            "17280/17280 [==============================] - 26s 2ms/step - loss: 4.2320e-04\n",
            "Epoch 33/100\n",
            "17280/17280 [==============================] - 26s 2ms/step - loss: 4.2004e-04\n",
            "Epoch 34/100\n",
            "17280/17280 [==============================] - 26s 2ms/step - loss: 4.2378e-04\n",
            "Epoch 35/100\n",
            "17280/17280 [==============================] - 26s 2ms/step - loss: 4.2451e-04\n",
            "Epoch 36/100\n",
            "17280/17280 [==============================] - 26s 2ms/step - loss: 4.2110e-04\n",
            "Epoch 37/100\n",
            "17280/17280 [==============================] - 26s 2ms/step - loss: 4.1861e-04\n",
            "Epoch 38/100\n",
            "17280/17280 [==============================] - 26s 1ms/step - loss: 4.1676e-04\n",
            "Epoch 39/100\n",
            "17280/17280 [==============================] - 26s 1ms/step - loss: 4.2264e-04\n",
            "Epoch 40/100\n",
            "17280/17280 [==============================] - 26s 1ms/step - loss: 4.2135e-04\n",
            "Epoch 41/100\n",
            "17280/17280 [==============================] - 26s 2ms/step - loss: 4.1287e-04\n",
            "Epoch 42/100\n",
            "17280/17280 [==============================] - 26s 2ms/step - loss: 4.2211e-04\n",
            "Epoch 43/100\n",
            "17280/17280 [==============================] - 26s 1ms/step - loss: 4.1943e-04\n",
            "Epoch 44/100\n",
            "17280/17280 [==============================] - 26s 1ms/step - loss: 4.2229e-04\n",
            "Epoch 45/100\n",
            "17280/17280 [==============================] - 26s 1ms/step - loss: 4.1671e-04\n",
            "Epoch 46/100\n",
            "17280/17280 [==============================] - 26s 1ms/step - loss: 4.1525e-04\n",
            "Epoch 47/100\n",
            "17280/17280 [==============================] - 26s 2ms/step - loss: 4.1529e-04\n",
            "Epoch 48/100\n",
            "17280/17280 [==============================] - 26s 2ms/step - loss: 4.1940e-04\n",
            "Epoch 49/100\n",
            "17280/17280 [==============================] - 26s 1ms/step - loss: 4.1554e-04\n",
            "Epoch 50/100\n",
            "17280/17280 [==============================] - 25s 1ms/step - loss: 4.1790e-04\n",
            "Epoch 51/100\n",
            "17280/17280 [==============================] - 25s 1ms/step - loss: 4.1386e-04\n",
            "Epoch 52/100\n",
            "17280/17280 [==============================] - 29s 2ms/step - loss: 4.1819e-04\n",
            "Epoch 53/100\n",
            "17280/17280 [==============================] - 26s 2ms/step - loss: 4.1495e-04\n",
            "Epoch 54/100\n",
            "17280/17280 [==============================] - 26s 2ms/step - loss: 4.1622e-04\n",
            "Epoch 55/100\n",
            "17280/17280 [==============================] - 26s 1ms/step - loss: 4.1353e-04\n",
            "Epoch 56/100\n",
            "17280/17280 [==============================] - 26s 1ms/step - loss: 4.1572e-04\n",
            "Epoch 57/100\n",
            "17280/17280 [==============================] - 26s 1ms/step - loss: 4.1237e-04\n",
            "Epoch 58/100\n",
            "17280/17280 [==============================] - 26s 2ms/step - loss: 4.1210e-04\n",
            "Epoch 59/100\n",
            "17280/17280 [==============================] - 26s 1ms/step - loss: 4.1340e-04\n",
            "Epoch 60/100\n",
            "17280/17280 [==============================] - 26s 2ms/step - loss: 4.1304e-04\n",
            "Epoch 61/100\n",
            "17280/17280 [==============================] - 26s 2ms/step - loss: 4.1500e-04\n",
            "Epoch 62/100\n",
            "17280/17280 [==============================] - 26s 2ms/step - loss: 4.1205e-04\n",
            "Epoch 63/100\n",
            "17280/17280 [==============================] - 26s 2ms/step - loss: 4.1435e-04\n",
            "Epoch 64/100\n",
            "17280/17280 [==============================] - 26s 2ms/step - loss: 4.1211e-04\n",
            "Epoch 65/100\n",
            "17280/17280 [==============================] - 26s 2ms/step - loss: 4.1176e-04\n",
            "Epoch 66/100\n",
            "17280/17280 [==============================] - 26s 2ms/step - loss: 4.0978e-04\n",
            "Epoch 67/100\n",
            "17280/17280 [==============================] - 26s 2ms/step - loss: 4.0974e-04\n",
            "Epoch 68/100\n",
            "17280/17280 [==============================] - 26s 2ms/step - loss: 4.1209e-04\n",
            "Epoch 69/100\n",
            "17280/17280 [==============================] - 26s 2ms/step - loss: 4.1133e-04\n",
            "Epoch 70/100\n",
            "17280/17280 [==============================] - 26s 2ms/step - loss: 4.0868e-04\n",
            "Epoch 71/100\n",
            "17280/17280 [==============================] - 26s 2ms/step - loss: 4.1110e-04\n",
            "Epoch 72/100\n",
            "17280/17280 [==============================] - 26s 2ms/step - loss: 4.0895e-04\n",
            "Epoch 73/100\n",
            "17280/17280 [==============================] - 26s 1ms/step - loss: 4.1501e-04\n",
            "Epoch 74/100\n",
            "17280/17280 [==============================] - 26s 2ms/step - loss: 4.0706e-04\n",
            "Epoch 75/100\n",
            "17280/17280 [==============================] - 26s 2ms/step - loss: 4.0873e-04\n",
            "Epoch 76/100\n",
            "17280/17280 [==============================] - 26s 2ms/step - loss: 4.0825e-04\n",
            "Epoch 77/100\n",
            "17280/17280 [==============================] - 26s 2ms/step - loss: 4.0611e-04\n",
            "Epoch 78/100\n",
            "17280/17280 [==============================] - 26s 2ms/step - loss: 4.0481e-04\n",
            "Epoch 79/100\n",
            "17280/17280 [==============================] - 26s 2ms/step - loss: 4.0825e-04\n",
            "Epoch 80/100\n",
            "17280/17280 [==============================] - 26s 2ms/step - loss: 4.0384e-04\n",
            "Epoch 81/100\n",
            "17280/17280 [==============================] - 26s 2ms/step - loss: 4.0433e-04\n",
            "Epoch 82/100\n",
            "17280/17280 [==============================] - 26s 2ms/step - loss: 4.0620e-04\n",
            "Epoch 83/100\n",
            "17280/17280 [==============================] - 26s 2ms/step - loss: 4.0797e-04\n",
            "Epoch 84/100\n",
            "17280/17280 [==============================] - 26s 2ms/step - loss: 4.0670e-04\n",
            "Epoch 85/100\n",
            "17280/17280 [==============================] - 26s 2ms/step - loss: 4.0516e-04\n",
            "Epoch 86/100\n",
            "17280/17280 [==============================] - 26s 2ms/step - loss: 4.0252e-04\n",
            "Epoch 87/100\n",
            "17280/17280 [==============================] - 26s 2ms/step - loss: 4.0185e-04\n",
            "Epoch 88/100\n",
            "17280/17280 [==============================] - 26s 2ms/step - loss: 4.0567e-04\n",
            "Epoch 89/100\n",
            "17280/17280 [==============================] - 26s 2ms/step - loss: 4.0170e-04\n",
            "Epoch 90/100\n",
            "17280/17280 [==============================] - 26s 1ms/step - loss: 4.0260e-04\n",
            "Epoch 91/100\n",
            "17280/17280 [==============================] - 26s 2ms/step - loss: 4.0434e-04\n",
            "Epoch 92/100\n",
            "17280/17280 [==============================] - 26s 2ms/step - loss: 3.9896e-04\n",
            "Epoch 93/100\n",
            "17280/17280 [==============================] - 26s 2ms/step - loss: 3.9836e-04\n",
            "Epoch 94/100\n",
            "17280/17280 [==============================] - 26s 2ms/step - loss: 4.0125e-04\n",
            "Epoch 95/100\n",
            "17280/17280 [==============================] - 26s 2ms/step - loss: 4.0349e-04\n",
            "Epoch 96/100\n",
            "17280/17280 [==============================] - 26s 2ms/step - loss: 3.9337e-04\n",
            "Epoch 97/100\n",
            "17280/17280 [==============================] - 26s 2ms/step - loss: 3.9476e-04\n",
            "Epoch 98/100\n",
            "17280/17280 [==============================] - 26s 2ms/step - loss: 4.0000e-04\n",
            "Epoch 99/100\n",
            "17280/17280 [==============================] - 26s 2ms/step - loss: 3.9921e-04\n",
            "Epoch 100/100\n",
            "17280/17280 [==============================] - 26s 2ms/step - loss: 4.0116e-04\n"
          ],
          "name": "stdout"
        }
      ]
    },
    {
      "cell_type": "code",
      "metadata": {
        "id": "GvEtr3IPv0Sh",
        "colab_type": "code",
        "colab": {
          "base_uri": "https://localhost:8080/",
          "height": 368
        },
        "outputId": "98ed1d8c-4ae4-4c1f-f949-383650a54170"
      },
      "source": [
        "print(history.history.keys())\n",
        "# \"Loss\"\n",
        "plt.plot(history.history['loss'])\n",
        "plt.title('model loss')\n",
        "plt.ylabel('loss')\n",
        "plt.xlabel('epoch')\n",
        "plt.legend(['train'], loc='upper left')\n",
        "plt.show()\n",
        "X_test=X_test.reshape(X_test.shape[0],X_test.shape[1],1)\n",
        "prediction = regressor.predict(X_test)\n",
        "print(\"mean square error :\" ,mean_squared_error(y_test,prediction))\n",
        "from sklearn.metrics import mean_absolute_error\n",
        "print(\"mean absolute error : \",mean_absolute_error(y_test,prediction))\n",
        "print(r2_score(y_test,prediction))"
      ],
      "execution_count": 29,
      "outputs": [
        {
          "output_type": "stream",
          "text": [
            "dict_keys(['loss'])\n"
          ],
          "name": "stdout"
        },
        {
          "output_type": "display_data",
          "data": {
            "image/png": "[encoded data removed]",
            "text/plain": [
              "<Figure size 432x288 with 1 Axes>"
            ]
          },
          "metadata": {
            "tags": [],
            "needs_background": "light"
          }
        },
        {
          "output_type": "stream",
          "text": [
            "mean square error : 0.000455229162314288\n",
            "mean absolute error :  0.006609872874805592\n",
            "0.7144535548098793\n"
          ],
          "name": "stdout"
        }
      ]
    },
    {
      "cell_type": "code",
      "metadata": {
        "id": "64suBIQS8DmU",
        "colab_type": "code",
        "colab": {
          "base_uri": "https://localhost:8080/",
          "height": 281
        },
        "outputId": "c7dccc04-0939-4a47-a7db-4a4c49fd7995"
      },
      "source": [
        "plt.plot(y_test[0:100], color = 'black', label = 'TRUTH')\n",
        "plt.plot(prediction[0:100], color = 'green', label = 'PREDICTION')\n",
        "plt.title('LSTM PERFORMANCE ON TEST SET')\n",
        "plt.ylabel('PM2.5')\n",
        "plt.legend()\n",
        "plt.show()"
      ],
      "execution_count": 30,
      "outputs": [
        {
          "output_type": "display_data",
          "data": {
            "image/png": "[encoded data removed]",
            "text/plain": [
              "<Figure size 432x288 with 1 Axes>"
            ]
          },
          "metadata": {
            "tags": [],
            "needs_background": "light"
          }
        }
      ]
    },
    {
      "cell_type": "code",
      "metadata": {
        "id": "J2R-4HX3NL8E",
        "colab_type": "code",
        "colab": {}
      },
      "source": [
        ""
      ],
      "execution_count": 0,
      "outputs": []
    }
  ]
}