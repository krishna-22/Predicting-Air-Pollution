{
  "nbformat": 4,
  "nbformat_minor": 0,
  "metadata": {
    "colab": {
      "name": "Prediction_PM2.5_Station105 .ipynb",
      "provenance": [],
      "collapsed_sections": []
    },
    "kernelspec": {
      "name": "python3",
      "display_name": "Python 3"
    },
    "accelerator": "GPU"
  },
  "cells": [
    {
      "cell_type": "code",
      "metadata": {
        "id": "r4m1QUD8Lt4y",
        "colab_type": "code",
        "colab": {}
      },
      "source": [
        "#!unzip air-pollution-in-seoul.zip"
      ],
      "execution_count": 0,
      "outputs": []
    },
    {
      "cell_type": "code",
      "metadata": {
        "id": "aLafiv1zMqa3",
        "colab_type": "code",
        "outputId": "1bff650f-9b49-4f36-fb25-21795ffce854",
        "colab": {
          "base_uri": "https://localhost:8080/",
          "height": 35
        }
      },
      "source": [
        "import pandas as pd\n",
        "import numpy as np\n",
        "import pickle\n",
        "from sklearn.externals import joblib \n",
        "% matplotlib inline\n",
        "import matplotlib.pyplot as plt\n",
        "from google.colab import drive\n",
        "from google.colab import drive\n",
        "drive.mount('/content/drive')"
      ],
      "execution_count": 32,
      "outputs": [
        {
          "output_type": "stream",
          "text": [
            "Drive already mounted at /content/drive; to attempt to forcibly remount, call drive.mount(\"/content/drive\", force_remount=True).\n"
          ],
          "name": "stdout"
        }
      ]
    },
    {
      "cell_type": "code",
      "metadata": {
        "id": "nZUi7009M9kN",
        "colab_type": "code",
        "outputId": "2c5376b6-4f9c-40fb-b64b-b72c1b444d7e",
        "colab": {
          "base_uri": "https://localhost:8080/",
          "height": 363
        }
      },
      "source": [
        "data = pd.read_csv('/content/drive/My Drive/Dataset/Measurement_summary.csv')\n",
        "data.head(10)"
      ],
      "execution_count": 33,
      "outputs": [
        {
          "output_type": "execute_result",
          "data": {
            "text/html": [
              "<div>\n",
              "<style scoped>\n",
              "    .dataframe tbody tr th:only-of-type {\n",
              "        vertical-align: middle;\n",
              "    }\n",
              "\n",
              "    .dataframe tbody tr th {\n",
              "        vertical-align: top;\n",
              "    }\n",
              "\n",
              "    .dataframe thead th {\n",
              "        text-align: right;\n",
              "    }\n",
              "</style>\n",
              "<table border=\"1\" class=\"dataframe\">\n",
              "  <thead>\n",
              "    <tr style=\"text-align: right;\">\n",
              "      <th></th>\n",
              "      <th>Measurement date</th>\n",
              "      <th>Station code</th>\n",
              "      <th>Address</th>\n",
              "      <th>Latitude</th>\n",
              "      <th>Longitude</th>\n",
              "      <th>SO2</th>\n",
              "      <th>NO2</th>\n",
              "      <th>O3</th>\n",
              "      <th>CO</th>\n",
              "      <th>PM10</th>\n",
              "      <th>PM2.5</th>\n",
              "    </tr>\n",
              "  </thead>\n",
              "  <tbody>\n",
              "    <tr>\n",
              "      <th>0</th>\n",
              "      <td>2017-01-01 00:00</td>\n",
              "      <td>101</td>\n",
              "      <td>19, Jong-ro 35ga-gil, Jongno-gu, Seoul, Republ...</td>\n",
              "      <td>37.572016</td>\n",
              "      <td>127.005007</td>\n",
              "      <td>0.004</td>\n",
              "      <td>0.059</td>\n",
              "      <td>0.002</td>\n",
              "      <td>1.2</td>\n",
              "      <td>73.0</td>\n",
              "      <td>57.0</td>\n",
              "    </tr>\n",
              "    <tr>\n",
              "      <th>1</th>\n",
              "      <td>2017-01-01 01:00</td>\n",
              "      <td>101</td>\n",
              "      <td>19, Jong-ro 35ga-gil, Jongno-gu, Seoul, Republ...</td>\n",
              "      <td>37.572016</td>\n",
              "      <td>127.005007</td>\n",
              "      <td>0.004</td>\n",
              "      <td>0.058</td>\n",
              "      <td>0.002</td>\n",
              "      <td>1.2</td>\n",
              "      <td>71.0</td>\n",
              "      <td>59.0</td>\n",
              "    </tr>\n",
              "    <tr>\n",
              "      <th>2</th>\n",
              "      <td>2017-01-01 02:00</td>\n",
              "      <td>101</td>\n",
              "      <td>19, Jong-ro 35ga-gil, Jongno-gu, Seoul, Republ...</td>\n",
              "      <td>37.572016</td>\n",
              "      <td>127.005007</td>\n",
              "      <td>0.004</td>\n",
              "      <td>0.056</td>\n",
              "      <td>0.002</td>\n",
              "      <td>1.2</td>\n",
              "      <td>70.0</td>\n",
              "      <td>59.0</td>\n",
              "    </tr>\n",
              "    <tr>\n",
              "      <th>3</th>\n",
              "      <td>2017-01-01 03:00</td>\n",
              "      <td>101</td>\n",
              "      <td>19, Jong-ro 35ga-gil, Jongno-gu, Seoul, Republ...</td>\n",
              "      <td>37.572016</td>\n",
              "      <td>127.005007</td>\n",
              "      <td>0.004</td>\n",
              "      <td>0.056</td>\n",
              "      <td>0.002</td>\n",
              "      <td>1.2</td>\n",
              "      <td>70.0</td>\n",
              "      <td>58.0</td>\n",
              "    </tr>\n",
              "    <tr>\n",
              "      <th>4</th>\n",
              "      <td>2017-01-01 04:00</td>\n",
              "      <td>101</td>\n",
              "      <td>19, Jong-ro 35ga-gil, Jongno-gu, Seoul, Republ...</td>\n",
              "      <td>37.572016</td>\n",
              "      <td>127.005007</td>\n",
              "      <td>0.003</td>\n",
              "      <td>0.051</td>\n",
              "      <td>0.002</td>\n",
              "      <td>1.2</td>\n",
              "      <td>69.0</td>\n",
              "      <td>61.0</td>\n",
              "    </tr>\n",
              "    <tr>\n",
              "      <th>5</th>\n",
              "      <td>2017-01-01 05:00</td>\n",
              "      <td>101</td>\n",
              "      <td>19, Jong-ro 35ga-gil, Jongno-gu, Seoul, Republ...</td>\n",
              "      <td>37.572016</td>\n",
              "      <td>127.005007</td>\n",
              "      <td>0.003</td>\n",
              "      <td>0.046</td>\n",
              "      <td>0.002</td>\n",
              "      <td>1.1</td>\n",
              "      <td>70.0</td>\n",
              "      <td>61.0</td>\n",
              "    </tr>\n",
              "    <tr>\n",
              "      <th>6</th>\n",
              "      <td>2017-01-01 06:00</td>\n",
              "      <td>101</td>\n",
              "      <td>19, Jong-ro 35ga-gil, Jongno-gu, Seoul, Republ...</td>\n",
              "      <td>37.572016</td>\n",
              "      <td>127.005007</td>\n",
              "      <td>0.003</td>\n",
              "      <td>0.049</td>\n",
              "      <td>0.002</td>\n",
              "      <td>1.1</td>\n",
              "      <td>66.0</td>\n",
              "      <td>57.0</td>\n",
              "    </tr>\n",
              "    <tr>\n",
              "      <th>7</th>\n",
              "      <td>2017-01-01 07:00</td>\n",
              "      <td>101</td>\n",
              "      <td>19, Jong-ro 35ga-gil, Jongno-gu, Seoul, Republ...</td>\n",
              "      <td>37.572016</td>\n",
              "      <td>127.005007</td>\n",
              "      <td>0.003</td>\n",
              "      <td>0.045</td>\n",
              "      <td>0.002</td>\n",
              "      <td>1.0</td>\n",
              "      <td>71.0</td>\n",
              "      <td>60.0</td>\n",
              "    </tr>\n",
              "    <tr>\n",
              "      <th>8</th>\n",
              "      <td>2017-01-01 08:00</td>\n",
              "      <td>101</td>\n",
              "      <td>19, Jong-ro 35ga-gil, Jongno-gu, Seoul, Republ...</td>\n",
              "      <td>37.572016</td>\n",
              "      <td>127.005007</td>\n",
              "      <td>0.004</td>\n",
              "      <td>0.047</td>\n",
              "      <td>0.002</td>\n",
              "      <td>1.1</td>\n",
              "      <td>72.0</td>\n",
              "      <td>60.0</td>\n",
              "    </tr>\n",
              "    <tr>\n",
              "      <th>9</th>\n",
              "      <td>2017-01-01 09:00</td>\n",
              "      <td>101</td>\n",
              "      <td>19, Jong-ro 35ga-gil, Jongno-gu, Seoul, Republ...</td>\n",
              "      <td>37.572016</td>\n",
              "      <td>127.005007</td>\n",
              "      <td>0.003</td>\n",
              "      <td>0.047</td>\n",
              "      <td>0.002</td>\n",
              "      <td>1.1</td>\n",
              "      <td>74.0</td>\n",
              "      <td>63.0</td>\n",
              "    </tr>\n",
              "  </tbody>\n",
              "</table>\n",
              "</div>"
            ],
            "text/plain": [
              "   Measurement date  Station code  ...  PM10  PM2.5\n",
              "0  2017-01-01 00:00           101  ...  73.0   57.0\n",
              "1  2017-01-01 01:00           101  ...  71.0   59.0\n",
              "2  2017-01-01 02:00           101  ...  70.0   59.0\n",
              "3  2017-01-01 03:00           101  ...  70.0   58.0\n",
              "4  2017-01-01 04:00           101  ...  69.0   61.0\n",
              "5  2017-01-01 05:00           101  ...  70.0   61.0\n",
              "6  2017-01-01 06:00           101  ...  66.0   57.0\n",
              "7  2017-01-01 07:00           101  ...  71.0   60.0\n",
              "8  2017-01-01 08:00           101  ...  72.0   60.0\n",
              "9  2017-01-01 09:00           101  ...  74.0   63.0\n",
              "\n",
              "[10 rows x 11 columns]"
            ]
          },
          "metadata": {
            "tags": []
          },
          "execution_count": 33
        }
      ]
    },
    {
      "cell_type": "code",
      "metadata": {
        "id": "cFj-Od2FNYr7",
        "colab_type": "code",
        "outputId": "d46e6c92-73e3-413c-f0a0-f48e41d65b41",
        "colab": {
          "base_uri": "https://localhost:8080/",
          "height": 274
        }
      },
      "source": [
        "# Retriving data for station code 105 for PM2.5\n",
        "data_105=data[(data['Station code']==105) & (data['PM2.5']>0)]\n",
        "print(len(data_105))\n",
        "print(data_105.head(10))"
      ],
      "execution_count": 34,
      "outputs": [
        {
          "output_type": "stream",
          "text": [
            "24697\n",
            "        Measurement date  Station code  ...  PM10  PM2.5\n",
            "103610  2017-01-01 00:00           105  ...  81.0   44.0\n",
            "103611  2017-01-01 01:00           105  ...  67.0   44.0\n",
            "103612  2017-01-01 02:00           105  ...  84.0   43.0\n",
            "103613  2017-01-01 03:00           105  ...  85.0   42.0\n",
            "103614  2017-01-01 04:00           105  ...  79.0   35.0\n",
            "103615  2017-01-01 05:00           105  ...  72.0   38.0\n",
            "103616  2017-01-01 06:00           105  ...  70.0   38.0\n",
            "103617  2017-01-01 07:00           105  ...  76.0   48.0\n",
            "103618  2017-01-01 08:00           105  ...  87.0   44.0\n",
            "103619  2017-01-01 09:00           105  ...  80.0   46.0\n",
            "\n",
            "[10 rows x 11 columns]\n"
          ],
          "name": "stdout"
        }
      ]
    },
    {
      "cell_type": "code",
      "metadata": {
        "id": "gWDS6JoqXlfP",
        "colab_type": "code",
        "outputId": "205bba4f-b6cc-4236-8234-269cb4081b1a",
        "colab": {
          "base_uri": "https://localhost:8080/",
          "height": 297
        }
      },
      "source": [
        "import seaborn as sns\n",
        "sns.boxplot(data_105['PM2.5'])"
      ],
      "execution_count": 35,
      "outputs": [
        {
          "output_type": "execute_result",
          "data": {
            "text/plain": [
              "<matplotlib.axes._subplots.AxesSubplot at 0x7fcf0be8ada0>"
            ]
          },
          "metadata": {
            "tags": []
          },
          "execution_count": 35
        },
        {
          "output_type": "display_data",
          "data": {
            "image/png": "[encoded data removed]",
            "text/plain": [
              "<Figure size 432x288 with 1 Axes>"
            ]
          },
          "metadata": {
            "tags": [],
            "needs_background": "light"
          }
        }
      ]
    },
    {
      "cell_type": "code",
      "metadata": {
        "id": "EcgONzxKnL2u",
        "colab_type": "code",
        "outputId": "184ab1c3-e542-40c0-b795-8279058f1c84",
        "colab": {
          "base_uri": "https://localhost:8080/",
          "height": 316
        }
      },
      "source": [
        "from scipy import stats\n",
        "z = np.abs(stats.zscore(data_105['PM2.5']))\n",
        "threshold = 3\n",
        "#print(len(np.where(z > 3)))\n",
        "data_105_Rout = data_105[(z < 3)]\n",
        "print(len(data_105_Rout))\n",
        "sns.boxplot(data_105_Rout['PM2.5'])"
      ],
      "execution_count": 36,
      "outputs": [
        {
          "output_type": "stream",
          "text": [
            "24523\n"
          ],
          "name": "stdout"
        },
        {
          "output_type": "execute_result",
          "data": {
            "text/plain": [
              "<matplotlib.axes._subplots.AxesSubplot at 0x7fcf0ac04f60>"
            ]
          },
          "metadata": {
            "tags": []
          },
          "execution_count": 36
        },
        {
          "output_type": "display_data",
          "data": {
            "image/png": "[encoded data removed]",
            "text/plain": [
              "<Figure size 432x288 with 1 Axes>"
            ]
          },
          "metadata": {
            "tags": [],
            "needs_background": "light"
          }
        }
      ]
    },
    {
      "cell_type": "code",
      "metadata": {
        "id": "_LNanJd1a1_D",
        "colab_type": "code",
        "outputId": "81e8d7a3-f1a3-4496-ec07-cfacbb5d33c3",
        "colab": {
          "base_uri": "https://localhost:8080/",
          "height": 35
        }
      },
      "source": [
        "df=data_105_Rout['PM2.5']\n",
        "df=df.values\n",
        "df=df.reshape(df.shape[0],1)\n",
        "print(df.shape)"
      ],
      "execution_count": 37,
      "outputs": [
        {
          "output_type": "stream",
          "text": [
            "(24523, 1)\n"
          ],
          "name": "stdout"
        }
      ]
    },
    {
      "cell_type": "code",
      "metadata": {
        "id": "rzYngv6_TPhh",
        "colab_type": "code",
        "outputId": "0b53d055-ac9f-48fc-b2f9-c908c3f5ab1c",
        "colab": {
          "base_uri": "https://localhost:8080/",
          "height": 72
        }
      },
      "source": [
        "from sklearn import preprocessing\n",
        "min_max_scaler = preprocessing.MinMaxScaler()\n",
        "df_scaled = min_max_scaler.fit_transform(df)\n",
        "print(min(df),max(df))\n",
        "list_=[]\n",
        "for i in range (0,df_scaled.shape[0]):\n",
        "  list_.append(df_scaled[i][0])\n",
        "print(len(list_))\n",
        "print(min(list_),max(list_))\n"
      ],
      "execution_count": 38,
      "outputs": [
        {
          "output_type": "stream",
          "text": [
            "[1.] [103.]\n",
            "24523\n",
            "0.0 1.0\n"
          ],
          "name": "stdout"
        }
      ]
    },
    {
      "cell_type": "code",
      "metadata": {
        "id": "mFSUAFonN2ht",
        "colab_type": "code",
        "outputId": "a9490468-f6ce-4c39-efe7-cd5d037f63ad",
        "colab": {
          "base_uri": "https://localhost:8080/",
          "height": 35
        }
      },
      "source": [
        "window_size=5\n",
        "y=[]\n",
        "for i in range (0,len(list_)-window_size):\n",
        "  x=list_[i:i+window_size]\n",
        "  y.append(x)\n",
        "print(len(y),y[0])\n"
      ],
      "execution_count": 39,
      "outputs": [
        {
          "output_type": "stream",
          "text": [
            "24518 [0.4215686274509804, 0.4215686274509804, 0.4117647058823529, 0.40196078431372545, 0.3333333333333333]\n"
          ],
          "name": "stdout"
        }
      ]
    },
    {
      "cell_type": "code",
      "metadata": {
        "id": "jOkLjiONN_dz",
        "colab_type": "code",
        "outputId": "369eaae0-c184-4f35-dd21-5672fbe79223",
        "colab": {
          "base_uri": "https://localhost:8080/",
          "height": 381
        }
      },
      "source": [
        "matrix=np.matrix(y)\n",
        "print(matrix.shape)\n",
        "new_data = pd.DataFrame(matrix,columns=['x1','x2','x3','x4','y'])\n",
        "new_data.head(10)\n"
      ],
      "execution_count": 40,
      "outputs": [
        {
          "output_type": "stream",
          "text": [
            "(24518, 5)\n"
          ],
          "name": "stdout"
        },
        {
          "output_type": "execute_result",
          "data": {
            "text/html": [
              "<div>\n",
              "<style scoped>\n",
              "    .dataframe tbody tr th:only-of-type {\n",
              "        vertical-align: middle;\n",
              "    }\n",
              "\n",
              "    .dataframe tbody tr th {\n",
              "        vertical-align: top;\n",
              "    }\n",
              "\n",
              "    .dataframe thead th {\n",
              "        text-align: right;\n",
              "    }\n",
              "</style>\n",
              "<table border=\"1\" class=\"dataframe\">\n",
              "  <thead>\n",
              "    <tr style=\"text-align: right;\">\n",
              "      <th></th>\n",
              "      <th>x1</th>\n",
              "      <th>x2</th>\n",
              "      <th>x3</th>\n",
              "      <th>x4</th>\n",
              "      <th>y</th>\n",
              "    </tr>\n",
              "  </thead>\n",
              "  <tbody>\n",
              "    <tr>\n",
              "      <th>0</th>\n",
              "      <td>0.421569</td>\n",
              "      <td>0.421569</td>\n",
              "      <td>0.411765</td>\n",
              "      <td>0.401961</td>\n",
              "      <td>0.333333</td>\n",
              "    </tr>\n",
              "    <tr>\n",
              "      <th>1</th>\n",
              "      <td>0.421569</td>\n",
              "      <td>0.411765</td>\n",
              "      <td>0.401961</td>\n",
              "      <td>0.333333</td>\n",
              "      <td>0.362745</td>\n",
              "    </tr>\n",
              "    <tr>\n",
              "      <th>2</th>\n",
              "      <td>0.411765</td>\n",
              "      <td>0.401961</td>\n",
              "      <td>0.333333</td>\n",
              "      <td>0.362745</td>\n",
              "      <td>0.362745</td>\n",
              "    </tr>\n",
              "    <tr>\n",
              "      <th>3</th>\n",
              "      <td>0.401961</td>\n",
              "      <td>0.333333</td>\n",
              "      <td>0.362745</td>\n",
              "      <td>0.362745</td>\n",
              "      <td>0.460784</td>\n",
              "    </tr>\n",
              "    <tr>\n",
              "      <th>4</th>\n",
              "      <td>0.333333</td>\n",
              "      <td>0.362745</td>\n",
              "      <td>0.362745</td>\n",
              "      <td>0.460784</td>\n",
              "      <td>0.421569</td>\n",
              "    </tr>\n",
              "    <tr>\n",
              "      <th>5</th>\n",
              "      <td>0.362745</td>\n",
              "      <td>0.362745</td>\n",
              "      <td>0.460784</td>\n",
              "      <td>0.421569</td>\n",
              "      <td>0.441176</td>\n",
              "    </tr>\n",
              "    <tr>\n",
              "      <th>6</th>\n",
              "      <td>0.362745</td>\n",
              "      <td>0.460784</td>\n",
              "      <td>0.421569</td>\n",
              "      <td>0.441176</td>\n",
              "      <td>0.500000</td>\n",
              "    </tr>\n",
              "    <tr>\n",
              "      <th>7</th>\n",
              "      <td>0.460784</td>\n",
              "      <td>0.421569</td>\n",
              "      <td>0.441176</td>\n",
              "      <td>0.500000</td>\n",
              "      <td>0.450980</td>\n",
              "    </tr>\n",
              "    <tr>\n",
              "      <th>8</th>\n",
              "      <td>0.421569</td>\n",
              "      <td>0.441176</td>\n",
              "      <td>0.500000</td>\n",
              "      <td>0.450980</td>\n",
              "      <td>0.470588</td>\n",
              "    </tr>\n",
              "    <tr>\n",
              "      <th>9</th>\n",
              "      <td>0.441176</td>\n",
              "      <td>0.500000</td>\n",
              "      <td>0.450980</td>\n",
              "      <td>0.470588</td>\n",
              "      <td>0.519608</td>\n",
              "    </tr>\n",
              "  </tbody>\n",
              "</table>\n",
              "</div>"
            ],
            "text/plain": [
              "         x1        x2        x3        x4         y\n",
              "0  0.421569  0.421569  0.411765  0.401961  0.333333\n",
              "1  0.421569  0.411765  0.401961  0.333333  0.362745\n",
              "2  0.411765  0.401961  0.333333  0.362745  0.362745\n",
              "3  0.401961  0.333333  0.362745  0.362745  0.460784\n",
              "4  0.333333  0.362745  0.362745  0.460784  0.421569\n",
              "5  0.362745  0.362745  0.460784  0.421569  0.441176\n",
              "6  0.362745  0.460784  0.421569  0.441176  0.500000\n",
              "7  0.460784  0.421569  0.441176  0.500000  0.450980\n",
              "8  0.421569  0.441176  0.500000  0.450980  0.470588\n",
              "9  0.441176  0.500000  0.450980  0.470588  0.519608"
            ]
          },
          "metadata": {
            "tags": []
          },
          "execution_count": 40
        }
      ]
    },
    {
      "cell_type": "code",
      "metadata": {
        "id": "0Z5frRmicq9M",
        "colab_type": "code",
        "outputId": "c92922c8-f543-42ec-9943-5fadbc7e549b",
        "colab": {
          "base_uri": "https://localhost:8080/",
          "height": 146
        }
      },
      "source": [
        "print(matrix[:,4])"
      ],
      "execution_count": 41,
      "outputs": [
        {
          "output_type": "stream",
          "text": [
            "[[0.33333333]\n",
            " [0.3627451 ]\n",
            " [0.3627451 ]\n",
            " ...\n",
            " [0.08823529]\n",
            " [0.10784314]\n",
            " [0.1372549 ]]\n"
          ],
          "name": "stdout"
        }
      ]
    },
    {
      "cell_type": "code",
      "metadata": {
        "id": "SG1fsHWxOPTk",
        "colab_type": "code",
        "outputId": "96e9e420-8008-464b-c288-a6aeb9b215f9",
        "colab": {
          "base_uri": "https://localhost:8080/",
          "height": 109
        }
      },
      "source": [
        "from sklearn import linear_model\n",
        "from sklearn.model_selection import train_test_split\n",
        "from sklearn.metrics import r2_score\n",
        "from sklearn.metrics import mean_squared_error\n",
        "X_train, X_test, y_train, y_test = train_test_split(matrix[:,0:4],matrix[:,4],test_size=0.33, random_state=42)\n",
        "lm =linear_model.LinearRegression()\n",
        "model = lm.fit(X_train,y_train)\n",
        "prediction=model.predict(X_test)\n",
        "joblib.dump(model,'linear_regressor_Rout.pkl')\n",
        "from google.colab import files\n",
        "files.download('linear_regressor_Rout.pkl')\n",
        "print(prediction.shape,prediction[0:5])"
      ],
      "execution_count": 42,
      "outputs": [
        {
          "output_type": "stream",
          "text": [
            "(8091, 1) [[0.27265197]\n",
            " [0.161374  ]\n",
            " [0.21444692]\n",
            " [0.06590355]\n",
            " [0.10553744]]\n"
          ],
          "name": "stdout"
        }
      ]
    },
    {
      "cell_type": "code",
      "metadata": {
        "id": "bye3z6vaOvbl",
        "colab_type": "code",
        "outputId": "c7e47405-b9eb-478a-9855-7e5147eedf27",
        "colab": {
          "base_uri": "https://localhost:8080/",
          "height": 72
        }
      },
      "source": [
        "print(model.score(X_train,y_train))\n",
        "print(model.intercept_)\n",
        "print(model.coef_)"
      ],
      "execution_count": 43,
      "outputs": [
        {
          "output_type": "stream",
          "text": [
            "0.8747599223827767\n",
            "[0.01092281]\n",
            "[[ 0.0452345  -0.00158742  0.0837658   0.82122064]]\n"
          ],
          "name": "stdout"
        }
      ]
    },
    {
      "cell_type": "code",
      "metadata": {
        "id": "K9AvmWqwO0h1",
        "colab_type": "code",
        "outputId": "3cdc9255-d210-4c19-eed1-f71b97f9c73f",
        "colab": {
          "base_uri": "https://localhost:8080/",
          "height": 72
        }
      },
      "source": [
        "print('mean squared eror : ',mean_squared_error(y_test,prediction))\n",
        "from sklearn.metrics import mean_absolute_error\n",
        "print('absolute mean error : ', mean_absolute_error(y_test,prediction))\n",
        "print(r2_score(y_test,prediction))"
      ],
      "execution_count": 44,
      "outputs": [
        {
          "output_type": "stream",
          "text": [
            "mean squared eror :  0.0036876736317906014\n",
            "absolute mean error :  0.04080181161051038\n",
            "0.8726026259640236\n"
          ],
          "name": "stdout"
        }
      ]
    },
    {
      "cell_type": "code",
      "metadata": {
        "id": "7ZFxbkZwIfsr",
        "colab_type": "code",
        "outputId": "9329406a-fa4e-4eb8-8a9d-ed0c5387a48a",
        "colab": {
          "base_uri": "https://localhost:8080/",
          "height": 281
        }
      },
      "source": [
        "plt.plot(y_test[0:100], color = 'black', label = 'TRUTH')\n",
        "plt.plot(prediction[0:100], color = 'green', label = 'PREDICTION')\n",
        "plt.title('Linear regression PERFORMANCE ON TEST SET after removing outliers')\n",
        "plt.ylabel('PM2.5')\n",
        "plt.legend()\n",
        "plt.show()"
      ],
      "execution_count": 45,
      "outputs": [
        {
          "output_type": "display_data",
          "data": {
            "image/png": "[encoded data removed]",
            "text/plain": [
              "<Figure size 432x288 with 1 Axes>"
            ]
          },
          "metadata": {
            "tags": [],
            "needs_background": "light"
          }
        }
      ]
    },
    {
      "cell_type": "code",
      "metadata": {
        "id": "J3NSycPY02mb",
        "colab_type": "code",
        "outputId": "398c2a19-103e-41b2-d12d-86cb97fb44c1",
        "colab": {
          "base_uri": "https://localhost:8080/",
          "height": 520
        }
      },
      "source": [
        "# IMPLEMENTING LINEAR REGRESSION WITHOUT REMOVING OUTLIERS\n",
        "df=data_105['PM2.5']\n",
        "df=df.values\n",
        "df=df.reshape(df.shape[0],1)\n",
        "print(df.shape)\n",
        "from sklearn import preprocessing\n",
        "min_max_scaler = preprocessing.MinMaxScaler()\n",
        "df_scaled = min_max_scaler.fit_transform(df)\n",
        "print(min(df),max(df))\n",
        "list_=[]\n",
        "for i in range (0,df_scaled.shape[0]):\n",
        "  list_.append(df_scaled[i][0])\n",
        "print(len(list_))\n",
        "print(min(list_),max(list_))\n",
        "window_size=5\n",
        "y=[]\n",
        "for i in range (0,len(list_)-window_size):\n",
        "  x=list_[i:i+window_size]\n",
        "  y.append(x)\n",
        "print(len(y),y[0])\n",
        "matrix= np.matrix(y)\n",
        "from sklearn import linear_model\n",
        "from sklearn.model_selection import train_test_split\n",
        "from sklearn.metrics import r2_score\n",
        "from sklearn.metrics import mean_squared_error\n",
        "X_train, X_test, y_train, y_test = train_test_split(matrix[:,0:4],matrix[:,4],test_size=0.33, random_state=42)\n",
        "lm =linear_model.LinearRegression()\n",
        "model = lm.fit(X_train,y_train)\n",
        "prediction=model.predict(X_test)\n",
        "joblib.dump(model,'linear_regressor.pkl')\n",
        "from google.colab import files\n",
        "files.download('linear_regressor.pkl')\n",
        "print(prediction.shape,prediction[0:5])\n",
        "print('mean squared eror : ',mean_squared_error(y_test,prediction))\n",
        "from sklearn.metrics import mean_absolute_error\n",
        "print('absolute mean error : ', mean_absolute_error(y_test,prediction))\n",
        "print(r2_score(y_test,prediction))\n",
        "plt.plot(y_test[0:100], color = 'black', label = 'TRUTH')\n",
        "plt.plot(prediction[0:100], color = 'green', label = 'PREDICTION')\n",
        "plt.title('Linear regression PERFORMANCE ON TEST SET')\n",
        "plt.ylabel('PM2.5')\n",
        "plt.legend()\n",
        "plt.show()"
      ],
      "execution_count": 46,
      "outputs": [
        {
          "output_type": "stream",
          "text": [
            "(24697, 1)\n",
            "[1.] [985.]\n",
            "24697\n",
            "0.0 1.0000000000000002\n",
            "24692 [0.04369918699186993, 0.04369918699186993, 0.042682926829268296, 0.04166666666666667, 0.03455284552845529]\n",
            "(8149, 1) [[0.00832975]\n",
            " [0.00984595]\n",
            " [0.02231337]\n",
            " [0.02318093]\n",
            " [0.00997169]]\n",
            "mean squared eror :  0.00026279932068886644\n",
            "absolute mean error :  0.006151952604538325\n",
            "0.4705322741022804\n"
          ],
          "name": "stdout"
        },
        {
          "output_type": "display_data",
          "data": {
            "image/png": "[encoded data removed]",
            "text/plain": [
              "<Figure size 432x288 with 1 Axes>"
            ]
          },
          "metadata": {
            "tags": [],
            "needs_background": "light"
          }
        }
      ]
    },
    {
      "cell_type": "code",
      "metadata": {
        "id": "hrZqAjEyGnIN",
        "colab_type": "code",
        "outputId": "4d04da85-9fb6-4e05-8e28-7c46e25effa0",
        "colab": {
          "base_uri": "https://localhost:8080/",
          "height": 129
        }
      },
      "source": [
        "# BAYESIAN RIDGE REGRESSION\n",
        "from sklearn import linear_model\n",
        "from statsmodels.tsa.ar_model import AR\n",
        "model = linear_model.BayesianRidge()\n",
        "\n",
        "model.fit(X_train,y_train )\n",
        "prediction=model.predict(X_test)\n",
        "joblib.dump(model,'bayesian_regressor.pkl')\n",
        "from google.colab import files\n",
        "files.download('bayesian_regressor.pkl')\n",
        "print('mean squared eror : ',mean_squared_error(y_test,prediction))\n",
        "from sklearn.metrics import mean_absolute_error\n",
        "print('absolute mean error : ', mean_absolute_error(y_test,prediction))\n",
        "\n",
        "print(r2_score(y_test,prediction))"
      ],
      "execution_count": 47,
      "outputs": [
        {
          "output_type": "stream",
          "text": [
            "/usr/local/lib/python3.6/dist-packages/sklearn/utils/validation.py:760: DataConversionWarning: A column-vector y was passed when a 1d array was expected. Please change the shape of y to (n_samples, ), for example using ravel().\n",
            "  y = column_or_1d(y, warn=True)\n"
          ],
          "name": "stderr"
        },
        {
          "output_type": "stream",
          "text": [
            "mean squared eror :  0.0002627609969579497\n",
            "absolute mean error :  0.006154903178991424\n",
            "0.4706094857883807\n"
          ],
          "name": "stdout"
        }
      ]
    },
    {
      "cell_type": "code",
      "metadata": {
        "id": "crUrc4mjO8uL",
        "colab_type": "code",
        "outputId": "84e73d8b-82b8-458f-8da0-7ac73146382e",
        "colab": {
          "base_uri": "https://localhost:8080/",
          "height": 109
        }
      },
      "source": [
        "# IMLEMENTING  RANDOM FOREST ALGORITHM\n",
        "from sklearn.ensemble import RandomForestRegressor\n",
        "model= RandomForestRegressor(max_depth=8, random_state=0)\n",
        "model.fit(X_train,y_train)\n",
        "prediction=model.predict(X_test)\n",
        "joblib.dump(model,'randomforest_regressor.pkl')\n",
        "print('mean squared eror : ',mean_squared_error(y_test,prediction))\n",
        "from sklearn.metrics import mean_absolute_error\n",
        "print('absolute mean error : ', mean_absolute_error(y_test,prediction))\n",
        "print(r2_score(y_test,prediction))"
      ],
      "execution_count": 48,
      "outputs": [
        {
          "output_type": "stream",
          "text": [
            "/usr/local/lib/python3.6/dist-packages/ipykernel_launcher.py:4: DataConversionWarning: A column-vector y was passed when a 1d array was expected. Please change the shape of y to (n_samples,), for example using ravel().\n",
            "  after removing the cwd from sys.path.\n"
          ],
          "name": "stderr"
        },
        {
          "output_type": "stream",
          "text": [
            "mean squared eror :  0.0002455366702391966\n",
            "absolute mean error :  0.004915342859432089\n",
            "0.5053117257865372\n"
          ],
          "name": "stdout"
        }
      ]
    },
    {
      "cell_type": "code",
      "metadata": {
        "id": "KAVNYF_yJXRN",
        "colab_type": "code",
        "outputId": "223bcd5c-c4b0-4ea4-fbf3-c04b4950f321",
        "colab": {
          "base_uri": "https://localhost:8080/",
          "height": 501
        }
      },
      "source": [
        "plt.plot(y_test[0:100], color = 'black', label = 'TRUTH')\n",
        "plt.plot(prediction[0:100], color = 'green', label = 'PREDICTION')\n",
        "plt.title('Random forest regression PERFORMANCE ON TEST SET')\n",
        "plt.ylabel('PM2.5')\n",
        "plt.legend()\n",
        "plt.show()\n",
        "print('truth : ',y_test[0:10])\n",
        "print('prediction : ',prediction[0:10])"
      ],
      "execution_count": 49,
      "outputs": [
        {
          "output_type": "display_data",
          "data": {
            "image/png": "[encoded data removed]",
            "text/plain": [
              "<Figure size 432x288 with 1 Axes>"
            ]
          },
          "metadata": {
            "tags": [],
            "needs_background": "light"
          }
        },
        {
          "output_type": "stream",
          "text": [
            "truth :  [[0.        ]\n",
            " [0.00203252]\n",
            " [0.03252033]\n",
            " [0.02134146]\n",
            " [0.00304878]\n",
            " [0.00711382]\n",
            " [0.01930894]\n",
            " [0.0304878 ]\n",
            " [0.04979675]\n",
            " [0.07317073]]\n",
            "prediction :  [0.00394786 0.00520239 0.02829137 0.02797453 0.0056914  0.00631138\n",
            " 0.01769406 0.02558304 0.0431181  0.07237726]\n"
          ],
          "name": "stdout"
        }
      ]
    },
    {
      "cell_type": "code",
      "metadata": {
        "id": "s9oOYdsvFVAz",
        "colab_type": "code",
        "outputId": "29ef2f63-8298-46b5-f412-4502625583c1",
        "colab": {
          "base_uri": "https://localhost:8080/",
          "height": 72
        }
      },
      "source": [
        "# RIDGE REGRESSION\n",
        "from sklearn.linear_model import Ridge\n",
        "model = Ridge(alpha=1.0)\n",
        "model.fit(X_train,y_train)\n",
        "prediction=model.predict(X_test)\n",
        "joblib.dump(model,'ridge_regressor.pkl')\n",
        "from google.colab import files\n",
        "files.download('ridge_regressor.pkl')\n",
        "print(mean_squared_error(y_test,prediction))\n",
        "print(mean_absolute_error(y_test,prediction))\n",
        "print(r2_score(y_test,prediction))\n"
      ],
      "execution_count": 50,
      "outputs": [
        {
          "output_type": "stream",
          "text": [
            "0.0002607762979657747\n",
            "0.006353917901814861\n",
            "0.4746081036661739\n"
          ],
          "name": "stdout"
        }
      ]
    },
    {
      "cell_type": "code",
      "metadata": {
        "id": "08afymABtSx4",
        "colab_type": "code",
        "outputId": "ab118554-ff9d-4e64-8c17-f34e2d1421dc",
        "colab": {
          "base_uri": "https://localhost:8080/",
          "height": 166
        }
      },
      "source": [
        "# IMPLEMENTING SUPPORT VECTOR\n",
        "from sklearn.svm import LinearSVR\n",
        "model= LinearSVR()\n",
        "model.fit(X_train,y_train)\n",
        "prediction=model.predict(X_test)\n",
        "print('mean squared eror : ',mean_squared_error(y_test,prediction))\n",
        "from sklearn.metrics import mean_absolute_error\n",
        "print('absolute mean error : ', mean_absolute_error(y_test,prediction))\n",
        "print(r2_score(y_test,prediction))"
      ],
      "execution_count": 51,
      "outputs": [
        {
          "output_type": "stream",
          "text": [
            "/usr/local/lib/python3.6/dist-packages/sklearn/utils/validation.py:760: DataConversionWarning: A column-vector y was passed when a 1d array was expected. Please change the shape of y to (n_samples, ), for example using ravel().\n",
            "  y = column_or_1d(y, warn=True)\n"
          ],
          "name": "stderr"
        },
        {
          "output_type": "stream",
          "text": [
            "mean squared eror :  0.00048583773085413885\n",
            "absolute mean error :  0.004835440662251857\n",
            "0.021171752513030384\n"
          ],
          "name": "stdout"
        },
        {
          "output_type": "stream",
          "text": [
            "/usr/local/lib/python3.6/dist-packages/sklearn/svm/_base.py:947: ConvergenceWarning: Liblinear failed to converge, increase the number of iterations.\n",
            "  \"the number of iterations.\", ConvergenceWarning)\n"
          ],
          "name": "stderr"
        }
      ]
    },
    {
      "cell_type": "code",
      "metadata": {
        "id": "LFR-uIKhMIPs",
        "colab_type": "code",
        "outputId": "4913c144-ddea-4b38-ad54-607f87e958fd",
        "colab": {
          "base_uri": "https://localhost:8080/",
          "height": 281
        }
      },
      "source": [
        "plt.plot(y_test[0:100], color = 'black', label = 'TRUTH')\n",
        "plt.plot(prediction[0:100], color = 'green', label = 'PREDICTION')\n",
        "plt.title('SVM regression PERFORMANCE ON TEST SET')\n",
        "plt.ylabel('PM2.5')\n",
        "plt.legend()\n",
        "plt.show()"
      ],
      "execution_count": 52,
      "outputs": [
        {
          "output_type": "display_data",
          "data": {
            "image/png": "[encoded data removed]",
            "text/plain": [
              "<Figure size 432x288 with 1 Axes>"
            ]
          },
          "metadata": {
            "tags": [],
            "needs_background": "light"
          }
        }
      ]
    },
    {
      "cell_type": "code",
      "metadata": {
        "id": "tUpcjRA2hCQz",
        "colab_type": "code",
        "outputId": "121b11e0-ec2e-4b1c-e684-cebf3753efb9",
        "colab": {
          "base_uri": "https://localhost:8080/",
          "height": 1000
        }
      },
      "source": [
        "# IMPLEMENTING A NEURAL NETWORK\n",
        "from sklearn.preprocessing import StandardScaler\n",
        "#sc = StandardScaler()\n",
        "#X = sc.fit_transform(X)\n",
        "import keras\n",
        "from keras.models import Sequential\n",
        "from keras.layers import Dense\n",
        "# Neural network\n",
        "model = Sequential()\n",
        "model.add(Dense(64, input_dim=4, activation='relu'))\n",
        "model.add(Dense(128, input_dim=4, activation='relu'))\n",
        "model.add(Dense(512, activation='relu'))\n",
        "model.add(Dense(1, activation='relu'))\n",
        "\n",
        "\n",
        "model.compile(optimizer = \"adam\", loss ='mse', \n",
        "          metrics =[\"accuracy\"])\n",
        "history = model.fit(X_train, y_train, epochs=100, batch_size=32)"
      ],
      "execution_count": 53,
      "outputs": [
        {
          "output_type": "stream",
          "text": [
            "Epoch 1/100\n",
            "16543/16543 [==============================] - 2s 91us/step - loss: 0.0014 - accuracy: 0.0241\n",
            "Epoch 2/100\n",
            "16543/16543 [==============================] - 1s 84us/step - loss: 0.0014 - accuracy: 0.0241\n",
            "Epoch 3/100\n",
            "16543/16543 [==============================] - 1s 85us/step - loss: 0.0014 - accuracy: 0.0241\n",
            "Epoch 4/100\n",
            "16543/16543 [==============================] - 1s 84us/step - loss: 0.0014 - accuracy: 0.0241\n",
            "Epoch 5/100\n",
            "16543/16543 [==============================] - 1s 84us/step - loss: 0.0014 - accuracy: 0.0241\n",
            "Epoch 6/100\n",
            "16543/16543 [==============================] - 1s 85us/step - loss: 0.0014 - accuracy: 0.0241\n",
            "Epoch 7/100\n",
            "16543/16543 [==============================] - 1s 84us/step - loss: 0.0014 - accuracy: 0.0241\n",
            "Epoch 8/100\n",
            "16543/16543 [==============================] - 1s 84us/step - loss: 0.0014 - accuracy: 0.0241\n",
            "Epoch 9/100\n",
            "16543/16543 [==============================] - 1s 86us/step - loss: 0.0014 - accuracy: 0.0241\n",
            "Epoch 10/100\n",
            "16543/16543 [==============================] - 1s 84us/step - loss: 0.0014 - accuracy: 0.0241\n",
            "Epoch 11/100\n",
            "16543/16543 [==============================] - 1s 86us/step - loss: 0.0014 - accuracy: 0.0241\n",
            "Epoch 12/100\n",
            "16543/16543 [==============================] - 1s 85us/step - loss: 0.0014 - accuracy: 0.0241\n",
            "Epoch 13/100\n",
            "16543/16543 [==============================] - 1s 83us/step - loss: 0.0014 - accuracy: 0.0241\n",
            "Epoch 14/100\n",
            "16543/16543 [==============================] - 1s 85us/step - loss: 0.0014 - accuracy: 0.0241\n",
            "Epoch 15/100\n",
            "16543/16543 [==============================] - 1s 85us/step - loss: 0.0014 - accuracy: 0.0241\n",
            "Epoch 16/100\n",
            "16543/16543 [==============================] - 1s 85us/step - loss: 0.0014 - accuracy: 0.0241\n",
            "Epoch 17/100\n",
            "16543/16543 [==============================] - 1s 85us/step - loss: 0.0014 - accuracy: 0.0241\n",
            "Epoch 18/100\n",
            "16543/16543 [==============================] - 1s 85us/step - loss: 0.0014 - accuracy: 0.0241\n",
            "Epoch 19/100\n",
            "16543/16543 [==============================] - 1s 84us/step - loss: 0.0014 - accuracy: 0.0241\n",
            "Epoch 20/100\n",
            "16543/16543 [==============================] - 1s 85us/step - loss: 0.0014 - accuracy: 0.0241\n",
            "Epoch 21/100\n",
            "16543/16543 [==============================] - 1s 84us/step - loss: 0.0014 - accuracy: 0.0241\n",
            "Epoch 22/100\n",
            "16543/16543 [==============================] - 1s 86us/step - loss: 0.0014 - accuracy: 0.0241\n",
            "Epoch 23/100\n",
            "16543/16543 [==============================] - 1s 84us/step - loss: 0.0014 - accuracy: 0.0241\n",
            "Epoch 24/100\n",
            "16543/16543 [==============================] - 1s 85us/step - loss: 0.0014 - accuracy: 0.0241\n",
            "Epoch 25/100\n",
            "16543/16543 [==============================] - 1s 86us/step - loss: 0.0014 - accuracy: 0.0241\n",
            "Epoch 26/100\n",
            "16543/16543 [==============================] - 1s 84us/step - loss: 0.0014 - accuracy: 0.0241\n",
            "Epoch 27/100\n",
            "16543/16543 [==============================] - 1s 82us/step - loss: 0.0014 - accuracy: 0.0241\n",
            "Epoch 28/100\n",
            "16543/16543 [==============================] - 1s 83us/step - loss: 0.0014 - accuracy: 0.0241\n",
            "Epoch 29/100\n",
            "16543/16543 [==============================] - 1s 83us/step - loss: 0.0014 - accuracy: 0.0241\n",
            "Epoch 30/100\n",
            "16543/16543 [==============================] - 1s 85us/step - loss: 0.0014 - accuracy: 0.0241\n",
            "Epoch 31/100\n",
            "16543/16543 [==============================] - 1s 84us/step - loss: 0.0014 - accuracy: 0.0241\n",
            "Epoch 32/100\n",
            "16543/16543 [==============================] - 1s 84us/step - loss: 0.0014 - accuracy: 0.0241\n",
            "Epoch 33/100\n",
            "16543/16543 [==============================] - 1s 83us/step - loss: 0.0014 - accuracy: 0.0241\n",
            "Epoch 34/100\n",
            "16543/16543 [==============================] - 1s 82us/step - loss: 0.0014 - accuracy: 0.0241\n",
            "Epoch 35/100\n",
            "16543/16543 [==============================] - 1s 83us/step - loss: 0.0014 - accuracy: 0.0241\n",
            "Epoch 36/100\n",
            "16543/16543 [==============================] - 1s 83us/step - loss: 0.0014 - accuracy: 0.0241\n",
            "Epoch 37/100\n",
            "16543/16543 [==============================] - 1s 84us/step - loss: 0.0014 - accuracy: 0.0241\n",
            "Epoch 38/100\n",
            "16543/16543 [==============================] - 1s 85us/step - loss: 0.0014 - accuracy: 0.0241\n",
            "Epoch 39/100\n",
            "16543/16543 [==============================] - 1s 83us/step - loss: 0.0014 - accuracy: 0.0241\n",
            "Epoch 40/100\n",
            "16543/16543 [==============================] - 1s 85us/step - loss: 0.0014 - accuracy: 0.0241\n",
            "Epoch 41/100\n",
            "16543/16543 [==============================] - 1s 84us/step - loss: 0.0014 - accuracy: 0.0241\n",
            "Epoch 42/100\n",
            "16543/16543 [==============================] - 1s 84us/step - loss: 0.0014 - accuracy: 0.0241\n",
            "Epoch 43/100\n",
            "16543/16543 [==============================] - 1s 85us/step - loss: 0.0014 - accuracy: 0.0241\n",
            "Epoch 44/100\n",
            "16543/16543 [==============================] - 1s 85us/step - loss: 0.0014 - accuracy: 0.0241\n",
            "Epoch 45/100\n",
            "16543/16543 [==============================] - 1s 86us/step - loss: 0.0014 - accuracy: 0.0241\n",
            "Epoch 46/100\n",
            "16543/16543 [==============================] - 1s 84us/step - loss: 0.0014 - accuracy: 0.0241\n",
            "Epoch 47/100\n",
            "16543/16543 [==============================] - 1s 85us/step - loss: 0.0014 - accuracy: 0.0241\n",
            "Epoch 48/100\n",
            "16543/16543 [==============================] - 1s 84us/step - loss: 0.0014 - accuracy: 0.0241\n",
            "Epoch 49/100\n",
            "16543/16543 [==============================] - 1s 87us/step - loss: 0.0014 - accuracy: 0.0241\n",
            "Epoch 50/100\n",
            "16543/16543 [==============================] - 1s 84us/step - loss: 0.0014 - accuracy: 0.0241\n",
            "Epoch 51/100\n",
            "16543/16543 [==============================] - 1s 85us/step - loss: 0.0014 - accuracy: 0.0241\n",
            "Epoch 52/100\n",
            "16543/16543 [==============================] - 1s 86us/step - loss: 0.0014 - accuracy: 0.0241\n",
            "Epoch 53/100\n",
            "16543/16543 [==============================] - 1s 84us/step - loss: 0.0014 - accuracy: 0.0241\n",
            "Epoch 54/100\n",
            "16543/16543 [==============================] - 1s 83us/step - loss: 0.0014 - accuracy: 0.0241\n",
            "Epoch 55/100\n",
            "16543/16543 [==============================] - 1s 84us/step - loss: 0.0014 - accuracy: 0.0241\n",
            "Epoch 56/100\n",
            "16543/16543 [==============================] - 1s 86us/step - loss: 0.0014 - accuracy: 0.0241\n",
            "Epoch 57/100\n",
            "16543/16543 [==============================] - 1s 83us/step - loss: 0.0014 - accuracy: 0.0241\n",
            "Epoch 58/100\n",
            "16543/16543 [==============================] - 1s 83us/step - loss: 0.0014 - accuracy: 0.0241\n",
            "Epoch 59/100\n",
            "16543/16543 [==============================] - 1s 83us/step - loss: 0.0014 - accuracy: 0.0241\n",
            "Epoch 60/100\n",
            "16543/16543 [==============================] - 1s 85us/step - loss: 0.0014 - accuracy: 0.0241\n",
            "Epoch 61/100\n",
            "16543/16543 [==============================] - 1s 84us/step - loss: 0.0014 - accuracy: 0.0241\n",
            "Epoch 62/100\n",
            "16543/16543 [==============================] - 1s 83us/step - loss: 0.0014 - accuracy: 0.0241\n",
            "Epoch 63/100\n",
            "16543/16543 [==============================] - 1s 84us/step - loss: 0.0014 - accuracy: 0.0241\n",
            "Epoch 64/100\n",
            "16543/16543 [==============================] - 1s 85us/step - loss: 0.0014 - accuracy: 0.0241\n",
            "Epoch 65/100\n",
            "16543/16543 [==============================] - 1s 85us/step - loss: 0.0014 - accuracy: 0.0241\n",
            "Epoch 66/100\n",
            "16543/16543 [==============================] - 1s 85us/step - loss: 0.0014 - accuracy: 0.0241\n",
            "Epoch 67/100\n",
            "16543/16543 [==============================] - 1s 83us/step - loss: 0.0014 - accuracy: 0.0241\n",
            "Epoch 68/100\n",
            "16543/16543 [==============================] - 1s 84us/step - loss: 0.0014 - accuracy: 0.0241\n",
            "Epoch 69/100\n",
            "16543/16543 [==============================] - 1s 85us/step - loss: 0.0014 - accuracy: 0.0241\n",
            "Epoch 70/100\n",
            "16543/16543 [==============================] - 1s 83us/step - loss: 0.0014 - accuracy: 0.0241\n",
            "Epoch 71/100\n",
            "16543/16543 [==============================] - 1s 85us/step - loss: 0.0014 - accuracy: 0.0241\n",
            "Epoch 72/100\n",
            "16543/16543 [==============================] - 1s 84us/step - loss: 0.0014 - accuracy: 0.0241\n",
            "Epoch 73/100\n",
            "16543/16543 [==============================] - 1s 83us/step - loss: 0.0014 - accuracy: 0.0241\n",
            "Epoch 74/100\n",
            "16543/16543 [==============================] - 1s 83us/step - loss: 0.0014 - accuracy: 0.0241\n",
            "Epoch 75/100\n",
            "16543/16543 [==============================] - 1s 85us/step - loss: 0.0014 - accuracy: 0.0241\n",
            "Epoch 76/100\n",
            "16543/16543 [==============================] - 1s 84us/step - loss: 0.0014 - accuracy: 0.0241\n",
            "Epoch 77/100\n",
            "16543/16543 [==============================] - 1s 84us/step - loss: 0.0014 - accuracy: 0.0241\n",
            "Epoch 78/100\n",
            "16543/16543 [==============================] - 1s 83us/step - loss: 0.0014 - accuracy: 0.0241\n",
            "Epoch 79/100\n",
            "16543/16543 [==============================] - 1s 85us/step - loss: 0.0014 - accuracy: 0.0241\n",
            "Epoch 80/100\n",
            "16543/16543 [==============================] - 1s 84us/step - loss: 0.0014 - accuracy: 0.0241\n",
            "Epoch 81/100\n",
            "16543/16543 [==============================] - 1s 83us/step - loss: 0.0014 - accuracy: 0.0241\n",
            "Epoch 82/100\n",
            "16543/16543 [==============================] - 1s 86us/step - loss: 0.0014 - accuracy: 0.0241\n",
            "Epoch 83/100\n",
            "16543/16543 [==============================] - 1s 88us/step - loss: 0.0014 - accuracy: 0.0241\n",
            "Epoch 84/100\n",
            "16543/16543 [==============================] - 1s 86us/step - loss: 0.0014 - accuracy: 0.0241\n",
            "Epoch 85/100\n",
            "16543/16543 [==============================] - 1s 86us/step - loss: 0.0014 - accuracy: 0.0241\n",
            "Epoch 86/100\n",
            "16543/16543 [==============================] - 1s 86us/step - loss: 0.0014 - accuracy: 0.0241\n",
            "Epoch 87/100\n",
            "16543/16543 [==============================] - 1s 88us/step - loss: 0.0014 - accuracy: 0.0241\n",
            "Epoch 88/100\n",
            "16543/16543 [==============================] - 1s 84us/step - loss: 0.0014 - accuracy: 0.0241\n",
            "Epoch 89/100\n",
            "16543/16543 [==============================] - 1s 85us/step - loss: 0.0014 - accuracy: 0.0241\n",
            "Epoch 90/100\n",
            "16543/16543 [==============================] - 1s 83us/step - loss: 0.0014 - accuracy: 0.0241\n",
            "Epoch 91/100\n",
            "16543/16543 [==============================] - 1s 83us/step - loss: 0.0014 - accuracy: 0.0241\n",
            "Epoch 92/100\n",
            "16543/16543 [==============================] - 1s 83us/step - loss: 0.0014 - accuracy: 0.0241\n",
            "Epoch 93/100\n",
            "16543/16543 [==============================] - 1s 84us/step - loss: 0.0014 - accuracy: 0.0241\n",
            "Epoch 94/100\n",
            "16543/16543 [==============================] - 1s 85us/step - loss: 0.0014 - accuracy: 0.0241\n",
            "Epoch 95/100\n",
            "16543/16543 [==============================] - 1s 85us/step - loss: 0.0014 - accuracy: 0.0241\n",
            "Epoch 96/100\n",
            "16543/16543 [==============================] - 1s 83us/step - loss: 0.0014 - accuracy: 0.0241\n",
            "Epoch 97/100\n",
            "16543/16543 [==============================] - 1s 85us/step - loss: 0.0014 - accuracy: 0.0241\n",
            "Epoch 98/100\n",
            "16543/16543 [==============================] - 1s 87us/step - loss: 0.0014 - accuracy: 0.0241\n",
            "Epoch 99/100\n",
            "16543/16543 [==============================] - 2s 92us/step - loss: 0.0014 - accuracy: 0.0241\n",
            "Epoch 100/100\n",
            "16543/16543 [==============================] - 2s 96us/step - loss: 0.0014 - accuracy: 0.0241\n"
          ],
          "name": "stdout"
        }
      ]
    },
    {
      "cell_type": "code",
      "metadata": {
        "id": "txen3N-yvsAt",
        "colab_type": "code",
        "outputId": "d92910f9-acb2-446b-fe6b-a5b061aad92f",
        "colab": {
          "base_uri": "https://localhost:8080/",
          "height": 368
        }
      },
      "source": [
        "print(history.history.keys())\n",
        "# \"Loss\"\n",
        "plt.plot(history.history['loss'])\n",
        "plt.title('model loss')\n",
        "plt.ylabel('loss')\n",
        "plt.xlabel('epoch')\n",
        "plt.legend(['train'], loc='upper left')\n",
        "plt.show()\n",
        "y_pred = model.predict(X_test)\n",
        "print('mean squared error : ',mean_squared_error(y_test,y_pred))\n",
        "print('mean absolute error : ',mean_absolute_error(y_test,prediction))\n",
        "print(r2_score(y_test,prediction))\n",
        "#Converting predictions to label\n"
      ],
      "execution_count": 54,
      "outputs": [
        {
          "output_type": "stream",
          "text": [
            "dict_keys(['loss', 'accuracy'])\n"
          ],
          "name": "stdout"
        },
        {
          "output_type": "display_data",
          "data": {
            "image/png": "[encoded data removed]",
            "text/plain": [
              "<Figure size 432x288 with 1 Axes>"
            ]
          },
          "metadata": {
            "tags": [],
            "needs_background": "light"
          }
        },
        {
          "output_type": "stream",
          "text": [
            "mean squared error :  0.0010239063688633951\n",
            "mean absolute error :  0.004835440662251857\n",
            "0.021171752513030384\n"
          ],
          "name": "stdout"
        }
      ]
    },
    {
      "cell_type": "code",
      "metadata": {
        "id": "kErB8NCcdyHM",
        "colab_type": "code",
        "outputId": "79ce7680-8b91-4d4a-a816-59564bd29022",
        "colab": {
          "base_uri": "https://localhost:8080/",
          "height": 281
        }
      },
      "source": [
        "plt.plot(y_test[0:100], color = 'black', label = 'TRUTH')\n",
        "plt.plot(prediction[0:100], color = 'green', label = 'PREDICTION')\n",
        "plt.title('Neural network PERFORMANCE ON TEST SET')\n",
        "plt.ylabel('PM2.5')\n",
        "plt.legend()\n",
        "plt.show()"
      ],
      "execution_count": 55,
      "outputs": [
        {
          "output_type": "display_data",
          "data": {
            "image/png": "[encoded data removed]",
            "text/plain": [
              "<Figure size 432x288 with 1 Axes>"
            ]
          },
          "metadata": {
            "tags": [],
            "needs_background": "light"
          }
        }
      ]
    },
    {
      "cell_type": "code",
      "metadata": {
        "id": "TTfaJJDaHGg9",
        "colab_type": "code",
        "outputId": "b5133e0d-211e-493b-92e9-f3ff33313981",
        "colab": {
          "base_uri": "https://localhost:8080/",
          "height": 182
        }
      },
      "source": [
        "print(X_train)\n",
        "X_train=np.asarray(X_train)\n",
        "X_test=np.asarray(X_test)\n",
        "y_train=np.asarray(y_train)\n",
        "y_test=np.asarray(y_test)\n",
        "\n",
        "print(X_train.shape)\n",
        "X_train=X_train.reshape(X_train.shape[0],X_train.shape[1],1)\n",
        "print(X_train.shape)"
      ],
      "execution_count": 56,
      "outputs": [
        {
          "output_type": "stream",
          "text": [
            "[[0.0254065  0.02743902 0.0304878  0.0304878 ]\n",
            " [0.         0.00101626 0.00101626 0.00101626]\n",
            " [0.0101626  0.01117886 0.00914634 0.01422764]\n",
            " ...\n",
            " [0.05792683 0.09756098 0.09247967 0.07520325]\n",
            " [0.01422764 0.01117886 0.0101626  0.00711382]\n",
            " [0.00304878 0.0050813  0.00304878 0.        ]]\n",
            "(16543, 4)\n",
            "(16543, 4, 1)\n"
          ],
          "name": "stdout"
        }
      ]
    },
    {
      "cell_type": "code",
      "metadata": {
        "id": "FFUuCp8g1vzB",
        "colab_type": "code",
        "outputId": "b1c9d228-858f-474c-f7ac-caf10e812b44",
        "colab": {
          "base_uri": "https://localhost:8080/",
          "height": 1000
        }
      },
      "source": [
        "from keras.models import Sequential\n",
        "from keras.layers import Dense\n",
        "from keras.layers import LSTM\n",
        "from keras.layers import Dropout\n",
        "regressor = Sequential()\n",
        "\n",
        "regressor.add(LSTM(units = 50, return_sequences = True, input_shape = (X_train.shape[1], 1)))\n",
        "#regressor.add(Dropout(0.2))\n",
        "\n",
        "regressor.add(LSTM(units = 50, return_sequences = True))\n",
        "#regressor.add(Dropout(0.2))\n",
        "\n",
        "regressor.add(LSTM(units = 50, return_sequences = True))\n",
        "#regressor.add(Dropout(0.2))\n",
        "\n",
        "regressor.add(LSTM(units = 50))\n",
        "#regressor.add(Dropout(0.2))\n",
        "\n",
        "regressor.add(Dense(units = 1))\n",
        "\n",
        "regressor.compile(optimizer = 'adam', loss = 'mean_squared_error')\n",
        "\n",
        "history = regressor.fit(X_train, y_train, epochs = 100, batch_size = 32)"
      ],
      "execution_count": 57,
      "outputs": [
        {
          "output_type": "stream",
          "text": [
            "Epoch 1/100\n",
            "16543/16543 [==============================] - 18s 1ms/step - loss: 6.7366e-04\n",
            "Epoch 2/100\n",
            "16543/16543 [==============================] - 17s 1ms/step - loss: 5.9870e-04\n",
            "Epoch 3/100\n",
            "16543/16543 [==============================] - 17s 1ms/step - loss: 5.8062e-04\n",
            "Epoch 4/100\n",
            "16543/16543 [==============================] - 16s 984us/step - loss: 5.7056e-04\n",
            "Epoch 5/100\n",
            "16543/16543 [==============================] - 16s 976us/step - loss: 5.5501e-04\n",
            "Epoch 6/100\n",
            "16543/16543 [==============================] - 16s 984us/step - loss: 5.4336e-04\n",
            "Epoch 7/100\n",
            "16543/16543 [==============================] - 16s 976us/step - loss: 5.2696e-04\n",
            "Epoch 8/100\n",
            "16543/16543 [==============================] - 16s 969us/step - loss: 5.2027e-04\n",
            "Epoch 9/100\n",
            "16543/16543 [==============================] - 16s 966us/step - loss: 5.1931e-04\n",
            "Epoch 10/100\n",
            "16543/16543 [==============================] - 16s 972us/step - loss: 5.1933e-04\n",
            "Epoch 11/100\n",
            "16543/16543 [==============================] - 16s 977us/step - loss: 5.2028e-04\n",
            "Epoch 12/100\n",
            "16543/16543 [==============================] - 16s 968us/step - loss: 5.2165e-04\n",
            "Epoch 13/100\n",
            "16543/16543 [==============================] - 16s 974us/step - loss: 5.1698e-04\n",
            "Epoch 14/100\n",
            "16543/16543 [==============================] - 16s 969us/step - loss: 5.1858e-04\n",
            "Epoch 15/100\n",
            "16543/16543 [==============================] - 16s 981us/step - loss: 5.1789e-04\n",
            "Epoch 16/100\n",
            "16543/16543 [==============================] - 16s 978us/step - loss: 5.1748e-04\n",
            "Epoch 17/100\n",
            "16543/16543 [==============================] - 16s 973us/step - loss: 5.1496e-04\n",
            "Epoch 18/100\n",
            "16543/16543 [==============================] - 16s 978us/step - loss: 5.1605e-04\n",
            "Epoch 19/100\n",
            "16543/16543 [==============================] - 16s 981us/step - loss: 5.1719e-04\n",
            "Epoch 20/100\n",
            "16543/16543 [==============================] - 16s 985us/step - loss: 5.1465e-04\n",
            "Epoch 21/100\n",
            "16543/16543 [==============================] - 16s 967us/step - loss: 5.1461e-04\n",
            "Epoch 22/100\n",
            "16543/16543 [==============================] - 16s 975us/step - loss: 5.1397e-04\n",
            "Epoch 23/100\n",
            "16543/16543 [==============================] - 16s 972us/step - loss: 5.1401e-04\n",
            "Epoch 24/100\n",
            "16543/16543 [==============================] - 16s 990us/step - loss: 5.1385e-04\n",
            "Epoch 25/100\n",
            "16543/16543 [==============================] - 16s 981us/step - loss: 5.1399e-04\n",
            "Epoch 26/100\n",
            "16543/16543 [==============================] - 16s 993us/step - loss: 5.1521e-04\n",
            "Epoch 27/100\n",
            "16543/16543 [==============================] - 16s 989us/step - loss: 5.1477e-04\n",
            "Epoch 28/100\n",
            "16543/16543 [==============================] - 16s 985us/step - loss: 5.1288e-04\n",
            "Epoch 29/100\n",
            "16543/16543 [==============================] - 16s 970us/step - loss: 5.1417e-04\n",
            "Epoch 30/100\n",
            "16543/16543 [==============================] - 16s 980us/step - loss: 5.1399e-04\n",
            "Epoch 31/100\n",
            "16543/16543 [==============================] - 16s 966us/step - loss: 5.1293e-04\n",
            "Epoch 32/100\n",
            "16543/16543 [==============================] - 16s 973us/step - loss: 5.1169e-04\n",
            "Epoch 33/100\n",
            "16543/16543 [==============================] - 16s 976us/step - loss: 5.1509e-04\n",
            "Epoch 34/100\n",
            "16543/16543 [==============================] - 16s 965us/step - loss: 5.1281e-04\n",
            "Epoch 35/100\n",
            "16543/16543 [==============================] - 16s 976us/step - loss: 5.1313e-04\n",
            "Epoch 36/100\n",
            "16543/16543 [==============================] - 16s 963us/step - loss: 5.1364e-04\n",
            "Epoch 37/100\n",
            "16543/16543 [==============================] - 16s 978us/step - loss: 5.1198e-04\n",
            "Epoch 38/100\n",
            "16543/16543 [==============================] - 16s 963us/step - loss: 5.1313e-04\n",
            "Epoch 39/100\n",
            "16543/16543 [==============================] - 16s 982us/step - loss: 5.1321e-04\n",
            "Epoch 40/100\n",
            "16543/16543 [==============================] - 16s 978us/step - loss: 5.1271e-04\n",
            "Epoch 41/100\n",
            "16543/16543 [==============================] - 16s 991us/step - loss: 5.1572e-04\n",
            "Epoch 42/100\n",
            "16543/16543 [==============================] - 16s 987us/step - loss: 5.1337e-04\n",
            "Epoch 43/100\n",
            "16543/16543 [==============================] - 16s 986us/step - loss: 5.1342e-04\n",
            "Epoch 44/100\n",
            "16543/16543 [==============================] - 16s 969us/step - loss: 5.1223e-04\n",
            "Epoch 45/100\n",
            "16543/16543 [==============================] - 16s 981us/step - loss: 5.1141e-04\n",
            "Epoch 46/100\n",
            "16543/16543 [==============================] - 16s 970us/step - loss: 5.1456e-04\n",
            "Epoch 47/100\n",
            "16543/16543 [==============================] - 16s 974us/step - loss: 5.1194e-04\n",
            "Epoch 48/100\n",
            "16543/16543 [==============================] - 16s 967us/step - loss: 5.1295e-04\n",
            "Epoch 49/100\n",
            "16543/16543 [==============================] - 16s 972us/step - loss: 5.1079e-04\n",
            "Epoch 50/100\n",
            "16543/16543 [==============================] - 16s 973us/step - loss: 5.1269e-04\n",
            "Epoch 51/100\n",
            "16543/16543 [==============================] - 16s 965us/step - loss: 5.1224e-04\n",
            "Epoch 52/100\n",
            "16543/16543 [==============================] - 16s 967us/step - loss: 5.1314e-04\n",
            "Epoch 53/100\n",
            "16543/16543 [==============================] - 16s 964us/step - loss: 5.1189e-04\n",
            "Epoch 54/100\n",
            "16543/16543 [==============================] - 16s 957us/step - loss: 5.1194e-04\n",
            "Epoch 55/100\n",
            "16543/16543 [==============================] - 16s 963us/step - loss: 5.1263e-04\n",
            "Epoch 56/100\n",
            "16543/16543 [==============================] - 16s 987us/step - loss: 5.1252e-04\n",
            "Epoch 57/100\n",
            "16543/16543 [==============================] - 16s 973us/step - loss: 5.1179e-04\n",
            "Epoch 58/100\n",
            "16543/16543 [==============================] - 16s 984us/step - loss: 5.1097e-04\n",
            "Epoch 59/100\n",
            "16543/16543 [==============================] - 16s 975us/step - loss: 5.1209e-04\n",
            "Epoch 60/100\n",
            "16543/16543 [==============================] - 16s 973us/step - loss: 5.1198e-04\n",
            "Epoch 61/100\n",
            "16543/16543 [==============================] - 16s 960us/step - loss: 5.1332e-04\n",
            "Epoch 62/100\n",
            "16543/16543 [==============================] - 16s 967us/step - loss: 5.1122e-04\n",
            "Epoch 63/100\n",
            "16543/16543 [==============================] - 16s 966us/step - loss: 5.1190e-04\n",
            "Epoch 64/100\n",
            "16543/16543 [==============================] - 16s 955us/step - loss: 5.1080e-04\n",
            "Epoch 65/100\n",
            "16543/16543 [==============================] - 16s 963us/step - loss: 5.1280e-04\n",
            "Epoch 66/100\n",
            "16543/16543 [==============================] - 16s 964us/step - loss: 5.1074e-04\n",
            "Epoch 67/100\n",
            "16543/16543 [==============================] - 16s 971us/step - loss: 5.1123e-04\n",
            "Epoch 68/100\n",
            "16543/16543 [==============================] - 16s 955us/step - loss: 5.1043e-04\n",
            "Epoch 69/100\n",
            "16543/16543 [==============================] - 16s 962us/step - loss: 5.1144e-04\n",
            "Epoch 70/100\n",
            "16543/16543 [==============================] - 16s 959us/step - loss: 5.1158e-04\n",
            "Epoch 71/100\n",
            "16543/16543 [==============================] - 16s 976us/step - loss: 5.0981e-04\n",
            "Epoch 72/100\n",
            "16543/16543 [==============================] - 16s 967us/step - loss: 5.1062e-04\n",
            "Epoch 73/100\n",
            "16543/16543 [==============================] - 16s 982us/step - loss: 5.1039e-04\n",
            "Epoch 74/100\n",
            "16543/16543 [==============================] - 16s 962us/step - loss: 5.1033e-04\n",
            "Epoch 75/100\n",
            "16543/16543 [==============================] - 16s 975us/step - loss: 5.0984e-04\n",
            "Epoch 76/100\n",
            "16543/16543 [==============================] - 16s 975us/step - loss: 5.1026e-04\n",
            "Epoch 77/100\n",
            "16543/16543 [==============================] - 16s 972us/step - loss: 5.1089e-04\n",
            "Epoch 78/100\n",
            "16543/16543 [==============================] - 16s 963us/step - loss: 5.1052e-04\n",
            "Epoch 79/100\n",
            "16543/16543 [==============================] - 16s 959us/step - loss: 5.1095e-04\n",
            "Epoch 80/100\n",
            "16543/16543 [==============================] - 16s 969us/step - loss: 5.1167e-04\n",
            "Epoch 81/100\n",
            "16543/16543 [==============================] - 16s 974us/step - loss: 5.0986e-04\n",
            "Epoch 82/100\n",
            "16543/16543 [==============================] - 16s 968us/step - loss: 5.1125e-04\n",
            "Epoch 83/100\n",
            "16543/16543 [==============================] - 16s 956us/step - loss: 5.1131e-04\n",
            "Epoch 84/100\n",
            "16543/16543 [==============================] - 16s 957us/step - loss: 5.1118e-04\n",
            "Epoch 85/100\n",
            "16543/16543 [==============================] - 16s 951us/step - loss: 5.1080e-04\n",
            "Epoch 86/100\n",
            "16543/16543 [==============================] - 16s 956us/step - loss: 5.1119e-04\n",
            "Epoch 87/100\n",
            "16543/16543 [==============================] - 16s 957us/step - loss: 5.1165e-04\n",
            "Epoch 88/100\n",
            "16543/16543 [==============================] - 16s 955us/step - loss: 5.1049e-04\n",
            "Epoch 89/100\n",
            "16543/16543 [==============================] - 16s 956us/step - loss: 5.1069e-04\n",
            "Epoch 90/100\n",
            "16543/16543 [==============================] - 16s 954us/step - loss: 5.0947e-04\n",
            "Epoch 91/100\n",
            "16543/16543 [==============================] - 16s 957us/step - loss: 5.1289e-04\n",
            "Epoch 92/100\n",
            "16543/16543 [==============================] - 16s 961us/step - loss: 5.0998e-04\n",
            "Epoch 93/100\n",
            "16543/16543 [==============================] - 16s 966us/step - loss: 5.1083e-04\n",
            "Epoch 94/100\n",
            "16543/16543 [==============================] - 16s 960us/step - loss: 5.0913e-04\n",
            "Epoch 95/100\n",
            "16543/16543 [==============================] - 16s 959us/step - loss: 5.1217e-04\n",
            "Epoch 96/100\n",
            "16543/16543 [==============================] - 16s 967us/step - loss: 5.0945e-04\n",
            "Epoch 97/100\n",
            "16543/16543 [==============================] - 16s 993us/step - loss: 5.1034e-04\n",
            "Epoch 98/100\n",
            "16543/16543 [==============================] - 16s 969us/step - loss: 5.1004e-04\n",
            "Epoch 99/100\n",
            "16543/16543 [==============================] - 16s 960us/step - loss: 5.0896e-04\n",
            "Epoch 100/100\n",
            "16543/16543 [==============================] - 16s 968us/step - loss: 5.1036e-04\n"
          ],
          "name": "stdout"
        }
      ]
    },
    {
      "cell_type": "code",
      "metadata": {
        "id": "GvEtr3IPv0Sh",
        "colab_type": "code",
        "outputId": "d968cd19-5d4c-429b-b2f4-781db972b6d3",
        "colab": {
          "base_uri": "https://localhost:8080/",
          "height": 368
        }
      },
      "source": [
        "print(history.history.keys())\n",
        "# \"Loss\"\n",
        "plt.plot(history.history['loss'])\n",
        "plt.title('model loss')\n",
        "plt.ylabel('loss')\n",
        "plt.xlabel('epoch')\n",
        "plt.legend(['train'], loc='upper left')\n",
        "plt.show()\n",
        "X_test=X_test.reshape(X_test.shape[0],X_test.shape[1],1)\n",
        "prediction = regressor.predict(X_test)\n",
        "print(\"mean square error :\" ,mean_squared_error(y_test,prediction))\n",
        "from sklearn.metrics import mean_absolute_error\n",
        "print(\"mean absolute error : \",mean_absolute_error(y_test,prediction))\n",
        "print(r2_score(y_test,prediction))"
      ],
      "execution_count": 58,
      "outputs": [
        {
          "output_type": "stream",
          "text": [
            "dict_keys(['loss'])\n"
          ],
          "name": "stdout"
        },
        {
          "output_type": "display_data",
          "data": {
            "image/png": "[encoded data removed]",
            "text/plain": [
              "<Figure size 432x288 with 1 Axes>"
            ]
          },
          "metadata": {
            "tags": [],
            "needs_background": "light"
          }
        },
        {
          "output_type": "stream",
          "text": [
            "mean square error : 0.00016037168130612968\n",
            "mean absolute error :  0.004371579878287073\n",
            "0.6768955521765638\n"
          ],
          "name": "stdout"
        }
      ]
    },
    {
      "cell_type": "code",
      "metadata": {
        "id": "64suBIQS8DmU",
        "colab_type": "code",
        "outputId": "b033e39c-6b1b-4dcb-d52a-381ae9692069",
        "colab": {
          "base_uri": "https://localhost:8080/",
          "height": 281
        }
      },
      "source": [
        "plt.plot(y_test[0:100], color = 'black', label = 'TRUTH')\n",
        "plt.plot(prediction[0:100], color = 'green', label = 'PREDICTION')\n",
        "plt.title('LSTM PERFORMANCE ON TEST SET')\n",
        "plt.ylabel('PM2.5')\n",
        "plt.legend()\n",
        "plt.show()"
      ],
      "execution_count": 59,
      "outputs": [
        {
          "output_type": "display_data",
          "data": {
            "image/png": "[encoded data removed]",
            "text/plain": [
              "<Figure size 432x288 with 1 Axes>"
            ]
          },
          "metadata": {
            "tags": [],
            "needs_background": "light"
          }
        }
      ]
    },
    {
      "cell_type": "code",
      "metadata": {
        "id": "J2R-4HX3NL8E",
        "colab_type": "code",
        "colab": {}
      },
      "source": [
        ""
      ],
      "execution_count": 0,
      "outputs": []
    }
  ]
}