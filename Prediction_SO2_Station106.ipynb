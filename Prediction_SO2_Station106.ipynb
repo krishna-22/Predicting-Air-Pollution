{
  "nbformat": 4,
  "nbformat_minor": 0,
  "metadata": {
    "colab": {
      "name": "Prediction_SO2_Station106.ipynb",
      "provenance": [],
      "collapsed_sections": []
    },
    "kernelspec": {
      "name": "python3",
      "display_name": "Python 3"
    },
    "accelerator": "GPU"
  },
  "cells": [
    {
      "cell_type": "code",
      "metadata": {
        "id": "PBbQmfZ-ELYM",
        "colab_type": "code",
        "colab": {}
      },
      "source": [
        ""
      ],
      "execution_count": 0,
      "outputs": []
    },
    {
      "cell_type": "code",
      "metadata": {
        "id": "r4m1QUD8Lt4y",
        "colab_type": "code",
        "colab": {}
      },
      "source": [
        "#!unzip air-pollution-in-seoul.zip"
      ],
      "execution_count": 0,
      "outputs": []
    },
    {
      "cell_type": "code",
      "metadata": {
        "id": "aLafiv1zMqa3",
        "colab_type": "code",
        "outputId": "b4903620-3663-41b8-87f0-f6c664825010",
        "colab": {
          "base_uri": "https://localhost:8080/",
          "height": 35
        }
      },
      "source": [
        "import pandas as pd\n",
        "import numpy as np\n",
        "import pickle\n",
        "from sklearn.externals import joblib \n",
        "% matplotlib inline\n",
        "import matplotlib.pyplot as plt\n",
        "from google.colab import drive\n",
        "from google.colab import drive\n",
        "drive.mount('/content/drive')"
      ],
      "execution_count": 168,
      "outputs": [
        {
          "output_type": "stream",
          "text": [
            "Drive already mounted at /content/drive; to attempt to forcibly remount, call drive.mount(\"/content/drive\", force_remount=True).\n"
          ],
          "name": "stdout"
        }
      ]
    },
    {
      "cell_type": "code",
      "metadata": {
        "id": "nZUi7009M9kN",
        "colab_type": "code",
        "outputId": "712a9d7d-b3bc-40b4-aea5-016d281aee9e",
        "colab": {
          "base_uri": "https://localhost:8080/",
          "height": 363
        }
      },
      "source": [
        "data = pd.read_csv('/content/drive/My Drive/Dataset/Measurement_summary.csv')\n",
        "data.head(10)"
      ],
      "execution_count": 169,
      "outputs": [
        {
          "output_type": "execute_result",
          "data": {
            "text/html": [
              "<div>\n",
              "<style scoped>\n",
              "    .dataframe tbody tr th:only-of-type {\n",
              "        vertical-align: middle;\n",
              "    }\n",
              "\n",
              "    .dataframe tbody tr th {\n",
              "        vertical-align: top;\n",
              "    }\n",
              "\n",
              "    .dataframe thead th {\n",
              "        text-align: right;\n",
              "    }\n",
              "</style>\n",
              "<table border=\"1\" class=\"dataframe\">\n",
              "  <thead>\n",
              "    <tr style=\"text-align: right;\">\n",
              "      <th></th>\n",
              "      <th>Measurement date</th>\n",
              "      <th>Station code</th>\n",
              "      <th>Address</th>\n",
              "      <th>Latitude</th>\n",
              "      <th>Longitude</th>\n",
              "      <th>SO2</th>\n",
              "      <th>NO2</th>\n",
              "      <th>O3</th>\n",
              "      <th>CO</th>\n",
              "      <th>PM10</th>\n",
              "      <th>PM2.5</th>\n",
              "    </tr>\n",
              "  </thead>\n",
              "  <tbody>\n",
              "    <tr>\n",
              "      <th>0</th>\n",
              "      <td>2017-01-01 00:00</td>\n",
              "      <td>101</td>\n",
              "      <td>19, Jong-ro 35ga-gil, Jongno-gu, Seoul, Republ...</td>\n",
              "      <td>37.572016</td>\n",
              "      <td>127.005007</td>\n",
              "      <td>0.004</td>\n",
              "      <td>0.059</td>\n",
              "      <td>0.002</td>\n",
              "      <td>1.2</td>\n",
              "      <td>73.0</td>\n",
              "      <td>57.0</td>\n",
              "    </tr>\n",
              "    <tr>\n",
              "      <th>1</th>\n",
              "      <td>2017-01-01 01:00</td>\n",
              "      <td>101</td>\n",
              "      <td>19, Jong-ro 35ga-gil, Jongno-gu, Seoul, Republ...</td>\n",
              "      <td>37.572016</td>\n",
              "      <td>127.005007</td>\n",
              "      <td>0.004</td>\n",
              "      <td>0.058</td>\n",
              "      <td>0.002</td>\n",
              "      <td>1.2</td>\n",
              "      <td>71.0</td>\n",
              "      <td>59.0</td>\n",
              "    </tr>\n",
              "    <tr>\n",
              "      <th>2</th>\n",
              "      <td>2017-01-01 02:00</td>\n",
              "      <td>101</td>\n",
              "      <td>19, Jong-ro 35ga-gil, Jongno-gu, Seoul, Republ...</td>\n",
              "      <td>37.572016</td>\n",
              "      <td>127.005007</td>\n",
              "      <td>0.004</td>\n",
              "      <td>0.056</td>\n",
              "      <td>0.002</td>\n",
              "      <td>1.2</td>\n",
              "      <td>70.0</td>\n",
              "      <td>59.0</td>\n",
              "    </tr>\n",
              "    <tr>\n",
              "      <th>3</th>\n",
              "      <td>2017-01-01 03:00</td>\n",
              "      <td>101</td>\n",
              "      <td>19, Jong-ro 35ga-gil, Jongno-gu, Seoul, Republ...</td>\n",
              "      <td>37.572016</td>\n",
              "      <td>127.005007</td>\n",
              "      <td>0.004</td>\n",
              "      <td>0.056</td>\n",
              "      <td>0.002</td>\n",
              "      <td>1.2</td>\n",
              "      <td>70.0</td>\n",
              "      <td>58.0</td>\n",
              "    </tr>\n",
              "    <tr>\n",
              "      <th>4</th>\n",
              "      <td>2017-01-01 04:00</td>\n",
              "      <td>101</td>\n",
              "      <td>19, Jong-ro 35ga-gil, Jongno-gu, Seoul, Republ...</td>\n",
              "      <td>37.572016</td>\n",
              "      <td>127.005007</td>\n",
              "      <td>0.003</td>\n",
              "      <td>0.051</td>\n",
              "      <td>0.002</td>\n",
              "      <td>1.2</td>\n",
              "      <td>69.0</td>\n",
              "      <td>61.0</td>\n",
              "    </tr>\n",
              "    <tr>\n",
              "      <th>5</th>\n",
              "      <td>2017-01-01 05:00</td>\n",
              "      <td>101</td>\n",
              "      <td>19, Jong-ro 35ga-gil, Jongno-gu, Seoul, Republ...</td>\n",
              "      <td>37.572016</td>\n",
              "      <td>127.005007</td>\n",
              "      <td>0.003</td>\n",
              "      <td>0.046</td>\n",
              "      <td>0.002</td>\n",
              "      <td>1.1</td>\n",
              "      <td>70.0</td>\n",
              "      <td>61.0</td>\n",
              "    </tr>\n",
              "    <tr>\n",
              "      <th>6</th>\n",
              "      <td>2017-01-01 06:00</td>\n",
              "      <td>101</td>\n",
              "      <td>19, Jong-ro 35ga-gil, Jongno-gu, Seoul, Republ...</td>\n",
              "      <td>37.572016</td>\n",
              "      <td>127.005007</td>\n",
              "      <td>0.003</td>\n",
              "      <td>0.049</td>\n",
              "      <td>0.002</td>\n",
              "      <td>1.1</td>\n",
              "      <td>66.0</td>\n",
              "      <td>57.0</td>\n",
              "    </tr>\n",
              "    <tr>\n",
              "      <th>7</th>\n",
              "      <td>2017-01-01 07:00</td>\n",
              "      <td>101</td>\n",
              "      <td>19, Jong-ro 35ga-gil, Jongno-gu, Seoul, Republ...</td>\n",
              "      <td>37.572016</td>\n",
              "      <td>127.005007</td>\n",
              "      <td>0.003</td>\n",
              "      <td>0.045</td>\n",
              "      <td>0.002</td>\n",
              "      <td>1.0</td>\n",
              "      <td>71.0</td>\n",
              "      <td>60.0</td>\n",
              "    </tr>\n",
              "    <tr>\n",
              "      <th>8</th>\n",
              "      <td>2017-01-01 08:00</td>\n",
              "      <td>101</td>\n",
              "      <td>19, Jong-ro 35ga-gil, Jongno-gu, Seoul, Republ...</td>\n",
              "      <td>37.572016</td>\n",
              "      <td>127.005007</td>\n",
              "      <td>0.004</td>\n",
              "      <td>0.047</td>\n",
              "      <td>0.002</td>\n",
              "      <td>1.1</td>\n",
              "      <td>72.0</td>\n",
              "      <td>60.0</td>\n",
              "    </tr>\n",
              "    <tr>\n",
              "      <th>9</th>\n",
              "      <td>2017-01-01 09:00</td>\n",
              "      <td>101</td>\n",
              "      <td>19, Jong-ro 35ga-gil, Jongno-gu, Seoul, Republ...</td>\n",
              "      <td>37.572016</td>\n",
              "      <td>127.005007</td>\n",
              "      <td>0.003</td>\n",
              "      <td>0.047</td>\n",
              "      <td>0.002</td>\n",
              "      <td>1.1</td>\n",
              "      <td>74.0</td>\n",
              "      <td>63.0</td>\n",
              "    </tr>\n",
              "  </tbody>\n",
              "</table>\n",
              "</div>"
            ],
            "text/plain": [
              "   Measurement date  Station code  ...  PM10  PM2.5\n",
              "0  2017-01-01 00:00           101  ...  73.0   57.0\n",
              "1  2017-01-01 01:00           101  ...  71.0   59.0\n",
              "2  2017-01-01 02:00           101  ...  70.0   59.0\n",
              "3  2017-01-01 03:00           101  ...  70.0   58.0\n",
              "4  2017-01-01 04:00           101  ...  69.0   61.0\n",
              "5  2017-01-01 05:00           101  ...  70.0   61.0\n",
              "6  2017-01-01 06:00           101  ...  66.0   57.0\n",
              "7  2017-01-01 07:00           101  ...  71.0   60.0\n",
              "8  2017-01-01 08:00           101  ...  72.0   60.0\n",
              "9  2017-01-01 09:00           101  ...  74.0   63.0\n",
              "\n",
              "[10 rows x 11 columns]"
            ]
          },
          "metadata": {
            "tags": []
          },
          "execution_count": 169
        }
      ]
    },
    {
      "cell_type": "code",
      "metadata": {
        "id": "cFj-Od2FNYr7",
        "colab_type": "code",
        "outputId": "916fb9bd-9470-4511-f5ee-b2344112e4d8",
        "colab": {
          "base_uri": "https://localhost:8080/",
          "height": 276
        }
      },
      "source": [
        "# Retriving data for station code 106 for SO2\n",
        "data_106=data[(data['Station code']==106) & (data['SO2']>0)]\n",
        "print(len(data_106))\n",
        "print(data_106.head(10))"
      ],
      "execution_count": 170,
      "outputs": [
        {
          "output_type": "stream",
          "text": [
            "25119\n",
            "        Measurement date  Station code  ...  PM10  PM2.5\n",
            "129500  2017-01-01 00:00           106  ...  71.0   62.0\n",
            "129501  2017-01-01 01:00           106  ...  70.0   62.0\n",
            "129502  2017-01-01 02:00           106  ...  72.0   63.0\n",
            "129503  2017-01-01 03:00           106  ...  66.0   60.0\n",
            "129504  2017-01-01 04:00           106  ...  66.0   61.0\n",
            "129505  2017-01-01 05:00           106  ...  65.0   58.0\n",
            "129506  2017-01-01 06:00           106  ...  64.0   58.0\n",
            "129507  2017-01-01 07:00           106  ...  63.0   56.0\n",
            "129508  2017-01-01 08:00           106  ...  67.0   59.0\n",
            "129509  2017-01-01 09:00           106  ...  66.0   63.0\n",
            "\n",
            "[10 rows x 11 columns]\n"
          ],
          "name": "stdout"
        }
      ]
    },
    {
      "cell_type": "code",
      "metadata": {
        "id": "gWDS6JoqXlfP",
        "colab_type": "code",
        "outputId": "6fe5c19e-d90b-45a7-ad8c-eba323b19b81",
        "colab": {
          "base_uri": "https://localhost:8080/",
          "height": 297
        }
      },
      "source": [
        "import seaborn as sns\n",
        "sns.boxplot(data_106['SO2'])"
      ],
      "execution_count": 171,
      "outputs": [
        {
          "output_type": "execute_result",
          "data": {
            "text/plain": [
              "<matplotlib.axes._subplots.AxesSubplot at 0x7fb2482b0ba8>"
            ]
          },
          "metadata": {
            "tags": []
          },
          "execution_count": 171
        },
        {
          "output_type": "display_data",
          "data": {
            "image/png": "[encoded data removed]",
            "text/plain": [
              "<Figure size 432x288 with 1 Axes>"
            ]
          },
          "metadata": {
            "tags": [],
            "needs_background": "light"
          }
        }
      ]
    },
    {
      "cell_type": "code",
      "metadata": {
        "id": "EcgONzxKnL2u",
        "colab_type": "code",
        "outputId": "8eeb6469-46ba-4efa-86c8-cc203544f07c",
        "colab": {
          "base_uri": "https://localhost:8080/",
          "height": 316
        }
      },
      "source": [
        "from scipy import stats\n",
        "z = np.abs(stats.zscore(data_106['SO2']))\n",
        "threshold = 3\n",
        "#print(len(np.where(z > 3)))\n",
        "data_106_Rout = data_106[(z < 3)]\n",
        "print(len(data_106_Rout))\n",
        "sns.boxplot(data_106_Rout['SO2'])"
      ],
      "execution_count": 172,
      "outputs": [
        {
          "output_type": "stream",
          "text": [
            "25080\n"
          ],
          "name": "stdout"
        },
        {
          "output_type": "execute_result",
          "data": {
            "text/plain": [
              "<matplotlib.axes._subplots.AxesSubplot at 0x7fb2483be7f0>"
            ]
          },
          "metadata": {
            "tags": []
          },
          "execution_count": 172
        },
        {
          "output_type": "display_data",
          "data": {
            "image/png": "[encoded data removed]",
            "text/plain": [
              "<Figure size 432x288 with 1 Axes>"
            ]
          },
          "metadata": {
            "tags": [],
            "needs_background": "light"
          }
        }
      ]
    },
    {
      "cell_type": "code",
      "metadata": {
        "id": "_LNanJd1a1_D",
        "colab_type": "code",
        "outputId": "f87774ed-7cbb-4071-8d7e-0a827bc2324e",
        "colab": {
          "base_uri": "https://localhost:8080/",
          "height": 35
        }
      },
      "source": [
        "df=data_106_Rout['SO2']\n",
        "df=df.values\n",
        "df=df.reshape(df.shape[0],1)\n",
        "print(df.shape)"
      ],
      "execution_count": 173,
      "outputs": [
        {
          "output_type": "stream",
          "text": [
            "(25080, 1)\n"
          ],
          "name": "stdout"
        }
      ]
    },
    {
      "cell_type": "code",
      "metadata": {
        "id": "rzYngv6_TPhh",
        "colab_type": "code",
        "outputId": "2206658a-39f8-4c31-b505-04bf7cd76ffc",
        "colab": {
          "base_uri": "https://localhost:8080/",
          "height": 72
        }
      },
      "source": [
        "from sklearn import preprocessing\n",
        "min_max_scaler = preprocessing.MinMaxScaler()\n",
        "df_scaled = min_max_scaler.fit_transform(df)\n",
        "print(min(df),max(df))\n",
        "list_=[]\n",
        "for i in range (0,df_scaled.shape[0]):\n",
        "  list_.append(df_scaled[i][0])\n",
        "print(len(list_))\n",
        "print(min(list_),max(list_))\n"
      ],
      "execution_count": 174,
      "outputs": [
        {
          "output_type": "stream",
          "text": [
            "[0.001] [0.018]\n",
            "25080\n",
            "0.0 1.0\n"
          ],
          "name": "stdout"
        }
      ]
    },
    {
      "cell_type": "code",
      "metadata": {
        "id": "mFSUAFonN2ht",
        "colab_type": "code",
        "outputId": "c1189ccc-b3e0-4790-a8ca-acccb757be68",
        "colab": {
          "base_uri": "https://localhost:8080/",
          "height": 35
        }
      },
      "source": [
        "window_size=5\n",
        "y=[]\n",
        "for i in range (0,len(list_)-window_size):\n",
        "  x=list_[i:i+window_size]\n",
        "  y.append(x)\n",
        "print(len(y),y[0])\n"
      ],
      "execution_count": 175,
      "outputs": [
        {
          "output_type": "stream",
          "text": [
            "25075 [0.23529411764705882, 0.1764705882352941, 0.1764705882352941, 0.1764705882352941, 0.1764705882352941]\n"
          ],
          "name": "stdout"
        }
      ]
    },
    {
      "cell_type": "code",
      "metadata": {
        "id": "jOkLjiONN_dz",
        "colab_type": "code",
        "outputId": "d27ef7ac-ce99-4b38-a0ec-5d69480afbe0",
        "colab": {
          "base_uri": "https://localhost:8080/",
          "height": 382
        }
      },
      "source": [
        "matrix=np.matrix(y)\n",
        "print(matrix.shape)\n",
        "new_data = pd.DataFrame(matrix,columns=['x1','x2','x3','x4','y'])\n",
        "new_data.head(10)\n"
      ],
      "execution_count": 176,
      "outputs": [
        {
          "output_type": "stream",
          "text": [
            "(25075, 5)\n"
          ],
          "name": "stdout"
        },
        {
          "output_type": "execute_result",
          "data": {
            "text/html": [
              "<div>\n",
              "<style scoped>\n",
              "    .dataframe tbody tr th:only-of-type {\n",
              "        vertical-align: middle;\n",
              "    }\n",
              "\n",
              "    .dataframe tbody tr th {\n",
              "        vertical-align: top;\n",
              "    }\n",
              "\n",
              "    .dataframe thead th {\n",
              "        text-align: right;\n",
              "    }\n",
              "</style>\n",
              "<table border=\"1\" class=\"dataframe\">\n",
              "  <thead>\n",
              "    <tr style=\"text-align: right;\">\n",
              "      <th></th>\n",
              "      <th>x1</th>\n",
              "      <th>x2</th>\n",
              "      <th>x3</th>\n",
              "      <th>x4</th>\n",
              "      <th>y</th>\n",
              "    </tr>\n",
              "  </thead>\n",
              "  <tbody>\n",
              "    <tr>\n",
              "      <th>0</th>\n",
              "      <td>0.235294</td>\n",
              "      <td>0.176471</td>\n",
              "      <td>0.176471</td>\n",
              "      <td>0.176471</td>\n",
              "      <td>0.176471</td>\n",
              "    </tr>\n",
              "    <tr>\n",
              "      <th>1</th>\n",
              "      <td>0.176471</td>\n",
              "      <td>0.176471</td>\n",
              "      <td>0.176471</td>\n",
              "      <td>0.176471</td>\n",
              "      <td>0.176471</td>\n",
              "    </tr>\n",
              "    <tr>\n",
              "      <th>2</th>\n",
              "      <td>0.176471</td>\n",
              "      <td>0.176471</td>\n",
              "      <td>0.176471</td>\n",
              "      <td>0.176471</td>\n",
              "      <td>0.176471</td>\n",
              "    </tr>\n",
              "    <tr>\n",
              "      <th>3</th>\n",
              "      <td>0.176471</td>\n",
              "      <td>0.176471</td>\n",
              "      <td>0.176471</td>\n",
              "      <td>0.176471</td>\n",
              "      <td>0.176471</td>\n",
              "    </tr>\n",
              "    <tr>\n",
              "      <th>4</th>\n",
              "      <td>0.176471</td>\n",
              "      <td>0.176471</td>\n",
              "      <td>0.176471</td>\n",
              "      <td>0.176471</td>\n",
              "      <td>0.176471</td>\n",
              "    </tr>\n",
              "    <tr>\n",
              "      <th>5</th>\n",
              "      <td>0.176471</td>\n",
              "      <td>0.176471</td>\n",
              "      <td>0.176471</td>\n",
              "      <td>0.176471</td>\n",
              "      <td>0.176471</td>\n",
              "    </tr>\n",
              "    <tr>\n",
              "      <th>6</th>\n",
              "      <td>0.176471</td>\n",
              "      <td>0.176471</td>\n",
              "      <td>0.176471</td>\n",
              "      <td>0.176471</td>\n",
              "      <td>0.176471</td>\n",
              "    </tr>\n",
              "    <tr>\n",
              "      <th>7</th>\n",
              "      <td>0.176471</td>\n",
              "      <td>0.176471</td>\n",
              "      <td>0.176471</td>\n",
              "      <td>0.176471</td>\n",
              "      <td>0.235294</td>\n",
              "    </tr>\n",
              "    <tr>\n",
              "      <th>8</th>\n",
              "      <td>0.176471</td>\n",
              "      <td>0.176471</td>\n",
              "      <td>0.176471</td>\n",
              "      <td>0.235294</td>\n",
              "      <td>0.235294</td>\n",
              "    </tr>\n",
              "    <tr>\n",
              "      <th>9</th>\n",
              "      <td>0.176471</td>\n",
              "      <td>0.176471</td>\n",
              "      <td>0.235294</td>\n",
              "      <td>0.235294</td>\n",
              "      <td>0.294118</td>\n",
              "    </tr>\n",
              "  </tbody>\n",
              "</table>\n",
              "</div>"
            ],
            "text/plain": [
              "         x1        x2        x3        x4         y\n",
              "0  0.235294  0.176471  0.176471  0.176471  0.176471\n",
              "1  0.176471  0.176471  0.176471  0.176471  0.176471\n",
              "2  0.176471  0.176471  0.176471  0.176471  0.176471\n",
              "3  0.176471  0.176471  0.176471  0.176471  0.176471\n",
              "4  0.176471  0.176471  0.176471  0.176471  0.176471\n",
              "5  0.176471  0.176471  0.176471  0.176471  0.176471\n",
              "6  0.176471  0.176471  0.176471  0.176471  0.176471\n",
              "7  0.176471  0.176471  0.176471  0.176471  0.235294\n",
              "8  0.176471  0.176471  0.176471  0.235294  0.235294\n",
              "9  0.176471  0.176471  0.235294  0.235294  0.294118"
            ]
          },
          "metadata": {
            "tags": []
          },
          "execution_count": 176
        }
      ]
    },
    {
      "cell_type": "code",
      "metadata": {
        "id": "0Z5frRmicq9M",
        "colab_type": "code",
        "outputId": "2610ddb5-8dc5-4771-d340-2eaf826157c0",
        "colab": {
          "base_uri": "https://localhost:8080/",
          "height": 146
        }
      },
      "source": [
        "print(matrix[:,4])"
      ],
      "execution_count": 177,
      "outputs": [
        {
          "output_type": "stream",
          "text": [
            "[[0.17647059]\n",
            " [0.17647059]\n",
            " [0.17647059]\n",
            " ...\n",
            " [0.05882353]\n",
            " [0.05882353]\n",
            " [0.05882353]]\n"
          ],
          "name": "stdout"
        }
      ]
    },
    {
      "cell_type": "code",
      "metadata": {
        "id": "SG1fsHWxOPTk",
        "colab_type": "code",
        "outputId": "77592bc7-5e62-45ff-c531-6129e79c948b",
        "colab": {
          "base_uri": "https://localhost:8080/",
          "height": 109
        }
      },
      "source": [
        "from sklearn import linear_model\n",
        "from sklearn.model_selection import train_test_split\n",
        "from sklearn.metrics import r2_score\n",
        "from sklearn.metrics import mean_squared_error\n",
        "X_train, X_test, y_train, y_test = train_test_split(matrix[:,0:4],matrix[:,4],test_size=0.33, random_state=42)\n",
        "lm =linear_model.LinearRegression()\n",
        "model = lm.fit(X_train,y_train)\n",
        "prediction=model.predict(X_test)\n",
        "joblib.dump(model,'linear_regressor_Rout.pkl')\n",
        "from google.colab import files\n",
        "files.download('linear_regressor_Rout.pkl')\n",
        "print(prediction.shape,prediction[0:5])"
      ],
      "execution_count": 178,
      "outputs": [
        {
          "output_type": "stream",
          "text": [
            "(8275, 1) [[0.44757431]\n",
            " [0.06820451]\n",
            " [0.06820451]\n",
            " [0.06820451]\n",
            " [0.28167452]]\n"
          ],
          "name": "stdout"
        }
      ]
    },
    {
      "cell_type": "code",
      "metadata": {
        "id": "bye3z6vaOvbl",
        "colab_type": "code",
        "outputId": "a589fe1b-7397-4d45-9329-31f133d94576",
        "colab": {
          "base_uri": "https://localhost:8080/",
          "height": 72
        }
      },
      "source": [
        "print(model.score(X_train,y_train))\n",
        "print(model.intercept_)\n",
        "print(model.coef_)"
      ],
      "execution_count": 179,
      "outputs": [
        {
          "output_type": "stream",
          "text": [
            "0.8018857974858947\n",
            "[0.01435044]\n",
            "[[ 0.03308598  0.04065314 -0.00716558  0.84894552]]\n"
          ],
          "name": "stdout"
        }
      ]
    },
    {
      "cell_type": "code",
      "metadata": {
        "id": "K9AvmWqwO0h1",
        "colab_type": "code",
        "outputId": "8ffba702-3c74-4599-d0d0-a0eb99831d6e",
        "colab": {
          "base_uri": "https://localhost:8080/",
          "height": 72
        }
      },
      "source": [
        "print('mean squared eror : ',mean_squared_error(y_test,prediction))\n",
        "from sklearn.metrics import mean_absolute_error\n",
        "print('absolute mean error : ', mean_absolute_error(y_test,prediction))\n",
        "print(r2_score(y_test,prediction))"
      ],
      "execution_count": 180,
      "outputs": [
        {
          "output_type": "stream",
          "text": [
            "mean squared eror :  0.0012228967766482416\n",
            "absolute mean error :  0.017554923147681426\n",
            "0.8045364583644756\n"
          ],
          "name": "stdout"
        }
      ]
    },
    {
      "cell_type": "code",
      "metadata": {
        "id": "7ZFxbkZwIfsr",
        "colab_type": "code",
        "outputId": "1966fd27-a73e-438b-f481-2a18f32ea6e7",
        "colab": {
          "base_uri": "https://localhost:8080/",
          "height": 281
        }
      },
      "source": [
        "plt.plot(y_test[0:100], color = 'black', label = 'TRUTH')\n",
        "plt.plot(prediction[0:100], color = 'green', label = 'PREDICTION')\n",
        "plt.title('Linear regression PERFORMANCE ON TEST SET after removing outliers')\n",
        "plt.ylabel('SO2')\n",
        "plt.legend()\n",
        "plt.show()"
      ],
      "execution_count": 181,
      "outputs": [
        {
          "output_type": "display_data",
          "data": {
            "image/png": "[encoded data removed]",
            "text/plain": [
              "<Figure size 432x288 with 1 Axes>"
            ]
          },
          "metadata": {
            "tags": [],
            "needs_background": "light"
          }
        }
      ]
    },
    {
      "cell_type": "code",
      "metadata": {
        "id": "J3NSycPY02mb",
        "colab_type": "code",
        "outputId": "2fc11993-fecf-4d02-e3ff-49c59da8e4e5",
        "colab": {
          "base_uri": "https://localhost:8080/",
          "height": 521
        }
      },
      "source": [
        "# IMPLEMENTING LINEAR REGRESSION WITHOUT REMOVING OUTLIERS\n",
        "df=data_106['SO2']\n",
        "df=df.values\n",
        "df=df.reshape(df.shape[0],1)\n",
        "print(df.shape)\n",
        "from sklearn import preprocessing\n",
        "min_max_scaler = preprocessing.MinMaxScaler()\n",
        "df_scaled = min_max_scaler.fit_transform(df)\n",
        "print(min(df),max(df))\n",
        "list_=[]\n",
        "for i in range (0,df_scaled.shape[0]):\n",
        "  list_.append(df_scaled[i][0])\n",
        "print(len(list_))\n",
        "print(min(list_),max(list_))\n",
        "window_size=5\n",
        "y=[]\n",
        "for i in range (0,len(list_)-window_size):\n",
        "  x=list_[i:i+window_size]\n",
        "  y.append(x)\n",
        "print(len(y),y[0])\n",
        "matrix= np.matrix(y)\n",
        "from sklearn import linear_model\n",
        "from sklearn.model_selection import train_test_split\n",
        "from sklearn.metrics import r2_score\n",
        "from sklearn.metrics import mean_squared_error\n",
        "X_train, X_test, y_train, y_test = train_test_split(matrix[:,0:4],matrix[:,4],test_size=0.33, random_state=42)\n",
        "lm =linear_model.LinearRegression()\n",
        "model = lm.fit(X_train,y_train)\n",
        "prediction=model.predict(X_test)\n",
        "joblib.dump(model,'linear_regressor.pkl')\n",
        "from google.colab import files\n",
        "files.download('linear_regressor.pkl')\n",
        "print(prediction.shape,prediction[0:5])\n",
        "print('mean squared eror : ',mean_squared_error(y_test,prediction))\n",
        "from sklearn.metrics import mean_absolute_error\n",
        "print('absolute mean error : ', mean_absolute_error(y_test,prediction))\n",
        "print(r2_score(y_test,prediction))\n",
        "plt.plot(y_test[0:100], color = 'black', label = 'TRUTH')\n",
        "plt.plot(prediction[0:100], color = 'green', label = 'PREDICTION')\n",
        "plt.title('Linear regression PERFORMANCE ON TEST SET')\n",
        "plt.ylabel('SO2')\n",
        "plt.legend()\n",
        "plt.show()"
      ],
      "execution_count": 182,
      "outputs": [
        {
          "output_type": "stream",
          "text": [
            "(25119, 1)\n",
            "[0.001] [0.332]\n",
            "25119\n",
            "0.0 0.9999999999999999\n",
            "25114 [0.012084592145015106, 0.009063444108761328, 0.009063444108761328, 0.009063444108761328, 0.009063444108761328]\n",
            "(8288, 1) [[0.0131864 ]\n",
            " [0.00729636]\n",
            " [0.00709039]\n",
            " [0.00740777]\n",
            " [0.00908199]]\n",
            "mean squared eror :  0.00023248180676562014\n",
            "absolute mean error :  0.002168755857970399\n",
            "-0.12019784854864901\n"
          ],
          "name": "stdout"
        },
        {
          "output_type": "display_data",
          "data": {
            "image/png": "[encoded data removed]",
            "text/plain": [
              "<Figure size 432x288 with 1 Axes>"
            ]
          },
          "metadata": {
            "tags": [],
            "needs_background": "light"
          }
        }
      ]
    },
    {
      "cell_type": "code",
      "metadata": {
        "id": "hrZqAjEyGnIN",
        "colab_type": "code",
        "outputId": "2da4d32a-1af3-49cc-a9af-9a1f431fba4b",
        "colab": {
          "base_uri": "https://localhost:8080/",
          "height": 129
        }
      },
      "source": [
        "# BAYESIAN RIDGE REGRESSION\n",
        "from sklearn import linear_model\n",
        "from statsmodels.tsa.ar_model import AR\n",
        "model = linear_model.BayesianRidge()\n",
        "\n",
        "model.fit(X_train,y_train )\n",
        "prediction=model.predict(X_test)\n",
        "joblib.dump(model,'bayesian_regressor.pkl')\n",
        "from google.colab import files\n",
        "files.download('bayesian_regressor.pkl')\n",
        "print('mean squared eror : ',mean_squared_error(y_test,prediction))\n",
        "from sklearn.metrics import mean_absolute_error\n",
        "print('absolute mean error : ', mean_absolute_error(y_test,prediction))\n",
        "\n",
        "print(r2_score(y_test,prediction))"
      ],
      "execution_count": 183,
      "outputs": [
        {
          "output_type": "stream",
          "text": [
            "/usr/local/lib/python3.6/dist-packages/sklearn/utils/validation.py:760: DataConversionWarning: A column-vector y was passed when a 1d array was expected. Please change the shape of y to (n_samples, ), for example using ravel().\n",
            "  y = column_or_1d(y, warn=True)\n"
          ],
          "name": "stderr"
        },
        {
          "output_type": "stream",
          "text": [
            "mean squared eror :  0.00023238274392867498\n",
            "absolute mean error :  0.002169097368822998\n",
            "-0.11972052097467256\n"
          ],
          "name": "stdout"
        }
      ]
    },
    {
      "cell_type": "code",
      "metadata": {
        "id": "crUrc4mjO8uL",
        "colab_type": "code",
        "outputId": "aa14a89a-5a21-4a01-89b1-95544c78107c",
        "colab": {
          "base_uri": "https://localhost:8080/",
          "height": 109
        }
      },
      "source": [
        "# IMLEMENTING  RANDOM FOREST ALGORITHM\n",
        "from sklearn.ensemble import RandomForestRegressor\n",
        "model= RandomForestRegressor(max_depth=8, random_state=0)\n",
        "model.fit(X_train,y_train)\n",
        "prediction=model.predict(X_test)\n",
        "joblib.dump(model,'randomforest_regressor.pkl')\n",
        "print('mean squared eror : ',mean_squared_error(y_test,prediction))\n",
        "from sklearn.metrics import mean_absolute_error\n",
        "print('absolute mean error : ', mean_absolute_error(y_test,prediction))\n",
        "print(r2_score(y_test,prediction))"
      ],
      "execution_count": 184,
      "outputs": [
        {
          "output_type": "stream",
          "text": [
            "/usr/local/lib/python3.6/dist-packages/ipykernel_launcher.py:4: DataConversionWarning: A column-vector y was passed when a 1d array was expected. Please change the shape of y to (n_samples,), for example using ravel().\n",
            "  after removing the cwd from sys.path.\n"
          ],
          "name": "stderr"
        },
        {
          "output_type": "stream",
          "text": [
            "mean squared eror :  0.0002646651829936122\n",
            "absolute mean error :  0.0016405813995532888\n",
            "-0.27527126831940363\n"
          ],
          "name": "stdout"
        }
      ]
    },
    {
      "cell_type": "code",
      "metadata": {
        "id": "KAVNYF_yJXRN",
        "colab_type": "code",
        "outputId": "67089aa0-de50-46af-a3f9-f5fe529557fa",
        "colab": {
          "base_uri": "https://localhost:8080/",
          "height": 503
        }
      },
      "source": [
        "plt.plot(y_test[0:100], color = 'black', label = 'TRUTH')\n",
        "plt.plot(prediction[0:100], color = 'green', label = 'PREDICTION')\n",
        "plt.title('Random forest regression PERFORMANCE ON TEST SET')\n",
        "plt.ylabel('SO2')\n",
        "plt.legend()\n",
        "plt.show()\n",
        "print('truth : ',y_test[0:10])\n",
        "print('prediction : ',prediction[0:10])"
      ],
      "execution_count": 185,
      "outputs": [
        {
          "output_type": "display_data",
          "data": {
            "image/png": "[encoded data removed]",
            "text/plain": [
              "<Figure size 432x288 with 1 Axes>"
            ]
          },
          "metadata": {
            "tags": [],
            "needs_background": "light"
          }
        },
        {
          "output_type": "stream",
          "text": [
            "truth :  [[0.01208459]\n",
            " [0.0060423 ]\n",
            " [0.0060423 ]\n",
            " [0.0060423 ]\n",
            " [0.01208459]\n",
            " [0.02114804]\n",
            " [0.00906344]\n",
            " [0.01208459]\n",
            " [0.02416918]\n",
            " [0.0060423 ]]\n",
            "prediction :  [0.01757839 0.00592513 0.00640313 0.00639896 0.00909364 0.01750678\n",
            " 0.00909364 0.00909364 0.02214406 0.00869476]\n"
          ],
          "name": "stdout"
        }
      ]
    },
    {
      "cell_type": "code",
      "metadata": {
        "id": "s9oOYdsvFVAz",
        "colab_type": "code",
        "outputId": "8a64323f-7862-4bb6-e2dd-7a1cd3ecd915",
        "colab": {
          "base_uri": "https://localhost:8080/",
          "height": 72
        }
      },
      "source": [
        "# RIDGE REGRESSION\n",
        "from sklearn.linear_model import Ridge\n",
        "model = Ridge(alpha=1.0)\n",
        "model.fit(X_train,y_train)\n",
        "prediction=model.predict(X_test)\n",
        "joblib.dump(model,'ridge_regressor.pkl')\n",
        "from google.colab import files\n",
        "files.download('ridge_regressor.pkl')\n",
        "print(mean_squared_error(y_test,prediction))\n",
        "print(mean_absolute_error(y_test,prediction))\n",
        "print(r2_score(y_test,prediction))\n"
      ],
      "execution_count": 186,
      "outputs": [
        {
          "output_type": "stream",
          "text": [
            "0.00021591010688607493\n",
            "0.002249506455914509\n",
            "-0.040348234464328225\n"
          ],
          "name": "stdout"
        }
      ]
    },
    {
      "cell_type": "code",
      "metadata": {
        "id": "08afymABtSx4",
        "colab_type": "code",
        "outputId": "de219eef-8d7a-4cf4-dc57-28eac6806358",
        "colab": {
          "base_uri": "https://localhost:8080/",
          "height": 166
        }
      },
      "source": [
        "# IMPLEMENTING SUPPORT VECTOR\n",
        "from sklearn.svm import LinearSVR\n",
        "model= LinearSVR()\n",
        "model.fit(X_train,y_train)\n",
        "prediction=model.predict(X_test)\n",
        "print('mean squared eror : ',mean_squared_error(y_test,prediction))\n",
        "from sklearn.metrics import mean_absolute_error\n",
        "print('absolute mean error : ', mean_absolute_error(y_test,prediction))\n",
        "print(r2_score(y_test,prediction))"
      ],
      "execution_count": 187,
      "outputs": [
        {
          "output_type": "stream",
          "text": [
            "/usr/local/lib/python3.6/dist-packages/sklearn/utils/validation.py:760: DataConversionWarning: A column-vector y was passed when a 1d array was expected. Please change the shape of y to (n_samples, ), for example using ravel().\n",
            "  y = column_or_1d(y, warn=True)\n"
          ],
          "name": "stderr"
        },
        {
          "output_type": "stream",
          "text": [
            "mean squared eror :  0.0004602339657729268\n",
            "absolute mean error :  0.0015078505231451188\n",
            "-1.2176062095371076\n"
          ],
          "name": "stdout"
        },
        {
          "output_type": "stream",
          "text": [
            "/usr/local/lib/python3.6/dist-packages/sklearn/svm/_base.py:947: ConvergenceWarning: Liblinear failed to converge, increase the number of iterations.\n",
            "  \"the number of iterations.\", ConvergenceWarning)\n"
          ],
          "name": "stderr"
        }
      ]
    },
    {
      "cell_type": "code",
      "metadata": {
        "id": "LFR-uIKhMIPs",
        "colab_type": "code",
        "outputId": "b969e36b-1745-4e83-ca8c-41198c59f2cb",
        "colab": {
          "base_uri": "https://localhost:8080/",
          "height": 281
        }
      },
      "source": [
        "plt.plot(y_test[0:100], color = 'black', label = 'TRUTH')\n",
        "plt.plot(prediction[0:100], color = 'green', label = 'PREDICTION')\n",
        "plt.title('SVM regression PERFORMANCE ON TEST SET')\n",
        "plt.ylabel('SO2')\n",
        "plt.legend()\n",
        "plt.show()"
      ],
      "execution_count": 188,
      "outputs": [
        {
          "output_type": "display_data",
          "data": {
            "image/png": "[encoded data removed]",
            "text/plain": [
              "<Figure size 432x288 with 1 Axes>"
            ]
          },
          "metadata": {
            "tags": [],
            "needs_background": "light"
          }
        }
      ]
    },
    {
      "cell_type": "code",
      "metadata": {
        "id": "tUpcjRA2hCQz",
        "colab_type": "code",
        "outputId": "61026277-ecaf-408c-ba9e-8d23e7d4695b",
        "colab": {
          "base_uri": "https://localhost:8080/",
          "height": 1000
        }
      },
      "source": [
        "# IMPLEMENTING A NEURAL NETWORK\n",
        "from sklearn.preprocessing import StandardScaler\n",
        "#sc = StandardScaler()\n",
        "#X = sc.fit_transform(X)\n",
        "import keras\n",
        "from keras.models import Sequential\n",
        "from keras.layers import Dense\n",
        "# Neural network\n",
        "model = Sequential()\n",
        "model.add(Dense(64, input_dim=4, activation='relu'))\n",
        "model.add(Dense(128, input_dim=4, activation='relu'))\n",
        "model.add(Dense(512, activation='relu'))\n",
        "model.add(Dense(1, activation='relu'))\n",
        "\n",
        "\n",
        "model.compile(optimizer = \"adam\", loss ='mse', \n",
        "          metrics =[\"accuracy\"])\n",
        "history = model.fit(X_train, y_train, epochs=100, batch_size=32)"
      ],
      "execution_count": 189,
      "outputs": [
        {
          "output_type": "stream",
          "text": [
            "Epoch 1/100\n",
            "16826/16826 [==============================] - 2s 101us/step - loss: 3.1776e-04 - accuracy: 0.0147\n",
            "Epoch 2/100\n",
            "16826/16826 [==============================] - 2s 94us/step - loss: 3.5785e-04 - accuracy: 0.0147\n",
            "Epoch 3/100\n",
            "16826/16826 [==============================] - 1s 86us/step - loss: 3.5785e-04 - accuracy: 0.0147\n",
            "Epoch 4/100\n",
            "16826/16826 [==============================] - 1s 81us/step - loss: 3.5785e-04 - accuracy: 0.0147\n",
            "Epoch 5/100\n",
            "16826/16826 [==============================] - 2s 101us/step - loss: 3.5785e-04 - accuracy: 0.0147\n",
            "Epoch 6/100\n",
            "16826/16826 [==============================] - 1s 84us/step - loss: 3.5785e-04 - accuracy: 0.0147\n",
            "Epoch 7/100\n",
            "16826/16826 [==============================] - 1s 86us/step - loss: 3.5785e-04 - accuracy: 0.0147\n",
            "Epoch 8/100\n",
            "16826/16826 [==============================] - 1s 83us/step - loss: 3.5785e-04 - accuracy: 0.0147\n",
            "Epoch 9/100\n",
            "16826/16826 [==============================] - 1s 81us/step - loss: 3.5785e-04 - accuracy: 0.0147\n",
            "Epoch 10/100\n",
            "16826/16826 [==============================] - 1s 81us/step - loss: 3.5785e-04 - accuracy: 0.0147\n",
            "Epoch 11/100\n",
            "16826/16826 [==============================] - 1s 82us/step - loss: 3.5785e-04 - accuracy: 0.0147\n",
            "Epoch 12/100\n",
            "16826/16826 [==============================] - 1s 84us/step - loss: 3.5785e-04 - accuracy: 0.0147\n",
            "Epoch 13/100\n",
            "16826/16826 [==============================] - 1s 82us/step - loss: 3.5785e-04 - accuracy: 0.0147\n",
            "Epoch 14/100\n",
            "16826/16826 [==============================] - 1s 82us/step - loss: 3.5785e-04 - accuracy: 0.0147\n",
            "Epoch 15/100\n",
            "16826/16826 [==============================] - 2s 91us/step - loss: 3.5785e-04 - accuracy: 0.0147\n",
            "Epoch 16/100\n",
            "16826/16826 [==============================] - 1s 88us/step - loss: 3.5785e-04 - accuracy: 0.0147\n",
            "Epoch 17/100\n",
            "16826/16826 [==============================] - 1s 87us/step - loss: 3.5785e-04 - accuracy: 0.0147\n",
            "Epoch 18/100\n",
            "16826/16826 [==============================] - 1s 88us/step - loss: 3.5785e-04 - accuracy: 0.0147\n",
            "Epoch 19/100\n",
            "16826/16826 [==============================] - 1s 80us/step - loss: 3.5785e-04 - accuracy: 0.0147\n",
            "Epoch 20/100\n",
            "16826/16826 [==============================] - 1s 86us/step - loss: 3.5785e-04 - accuracy: 0.0147\n",
            "Epoch 21/100\n",
            "16826/16826 [==============================] - 2s 90us/step - loss: 3.5785e-04 - accuracy: 0.0147\n",
            "Epoch 22/100\n",
            "16826/16826 [==============================] - 2s 94us/step - loss: 3.5785e-04 - accuracy: 0.0147\n",
            "Epoch 23/100\n",
            "16826/16826 [==============================] - 2s 91us/step - loss: 3.5785e-04 - accuracy: 0.0147\n",
            "Epoch 24/100\n",
            "16826/16826 [==============================] - 1s 81us/step - loss: 3.5785e-04 - accuracy: 0.0147\n",
            "Epoch 25/100\n",
            "16826/16826 [==============================] - 1s 78us/step - loss: 3.5785e-04 - accuracy: 0.0147\n",
            "Epoch 26/100\n",
            "16826/16826 [==============================] - 1s 76us/step - loss: 3.5785e-04 - accuracy: 0.0147\n",
            "Epoch 27/100\n",
            "16826/16826 [==============================] - 1s 81us/step - loss: 3.5785e-04 - accuracy: 0.0147\n",
            "Epoch 28/100\n",
            "16826/16826 [==============================] - 1s 81us/step - loss: 3.5785e-04 - accuracy: 0.0147\n",
            "Epoch 29/100\n",
            "16826/16826 [==============================] - 1s 84us/step - loss: 3.5785e-04 - accuracy: 0.0147\n",
            "Epoch 30/100\n",
            "16826/16826 [==============================] - 1s 78us/step - loss: 3.5785e-04 - accuracy: 0.0147\n",
            "Epoch 31/100\n",
            "16826/16826 [==============================] - 1s 77us/step - loss: 3.5785e-04 - accuracy: 0.0147\n",
            "Epoch 32/100\n",
            "16826/16826 [==============================] - 1s 82us/step - loss: 3.5785e-04 - accuracy: 0.0147\n",
            "Epoch 33/100\n",
            "16826/16826 [==============================] - 1s 83us/step - loss: 3.5785e-04 - accuracy: 0.0147\n",
            "Epoch 34/100\n",
            "16826/16826 [==============================] - 2s 99us/step - loss: 3.5785e-04 - accuracy: 0.0147\n",
            "Epoch 35/100\n",
            "16826/16826 [==============================] - 2s 98us/step - loss: 3.5785e-04 - accuracy: 0.0147\n",
            "Epoch 36/100\n",
            "16826/16826 [==============================] - 1s 89us/step - loss: 3.5785e-04 - accuracy: 0.0147\n",
            "Epoch 37/100\n",
            "16826/16826 [==============================] - 1s 85us/step - loss: 3.5785e-04 - accuracy: 0.0147\n",
            "Epoch 38/100\n",
            "16826/16826 [==============================] - 1s 89us/step - loss: 3.5785e-04 - accuracy: 0.0147\n",
            "Epoch 39/100\n",
            "16826/16826 [==============================] - 2s 92us/step - loss: 3.5785e-04 - accuracy: 0.0147\n",
            "Epoch 40/100\n",
            "16826/16826 [==============================] - 1s 88us/step - loss: 3.5785e-04 - accuracy: 0.0147\n",
            "Epoch 41/100\n",
            "16826/16826 [==============================] - 1s 87us/step - loss: 3.5785e-04 - accuracy: 0.0147\n",
            "Epoch 42/100\n",
            "16826/16826 [==============================] - 1s 87us/step - loss: 3.5785e-04 - accuracy: 0.0147\n",
            "Epoch 43/100\n",
            "16826/16826 [==============================] - 2s 105us/step - loss: 3.5785e-04 - accuracy: 0.0147\n",
            "Epoch 44/100\n",
            "16826/16826 [==============================] - 2s 104us/step - loss: 3.5785e-04 - accuracy: 0.0147\n",
            "Epoch 45/100\n",
            "16826/16826 [==============================] - 2s 95us/step - loss: 3.5785e-04 - accuracy: 0.0147\n",
            "Epoch 46/100\n",
            "16826/16826 [==============================] - 2s 93us/step - loss: 3.5785e-04 - accuracy: 0.0147\n",
            "Epoch 47/100\n",
            "16826/16826 [==============================] - 2s 94us/step - loss: 3.5785e-04 - accuracy: 0.0147\n",
            "Epoch 48/100\n",
            "16826/16826 [==============================] - 2s 95us/step - loss: 3.5785e-04 - accuracy: 0.0147\n",
            "Epoch 49/100\n",
            "16826/16826 [==============================] - 2s 92us/step - loss: 3.5785e-04 - accuracy: 0.0147\n",
            "Epoch 50/100\n",
            "16826/16826 [==============================] - 1s 81us/step - loss: 3.5785e-04 - accuracy: 0.0147\n",
            "Epoch 51/100\n",
            "16826/16826 [==============================] - 2s 90us/step - loss: 3.5785e-04 - accuracy: 0.0147\n",
            "Epoch 52/100\n",
            "16826/16826 [==============================] - 2s 94us/step - loss: 3.5785e-04 - accuracy: 0.0147\n",
            "Epoch 53/100\n",
            "16826/16826 [==============================] - 2s 98us/step - loss: 3.5785e-04 - accuracy: 0.0147\n",
            "Epoch 54/100\n",
            "16826/16826 [==============================] - 2s 97us/step - loss: 3.5785e-04 - accuracy: 0.0147\n",
            "Epoch 55/100\n",
            "16826/16826 [==============================] - 2s 107us/step - loss: 3.5785e-04 - accuracy: 0.0147\n",
            "Epoch 56/100\n",
            "16826/16826 [==============================] - 2s 96us/step - loss: 3.5785e-04 - accuracy: 0.0147\n",
            "Epoch 57/100\n",
            "16826/16826 [==============================] - 1s 87us/step - loss: 3.5785e-04 - accuracy: 0.0147\n",
            "Epoch 58/100\n",
            "16826/16826 [==============================] - 2s 96us/step - loss: 3.5785e-04 - accuracy: 0.0147\n",
            "Epoch 59/100\n",
            "16826/16826 [==============================] - 2s 91us/step - loss: 3.5785e-04 - accuracy: 0.0147\n",
            "Epoch 60/100\n",
            "16826/16826 [==============================] - 1s 83us/step - loss: 3.5785e-04 - accuracy: 0.0147\n",
            "Epoch 61/100\n",
            "16826/16826 [==============================] - 1s 80us/step - loss: 3.5785e-04 - accuracy: 0.0147\n",
            "Epoch 62/100\n",
            "16826/16826 [==============================] - 1s 82us/step - loss: 3.5785e-04 - accuracy: 0.0147\n",
            "Epoch 63/100\n",
            "16826/16826 [==============================] - 1s 82us/step - loss: 3.5785e-04 - accuracy: 0.0147\n",
            "Epoch 64/100\n",
            "16826/16826 [==============================] - 1s 84us/step - loss: 3.5785e-04 - accuracy: 0.0147\n",
            "Epoch 65/100\n",
            "16826/16826 [==============================] - 1s 80us/step - loss: 3.5785e-04 - accuracy: 0.0147\n",
            "Epoch 66/100\n",
            "16826/16826 [==============================] - 1s 80us/step - loss: 3.5785e-04 - accuracy: 0.0147\n",
            "Epoch 67/100\n",
            "16826/16826 [==============================] - 1s 79us/step - loss: 3.5785e-04 - accuracy: 0.0147\n",
            "Epoch 68/100\n",
            "16826/16826 [==============================] - 1s 80us/step - loss: 3.5785e-04 - accuracy: 0.0147\n",
            "Epoch 69/100\n",
            "16826/16826 [==============================] - 1s 84us/step - loss: 3.5785e-04 - accuracy: 0.0147\n",
            "Epoch 70/100\n",
            "16826/16826 [==============================] - 1s 84us/step - loss: 3.5785e-04 - accuracy: 0.0147\n",
            "Epoch 71/100\n",
            "16826/16826 [==============================] - 1s 82us/step - loss: 3.5785e-04 - accuracy: 0.0147\n",
            "Epoch 72/100\n",
            "16826/16826 [==============================] - 2s 89us/step - loss: 3.5785e-04 - accuracy: 0.0147\n",
            "Epoch 73/100\n",
            "16826/16826 [==============================] - 2s 90us/step - loss: 3.5785e-04 - accuracy: 0.0147\n",
            "Epoch 74/100\n",
            "16826/16826 [==============================] - 1s 84us/step - loss: 3.5785e-04 - accuracy: 0.0147\n",
            "Epoch 75/100\n",
            "16826/16826 [==============================] - 1s 84us/step - loss: 3.5785e-04 - accuracy: 0.0147\n",
            "Epoch 76/100\n",
            "16826/16826 [==============================] - 1s 86us/step - loss: 3.5785e-04 - accuracy: 0.0147\n",
            "Epoch 77/100\n",
            "16826/16826 [==============================] - 1s 82us/step - loss: 3.5785e-04 - accuracy: 0.0147\n",
            "Epoch 78/100\n",
            "16826/16826 [==============================] - 1s 76us/step - loss: 3.5785e-04 - accuracy: 0.0147\n",
            "Epoch 79/100\n",
            "16826/16826 [==============================] - 1s 77us/step - loss: 3.5785e-04 - accuracy: 0.0147\n",
            "Epoch 80/100\n",
            "16826/16826 [==============================] - 1s 73us/step - loss: 3.5785e-04 - accuracy: 0.0147\n",
            "Epoch 81/100\n",
            "16826/16826 [==============================] - 1s 71us/step - loss: 3.5785e-04 - accuracy: 0.0147\n",
            "Epoch 82/100\n",
            "16826/16826 [==============================] - 1s 79us/step - loss: 3.5785e-04 - accuracy: 0.0147\n",
            "Epoch 83/100\n",
            "16826/16826 [==============================] - 1s 85us/step - loss: 3.5785e-04 - accuracy: 0.0147\n",
            "Epoch 84/100\n",
            "16826/16826 [==============================] - 1s 78us/step - loss: 3.5785e-04 - accuracy: 0.0147\n",
            "Epoch 85/100\n",
            "16826/16826 [==============================] - 1s 73us/step - loss: 3.5785e-04 - accuracy: 0.0147\n",
            "Epoch 86/100\n",
            "16826/16826 [==============================] - 1s 73us/step - loss: 3.5785e-04 - accuracy: 0.0147\n",
            "Epoch 87/100\n",
            "16826/16826 [==============================] - 1s 69us/step - loss: 3.5785e-04 - accuracy: 0.0147\n",
            "Epoch 88/100\n",
            "16826/16826 [==============================] - 1s 71us/step - loss: 3.5785e-04 - accuracy: 0.0147\n",
            "Epoch 89/100\n",
            "16826/16826 [==============================] - 1s 75us/step - loss: 3.5785e-04 - accuracy: 0.0147\n",
            "Epoch 90/100\n",
            "16826/16826 [==============================] - 1s 84us/step - loss: 3.5785e-04 - accuracy: 0.0147\n",
            "Epoch 91/100\n",
            "16826/16826 [==============================] - 1s 76us/step - loss: 3.5785e-04 - accuracy: 0.0147\n",
            "Epoch 92/100\n",
            "16826/16826 [==============================] - 1s 72us/step - loss: 3.5785e-04 - accuracy: 0.0147\n",
            "Epoch 93/100\n",
            "16826/16826 [==============================] - 1s 72us/step - loss: 3.5785e-04 - accuracy: 0.0147\n",
            "Epoch 94/100\n",
            "16826/16826 [==============================] - 1s 70us/step - loss: 3.5785e-04 - accuracy: 0.0147\n",
            "Epoch 95/100\n",
            "16826/16826 [==============================] - 1s 73us/step - loss: 3.5785e-04 - accuracy: 0.0147\n",
            "Epoch 96/100\n",
            "16826/16826 [==============================] - 1s 74us/step - loss: 3.5785e-04 - accuracy: 0.0147\n",
            "Epoch 97/100\n",
            "16826/16826 [==============================] - 1s 73us/step - loss: 3.5785e-04 - accuracy: 0.0147\n",
            "Epoch 98/100\n",
            "16826/16826 [==============================] - 1s 71us/step - loss: 3.5785e-04 - accuracy: 0.0147\n",
            "Epoch 99/100\n",
            "16826/16826 [==============================] - 1s 72us/step - loss: 3.5785e-04 - accuracy: 0.0147\n",
            "Epoch 100/100\n",
            "16826/16826 [==============================] - 1s 72us/step - loss: 3.5785e-04 - accuracy: 0.0147\n"
          ],
          "name": "stdout"
        }
      ]
    },
    {
      "cell_type": "code",
      "metadata": {
        "id": "txen3N-yvsAt",
        "colab_type": "code",
        "outputId": "980de337-0ba2-4070-9ef2-d5ede01abb25",
        "colab": {
          "base_uri": "https://localhost:8080/",
          "height": 369
        }
      },
      "source": [
        "print(history.history.keys())\n",
        "# \"Loss\"\n",
        "plt.plot(history.history['loss'])\n",
        "plt.title('model loss')\n",
        "plt.ylabel('loss')\n",
        "plt.xlabel('epoch')\n",
        "plt.legend(['train'], loc='upper left')\n",
        "plt.show()\n",
        "y_pred = model.predict(X_test)\n",
        "print('mean squared error : ',mean_squared_error(y_test,y_pred))\n",
        "print('mean absolute error : ',mean_absolute_error(y_test,prediction))\n",
        "print(r2_score(y_test,prediction))\n",
        "#Converting predictions to label\n"
      ],
      "execution_count": 190,
      "outputs": [
        {
          "output_type": "stream",
          "text": [
            "dict_keys(['loss', 'accuracy'])\n"
          ],
          "name": "stdout"
        },
        {
          "output_type": "display_data",
          "data": {
            "image/png": "[encoded data removed]",
            "text/plain": [
              "<Figure size 432x288 with 1 Axes>"
            ]
          },
          "metadata": {
            "tags": [],
            "needs_background": "light"
          }
        },
        {
          "output_type": "stream",
          "text": [
            "mean squared error :  0.0002872687872368415\n",
            "mean absolute error :  0.0015078505231451188\n",
            "-1.2176062095371076\n"
          ],
          "name": "stdout"
        }
      ]
    },
    {
      "cell_type": "code",
      "metadata": {
        "id": "kErB8NCcdyHM",
        "colab_type": "code",
        "outputId": "07e66b21-d650-412b-a8f3-09ad79f0afec",
        "colab": {
          "base_uri": "https://localhost:8080/",
          "height": 281
        }
      },
      "source": [
        "plt.plot(y_test[0:100], color = 'black', label = 'TRUTH')\n",
        "plt.plot(prediction[0:100], color = 'green', label = 'PREDICTION')\n",
        "plt.title('Neural network PERFORMANCE ON TEST SET')\n",
        "plt.ylabel('SO2')\n",
        "plt.legend()\n",
        "plt.show()"
      ],
      "execution_count": 191,
      "outputs": [
        {
          "output_type": "display_data",
          "data": {
            "image/png": "[encoded data removed]",
            "text/plain": [
              "<Figure size 432x288 with 1 Axes>"
            ]
          },
          "metadata": {
            "tags": [],
            "needs_background": "light"
          }
        }
      ]
    },
    {
      "cell_type": "code",
      "metadata": {
        "id": "TTfaJJDaHGg9",
        "colab_type": "code",
        "outputId": "19bf6605-9599-43b6-f826-9ac27ca4c82a",
        "colab": {
          "base_uri": "https://localhost:8080/",
          "height": 183
        }
      },
      "source": [
        "print(X_train)\n",
        "X_train=np.asarray(X_train)\n",
        "X_test=np.asarray(X_test)\n",
        "y_train=np.asarray(y_train)\n",
        "y_test=np.asarray(y_test)\n",
        "\n",
        "print(X_train.shape)\n",
        "X_train=X_train.reshape(X_train.shape[0],X_train.shape[1],1)\n",
        "print(X_train.shape)"
      ],
      "execution_count": 192,
      "outputs": [
        {
          "output_type": "stream",
          "text": [
            "[[0.00906344 0.0060423  0.0060423  0.0060423 ]\n",
            " [0.00906344 0.01208459 0.01208459 0.01208459]\n",
            " [0.00906344 0.00906344 0.00906344 0.00906344]\n",
            " ...\n",
            " [0.00906344 0.00906344 0.00906344 0.0060423 ]\n",
            " [0.0060423  0.0060423  0.0060423  0.0060423 ]\n",
            " [0.01510574 0.01208459 0.01208459 0.00906344]]\n",
            "(16826, 4)\n",
            "(16826, 4, 1)\n"
          ],
          "name": "stdout"
        }
      ]
    },
    {
      "cell_type": "code",
      "metadata": {
        "id": "FFUuCp8g1vzB",
        "colab_type": "code",
        "outputId": "ea60bc2c-c8c5-497a-9b4c-f2485dc5fc60",
        "colab": {
          "base_uri": "https://localhost:8080/",
          "height": 1000
        }
      },
      "source": [
        "from keras.models import Sequential\n",
        "from keras.layers import Dense\n",
        "from keras.layers import LSTM\n",
        "from keras.layers import Dropout\n",
        "regressor = Sequential()\n",
        "\n",
        "regressor.add(LSTM(units = 50, return_sequences = True, input_shape = (X_train.shape[1], 1)))\n",
        "#regressor.add(Dropout(0.2))\n",
        "\n",
        "regressor.add(LSTM(units = 50, return_sequences = True))\n",
        "#regressor.add(Dropout(0.2))\n",
        "\n",
        "regressor.add(LSTM(units = 50, return_sequences = True))\n",
        "#regressor.add(Dropout(0.2))\n",
        "\n",
        "regressor.add(LSTM(units = 50))\n",
        "#regressor.add(Dropout(0.2))\n",
        "\n",
        "regressor.add(Dense(units = 1))\n",
        "\n",
        "regressor.compile(optimizer = 'adam', loss = 'mean_squared_error')\n",
        "\n",
        "history = regressor.fit(X_train, y_train, epochs = 100, batch_size = 32)"
      ],
      "execution_count": 193,
      "outputs": [
        {
          "output_type": "stream",
          "text": [
            "Epoch 1/100\n",
            "16826/16826 [==============================] - 8s 490us/step - loss: 2.7972e-04\n",
            "Epoch 2/100\n",
            "16826/16826 [==============================] - 7s 387us/step - loss: 2.7137e-04\n",
            "Epoch 3/100\n",
            "16826/16826 [==============================] - 6s 386us/step - loss: 2.7393e-04\n",
            "Epoch 4/100\n",
            "16826/16826 [==============================] - 6s 379us/step - loss: 2.4921e-04\n",
            "Epoch 5/100\n",
            "16826/16826 [==============================] - 6s 385us/step - loss: 2.3877e-04\n",
            "Epoch 6/100\n",
            "16826/16826 [==============================] - 7s 388us/step - loss: 2.3561e-04\n",
            "Epoch 7/100\n",
            "16826/16826 [==============================] - 7s 387us/step - loss: 2.2944e-04\n",
            "Epoch 8/100\n",
            "16826/16826 [==============================] - 7s 399us/step - loss: 2.2421e-04\n",
            "Epoch 9/100\n",
            "16826/16826 [==============================] - 7s 389us/step - loss: 2.1730e-04\n",
            "Epoch 10/100\n",
            "16826/16826 [==============================] - 6s 385us/step - loss: 2.2189e-04\n",
            "Epoch 11/100\n",
            "16826/16826 [==============================] - 6s 386us/step - loss: 2.1409e-04\n",
            "Epoch 12/100\n",
            "16826/16826 [==============================] - 6s 383us/step - loss: 2.1922e-04\n",
            "Epoch 13/100\n",
            "16826/16826 [==============================] - 7s 394us/step - loss: 2.0787e-04\n",
            "Epoch 14/100\n",
            "16826/16826 [==============================] - 6s 386us/step - loss: 2.1751e-04\n",
            "Epoch 15/100\n",
            "16826/16826 [==============================] - 7s 410us/step - loss: 2.1009e-04\n",
            "Epoch 16/100\n",
            "16826/16826 [==============================] - 6s 386us/step - loss: 2.0499e-04\n",
            "Epoch 17/100\n",
            "16826/16826 [==============================] - 6s 379us/step - loss: 2.1000e-04\n",
            "Epoch 18/100\n",
            "16826/16826 [==============================] - 6s 378us/step - loss: 1.9681e-04\n",
            "Epoch 19/100\n",
            "16826/16826 [==============================] - 6s 377us/step - loss: 1.8637e-04\n",
            "Epoch 20/100\n",
            "16826/16826 [==============================] - 6s 377us/step - loss: 1.6767e-04\n",
            "Epoch 21/100\n",
            "16826/16826 [==============================] - 6s 374us/step - loss: 1.7709e-04\n",
            "Epoch 22/100\n",
            "16826/16826 [==============================] - 6s 374us/step - loss: 1.6438e-04\n",
            "Epoch 23/100\n",
            "16826/16826 [==============================] - 6s 380us/step - loss: 1.4688e-04\n",
            "Epoch 24/100\n",
            "16826/16826 [==============================] - 6s 377us/step - loss: 1.5031e-04\n",
            "Epoch 25/100\n",
            "16826/16826 [==============================] - 6s 380us/step - loss: 1.6914e-04\n",
            "Epoch 26/100\n",
            "16826/16826 [==============================] - 6s 376us/step - loss: 1.3283e-04\n",
            "Epoch 27/100\n",
            "16826/16826 [==============================] - 6s 380us/step - loss: 1.2787e-04\n",
            "Epoch 28/100\n",
            "16826/16826 [==============================] - 6s 379us/step - loss: 1.2694e-04\n",
            "Epoch 29/100\n",
            "16826/16826 [==============================] - 6s 372us/step - loss: 1.2370e-04\n",
            "Epoch 30/100\n",
            "16826/16826 [==============================] - 6s 374us/step - loss: 1.0348e-04\n",
            "Epoch 31/100\n",
            "16826/16826 [==============================] - 6s 372us/step - loss: 8.1737e-05\n",
            "Epoch 32/100\n",
            "16826/16826 [==============================] - 6s 373us/step - loss: 1.7562e-04\n",
            "Epoch 33/100\n",
            "16826/16826 [==============================] - 6s 377us/step - loss: 1.5713e-04\n",
            "Epoch 34/100\n",
            "16826/16826 [==============================] - 6s 382us/step - loss: 1.3548e-04\n",
            "Epoch 35/100\n",
            "16826/16826 [==============================] - 7s 387us/step - loss: 1.2633e-04\n",
            "Epoch 36/100\n",
            "16826/16826 [==============================] - 6s 385us/step - loss: 1.4151e-04\n",
            "Epoch 37/100\n",
            "16826/16826 [==============================] - 6s 378us/step - loss: 1.2809e-04\n",
            "Epoch 38/100\n",
            "16826/16826 [==============================] - 6s 381us/step - loss: 1.2555e-04\n",
            "Epoch 39/100\n",
            "16826/16826 [==============================] - 6s 383us/step - loss: 1.5751e-04\n",
            "Epoch 40/100\n",
            "16826/16826 [==============================] - 6s 381us/step - loss: 1.3665e-04\n",
            "Epoch 41/100\n",
            "16826/16826 [==============================] - 7s 390us/step - loss: 1.2515e-04\n",
            "Epoch 42/100\n",
            "16826/16826 [==============================] - 6s 378us/step - loss: 1.1863e-04\n",
            "Epoch 43/100\n",
            "16826/16826 [==============================] - 6s 379us/step - loss: 1.3658e-04\n",
            "Epoch 44/100\n",
            "16826/16826 [==============================] - 6s 374us/step - loss: 1.2588e-04\n",
            "Epoch 45/100\n",
            "16826/16826 [==============================] - 6s 376us/step - loss: 1.4104e-04\n",
            "Epoch 46/100\n",
            "16826/16826 [==============================] - 6s 374us/step - loss: 1.1651e-04\n",
            "Epoch 47/100\n",
            "16826/16826 [==============================] - 6s 374us/step - loss: 1.1899e-04\n",
            "Epoch 48/100\n",
            "16826/16826 [==============================] - 6s 377us/step - loss: 1.2961e-04\n",
            "Epoch 49/100\n",
            "16826/16826 [==============================] - 6s 374us/step - loss: 1.2380e-04\n",
            "Epoch 50/100\n",
            "16826/16826 [==============================] - 6s 380us/step - loss: 1.4582e-04\n",
            "Epoch 51/100\n",
            "16826/16826 [==============================] - 6s 380us/step - loss: 1.2716e-04\n",
            "Epoch 52/100\n",
            "16826/16826 [==============================] - 6s 381us/step - loss: 1.2324e-04\n",
            "Epoch 53/100\n",
            "16826/16826 [==============================] - 6s 386us/step - loss: 1.1066e-04\n",
            "Epoch 54/100\n",
            "16826/16826 [==============================] - 6s 383us/step - loss: 1.2183e-04\n",
            "Epoch 55/100\n",
            "16826/16826 [==============================] - 6s 383us/step - loss: 1.1689e-04\n",
            "Epoch 56/100\n",
            "16826/16826 [==============================] - 6s 374us/step - loss: 1.1803e-04\n",
            "Epoch 57/100\n",
            "16826/16826 [==============================] - 6s 381us/step - loss: 1.1414e-04\n",
            "Epoch 58/100\n",
            "16826/16826 [==============================] - 6s 382us/step - loss: 1.0946e-04\n",
            "Epoch 59/100\n",
            "16826/16826 [==============================] - 6s 384us/step - loss: 1.0086e-04\n",
            "Epoch 60/100\n",
            "16826/16826 [==============================] - 6s 378us/step - loss: 9.7213e-05\n",
            "Epoch 61/100\n",
            "16826/16826 [==============================] - 6s 372us/step - loss: 8.6119e-05\n",
            "Epoch 62/100\n",
            "16826/16826 [==============================] - 6s 380us/step - loss: 1.2217e-04\n",
            "Epoch 63/100\n",
            "16826/16826 [==============================] - 6s 369us/step - loss: 1.3471e-04\n",
            "Epoch 64/100\n",
            "16826/16826 [==============================] - 6s 374us/step - loss: 8.4257e-05\n",
            "Epoch 65/100\n",
            "16826/16826 [==============================] - 6s 374us/step - loss: 8.0073e-05\n",
            "Epoch 66/100\n",
            "16826/16826 [==============================] - 6s 368us/step - loss: 8.8349e-05\n",
            "Epoch 67/100\n",
            "16826/16826 [==============================] - 6s 365us/step - loss: 7.6094e-05\n",
            "Epoch 68/100\n",
            "16826/16826 [==============================] - 6s 359us/step - loss: 7.6709e-05\n",
            "Epoch 69/100\n",
            "16826/16826 [==============================] - 6s 362us/step - loss: 7.4761e-05\n",
            "Epoch 70/100\n",
            "16826/16826 [==============================] - 6s 363us/step - loss: 7.3992e-05\n",
            "Epoch 71/100\n",
            "16826/16826 [==============================] - 6s 364us/step - loss: 6.8742e-05\n",
            "Epoch 72/100\n",
            "16826/16826 [==============================] - 6s 370us/step - loss: 6.9956e-05\n",
            "Epoch 73/100\n",
            "16826/16826 [==============================] - 6s 374us/step - loss: 1.2015e-04\n",
            "Epoch 74/100\n",
            "16826/16826 [==============================] - 6s 374us/step - loss: 6.9291e-05\n",
            "Epoch 75/100\n",
            "16826/16826 [==============================] - 6s 379us/step - loss: 6.9995e-05\n",
            "Epoch 76/100\n",
            "16826/16826 [==============================] - 6s 381us/step - loss: 1.6611e-04\n",
            "Epoch 77/100\n",
            "16826/16826 [==============================] - 6s 379us/step - loss: 8.7720e-05\n",
            "Epoch 78/100\n",
            "16826/16826 [==============================] - 6s 377us/step - loss: 7.1891e-05\n",
            "Epoch 79/100\n",
            "16826/16826 [==============================] - 6s 383us/step - loss: 6.8640e-05\n",
            "Epoch 80/100\n",
            "16826/16826 [==============================] - 6s 378us/step - loss: 6.7213e-05\n",
            "Epoch 81/100\n",
            "16826/16826 [==============================] - 6s 376us/step - loss: 6.6379e-05\n",
            "Epoch 82/100\n",
            "16826/16826 [==============================] - 6s 380us/step - loss: 6.9190e-05\n",
            "Epoch 83/100\n",
            "16826/16826 [==============================] - 7s 390us/step - loss: 7.1757e-05\n",
            "Epoch 84/100\n",
            "16826/16826 [==============================] - 6s 385us/step - loss: 6.5365e-05\n",
            "Epoch 85/100\n",
            "16826/16826 [==============================] - 6s 378us/step - loss: 6.9303e-05\n",
            "Epoch 86/100\n",
            "16826/16826 [==============================] - 6s 379us/step - loss: 7.3253e-05\n",
            "Epoch 87/100\n",
            "16826/16826 [==============================] - 6s 370us/step - loss: 6.7862e-05\n",
            "Epoch 88/100\n",
            "16826/16826 [==============================] - 6s 370us/step - loss: 7.0730e-05\n",
            "Epoch 89/100\n",
            "16826/16826 [==============================] - 6s 363us/step - loss: 6.9119e-05\n",
            "Epoch 90/100\n",
            "16826/16826 [==============================] - 6s 365us/step - loss: 6.6701e-05\n",
            "Epoch 91/100\n",
            "16826/16826 [==============================] - 6s 369us/step - loss: 8.6468e-05\n",
            "Epoch 92/100\n",
            "16826/16826 [==============================] - 6s 368us/step - loss: 6.6599e-05\n",
            "Epoch 93/100\n",
            "16826/16826 [==============================] - 6s 376us/step - loss: 6.1523e-05\n",
            "Epoch 94/100\n",
            "16826/16826 [==============================] - 6s 371us/step - loss: 6.3580e-05\n",
            "Epoch 95/100\n",
            "16826/16826 [==============================] - 6s 368us/step - loss: 6.4593e-05\n",
            "Epoch 96/100\n",
            "16826/16826 [==============================] - 6s 375us/step - loss: 6.9113e-05\n",
            "Epoch 97/100\n",
            "16826/16826 [==============================] - 6s 371us/step - loss: 8.3173e-05\n",
            "Epoch 98/100\n",
            "16826/16826 [==============================] - 6s 368us/step - loss: 6.4666e-05\n",
            "Epoch 99/100\n",
            "16826/16826 [==============================] - 6s 369us/step - loss: 6.3648e-05\n",
            "Epoch 100/100\n",
            "16826/16826 [==============================] - 6s 366us/step - loss: 6.3715e-05\n"
          ],
          "name": "stdout"
        }
      ]
    },
    {
      "cell_type": "code",
      "metadata": {
        "id": "GvEtr3IPv0Sh",
        "colab_type": "code",
        "outputId": "28b56117-f9f8-4e5d-c686-3efd5ecdc4b8",
        "colab": {
          "base_uri": "https://localhost:8080/",
          "height": 369
        }
      },
      "source": [
        "print(history.history.keys())\n",
        "# \"Loss\"\n",
        "plt.plot(history.history['loss'])\n",
        "plt.title('model loss')\n",
        "plt.ylabel('loss')\n",
        "plt.xlabel('epoch')\n",
        "plt.legend(['train'], loc='upper left')\n",
        "plt.show()\n",
        "X_test=X_test.reshape(X_test.shape[0],X_test.shape[1],1)\n",
        "prediction = regressor.predict(X_test)\n",
        "print(\"mean square error :\" ,mean_squared_error(y_test,prediction))\n",
        "from sklearn.metrics import mean_absolute_error\n",
        "print(\"mean absolute error : \",mean_absolute_error(y_test,prediction))\n",
        "print(r2_score(y_test,prediction))"
      ],
      "execution_count": 194,
      "outputs": [
        {
          "output_type": "stream",
          "text": [
            "dict_keys(['loss'])\n"
          ],
          "name": "stdout"
        },
        {
          "output_type": "display_data",
          "data": {
            "image/png": "[encoded data removed]",
            "text/plain": [
              "<Figure size 432x288 with 1 Axes>"
            ]
          },
          "metadata": {
            "tags": [],
            "needs_background": "light"
          }
        },
        {
          "output_type": "stream",
          "text": [
            "mean square error : 0.00037773798919914323\n",
            "mean absolute error :  0.0019851628588096358\n",
            "-0.8201049308024735\n"
          ],
          "name": "stdout"
        }
      ]
    },
    {
      "cell_type": "code",
      "metadata": {
        "id": "64suBIQS8DmU",
        "colab_type": "code",
        "outputId": "9ec133b6-51ae-4bcb-c92e-8b0287b9e798",
        "colab": {
          "base_uri": "https://localhost:8080/",
          "height": 281
        }
      },
      "source": [
        "plt.plot(y_test[0:100], color = 'black', label = 'TRUTH')\n",
        "plt.plot(prediction[0:100], color = 'green', label = 'PREDICTION')\n",
        "plt.title('LSTM PERFORMANCE ON TEST SET')\n",
        "plt.ylabel('SO2')\n",
        "plt.legend()\n",
        "plt.show()"
      ],
      "execution_count": 195,
      "outputs": [
        {
          "output_type": "display_data",
          "data": {
            "image/png": "[encoded data removed]",
            "text/plain": [
              "<Figure size 432x288 with 1 Axes>"
            ]
          },
          "metadata": {
            "tags": [],
            "needs_background": "light"
          }
        }
      ]
    },
    {
      "cell_type": "code",
      "metadata": {
        "id": "M6ATb9dKn9KE",
        "colab_type": "code",
        "colab": {}
      },
      "source": [
        "#joblib.dump(regressor,'lstm_regressor.pkl')\n",
        "#from google.colab import files\n",
        "#files.download('lstm_regressor.pkl')"
      ],
      "execution_count": 0,
      "outputs": []
    },
    {
      "cell_type": "code",
      "metadata": {
        "id": "J2R-4HX3NL8E",
        "colab_type": "code",
        "colab": {}
      },
      "source": [
        ""
      ],
      "execution_count": 0,
      "outputs": []
    }
  ]
}